{
  "nbformat": 4,
  "nbformat_minor": 0,
  "metadata": {
    "colab": {
      "name": "Snippets_Colab.ipynb",
      "provenance": [],
      "collapsed_sections": [
        "4NvusWMCcbWY",
        "Kjwbs11t-2bE",
        "QyzEdHpizLK_",
        "_aEuh4U93gAm",
        "Jrd8xTKW5HJo",
        "3rCtt7kz6HAI",
        "bcpGG38aWmVT",
        "q5ZVKTu4LJkS",
        "cKS17l0toJ6e",
        "_YaAimfLPhmf",
        "MNK1NeyElqwq",
        "p30poAQjalLo",
        "77o0a-i2atCO",
        "GtYJRbh-FSY7",
        "epibMHYP_fg4",
        "wFb5TR-VAEy9",
        "9XHJ_8EzAHsl",
        "UEyL31X0AqXD",
        "DXPfeF-9lm2i"
      ],
      "toc_visible": true,
      "authorship_tag": "ABX9TyM9E0j5BkxF1ounQcbFsOzM",
      "include_colab_link": true
    },
    "kernelspec": {
      "name": "python3",
      "display_name": "Python 3"
    }
  },
  "cells": [
    {
      "cell_type": "markdown",
      "metadata": {
        "id": "view-in-github",
        "colab_type": "text"
      },
      "source": [
        "<a href=\"https://colab.research.google.com/github/vilcagamarracf/Python_Snippets/blob/main/Snippets/Snippets_Colab.ipynb\" target=\"_parent\"><img src=\"https://colab.research.google.com/assets/colab-badge.svg\" alt=\"Open In Colab\"/></a>"
      ]
    },
    {
      "cell_type": "markdown",
      "metadata": {
        "id": "gQivB8jgghX-"
      },
      "source": [
        "# Explorando Colaboratory - Colab Snippets\n",
        "\n",
        "<center>\n",
        "<h1></h1>\n",
        "<img alt=\"Colaboratory logo\" height=\"100px\" src=\"https://lh3.googleusercontent.com/-l6dUgmPOKMM/X7w3nNn3OpI/AAAAAAAALAg/74fTRiPqikMURTD_Dn4PzAVADey2_6lLwCNcBGAsYHQ/s400/colab-logo-128x128.png\" hspace=\"10px\" vspace=\"0px\">\n",
        "<h2>  </h2>\n",
        "</center>\n",
        "\n",
        "**Conjunto de libretas de Colab de gran importancia**\n",
        "\n",
        "-  Colab\n",
        "  - [Welcome To Colaboratory!](https://colab.research.google.com/notebooks/intro.ipynb)\n",
        "  - [Overview of Colaboratory Features](https://colab.research.google.com/notebooks/basic_features_overview.ipynb)\n",
        "  - [Importing a library that is not in Colaboratory](https://colab.research.google.com/notebooks/snippets/importing_libraries.ipynb)\n",
        "\n",
        "-  Markdown\n",
        "  - [A guide to Colaboratory markdown](https://colab.research.google.com/notebooks/markdown_guide.ipynb)\n",
        "  - [Markdown Cells](https://colab.research.google.com/github/gitedio/examples/blob/master/Working%20With%20Markdown%20Cells.ipynb)\n",
        "\n",
        "- Latex\n",
        "  - [Wikibook: LaTex mathematics for equations](https://en.wikibooks.org/wiki/LaTeX/Mathematics)\n",
        "  - [Mathematical Python: LaTeX](https://www.math.ubc.ca/~pwalls/math-python/jupyter/latex/) \n",
        "    \n",
        "-  Otros\n",
        "  - [Using Colab with Github](https://colab.research.google.com/github/googlecolab/colabtools/blob/master/notebooks/colab-github-demo.ipynb#scrollTo=8QAWNjizy_3O)\n",
        "  - [Colab Widgets](https://colab.research.google.com/notebooks/widgets.ipynb)\n",
        "  - [Interactive Widgets](https://colab.research.google.com/github/jupyter-widgets/ipywidgets/blob/master/docs/source/examples/Index.ipynb#scrollTo=RhOwwKSDHmSL) Buenazo!\n",
        "  - [Forms](https://colab.research.google.com/notebooks/forms.ipynb)\n",
        "  - [Charts](https://colab.research.google.com/notebooks/charts.ipynb#scrollTo=QSMmdrrVLZ-N): Matplotlib, Plot styles, 3D Graphs, Seaborn, Altair, Plotly and Bokeh examples."
      ]
    },
    {
      "cell_type": "markdown",
      "metadata": {
        "id": "4NvusWMCcbWY"
      },
      "source": [
        "### $\\LaTeX$ en Colab"
      ]
    },
    {
      "cell_type": "markdown",
      "metadata": {
        "id": "GvcLfL8XtdsT"
      },
      "source": [
        "- [Recursos de $\\LaTeX$ en Overleaf](https://www.overleaf.com/for/community/resources) "
      ]
    },
    {
      "cell_type": "markdown",
      "metadata": {
        "id": "1oX0LxspxDzj"
      },
      "source": [
        "You can integrate formulas (MathJax) inside text using $\\LaTeX$\n",
        "\n",
        "Inline formulas are surrounded by `$` characters\n",
        "\n",
        ">`$y=x^2$` &nbsp; &nbsp; &nbsp; $y=x^2$\n",
        "\n",
        "You can put formulas centered in their own lines using double `$$` characters like in `$$y=x^2$$`\n",
        "\n",
        "$$y=x^2$$\n"
      ]
    },
    {
      "cell_type": "markdown",
      "metadata": {
        "id": "Kjwbs11t-2bE"
      },
      "source": [
        "#### $\\LaTeX$ Basics\n",
        "\n",
        ">Superscript &nbsp; &nbsp; `$A^B$` &nbsp; &nbsp; $A^B$\n",
        "\n",
        ">Subcript &nbsp; &nbsp; `$A_B$` &nbsp; &nbsp; $A_B$\n",
        "\n",
        ">Vector &nbsp; &nbsp; `$\\vec{A}$` &nbsp; &nbsp; $\\vec{A}$\n",
        "\n",
        ">Fraction &nbsp; &nbsp; `$\\frac{A}{B}$` &nbsp; &nbsp; $\\frac{A}{B}$\n",
        "\n",
        ">Root &nbsp; &nbsp; &nbsp; `$\\sqrt[n]A$` &nbsp; &nbsp; $\\sqrt[n]A$\n",
        "\n",
        ">Sum &nbsp;&nbsp; &nbsp; `$\\sum_A^B$` &nbsp; &nbsp; $\\sum_A^B$\n",
        "\n",
        ">Product &nbsp;&nbsp; &nbsp; `$\\prod_A^B$` &nbsp; &nbsp; $\\prod_A^B$\n",
        "\n",
        ">Integral &nbsp;&nbsp; &nbsp; `$\\int_A^B$` &nbsp; &nbsp; $\\int_A^B$\n",
        "\n",
        ">Block {&nbsp;}&nbsp; &nbsp; `$A^{B+C}$` &nbsp; &nbsp; $A^{B+C}$\n",
        "\n",
        ">Auto sized parenthesis &nbsp;&nbsp; `$\\left( \\frac{\\int_a^bxdx}{2} \\right)$` &nbsp;&nbsp; $\\left( \\frac{\\int_a^bxdx}{2} \\right)$\n",
        "\n"
      ]
    },
    {
      "cell_type": "markdown",
      "metadata": {
        "id": "94khZgyWWD0E"
      },
      "source": [
        "#### $\\LaTeX$ Greek letters\n",
        "\n",
        "1|2|3|4|5|6|7|8\n",
        "------|-------|-------|-------|-------|-------|------|----\n",
        "$\\alpha$|`\\alpha`|$\\beta$|`\\beta`|$\\gamma$|`\\gamma`|$\\Gamma$|`\\Gamma`\n",
        "$\\delta$|`\\delta`|$\\Delta$|`\\Delta`|$\\epsilon$|`\\epsilon`|$\\varepsilon$|`\\varepsilon`\n",
        "$\\zeta$|`\\zeta`|$\\eta$|`\\eta`|$\\theta$|`\\theta`|$\\vartheta$|`\\vartheta`\n",
        "$\\Theta$|`\\Theta`|$\\iota$|`\\iota`|$\\kappa$|`\\kappa`|$\\lambda$|`\\lambda`\n",
        "$\\Lambda$|`\\Lambda`|$\\mu$|`\\mu`|$\\nu$|`\\nu`|$\\xi$|`\\xi`\n",
        "$\\Xi$|`\\Xi`|$\\pi$|`\\pi`|$\\Pi$|`\\Pi`|$\\rho$|`\\rho`\n",
        "$\\varrho$|`\\varrho`|$\\sigma$|`\\sigma`|$\\Sigma$|`\\Sigma`|$\\tau$|`\\tau`\n",
        "$\\upsilon$|`\\upsilon`|$\\Upsilon$|`\\Upsilon`|$\\phi$|`\\phi`|$\\varphi$|`\\varphi`\n",
        "$\\Phi$|`\\Phi`|$\\chi$|`\\chi`|$\\psi$|`\\psi`|$\\Psi$|`\\Psi`\n",
        "$\\omega$|`\\omega`|$\\Omega$|`\\Omega`||||\n"
      ]
    },
    {
      "cell_type": "markdown",
      "metadata": {
        "id": "QyzEdHpizLK_"
      },
      "source": [
        "#### $\\LaTeX$ Greek letters\n",
        "\n",
        "1|2|3|4|5|6|7|8\n",
        "------|-------|-------|-------|-------|-------|------|----\n",
        "$\\alpha$|`\\alpha`|$\\beta$|`\\beta`|$\\gamma$|`\\gamma`|$\\Gamma$|`\\Gamma`\n",
        "$\\delta$|`\\delta`|$\\Delta$|`\\Delta`|$\\epsilon$|`\\epsilon`|$\\varepsilon$|`\\varepsilon`\n",
        "$\\zeta$|`\\zeta`|$\\eta$|`\\eta`|$\\theta$|`\\theta`|$\\vartheta$|`\\vartheta`\n",
        "$\\Theta$|`\\Theta`|$\\iota$|`\\iota`|$\\kappa$|`\\kappa`|$\\lambda$|`\\lambda`\n",
        "$\\Lambda$|`\\Lambda`|$\\mu$|`\\mu`|$\\nu$|`\\nu`|$\\xi$|`\\xi`\n",
        "$\\Xi$|`\\Xi`|$\\pi$|`\\pi`|$\\Pi$|`\\Pi`|$\\rho$|`\\rho`\n",
        "$\\varrho$|`\\varrho`|$\\sigma$|`\\sigma`|$\\Sigma$|`\\Sigma`|$\\tau$|`\\tau`\n",
        "$\\upsilon$|`\\upsilon`|$\\Upsilon$|`\\Upsilon`|$\\phi$|`\\phi`|$\\varphi$|`\\varphi`\n",
        "$\\Phi$|`\\Phi`|$\\chi$|`\\chi`|$\\psi$|`\\psi`|$\\Psi$|`\\Psi`\n",
        "$\\omega$|`\\omega`|$\\Omega$|`\\Omega`||||\n"
      ]
    },
    {
      "cell_type": "markdown",
      "metadata": {
        "id": "_aEuh4U93gAm"
      },
      "source": [
        "#### $\\LaTeX$ Arrows\n",
        "\n",
        "1|2|3|4|5|6|7|8\n",
        ":------:|-------|:-------:|-------|:-------:|-------|:------:|------\n",
        "$\\leftarrow$|`\\leftarrow`|$\\Leftarrow$|`\\Leftarrow`|$\\rightarrow$|`\\rightarrow`|$\\Rightarrow$|`\\Rightarrow`\n",
        ">$\\leftrightarrow$|`\\leftrightarrow`|$\\rightleftharpoons$|`\\rightleftharpoons`|$\\uparrow$|`\\uparrow`|$\\downarrow$|`\\downarrow`\n",
        "$\\Uparrow$|`\\Uparrow`|$\\Downarrow$|`\\Downarrow`|$\\Leftrightarrow$|`\\Leftrightarrow`|$\\Updownarrow$|`\\Updownarrow`\n",
        "$\\mapsto$|`\\mapsto`|$\\longmapsto$|`\\longmapsto`|$\\nearrow$|`\\nearrow`|$\\searrow$|`\\searrow`\n",
        "$\\swarrow$|`\\swarrow`|$\\nwarrow$|`\\nwarrow`|$\\leftharpoonup$|`\\leftharpoonup`|$\\rightharpoonup$|`\\rightharpoonup`\n",
        "$\\leftharpoondown$|`\\leftharpoondown`|$\\rightharpoondown$|`\\rightharpoondown`||||\n"
      ]
    },
    {
      "cell_type": "markdown",
      "metadata": {
        "id": "Jrd8xTKW5HJo"
      },
      "source": [
        "#### $\\LaTeX$ Miscellaneous symbols\n",
        "\n",
        "1|2|3|4|5|6|7|8\n",
        "--|--|--|--|--|--|--|--\n",
        "$\\infty$|`\\infty`|$\\forall$|`\\forall`|$\\Re$|`\\Re`|$\\Im$|`\\Im`\n",
        "$\\nabla$|`\\nabla`|$\\exists$|`\\exists`|$\\partial$|`\\partial`|$\\nexists$|`\\nexists`\n",
        "$\\emptyset$|`\\emptyset`|$\\varnothing$|`\\varnothing`|$\\wp$|`\\wp`|$\\complement$|`\\complement`\n",
        "$\\neg$|`\\neg`|$\\cdots$|`\\cdots`|$\\square$|`\\square`|$\\surd$|`\\surd`\n",
        "$\\blacksquare$|`\\blacksquare`|$\\triangle$|`\\triangle`|$\\S$|`\\S`||\n"
      ]
    },
    {
      "cell_type": "markdown",
      "metadata": {
        "id": "3rCtt7kz6HAI"
      },
      "source": [
        "#### $\\LaTeX$ Especial operators\n",
        "\n",
        "1|2|3|4|5|6|7|8\n",
        "--|--|--|--|--|--|--|--\n",
        "$\\times$|`\\times`|$\\otimes$|`\\otimes`|$\\div$|`\\div`|$\\cap$|`\\cap`\n",
        "$\\cup$|`\\cup`|$\\neq$|`\\neq`|$\\leq$|`\\leq`|$\\geq$|`\\geq`\n",
        "$\\in$|`\\in`|$\\perp$|`\\perp`|$\\notin$|`\\notin`|$\\subset$|`\\subset`\n",
        "$\\simeq$|`\\simeq`|$\\approx$|`\\approx`|$\\wedge$|`\\wedge`|$\\vee$|`\\vee`\n",
        "$\\oplus$|`\\oplus`|$\\otimes$|`\\otimes`|$\\Box$|`\\Box`|$\\boxtimes$|`\\boxtimes`\n",
        "$\\equiv$|`\\equiv`|$\\cong$|`\\cong`|$\\pm$|`\\pm`|$\\mp$|`\\mp`\n",
        "$\\star$|`\\star`|$\\circ$|`\\circ`|$\\bullet$|`\\bullet`|$\\cdot$|`\\cdot`\n",
        "$\\wr$|`\\wr`|$\\diamond$|`\\diamond`|$\\odot$|`\\odot`|$\\bigcirc$|`\\bigcirc`\n",
        "$\\dagger$|`\\dagger`|$\\ddagger$|`\\ddagger`|$\\amalg$|`\\amalg`||\n",
        "$\\ll$|`\\ll`|$\\gg$|`\\gg`|$\\propto$|`\\propto`|$\\doteq$|`\\doteq`\n"
      ]
    },
    {
      "cell_type": "markdown",
      "metadata": {
        "id": "bcpGG38aWmVT"
      },
      "source": [
        "#### $\\LaTeX$ Spaces\n",
        "\n",
        "Sometimes you need to add spaces on a formula\n",
        "\n",
        "Code | Size | Example\n",
        "-----|:----:|--------\n",
        "`\\qquad`|36|$a \\qquad b$\n",
        "`\\quad`|18|$a \\quad b$\n",
        "`\\enspace`|9|$a \\enspace b$\n",
        "`\\;`|5|$a \\; b$\n",
        "`\\:`|4|$a \\: b$\n",
        "`\\,`|3|$a \\, b$\n",
        "`\\!`|-3|$a \\! b$\n"
      ]
    },
    {
      "cell_type": "markdown",
      "metadata": {
        "id": "5MI373f9GaRd"
      },
      "source": [
        "# Python y IPython \n",
        "\n"
      ]
    },
    {
      "cell_type": "markdown",
      "metadata": {
        "id": "LI60frz4KhCb"
      },
      "source": [
        "**Python** *es un lenguaje de programación de uso general*. \n",
        "\n",
        "- Fue creado a finales de los 80 por Guido van Rossum y es ahora uno de los idiomas más populares del mundo. Es utilizado habitualmente por administradores de sistemas y desarrolladores web. Además, muchos científicos están usando Python gracias a bibliotecas como NumPy, SciPy, pandas y matplotlib. La facilidad de uso de Python y su naturaleza dinámica lo convierten en un lenguaje muy productivo.\n",
        "\n",
        "**IPython** *es una terminal de línea de comandos interactiva para Python*. \n",
        "\n",
        "- Fue creado por [Fernando Perez](https://www.youtube.com/watch?v=g8xQRI3E8r8) en 2001. IPython ofrece un entorno mejorado de bucle de lectura-evaluación-impresión (REPL) particularmente bien adaptado a la informática científica.\n",
        "\n",
        "Más información:\n",
        "- [IPython: Python vs IPython](https://ipython.readthedocs.io/en/stable/interactive/python-ipython-diff.html)\n",
        "- [Plotly: IPython vs Python in Python](https://plotly.com/python/ipython-vs-python/)\n",
        "\n"
      ]
    },
    {
      "cell_type": "code",
      "metadata": {
        "id": "yLdhwqLljDyk",
        "colab": {
          "base_uri": "https://localhost:8080/",
          "height": 35
        },
        "outputId": "c477ef5c-e14a-4d59-ece3-f04051a6f759"
      },
      "source": [
        "# Versión de Python corriendo en Colab\n",
        "import sys\n",
        "sys.version"
      ],
      "execution_count": null,
      "outputs": [
        {
          "output_type": "execute_result",
          "data": {
            "application/vnd.google.colaboratory.intrinsic+json": {
              "type": "string"
            },
            "text/plain": [
              "'3.7.12 (default, Sep 10 2021, 00:21:48) \\n[GCC 7.5.0]'"
            ]
          },
          "metadata": {},
          "execution_count": 15
        }
      ]
    },
    {
      "cell_type": "markdown",
      "metadata": {
        "id": "q5ZVKTu4LJkS"
      },
      "source": [
        "## Usando comandos de terminal en IPython: `!` y `%`"
      ]
    },
    {
      "cell_type": "markdown",
      "metadata": {
        "id": "cKS17l0toJ6e"
      },
      "source": [
        "### System shell commands: `!`\n",
        "\n"
      ]
    },
    {
      "cell_type": "markdown",
      "metadata": {
        "id": "aAKo1mCgHLYC"
      },
      "source": [
        "[Shell Assignment](https://ipython.readthedocs.io/en/stable/interactive/python-ipython-diff.html#shell-assignment)\n",
        "> When doing interactive computing it is common to need to access the underlying shell. This is doable through the use of the exclamation mark `!` (or bang). \\\n",
        "The line after the bang `!` can call any program installed in the underlying shell, and support variable expansion in the form of `$variable` or `{variable}`. "
      ]
    },
    {
      "cell_type": "code",
      "metadata": {
        "colab": {
          "base_uri": "https://localhost:8080/"
        },
        "id": "uIkm3yWGzjxD",
        "outputId": "12f97575-5e0b-4591-a086-f293d725555d"
      },
      "source": [
        "# System aliases / comandos de terminal admisibles (aunque hay más)\n",
        "# Jupyter includes shortcuts for common operations:\n",
        "!ls /bin"
      ],
      "execution_count": null,
      "outputs": [
        {
          "output_type": "stream",
          "name": "stdout",
          "text": [
            "bash\t       hostname       su\n",
            "bunzip2        journalctl     sync\n",
            "bzcat\t       kill\t      systemctl\n",
            "bzcmp\t       kmod\t      systemd\n",
            "bzdiff\t       less\t      systemd-ask-password\n",
            "bzegrep        lessecho       systemd-escape\n",
            "bzexe\t       lessfile       systemd-hwdb\n",
            "bzfgrep        lesskey\t      systemd-inhibit\n",
            "bzgrep\t       lesspipe       systemd-machine-id-setup\n",
            "bzip2\t       ln\t      systemd-notify\n",
            "bzip2recover   login\t      systemd-sysusers\n",
            "bzless\t       loginctl       systemd-tmpfiles\n",
            "bzmore\t       ls\t      systemd-tty-ask-password-agent\n",
            "cat\t       lsblk\t      tar\n",
            "chgrp\t       lsmod\t      tempfile\n",
            "chmod\t       mkdir\t      touch\n",
            "chown\t       mknod\t      true\n",
            "cp\t       mktemp\t      udevadm\n",
            "dash\t       more\t      ulockmgr_server\n",
            "date\t       mount\t      umount\n",
            "dd\t       mountpoint     uname\n",
            "df\t       mv\t      uncompress\n",
            "dir\t       networkctl     vdir\n",
            "dmesg\t       nisdomainname  wdctl\n",
            "dnsdomainname  pidof\t      which\n",
            "domainname     ps\t      ypdomainname\n",
            "echo\t       pwd\t      zcat\n",
            "egrep\t       rbash\t      zcmp\n",
            "false\t       readlink       zdiff\n",
            "fgrep\t       rm\t      zegrep\n",
            "findmnt        rmdir\t      zfgrep\n",
            "fuser\t       run-parts      zforce\n",
            "fusermount     sed\t      zgrep\n",
            "grep\t       sh\t      zless\n",
            "gunzip\t       sh.distrib     zmore\n",
            "gzexe\t       sleep\t      znew\n",
            "gzip\t       stty\n"
          ]
        }
      ]
    },
    {
      "cell_type": "code",
      "metadata": {
        "colab": {
          "base_uri": "https://localhost:8080/"
        },
        "id": "bg9hPA4OHSq8",
        "outputId": "1279f169-6346-4674-c8c0-16704cdebd7e"
      },
      "source": [
        "# Directorio de trabajo actual\n",
        "!pwd"
      ],
      "execution_count": null,
      "outputs": [
        {
          "output_type": "stream",
          "name": "stdout",
          "text": [
            "/content\n"
          ]
        }
      ]
    },
    {
      "cell_type": "code",
      "metadata": {
        "id": "Ogd2zJxIMgOJ"
      },
      "source": [
        "# Ayuda en ls\n",
        "!ls --help"
      ],
      "execution_count": null,
      "outputs": []
    },
    {
      "cell_type": "code",
      "metadata": {
        "colab": {
          "base_uri": "https://localhost:8080/"
        },
        "id": "_Rhkt4wd3JGr",
        "outputId": "1a8fde23-d269-4f40-92cb-27dffd9e802e"
      },
      "source": [
        "# Listar carpetas y documentos presentes en el directorio de trabajo\n",
        "!ls"
      ],
      "execution_count": null,
      "outputs": [
        {
          "output_type": "stream",
          "text": [
            "sample_data\n"
          ],
          "name": "stdout"
        }
      ]
    },
    {
      "cell_type": "code",
      "metadata": {
        "id": "7wR5Pj_Dh_nV"
      },
      "source": [
        "# ¿Que paquetes de Python están instalados? !pip3 freeze o !pip list\n",
        "!pip3 freeze"
      ],
      "execution_count": null,
      "outputs": []
    },
    {
      "cell_type": "code",
      "metadata": {
        "id": "44qt2oKW2g87",
        "colab": {
          "base_uri": "https://localhost:8080/"
        },
        "outputId": "f49ecb0e-fa5b-4cc0-80c2-fd2128120b11"
      },
      "source": [
        "# Cambiar ruta\n",
        "!cd /sample_date/"
      ],
      "execution_count": null,
      "outputs": [
        {
          "output_type": "stream",
          "text": [
            "/content\n"
          ],
          "name": "stdout"
        }
      ]
    },
    {
      "cell_type": "code",
      "metadata": {
        "id": "FJqtXi3Q3iXz"
      },
      "source": [
        "!cd ~"
      ],
      "execution_count": null,
      "outputs": []
    },
    {
      "cell_type": "code",
      "metadata": {
        "colab": {
          "base_uri": "https://localhost:8080/"
        },
        "id": "vQ10-5bwUuMC",
        "outputId": "7085208c-7f69-4bee-8840-a6ba191af363"
      },
      "source": [
        "# Ver el inicio del archivo\n",
        "!head sample_data/california_housing_test.csv"
      ],
      "execution_count": null,
      "outputs": [
        {
          "output_type": "stream",
          "name": "stdout",
          "text": [
            "\"longitude\",\"latitude\",\"housing_median_age\",\"total_rooms\",\"total_bedrooms\",\"population\",\"households\",\"median_income\",\"median_house_value\"\n",
            "-122.050000,37.370000,27.000000,3885.000000,661.000000,1537.000000,606.000000,6.608500,344700.000000\n",
            "-118.300000,34.260000,43.000000,1510.000000,310.000000,809.000000,277.000000,3.599000,176500.000000\n",
            "-117.810000,33.780000,27.000000,3589.000000,507.000000,1484.000000,495.000000,5.793400,270500.000000\n",
            "-118.360000,33.820000,28.000000,67.000000,15.000000,49.000000,11.000000,6.135900,330000.000000\n",
            "-119.670000,36.330000,19.000000,1241.000000,244.000000,850.000000,237.000000,2.937500,81700.000000\n",
            "-119.560000,36.510000,37.000000,1018.000000,213.000000,663.000000,204.000000,1.663500,67000.000000\n",
            "-121.430000,38.630000,43.000000,1009.000000,225.000000,604.000000,218.000000,1.664100,67000.000000\n",
            "-120.650000,35.480000,19.000000,2310.000000,471.000000,1341.000000,441.000000,3.225000,166900.000000\n",
            "-122.840000,38.400000,15.000000,3080.000000,617.000000,1446.000000,599.000000,3.669600,194400.000000\n"
          ]
        }
      ]
    },
    {
      "cell_type": "code",
      "metadata": {
        "id": "NPmp5PhHUvSK"
      },
      "source": [
        "# Copiar un archivo y dar en refresh en Files\n",
        "!cp sample_data/california_housing_test.csv cambia_el_nombre_aqui.csv"
      ],
      "execution_count": null,
      "outputs": []
    },
    {
      "cell_type": "markdown",
      "metadata": {
        "id": "_YaAimfLPhmf"
      },
      "source": [
        "#### Información del computador que se encuentra corriendo la sesión de Colab"
      ]
    },
    {
      "cell_type": "markdown",
      "metadata": {
        "id": "jVhJRmHfO2Mz"
      },
      "source": [
        "**Sistema operativo del PC (Colab)**"
      ]
    },
    {
      "cell_type": "code",
      "metadata": {
        "colab": {
          "base_uri": "https://localhost:8080/"
        },
        "id": "m0KPPFnoO-c8",
        "outputId": "982f95b9-ca36-4bb3-d26e-620b334cde31"
      },
      "source": [
        "!cat --help"
      ],
      "execution_count": null,
      "outputs": [
        {
          "output_type": "stream",
          "name": "stdout",
          "text": [
            "Usage: cat [OPTION]... [FILE]...\n",
            "Concatenate FILE(s) to standard output.\n",
            "\n",
            "With no FILE, or when FILE is -, read standard input.\n",
            "\n",
            "  -A, --show-all           equivalent to -vET\n",
            "  -b, --number-nonblank    number nonempty output lines, overrides -n\n",
            "  -e                       equivalent to -vE\n",
            "  -E, --show-ends          display $ at end of each line\n",
            "  -n, --number             number all output lines\n",
            "  -s, --squeeze-blank      suppress repeated empty output lines\n",
            "  -t                       equivalent to -vT\n",
            "  -T, --show-tabs          display TAB characters as ^I\n",
            "  -u                       (ignored)\n",
            "  -v, --show-nonprinting   use ^ and M- notation, except for LFD and TAB\n",
            "      --help     display this help and exit\n",
            "      --version  output version information and exit\n",
            "\n",
            "Examples:\n",
            "  cat f - g  Output f's contents, then standard input, then g's contents.\n",
            "  cat        Copy standard input to standard output.\n",
            "\n",
            "GNU coreutils online help: <http://www.gnu.org/software/coreutils/>\n",
            "Full documentation at: <http://www.gnu.org/software/coreutils/cat>\n",
            "or available locally via: info '(coreutils) cat invocation'\n"
          ]
        }
      ]
    },
    {
      "cell_type": "code",
      "metadata": {
        "id": "XD4QeHBtmwm-",
        "colab": {
          "base_uri": "https://localhost:8080/"
        },
        "outputId": "1388e009-10c2-4750-9681-655a0820ed5f"
      },
      "source": [
        "!cat /etc/*release "
      ],
      "execution_count": null,
      "outputs": [
        {
          "output_type": "stream",
          "text": [
            "DISTRIB_ID=Ubuntu\n",
            "DISTRIB_RELEASE=18.04\n",
            "DISTRIB_CODENAME=bionic\n",
            "DISTRIB_DESCRIPTION=\"Ubuntu 18.04.5 LTS\"\n",
            "NAME=\"Ubuntu\"\n",
            "VERSION=\"18.04.5 LTS (Bionic Beaver)\"\n",
            "ID=ubuntu\n",
            "ID_LIKE=debian\n",
            "PRETTY_NAME=\"Ubuntu 18.04.5 LTS\"\n",
            "VERSION_ID=\"18.04\"\n",
            "HOME_URL=\"https://www.ubuntu.com/\"\n",
            "SUPPORT_URL=\"https://help.ubuntu.com/\"\n",
            "BUG_REPORT_URL=\"https://bugs.launchpad.net/ubuntu/\"\n",
            "PRIVACY_POLICY_URL=\"https://www.ubuntu.com/legal/terms-and-policies/privacy-policy\"\n",
            "VERSION_CODENAME=bionic\n",
            "UBUNTU_CODENAME=bionic\n"
          ],
          "name": "stdout"
        }
      ]
    },
    {
      "cell_type": "markdown",
      "metadata": {
        "id": "l-IX2gEpORBI"
      },
      "source": [
        "**Información de la arquitectura del CPU (sesión actual de Colab)**"
      ]
    },
    {
      "cell_type": "code",
      "metadata": {
        "colab": {
          "base_uri": "https://localhost:8080/"
        },
        "id": "M8KFXlS0OLNc",
        "outputId": "79c5ceb0-55e8-4407-c10c-2520a94d06ab"
      },
      "source": [
        "!lscpu --help"
      ],
      "execution_count": null,
      "outputs": [
        {
          "output_type": "stream",
          "name": "stdout",
          "text": [
            "\n",
            "Usage:\n",
            " lscpu [options]\n",
            "\n",
            "Display information about the CPU architecture.\n",
            "\n",
            "Options:\n",
            " -a, --all               print both online and offline CPUs (default for -e)\n",
            " -b, --online            print online CPUs only (default for -p)\n",
            " -c, --offline           print offline CPUs only\n",
            " -J, --json              use JSON for default or extended format\n",
            " -e, --extended[=<list>] print out an extended readable format\n",
            " -p, --parse[=<list>]    print out a parsable format\n",
            " -s, --sysroot <dir>     use specified directory as system root\n",
            " -x, --hex               print hexadecimal masks rather than lists of CPUs\n",
            " -y, --physical          print physical instead of logical IDs\n",
            "\n",
            " -h, --help              display this help\n",
            " -V, --version           display version\n",
            "\n",
            "Available output columns:\n",
            "           CPU  logical CPU number\n",
            "          CORE  logical core number\n",
            "        SOCKET  logical socket number\n",
            "          NODE  logical NUMA node number\n",
            "          BOOK  logical book number\n",
            "        DRAWER  logical drawer number\n",
            "         CACHE  shows how caches are shared between CPUs\n",
            "  POLARIZATION  CPU dispatching mode on virtual hardware\n",
            "       ADDRESS  physical address of a CPU\n",
            "    CONFIGURED  shows if the hypervisor has allocated the CPU\n",
            "        ONLINE  shows if Linux currently makes use of the CPU\n",
            "        MAXMHZ  shows the maximum MHz of the CPU\n",
            "        MINMHZ  shows the minimum MHz of the CPU\n",
            "\n",
            "For more details see lscpu(1).\n"
          ]
        }
      ]
    },
    {
      "cell_type": "code",
      "metadata": {
        "id": "ZfjSM9G3m3QP",
        "colab": {
          "base_uri": "https://localhost:8080/"
        },
        "outputId": "e6309950-d51b-4744-9377-6702a8c8377b"
      },
      "source": [
        "!lscpu # Número de Cpu's de la pc"
      ],
      "execution_count": null,
      "outputs": [
        {
          "output_type": "stream",
          "text": [
            "Architecture:        x86_64\n",
            "CPU op-mode(s):      32-bit, 64-bit\n",
            "Byte Order:          Little Endian\n",
            "CPU(s):              2\n",
            "On-line CPU(s) list: 0,1\n",
            "Thread(s) per core:  2\n",
            "Core(s) per socket:  1\n",
            "Socket(s):           1\n",
            "NUMA node(s):        1\n",
            "Vendor ID:           GenuineIntel\n",
            "CPU family:          6\n",
            "Model:               63\n",
            "Model name:          Intel(R) Xeon(R) CPU @ 2.30GHz\n",
            "Stepping:            0\n",
            "CPU MHz:             2299.998\n",
            "BogoMIPS:            4599.99\n",
            "Hypervisor vendor:   KVM\n",
            "Virtualization type: full\n",
            "L1d cache:           32K\n",
            "L1i cache:           32K\n",
            "L2 cache:            256K\n",
            "L3 cache:            46080K\n",
            "NUMA node0 CPU(s):   0,1\n",
            "Flags:               fpu vme de pse tsc msr pae mce cx8 apic sep mtrr pge mca cmov pat pse36 clflush mmx fxsr sse sse2 ss ht syscall nx pdpe1gb rdtscp lm constant_tsc rep_good nopl xtopology nonstop_tsc cpuid tsc_known_freq pni pclmulqdq ssse3 fma cx16 pcid sse4_1 sse4_2 x2apic movbe popcnt aes xsave avx f16c rdrand hypervisor lahf_lm abm invpcid_single ssbd ibrs ibpb stibp fsgsbase tsc_adjust bmi1 avx2 smep bmi2 erms invpcid xsaveopt arat md_clear arch_capabilities\n"
          ],
          "name": "stdout"
        }
      ]
    },
    {
      "cell_type": "code",
      "metadata": {
        "colab": {
          "base_uri": "https://localhost:8080/"
        },
        "id": "Esa4gs22PX0H",
        "outputId": "70b43291-879a-4853-f0ee-bff576acca71"
      },
      "source": [
        "!grep --help"
      ],
      "execution_count": null,
      "outputs": [
        {
          "output_type": "stream",
          "name": "stdout",
          "text": [
            "Usage: grep [OPTION]... PATTERN [FILE]...\n",
            "Search for PATTERN in each FILE.\n",
            "Example: grep -i 'hello world' menu.h main.c\n",
            "\n",
            "Pattern selection and interpretation:\n",
            "  -E, --extended-regexp     PATTERN is an extended regular expression\n",
            "  -F, --fixed-strings       PATTERN is a set of newline-separated strings\n",
            "  -G, --basic-regexp        PATTERN is a basic regular expression (default)\n",
            "  -P, --perl-regexp         PATTERN is a Perl regular expression\n",
            "  -e, --regexp=PATTERN      use PATTERN for matching\n",
            "  -f, --file=FILE           obtain PATTERN from FILE\n",
            "  -i, --ignore-case         ignore case distinctions\n",
            "  -w, --word-regexp         force PATTERN to match only whole words\n",
            "  -x, --line-regexp         force PATTERN to match only whole lines\n",
            "  -z, --null-data           a data line ends in 0 byte, not newline\n",
            "\n",
            "Miscellaneous:\n",
            "  -s, --no-messages         suppress error messages\n",
            "  -v, --invert-match        select non-matching lines\n",
            "  -V, --version             display version information and exit\n",
            "      --help                display this help text and exit\n",
            "\n",
            "Output control:\n",
            "  -m, --max-count=NUM       stop after NUM selected lines\n",
            "  -b, --byte-offset         print the byte offset with output lines\n",
            "  -n, --line-number         print line number with output lines\n",
            "      --line-buffered       flush output on every line\n",
            "  -H, --with-filename       print file name with output lines\n",
            "  -h, --no-filename         suppress the file name prefix on output\n",
            "      --label=LABEL         use LABEL as the standard input file name prefix\n",
            "  -o, --only-matching       show only the part of a line matching PATTERN\n",
            "  -q, --quiet, --silent     suppress all normal output\n",
            "      --binary-files=TYPE   assume that binary files are TYPE;\n",
            "                            TYPE is 'binary', 'text', or 'without-match'\n",
            "  -a, --text                equivalent to --binary-files=text\n",
            "  -I                        equivalent to --binary-files=without-match\n",
            "  -d, --directories=ACTION  how to handle directories;\n",
            "                            ACTION is 'read', 'recurse', or 'skip'\n",
            "  -D, --devices=ACTION      how to handle devices, FIFOs and sockets;\n",
            "                            ACTION is 'read' or 'skip'\n",
            "  -r, --recursive           like --directories=recurse\n",
            "  -R, --dereference-recursive  likewise, but follow all symlinks\n",
            "      --include=FILE_PATTERN  search only files that match FILE_PATTERN\n",
            "      --exclude=FILE_PATTERN  skip files and directories matching FILE_PATTERN\n",
            "      --exclude-from=FILE   skip files matching any file pattern from FILE\n",
            "      --exclude-dir=PATTERN  directories that match PATTERN will be skipped.\n",
            "  -L, --files-without-match  print only names of FILEs with no selected lines\n",
            "  -l, --files-with-matches  print only names of FILEs with selected lines\n",
            "  -c, --count               print only a count of selected lines per FILE\n",
            "  -T, --initial-tab         make tabs line up (if needed)\n",
            "  -Z, --null                print 0 byte after FILE name\n",
            "\n",
            "Context control:\n",
            "  -B, --before-context=NUM  print NUM lines of leading context\n",
            "  -A, --after-context=NUM   print NUM lines of trailing context\n",
            "  -C, --context=NUM         print NUM lines of output context\n",
            "  -NUM                      same as --context=NUM\n",
            "      --color[=WHEN],\n",
            "      --colour[=WHEN]       use markers to highlight the matching strings;\n",
            "                            WHEN is 'always', 'never', or 'auto'\n",
            "  -U, --binary              do not strip CR characters at EOL (MSDOS/Windows)\n",
            "\n",
            "When FILE is '-', read standard input.  With no FILE, read '.' if\n",
            "recursive, '-' otherwise.  With fewer than two FILEs, assume -h.\n",
            "Exit status is 0 if any line is selected, 1 otherwise;\n",
            "if any error occurs and -q is not given, the exit status is 2.\n",
            "\n",
            "Report bugs to: bug-grep@gnu.org\n",
            "GNU grep home page: <http://www.gnu.org/software/grep/>\n",
            "General help using GNU software: <http://www.gnu.org/gethelp/>\n"
          ]
        }
      ]
    },
    {
      "cell_type": "code",
      "metadata": {
        "id": "7EvbBl1rnK4F",
        "colab": {
          "base_uri": "https://localhost:8080/"
        },
        "outputId": "7617206a-8e47-4ebc-90ce-89bdc885d18a"
      },
      "source": [
        "!grep MemTotal /proc/meminfo # Memoria Ram que cuenta la pc: 13 GB"
      ],
      "execution_count": null,
      "outputs": [
        {
          "output_type": "stream",
          "text": [
            "MemTotal:       13333580 kB\n"
          ],
          "name": "stdout"
        }
      ]
    },
    {
      "cell_type": "markdown",
      "metadata": {
        "id": "MNK1NeyElqwq"
      },
      "source": [
        "### Magic commands in Colab: `%magic`"
      ]
    },
    {
      "cell_type": "markdown",
      "metadata": {
        "id": "TF9hVCEiH9WT"
      },
      "source": [
        "[ipython - Built-in magic commands](https://ipython.readthedocs.io/en/stable/interactive/magics.html#)\n",
        "> Magics function are often present in the form of shell-like syntax, but are under the hood python function. The syntax and assignment possibility are similar to the one with the bang (`!`) syntax, but with more flexibility and power. \\\n",
        "Magic function start with a percent sign `(%`) or double percent (`%%`). "
      ]
    },
    {
      "cell_type": "markdown",
      "metadata": {
        "id": "_D6wdFx_mE2j"
      },
      "source": [
        "Para iniciar usaremos:\n"
      ]
    },
    {
      "cell_type": "code",
      "metadata": {
        "id": "nL4lkrIvQ34J"
      },
      "source": [
        "# Comandos magic: IPython's 'magic' functions\n",
        "%magic"
      ],
      "execution_count": null,
      "outputs": []
    },
    {
      "cell_type": "markdown",
      "metadata": {
        "id": "VJOZ0oAyROjv"
      },
      "source": [
        "El cual nos presentará dos tipos de comandos mágicos de IPython (que también son admisibles en Colab):\n",
        "- Line magics\n",
        "- Cells magics"
      ]
    },
    {
      "cell_type": "markdown",
      "metadata": {
        "id": "p30poAQjalLo"
      },
      "source": [
        "#### Line magics"
      ]
    },
    {
      "cell_type": "markdown",
      "metadata": {
        "id": "GHGa7hiOz4WE"
      },
      "source": [
        "**Lista de comandos `%magic` al estilo cheat sheet**"
      ]
    },
    {
      "cell_type": "code",
      "metadata": {
        "id": "vnikzE5ZV290"
      },
      "source": [
        "# Al lado derecho del navegador\n",
        "%quickref"
      ],
      "execution_count": null,
      "outputs": []
    },
    {
      "cell_type": "markdown",
      "metadata": {
        "id": "hUjzhWbDSaPk"
      },
      "source": [
        "**Listar comandos (solo nombres)**"
      ]
    },
    {
      "cell_type": "code",
      "metadata": {
        "colab": {
          "base_uri": "https://localhost:8080/",
          "height": 161
        },
        "id": "hLAJS4E3UxIU",
        "outputId": "1af31358-b140-44f7-f50e-034c5d5942f7"
      },
      "source": [
        "# Abajo como resultado\n",
        "%lsmagic"
      ],
      "execution_count": null,
      "outputs": [
        {
          "output_type": "execute_result",
          "data": {
            "application/json": {
              "cell": {
                "prun": "ExecutionMagics",
                "file": "Other",
                "!": "OSMagics",
                "capture": "ExecutionMagics",
                "timeit": "ExecutionMagics",
                "script": "ScriptMagics",
                "pypy": "Other",
                "system": "OSMagics",
                "perl": "Other",
                "html": "DisplayMagics",
                "bash": "Other",
                "shell": "Other",
                "HTML": "Other",
                "python": "Other",
                "SVG": "Other",
                "javascript": "DisplayMagics",
                "bigquery": "Other",
                "js": "DisplayMagics",
                "writefile": "OSMagics",
                "ruby": "Other",
                "python3": "Other",
                "python2": "Other",
                "latex": "DisplayMagics",
                "sx": "OSMagics",
                "svg": "DisplayMagics",
                "sh": "Other",
                "time": "ExecutionMagics",
                "debug": "ExecutionMagics"
              },
              "line": {
                "psource": "NamespaceMagics",
                "logstart": "LoggingMagics",
                "popd": "OSMagics",
                "tensorflow_version": "Other",
                "loadpy": "CodeMagics",
                "colors": "BasicMagics",
                "who_ls": "NamespaceMagics",
                "lf": "Other",
                "ll": "Other",
                "pprint": "BasicMagics",
                "lk": "Other",
                "ls": "Other",
                "save": "CodeMagics",
                "tb": "ExecutionMagics",
                "lx": "Other",
                "pylab": "PylabMagics",
                "killbgscripts": "ScriptMagics",
                "quickref": "BasicMagics",
                "magic": "BasicMagics",
                "dhist": "OSMagics",
                "edit": "KernelMagics",
                "logstop": "LoggingMagics",
                "gui": "BasicMagics",
                "prun": "ExecutionMagics",
                "debug": "ExecutionMagics",
                "page": "BasicMagics",
                "logstate": "LoggingMagics",
                "ed": "Other",
                "pushd": "OSMagics",
                "timeit": "ExecutionMagics",
                "set_env": "OSMagics",
                "rehashx": "OSMagics",
                "hist": "Other",
                "qtconsole": "KernelMagics",
                "rm": "Other",
                "dirs": "OSMagics",
                "run": "ExecutionMagics",
                "reset_selective": "NamespaceMagics",
                "pinfo2": "NamespaceMagics",
                "matplotlib": "PylabMagics",
                "unload_ext": "ExtensionMagics",
                "doctest_mode": "BasicMagics",
                "logoff": "LoggingMagics",
                "reload_ext": "ExtensionMagics",
                "pdb": "ExecutionMagics",
                "load": "CodeMagics",
                "lsmagic": "BasicMagics",
                "autosave": "KernelMagics",
                "cd": "OSMagics",
                "pastebin": "CodeMagics",
                "alias_magic": "BasicMagics",
                "cp": "Other",
                "autocall": "AutoMagics",
                "ldir": "Other",
                "bookmark": "OSMagics",
                "connect_info": "KernelMagics",
                "mkdir": "Other",
                "system": "OSMagics",
                "whos": "NamespaceMagics",
                "rmdir": "Other",
                "automagic": "AutoMagics",
                "store": "StoreMagics",
                "more": "KernelMagics",
                "shell": "Other",
                "pdef": "NamespaceMagics",
                "precision": "BasicMagics",
                "pinfo": "NamespaceMagics",
                "pwd": "OSMagics",
                "psearch": "NamespaceMagics",
                "reset": "NamespaceMagics",
                "recall": "HistoryMagics",
                "xdel": "NamespaceMagics",
                "xmode": "BasicMagics",
                "cat": "Other",
                "mv": "Other",
                "rerun": "HistoryMagics",
                "logon": "LoggingMagics",
                "history": "HistoryMagics",
                "pycat": "OSMagics",
                "pip": "Other",
                "unalias": "OSMagics",
                "env": "OSMagics",
                "load_ext": "ExtensionMagics",
                "config": "ConfigMagics",
                "profile": "BasicMagics",
                "pfile": "NamespaceMagics",
                "less": "KernelMagics",
                "who": "NamespaceMagics",
                "notebook": "BasicMagics",
                "man": "KernelMagics",
                "sx": "OSMagics",
                "macro": "ExecutionMagics",
                "clear": "KernelMagics",
                "alias": "OSMagics",
                "time": "ExecutionMagics",
                "sc": "OSMagics",
                "rep": "Other",
                "pdoc": "NamespaceMagics"
              }
            },
            "text/plain": [
              "Available line magics:\n",
              "%alias  %alias_magic  %autocall  %automagic  %autosave  %bookmark  %cat  %cd  %clear  %colors  %config  %connect_info  %cp  %debug  %dhist  %dirs  %doctest_mode  %ed  %edit  %env  %gui  %hist  %history  %killbgscripts  %ldir  %less  %lf  %lk  %ll  %load  %load_ext  %loadpy  %logoff  %logon  %logstart  %logstate  %logstop  %ls  %lsmagic  %lx  %macro  %magic  %man  %matplotlib  %mkdir  %more  %mv  %notebook  %page  %pastebin  %pdb  %pdef  %pdoc  %pfile  %pinfo  %pinfo2  %pip  %popd  %pprint  %precision  %profile  %prun  %psearch  %psource  %pushd  %pwd  %pycat  %pylab  %qtconsole  %quickref  %recall  %rehashx  %reload_ext  %rep  %rerun  %reset  %reset_selective  %rm  %rmdir  %run  %save  %sc  %set_env  %shell  %store  %sx  %system  %tb  %tensorflow_version  %time  %timeit  %unalias  %unload_ext  %who  %who_ls  %whos  %xdel  %xmode\n",
              "\n",
              "Available cell magics:\n",
              "%%!  %%HTML  %%SVG  %%bash  %%bigquery  %%capture  %%debug  %%file  %%html  %%javascript  %%js  %%latex  %%perl  %%prun  %%pypy  %%python  %%python2  %%python3  %%ruby  %%script  %%sh  %%shell  %%svg  %%sx  %%system  %%time  %%timeit  %%writefile\n",
              "\n",
              "Automagic is ON, % prefix IS NOT needed for line magics."
            ]
          },
          "metadata": {},
          "execution_count": 49
        }
      ]
    },
    {
      "cell_type": "markdown",
      "metadata": {
        "id": "mfiKW8ONb20L"
      },
      "source": [
        "**Obtener el directorio de trabajo**"
      ]
    },
    {
      "cell_type": "code",
      "metadata": {
        "colab": {
          "base_uri": "https://localhost:8080/",
          "height": 35
        },
        "id": "7vVB-QXEbJg2",
        "outputId": "98c7e27f-1669-4f3a-b5f1-aa7551ebec1a"
      },
      "source": [
        "%pwd"
      ],
      "execution_count": null,
      "outputs": [
        {
          "output_type": "execute_result",
          "data": {
            "application/vnd.google.colaboratory.intrinsic+json": {
              "type": "string"
            },
            "text/plain": [
              "'/content/cloned-repo'"
            ]
          },
          "metadata": {},
          "execution_count": 33
        }
      ]
    },
    {
      "cell_type": "markdown",
      "metadata": {
        "id": "_QiJ2_nq0Set"
      },
      "source": [
        "**cambiar de directorio de trabajo**: El comando `%cd` o change directory. \n",
        "- Preferible a usar `os.chdir()` ya que es más rápido. "
      ]
    },
    {
      "cell_type": "code",
      "metadata": {
        "colab": {
          "base_uri": "https://localhost:8080/"
        },
        "id": "asoXuBBRVRYk",
        "outputId": "fc3462e3-8efd-4325-fa89-d953533c05b2"
      },
      "source": [
        "%cd /content"
      ],
      "execution_count": null,
      "outputs": [
        {
          "output_type": "stream",
          "name": "stdout",
          "text": [
            "/content\n"
          ]
        }
      ]
    },
    {
      "cell_type": "code",
      "metadata": {
        "colab": {
          "base_uri": "https://localhost:8080/"
        },
        "id": "9FNFIQ4SWKH2",
        "outputId": "0a6803fc-c255-400f-8807-3db005a8868a"
      },
      "source": [
        "%cd /content/cloned-repo/"
      ],
      "execution_count": null,
      "outputs": [
        {
          "output_type": "stream",
          "name": "stdout",
          "text": [
            "/content/cloned-repo\n"
          ]
        }
      ]
    },
    {
      "cell_type": "markdown",
      "metadata": {
        "id": "aC8AvJX38Fdr"
      },
      "source": [
        "Y si quieres establecer una carpeta anterior como directorio de trabajo, es posible mediante los dos puntos"
      ]
    },
    {
      "cell_type": "code",
      "metadata": {
        "id": "Pg0e3imQ8E4m"
      },
      "source": [
        "%cd .."
      ],
      "execution_count": null,
      "outputs": []
    },
    {
      "cell_type": "markdown",
      "metadata": {
        "id": "PzgEeTcY1Tpd"
      },
      "source": [
        "**Creación de carpetas en el directorio de trabajo**"
      ]
    },
    {
      "cell_type": "code",
      "metadata": {
        "id": "KaG8eLANVGet"
      },
      "source": [
        "# Crear carpeta con nombre hola\n",
        "%mkdir hola"
      ],
      "execution_count": null,
      "outputs": []
    },
    {
      "cell_type": "markdown",
      "metadata": {
        "id": "hC4Q0Xmn0iS5"
      },
      "source": [
        "El comando automagic permite **usar los comandos magic sin necesidad de escribir el singo %** junto a los mismos."
      ]
    },
    {
      "cell_type": "code",
      "metadata": {
        "colab": {
          "base_uri": "https://localhost:8080/"
        },
        "id": "6iYBUI2aWIp9",
        "outputId": "c4d67cd4-4ae4-4809-dcc3-5e1c4596a6fd"
      },
      "source": [
        "%automagic off"
      ],
      "execution_count": null,
      "outputs": [
        {
          "output_type": "stream",
          "name": "stdout",
          "text": [
            "\n",
            "Automagic is OFF, % prefix IS needed for line magics.\n"
          ]
        }
      ]
    },
    {
      "cell_type": "markdown",
      "metadata": {
        "id": "7m0OBNi000bG"
      },
      "source": [
        "**Impresión de las variables usadas en la sesión con `%who` y `%whos`**"
      ]
    },
    {
      "cell_type": "code",
      "metadata": {
        "colab": {
          "base_uri": "https://localhost:8080/"
        },
        "id": "uqYB-mSceCDv",
        "outputId": "8f3ec695-362c-48d5-e51b-0b072b2d2ec6"
      },
      "source": [
        "%who"
      ],
      "execution_count": null,
      "outputs": [
        {
          "output_type": "stream",
          "name": "stdout",
          "text": [
            "pd\t sys\t \n"
          ]
        }
      ]
    },
    {
      "cell_type": "code",
      "metadata": {
        "colab": {
          "base_uri": "https://localhost:8080/"
        },
        "id": "1mNvQN9teFXb",
        "outputId": "70f78372-d51c-4923-9a24-3c535eaa28df"
      },
      "source": [
        "%whos"
      ],
      "execution_count": null,
      "outputs": [
        {
          "output_type": "stream",
          "name": "stdout",
          "text": [
            "Variable   Type      Data/Info\n",
            "------------------------------\n",
            "pd         module    <module 'pandas' from '/u<...>ages/pandas/__init__.py'>\n",
            "sys        module    <module 'sys' (built-in)>\n"
          ]
        }
      ]
    },
    {
      "cell_type": "markdown",
      "metadata": {
        "id": "AO9NKykabtPl"
      },
      "source": [
        "**Obtener documentación de algún objeto**"
      ]
    },
    {
      "cell_type": "code",
      "metadata": {
        "id": "qxn83y6YVnPA"
      },
      "source": [
        "%pdoc sys"
      ],
      "execution_count": null,
      "outputs": []
    },
    {
      "cell_type": "code",
      "metadata": {
        "id": "5Atj0GgQVq_k"
      },
      "source": [
        "import pandas as pd\n",
        "%pdoc pd.read_csv"
      ],
      "execution_count": null,
      "outputs": []
    },
    {
      "cell_type": "markdown",
      "metadata": {
        "id": "77o0a-i2atCO"
      },
      "source": [
        "#### Cells magics"
      ]
    },
    {
      "cell_type": "markdown",
      "metadata": {
        "id": "-vuP6uxpacQ9"
      },
      "source": [
        "**Run the cell, capturing stdout, stderr, and IPython’s rich display() calls.** [More info](https://pythonguides.com/python-stderr-stdin-and-stdout/)\n",
        "\n",
        "Usable en la instalación de librerías para así no visualizar texto innecesario.\n",
        "\n",
        "Más información en [`%%capture`](https://ipython.readthedocs.io/en/stable/interactive/magics.html#cellmagic-capture)"
      ]
    },
    {
      "cell_type": "code",
      "metadata": {
        "id": "HPaD0bwNaCN1"
      },
      "source": [
        "# Prueba instalando 3 librerías con una sola celda\n",
        "%%capture\n",
        "!pip install netcdf4\n",
        "!pip install geopandas\n",
        "!pip install rioxarray"
      ],
      "execution_count": null,
      "outputs": []
    },
    {
      "cell_type": "markdown",
      "metadata": {
        "id": "OwO65u6L08oH"
      },
      "source": [
        "**Uso de latex en colab**"
      ]
    },
    {
      "cell_type": "code",
      "metadata": {
        "colab": {
          "base_uri": "https://localhost:8080/",
          "height": 36
        },
        "id": "5dchiQOTiALA",
        "outputId": "e1b83b8d-92c8-4e24-b65b-bbd5fda231ae"
      },
      "source": [
        "%%latex\n",
        "$$\\text{asd}$$"
      ],
      "execution_count": null,
      "outputs": [
        {
          "output_type": "display_data",
          "data": {
            "text/latex": "$$\\text{asd}$$",
            "text/plain": [
              "<IPython.core.display.Latex object>"
            ]
          },
          "metadata": {}
        }
      ]
    },
    {
      "cell_type": "markdown",
      "metadata": {
        "id": "dKs95syc1Dfm"
      },
      "source": [
        "**Uso de otros lenguajes de programación**"
      ]
    },
    {
      "cell_type": "code",
      "metadata": {
        "colab": {
          "base_uri": "https://localhost:8080/",
          "height": 16
        },
        "id": "C--ODB_7j6Y6",
        "outputId": "320bfb59-ebb6-4fea-8bae-5af74745e1a1"
      },
      "source": [
        "%%javascript\n",
        "var hola = 'asdasd'\n",
        "console.log(hola)"
      ],
      "execution_count": null,
      "outputs": [
        {
          "output_type": "display_data",
          "data": {
            "application/javascript": [
              "var hola = 'asdasd'\n",
              "console.log(hola)"
            ],
            "text/plain": [
              "<IPython.core.display.Javascript object>"
            ]
          },
          "metadata": {}
        }
      ]
    },
    {
      "cell_type": "markdown",
      "metadata": {
        "id": "ZQ6L-VUn1Ijd"
      },
      "source": [
        "**Estimar el tiempo usado para una operación**"
      ]
    },
    {
      "cell_type": "code",
      "metadata": {
        "colab": {
          "base_uri": "https://localhost:8080/"
        },
        "id": "2Dxit5LmkYcj",
        "outputId": "3868d10e-ea70-4849-8b51-0ab834962af8"
      },
      "source": [
        "%%timeit\n",
        "x = []\n",
        "for i in range(50):\n",
        "  x.append(i**2)\n",
        "x"
      ],
      "execution_count": null,
      "outputs": [
        {
          "output_type": "stream",
          "name": "stdout",
          "text": [
            "100000 loops, best of 5: 14.9 µs per loop\n"
          ]
        }
      ]
    },
    {
      "cell_type": "code",
      "metadata": {
        "colab": {
          "base_uri": "https://localhost:8080/",
          "height": 37
        },
        "id": "_elTWoKrImNo",
        "outputId": "20a25067-6004-48ac-a1f0-b261fba1bc20"
      },
      "source": [
        "%%html\n",
        "<marquee style='width: 30%; color: blue;'><b>Whee!</b></marquee>"
      ],
      "execution_count": null,
      "outputs": [
        {
          "output_type": "display_data",
          "data": {
            "text/html": [
              "<marquee style='width: 30%; color: blue;'><b>Whee!</b></marquee>"
            ],
            "text/plain": [
              "<IPython.core.display.HTML object>"
            ]
          },
          "metadata": {}
        }
      ]
    },
    {
      "cell_type": "markdown",
      "metadata": {
        "id": "a5dr9IYQQarJ"
      },
      "source": [
        "**Get, set, or list environment variables.**"
      ]
    },
    {
      "cell_type": "code",
      "metadata": {
        "id": "nAsclqDrRQ3G",
        "colab": {
          "base_uri": "https://localhost:8080/"
        },
        "outputId": "791829d8-e57a-4f4e-b9a1-29a88a56227f"
      },
      "source": [
        "%env"
      ],
      "execution_count": null,
      "outputs": [
        {
          "output_type": "execute_result",
          "data": {
            "text/plain": [
              "{'CLICOLOR': '1',\n",
              " 'CLOUDSDK_CONFIG': '/content/.config',\n",
              " 'CLOUDSDK_PYTHON': 'python3',\n",
              " 'COLAB_GPU': '0',\n",
              " 'CUDA_VERSION': '11.1.1',\n",
              " 'CUDNN_VERSION': '8.0.5.39',\n",
              " 'DATALAB_SETTINGS_OVERRIDES': '{\"kernelManagerProxyPort\":6000,\"kernelManagerProxyHost\":\"172.28.0.3\",\"jupyterArgs\":[\"--ip=\\\\\"172.28.0.2\\\\\"\"],\"debugAdapterMultiplexerPath\":\"/usr/local/bin/dap_multiplexer\",\"enableLsp\":true}',\n",
              " 'DEBIAN_FRONTEND': 'noninteractive',\n",
              " 'ENV': '/root/.bashrc',\n",
              " 'GCE_METADATA_TIMEOUT': '0',\n",
              " 'GCS_READ_CACHE_BLOCK_SIZE_MB': '16',\n",
              " 'GIT_PAGER': 'cat',\n",
              " 'GLIBCPP_FORCE_NEW': '1',\n",
              " 'GLIBCXX_FORCE_NEW': '1',\n",
              " 'HOME': '/root',\n",
              " 'HOSTNAME': 'da064d9ec274',\n",
              " 'JPY_PARENT_PID': '51',\n",
              " 'LANG': 'en_US.UTF-8',\n",
              " 'LAST_FORCED_REBUILD': '20210824',\n",
              " 'LD_LIBRARY_PATH': '/usr/local/nvidia/lib:/usr/local/nvidia/lib64',\n",
              " 'LD_PRELOAD': '/usr/lib/x86_64-linux-gnu/libtcmalloc.so.4',\n",
              " 'LIBRARY_PATH': '/usr/local/cuda/lib64/stubs',\n",
              " 'MPLBACKEND': 'module://ipykernel.pylab.backend_inline',\n",
              " 'NCCL_VERSION': '2.7.8',\n",
              " 'NO_GCE_CHECK': 'True',\n",
              " 'NVIDIA_DRIVER_CAPABILITIES': 'compute,utility',\n",
              " 'NVIDIA_REQUIRE_CUDA': 'cuda>=11.1 brand=tesla,driver>=418,driver<419 brand=tesla,driver>=440,driver<441 brand=tesla,driver>=450,driver<451',\n",
              " 'NVIDIA_VISIBLE_DEVICES': 'all',\n",
              " 'OLDPWD': '/',\n",
              " 'PAGER': 'cat',\n",
              " 'PATH': '/usr/local/nvidia/bin:/usr/local/cuda/bin:/usr/local/sbin:/usr/local/bin:/usr/sbin:/usr/bin:/sbin:/bin:/tools/node/bin:/tools/google-cloud-sdk/bin:/opt/bin',\n",
              " 'PWD': '/',\n",
              " 'PYDEVD_USE_FRAME_EVAL': 'NO',\n",
              " 'PYTHONPATH': '/env/python',\n",
              " 'PYTHONWARNINGS': 'ignore:::pip._internal.cli.base_command',\n",
              " 'SHELL': '/bin/bash',\n",
              " 'SHLVL': '0',\n",
              " 'TBE_CREDS_ADDR': '172.28.0.1:8008',\n",
              " 'TERM': 'xterm-color',\n",
              " 'TF_FORCE_GPU_ALLOW_GROWTH': 'true'}"
            ]
          },
          "metadata": {},
          "execution_count": 3
        }
      ]
    },
    {
      "cell_type": "markdown",
      "metadata": {
        "id": "bFkdu9WpRH1g"
      },
      "source": [
        "**Revisar el historial de celdas corridas**"
      ]
    },
    {
      "cell_type": "code",
      "metadata": {
        "colab": {
          "base_uri": "https://localhost:8080/"
        },
        "id": "GDj4kkydQ0ym",
        "outputId": "1e8475bf-aafe-4497-f949-69d58839b231"
      },
      "source": [
        "%history -n 1-10"
      ],
      "execution_count": null,
      "outputs": [
        {
          "output_type": "stream",
          "name": "stdout",
          "text": [
            "   1: !ls \\bin\n",
            "   2: !ls /bin\n",
            "   3:\n",
            "# Versión de Python en el computador virtual\n",
            "import sys\n",
            "sys.version\n",
            "   4:\n",
            "# Comandos magic: IPython's 'magic' functions\n",
            "%magic\n",
            "   5: !pwd\n",
            "   6:\n",
            "%%html\n",
            "<marquee style='width: 30%; color: blue;'><b>Whee!</b></marquee>\n",
            "   7: %load http://matplotlib.sourceforge.net/mpl_examples/pylab_examples/integral_demo.py\n",
            "   8: %load https://github.com/vilcagamarracf/Inv_arroz_METRIC/blob/main/Inv_Arroz_METRIC.ipynb\n",
            "   9: %load https://matplotlib.org/stable/gallery/images_contours_and_fields/image_zcoord.html#sphx-glr-gallery-images-contours-and-fields-image-zcoord-py\n",
            "  10: %history -n 4-6\n"
          ]
        }
      ]
    },
    {
      "cell_type": "markdown",
      "metadata": {
        "id": "GtYJRbh-FSY7"
      },
      "source": [
        "## Instalando librerías en Colab: `pip` y `apt` (package managers)"
      ]
    },
    {
      "cell_type": "markdown",
      "metadata": {
        "id": "rIsEygUTJvhs"
      },
      "source": [
        "Colab es compatible con los administradores de paquetes `pip` y `apt`.\n",
        "Independientemente de cuál esté utilizando, recuerde anteponer cualquier comando de bash con un `!` o `%`."
      ]
    },
    {
      "cell_type": "markdown",
      "metadata": {
        "id": "5KEEO6LOENuh"
      },
      "source": [
        "> Nota: En la anterior sección se vió el uso de `!` y `%` para usar comandos de terminal en las celdas de Colab. Indistintamente de usar uno o el otro, el resultado será el mismo. "
      ]
    },
    {
      "cell_type": "markdown",
      "metadata": {
        "id": "epibMHYP_fg4"
      },
      "source": [
        "### pip\n",
        "\n"
      ]
    },
    {
      "cell_type": "markdown",
      "metadata": {
        "id": "MkL3qnddKBFr"
      },
      "source": [
        "En la [documentación](https://pip.pypa.io/en/stable/) de pip leemos lo siguiente:\n",
        "> pip is the package installer for Python. You can use it to install packages from the Python Package Index and other indexes. "
      ]
    },
    {
      "cell_type": "markdown",
      "metadata": {
        "id": "wFb5TR-VAEy9"
      },
      "source": [
        "#### Solicitar ayuda: `%pip`, `%pip help` o `%pip -h`"
      ]
    },
    {
      "cell_type": "markdown",
      "metadata": {
        "id": "V71vymKXAWyk"
      },
      "source": [
        "Explorando [comandos](https://pip.pypa.io/en/stable/cli/#commands) de `pip`: Cada vez que necesitemos ayuda podemos solicitarla agregando a la parte derecha el comando `help` o `-h`."
      ]
    },
    {
      "cell_type": "code",
      "metadata": {
        "id": "TV7p8M9_-T4w"
      },
      "source": [
        "# Lista de comandos de pip\n",
        "%pip -h"
      ],
      "execution_count": null,
      "outputs": []
    },
    {
      "cell_type": "markdown",
      "metadata": {
        "id": "n5ATuCgPGKe3"
      },
      "source": [
        "```\n",
        "Usage:   \n",
        "  pip3 <command> [options]\n",
        "\n",
        "Commands:\n",
        "  install                     Install packages.\n",
        "  download                    Download packages.\n",
        "  uninstall                   Uninstall packages.\n",
        "  freeze                      Output installed packages in requirements format.\n",
        "  list                        List installed packages.\n",
        "  show                        Show information about installed packages.\n",
        "  check                       Verify installed packages have compatible dependencies.\n",
        "  config                      Manage local and global configuration.\n",
        "  search                      Search PyPI for packages.\n",
        "  cache                       Inspect and manage pip's wheel cache.\n",
        "  wheel                       Build wheels from your requirements.\n",
        "  hash                        Compute hashes of package archives.\n",
        "  completion                  A helper command used for command completion.\n",
        "  debug                       Show information useful for debugging.\n",
        "  help                        Show help for commands.\n",
        "```"
      ]
    },
    {
      "cell_type": "markdown",
      "metadata": {
        "id": "9XHJ_8EzAHsl"
      },
      "source": [
        "#### Listar librerías instaladas: `%pip list`"
      ]
    },
    {
      "cell_type": "markdown",
      "metadata": {
        "id": "H4zCzBuwF6Ce"
      },
      "source": [
        "List installed packages, including editables. [[more info](https://pip.pypa.io/en/stable/cli/pip_list/)]"
      ]
    },
    {
      "cell_type": "code",
      "metadata": {
        "id": "mC3KsFAxALio"
      },
      "source": [
        "# List options\n",
        "%pip list -h"
      ],
      "execution_count": null,
      "outputs": []
    },
    {
      "cell_type": "code",
      "metadata": {
        "id": "2831tpokGy1e"
      },
      "source": [
        "# Listar librerías instaladas\n",
        "%pip list"
      ],
      "execution_count": null,
      "outputs": []
    },
    {
      "cell_type": "code",
      "metadata": {
        "id": "P3mIE5QOE3jB"
      },
      "source": [
        "# List outdated packages: -o, --outdated \n",
        "%pip list -o"
      ],
      "execution_count": null,
      "outputs": []
    },
    {
      "cell_type": "code",
      "metadata": {
        "id": "puvNsBfBFY2n"
      },
      "source": [
        "# List uptodate packages: -u, --uptodate\n",
        "%pip list -u"
      ],
      "execution_count": null,
      "outputs": []
    },
    {
      "cell_type": "markdown",
      "metadata": {
        "id": "70UrO94ZG_G_"
      },
      "source": [
        "**Listar con formatos**"
      ]
    },
    {
      "cell_type": "code",
      "metadata": {
        "colab": {
          "base_uri": "https://localhost:8080/"
        },
        "id": "xYNrSSOTHDsV",
        "outputId": "a028f11e-08cd-49b8-a0ba-78e63326edb9"
      },
      "source": [
        "%pip list --format -h"
      ],
      "execution_count": null,
      "outputs": [
        {
          "output_type": "stream",
          "name": "stdout",
          "text": [
            "\n",
            "Usage:   \n",
            "  pip3 list [options]\n",
            "\n",
            "option --format: invalid choice: '-h' (choose from 'columns', 'freeze', 'json')\n"
          ]
        }
      ]
    },
    {
      "cell_type": "code",
      "metadata": {
        "id": "x6IqmjwwGvIG"
      },
      "source": [
        "# Es igual a %pip list\n",
        "%pip list --format=columns"
      ],
      "execution_count": null,
      "outputs": []
    },
    {
      "cell_type": "code",
      "metadata": {
        "id": "rzYfVfIOGZtu"
      },
      "source": [
        "# Listar sin formato\n",
        "%pip list --format=freeze"
      ],
      "execution_count": null,
      "outputs": []
    },
    {
      "cell_type": "code",
      "metadata": {
        "id": "nqOgI6Z5Gf0X"
      },
      "source": [
        "# Listar con formato json\n",
        "%pip list --format=json"
      ],
      "execution_count": null,
      "outputs": []
    },
    {
      "cell_type": "markdown",
      "metadata": {
        "id": "UEyL31X0AqXD"
      },
      "source": [
        "#### Instalar librerías: `%pip install` "
      ]
    },
    {
      "cell_type": "markdown",
      "metadata": {
        "id": "6JamprxtIKnF"
      },
      "source": [
        "Para más información visitar su [documentación](https://pip.pypa.io/en/stable/cli/pip_install/#pip-install)."
      ]
    },
    {
      "cell_type": "code",
      "metadata": {
        "id": "Q-wRa_EeHyf-"
      },
      "source": [
        "%pip install -h"
      ],
      "execution_count": null,
      "outputs": []
    },
    {
      "cell_type": "code",
      "metadata": {
        "id": "ghpATNFuAyHe"
      },
      "source": [
        "# -U, --upgrade\n",
        "%pip install -U geopandas"
      ],
      "execution_count": null,
      "outputs": []
    },
    {
      "cell_type": "code",
      "metadata": {
        "id": "8sxvGfgDxqrE"
      },
      "source": [
        "# Install Keras with pip\n",
        "!pip install -q keras\n",
        "import keras\n",
        "\n",
        "# Install GraphViz with apt\n",
        "!apt-get install graphviz -y"
      ],
      "execution_count": null,
      "outputs": []
    },
    {
      "cell_type": "markdown",
      "metadata": {
        "id": "AkA6mzz8IoGh"
      },
      "source": [
        "- Understand Python import, module, and package  by Andrew Zhu in  [Medium](https://medium.com/python-in-plain-english/understand-python-import-module-and-package-c5b4289bbf60)"
      ]
    },
    {
      "cell_type": "markdown",
      "metadata": {
        "id": "i-s7BNVQFOyX"
      },
      "source": [
        "## Archivos extraíbles en Colab"
      ]
    },
    {
      "cell_type": "markdown",
      "metadata": {
        "id": "ceXHzQYyF36U"
      },
      "source": [
        "### git"
      ]
    },
    {
      "cell_type": "markdown",
      "metadata": {
        "id": "3XUBRWmD6Y2G"
      },
      "source": [
        "Como colab admite comandos de terminal linux, podemos hacer uso de ellos para clonar repositorios de GitHub mediante comandos `git`. Esto se hace para probar archivos de un repositorio (replicar el trabajo de terceros) que nos pareció interesante.\n",
        "\n",
        "Para más información, revisar el siguiente artículo: [How to use Git Clone Command?](https://linuxhint.com/git_clone_command/)."
      ]
    },
    {
      "cell_type": "markdown",
      "metadata": {
        "id": "erS0I-Ge6iQf"
      },
      "source": [
        "1. Ver qué comandos de `git` son admitidos"
      ]
    },
    {
      "cell_type": "code",
      "metadata": {
        "colab": {
          "base_uri": "https://localhost:8080/"
        },
        "id": "dpeeczSd856j",
        "outputId": "710c0a55-4999-4f05-989a-ec5a7ac3fc9a"
      },
      "source": [
        "!git"
      ],
      "execution_count": null,
      "outputs": [
        {
          "output_type": "stream",
          "name": "stdout",
          "text": [
            "usage: git [--version] [--help] [-C <path>] [-c <name>=<value>]\n",
            "           [--exec-path[=<path>]] [--html-path] [--man-path] [--info-path]\n",
            "           [-p | --paginate | --no-pager] [--no-replace-objects] [--bare]\n",
            "           [--git-dir=<path>] [--work-tree=<path>] [--namespace=<name>]\n",
            "           <command> [<args>]\n",
            "\n",
            "These are common Git commands used in various situations:\n",
            "\n",
            "start a working area (see also: git help tutorial)\n",
            "   clone      Clone a repository into a new directory\n",
            "   init       Create an empty Git repository or reinitialize an existing one\n",
            "\n",
            "work on the current change (see also: git help everyday)\n",
            "   add        Add file contents to the index\n",
            "   mv         Move or rename a file, a directory, or a symlink\n",
            "   reset      Reset current HEAD to the specified state\n",
            "   rm         Remove files from the working tree and from the index\n",
            "\n",
            "examine the history and state (see also: git help revisions)\n",
            "   bisect     Use binary search to find the commit that introduced a bug\n",
            "   grep       Print lines matching a pattern\n",
            "   log        Show commit logs\n",
            "   show       Show various types of objects\n",
            "   status     Show the working tree status\n",
            "\n",
            "grow, mark and tweak your common history\n",
            "   branch     List, create, or delete branches\n",
            "   checkout   Switch branches or restore working tree files\n",
            "   commit     Record changes to the repository\n",
            "   diff       Show changes between commits, commit and working tree, etc\n",
            "   merge      Join two or more development histories together\n",
            "   rebase     Reapply commits on top of another base tip\n",
            "   tag        Create, list, delete or verify a tag object signed with GPG\n",
            "\n",
            "collaborate (see also: git help workflows)\n",
            "   fetch      Download objects and refs from another repository\n",
            "   pull       Fetch from and integrate with another repository or a local branch\n",
            "   push       Update remote refs along with associated objects\n",
            "\n",
            "'git help -a' and 'git help -g' list available subcommands and some\n",
            "concept guides. See 'git help <command>' or 'git help <concept>'\n",
            "to read about a specific subcommand or concept.\n"
          ]
        }
      ]
    },
    {
      "cell_type": "markdown",
      "metadata": {
        "id": "mzlYQTmr7CPW"
      },
      "source": [
        "2. Clonar un repositorio\n"
      ]
    },
    {
      "cell_type": "code",
      "metadata": {
        "colab": {
          "base_uri": "https://localhost:8080/"
        },
        "id": "bBzu62qt601j",
        "outputId": "14c8e2dd-86d4-48cc-d857-a9be83a205d2"
      },
      "source": [
        "!git clone"
      ],
      "execution_count": null,
      "outputs": [
        {
          "output_type": "stream",
          "name": "stdout",
          "text": [
            "fatal: You must specify a repository to clone.\n",
            "\n",
            "usage: git clone [<options>] [--] <repo> [<dir>]\n",
            "\n",
            "    -v, --verbose         be more verbose\n",
            "    -q, --quiet           be more quiet\n",
            "    --progress            force progress reporting\n",
            "    -n, --no-checkout     don't create a checkout\n",
            "    --bare                create a bare repository\n",
            "    --mirror              create a mirror repository (implies bare)\n",
            "    -l, --local           to clone from a local repository\n",
            "    --no-hardlinks        don't use local hardlinks, always copy\n",
            "    -s, --shared          setup as shared repository\n",
            "    --recurse-submodules[=<pathspec>]\n",
            "                          initialize submodules in the clone\n",
            "    -j, --jobs <n>        number of submodules cloned in parallel\n",
            "    --template <template-directory>\n",
            "                          directory from which templates will be used\n",
            "    --reference <repo>    reference repository\n",
            "    --reference-if-able <repo>\n",
            "                          reference repository\n",
            "    --dissociate          use --reference only while cloning\n",
            "    -o, --origin <name>   use <name> instead of 'origin' to track upstream\n",
            "    -b, --branch <branch>\n",
            "                          checkout <branch> instead of the remote's HEAD\n",
            "    -u, --upload-pack <path>\n",
            "                          path to git-upload-pack on the remote\n",
            "    --depth <depth>       create a shallow clone of that depth\n",
            "    --shallow-since <time>\n",
            "                          create a shallow clone since a specific time\n",
            "    --shallow-exclude <revision>\n",
            "                          deepen history of shallow clone, excluding rev\n",
            "    --single-branch       clone only one branch, HEAD or --branch\n",
            "    --no-tags             don't clone any tags, and make later fetches not to follow them\n",
            "    --shallow-submodules  any cloned submodules will be shallow\n",
            "    --separate-git-dir <gitdir>\n",
            "                          separate git dir from working tree\n",
            "    -c, --config <key=value>\n",
            "                          set config inside the new repository\n",
            "    -4, --ipv4            use IPv4 addresses only\n",
            "    -6, --ipv6            use IPv6 addresses only\n",
            "    --filter <args>       object filtering\n",
            "\n"
          ]
        }
      ]
    },
    {
      "cell_type": "markdown",
      "metadata": {
        "id": "MfnXvOKs9F87"
      },
      "source": [
        "Al momento de la clonación, se creará una carpeta en la sesión con el nombre del repositorio con todos sus archivos respectivos."
      ]
    },
    {
      "cell_type": "code",
      "metadata": {
        "colab": {
          "base_uri": "https://localhost:8080/"
        },
        "id": "7Aa2vBAp4xpe",
        "outputId": "d4629078-109e-4c7a-d527-e25bfa876c5b"
      },
      "source": [
        "!git clone https://github.com/ifrankandrade/data-visualization.git"
      ],
      "execution_count": null,
      "outputs": [
        {
          "output_type": "stream",
          "name": "stdout",
          "text": [
            "fatal: destination path 'data-visualization' already exists and is not an empty directory.\n",
            "data-visualization  LICENSE-CODE  notebooks  requirements.txt  website\n",
            "environment.yml     LICENSE-TEXT  README.md  tools\n"
          ]
        }
      ]
    },
    {
      "cell_type": "markdown",
      "metadata": {
        "id": "RR3YOigd7Hvj"
      },
      "source": [
        "Es posible también cambiar el nombre de la carpeta a crearse al colocar un nombre al costado del url"
      ]
    },
    {
      "cell_type": "code",
      "metadata": {
        "colab": {
          "base_uri": "https://localhost:8080/"
        },
        "id": "HHoXGg4V7spd",
        "outputId": "d6da25db-aa36-461d-e0c1-dca1eb6188d1"
      },
      "source": [
        "!git clone https://github.com/ifrankandrade/data-visualization.git repo-clonado"
      ],
      "execution_count": null,
      "outputs": [
        {
          "output_type": "stream",
          "name": "stdout",
          "text": [
            "Cloning into 'repo-clonado'...\n",
            "remote: Enumerating objects: 103, done.\u001b[K\n",
            "remote: Counting objects: 100% (103/103), done.\u001b[K\n",
            "remote: Compressing objects: 100% (88/88), done.\u001b[K\n",
            "remote: Total 103 (delta 38), reused 0 (delta 0), pack-reused 0\u001b[K\n",
            "Receiving objects: 100% (103/103), 14.18 MiB | 4.53 MiB/s, done.\n",
            "Resolving deltas: 100% (38/38), done.\n"
          ]
        }
      ]
    },
    {
      "cell_type": "markdown",
      "metadata": {
        "id": "CulkjHCw7zub"
      },
      "source": [
        "Y finalmente podemos establecer ese repositorio como carpeta principal de trabajo"
      ]
    },
    {
      "cell_type": "code",
      "metadata": {
        "colab": {
          "base_uri": "https://localhost:8080/"
        },
        "id": "LO2OeVQc774V",
        "outputId": "8d349a19-2dfc-4c74-f0ef-a4718d5c7b6f"
      },
      "source": [
        "!git clone https://github.com/ifrankandrade/data-visualization.git repo-clonado\n",
        "%cd repo-clonado\n",
        "!ls"
      ],
      "execution_count": null,
      "outputs": [
        {
          "output_type": "stream",
          "name": "stdout",
          "text": [
            "Cloning into 'repo-clonado'...\n",
            "remote: Enumerating objects: 103, done.\u001b[K\n",
            "remote: Counting objects: 100% (103/103), done.\u001b[K\n",
            "remote: Compressing objects: 100% (88/88), done.\u001b[K\n",
            "remote: Total 103 (delta 38), reused 0 (delta 0), pack-reused 0\u001b[K\n",
            "Receiving objects: 100% (103/103), 14.18 MiB | 4.43 MiB/s, done.\n",
            "Resolving deltas: 100% (38/38), done.\n",
            "/content/repo-clonado\n",
            " Avatar.ipynb\n",
            " datasets\n",
            "'Interactive Visualization with Pandas and Cufflinks.ipynb'\n",
            "'Intro to Matplotlib.ipynb'\n",
            "'Matplotlib and Seaborn Guide.ipynb'\n",
            " README.md\n",
            " wordclouds\n"
          ]
        }
      ]
    },
    {
      "cell_type": "markdown",
      "metadata": {
        "id": "2AlgIsBO9jP1"
      },
      "source": [
        "En caso de regresar atrás una carpeta durante cambio de directorio de trabajo"
      ]
    },
    {
      "cell_type": "code",
      "metadata": {
        "colab": {
          "base_uri": "https://localhost:8080/"
        },
        "id": "n0kOUiDO7_V-",
        "outputId": "45c8d3a1-2f72-41fe-f0e1-ebda8496842b"
      },
      "source": [
        "%cd .."
      ],
      "execution_count": null,
      "outputs": [
        {
          "output_type": "stream",
          "name": "stdout",
          "text": [
            "/content\n"
          ]
        }
      ]
    },
    {
      "cell_type": "markdown",
      "metadata": {
        "id": "4cGHIJZb9iDE"
      },
      "source": [
        "Otros ejemplos:"
      ]
    },
    {
      "cell_type": "markdown",
      "metadata": {
        "id": "gUHD15bbA02V"
      },
      "source": [
        "Ejemplo 1"
      ]
    },
    {
      "cell_type": "code",
      "metadata": {
        "id": "H2a5eM-nFVdE",
        "colab": {
          "base_uri": "https://localhost:8080/"
        },
        "outputId": "1d5df55c-13f3-4017-eec4-16ba7870b1d3"
      },
      "source": [
        "# Clone the entire repo. #Ejemplo de colab\n",
        "!git clone -l -s git://github.com/jakevdp/PythonDataScienceHandbook.git cloned-repo\n",
        "%cd cloned-repo\n",
        "!ls"
      ],
      "execution_count": null,
      "outputs": [
        {
          "output_type": "stream",
          "name": "stdout",
          "text": [
            "Cloning into 'cloned-repo'...\n",
            "warning: --local is ignored\n",
            "remote: Enumerating objects: 1813, done.\u001b[K\n",
            "remote: Counting objects: 100% (120/120), done.\u001b[K\n",
            "remote: Compressing objects: 100% (101/101), done.\u001b[K\n",
            "remote: Total 1813 (delta 23), reused 33 (delta 19), pack-reused 1693\u001b[K\n",
            "Receiving objects: 100% (1813/1813), 34.25 MiB | 25.11 MiB/s, done.\n",
            "Resolving deltas: 100% (1121/1121), done.\n",
            "/content/cloned-repo\n",
            "environment.yml  LICENSE-TEXT  README.md\t tools\n",
            "LICENSE-CODE\t notebooks     requirements.txt  website\n"
          ]
        }
      ]
    },
    {
      "cell_type": "markdown",
      "metadata": {
        "id": "gZ5XRjRpA2KA"
      },
      "source": [
        "Ejemplo 2"
      ]
    },
    {
      "cell_type": "code",
      "metadata": {
        "id": "-ibpcXP5zcsI",
        "colab": {
          "base_uri": "https://localhost:8080/",
          "height": 87
        },
        "outputId": "beeea845-ed11-4c69-8000-9e3b11aba784"
      },
      "source": [
        "!git clone --recursive https://github.com/shakasom/GDS.git"
      ],
      "execution_count": null,
      "outputs": [
        {
          "output_type": "stream",
          "text": [
            "Cloning into 'GDS'...\n",
            "remote: Enumerating objects: 39, done.\u001b[K\n",
            "remote: Total 39 (delta 0), reused 0 (delta 0), pack-reused 39\u001b[K\n",
            "Unpacking objects: 100% (39/39), done.\n"
          ],
          "name": "stdout"
        }
      ]
    },
    {
      "cell_type": "code",
      "metadata": {
        "id": "zrQl3bD6zkEM",
        "colab": {
          "base_uri": "https://localhost:8080/",
          "height": 34
        },
        "outputId": "64aa436d-1cda-4d81-d4d8-0bdce516c983"
      },
      "source": [
        "# Listar archivos dentro de GDS\n",
        "!ls GDS/dataset/"
      ],
      "execution_count": null,
      "outputs": [
        {
          "output_type": "stream",
          "text": [
            "1-introData.zip\n"
          ],
          "name": "stdout"
        }
      ]
    },
    {
      "cell_type": "code",
      "metadata": {
        "id": "BfhcXwdCzobI",
        "colab": {
          "base_uri": "https://localhost:8080/",
          "height": 105
        },
        "outputId": "4b8c8581-d28b-4f27-d406-951986b9e440"
      },
      "source": [
        "# Extrayendo archivos del .zip\n",
        "!unzip GDS/dataset/1-introData.zip"
      ],
      "execution_count": null,
      "outputs": [
        {
          "output_type": "stream",
          "text": [
            "Archive:  GDS/dataset/1-introData.zip\n",
            "   creating: 1-introData/\n",
            "  inflating: 1-introData/cities.geojson  \n",
            "  inflating: 1-introData/countries.gpkg  \n",
            "  inflating: 1-introData/rivers.gpkg  \n"
          ],
          "name": "stdout"
        }
      ]
    },
    {
      "cell_type": "markdown",
      "metadata": {
        "id": "EWzlMEM8BHXp"
      },
      "source": [
        "Para mayor información sobre `!unzip`, revisar la siguiente sección *Descarga de datos mediante direcciones URL*."
      ]
    },
    {
      "cell_type": "markdown",
      "metadata": {
        "id": "o9SC301LPrnx"
      },
      "source": [
        "Referencias sobre git en colab:\n",
        "- [18 GIT Commands I learned during my first year as a Software Developer](https://towardsdatascience.com/altair-statistical-visualization-library-for-python-part-4-9ec970fb12e8)\n",
        "- [Using Google Colab with Github (notebook)](https://colab.research.google.com/github/googlecolab/colabtools/blob/master/notebooks/colab-github-demo.ipynb#scrollTo=-pVhOfzLx9us)"
      ]
    },
    {
      "cell_type": "markdown",
      "metadata": {
        "id": "Xtdc_44-F5Wt"
      },
      "source": [
        "### Descarga de datos mediante direcciones URL"
      ]
    },
    {
      "cell_type": "markdown",
      "metadata": {
        "id": "kniDZPJJ9sXL"
      },
      "source": [
        "Extrayendo archivos (datasets posiblemente) con `!wget`. \n",
        "\n",
        "> GNU Wget es un paquete de software gratuito para recuperar archivos mediante HTTP, HTTPS, FTP y FTPS, los protocolos de Internet más utilizados. Es una herramienta de línea de comandos no interactiva, por lo que se puede llamar fácilmente desde scripts, `cron` jobs, terminales sin soporte para X-Windows, etc. \n",
        "\n",
        "Para mayor información visitar: \n",
        "- [GNU Wget - Inicio](http://www.gnu.org/software/wget/) \n",
        "- [GNU Wget - Documentación](http://www.gnu.org/software/wget/manual/wget.html)"
      ]
    },
    {
      "cell_type": "code",
      "metadata": {
        "colab": {
          "base_uri": "https://localhost:8080/"
        },
        "id": "inCiLKJk9yhJ",
        "outputId": "727f7f4f-48be-4443-d24a-f227e6026dc9"
      },
      "source": [
        "!wget"
      ],
      "execution_count": null,
      "outputs": [
        {
          "output_type": "stream",
          "name": "stdout",
          "text": [
            "wget: missing URL\n",
            "Usage: wget [OPTION]... [URL]...\n",
            "\n",
            "Try `wget --help' for more options.\n"
          ]
        }
      ]
    },
    {
      "cell_type": "code",
      "metadata": {
        "colab": {
          "base_uri": "https://localhost:8080/"
        },
        "id": "xIZ-7mKl91Rp",
        "outputId": "61786a20-e033-439b-d100-a7765b2babfb"
      },
      "source": [
        "!wget --help"
      ],
      "execution_count": null,
      "outputs": [
        {
          "output_type": "stream",
          "name": "stdout",
          "text": [
            "GNU Wget 1.19.4, a non-interactive network retriever.\n",
            "Usage: wget [OPTION]... [URL]...\n",
            "\n",
            "Mandatory arguments to long options are mandatory for short options too.\n",
            "\n",
            "Startup:\n",
            "  -V,  --version                   display the version of Wget and exit\n",
            "  -h,  --help                      print this help\n",
            "  -b,  --background                go to background after startup\n",
            "  -e,  --execute=COMMAND           execute a `.wgetrc'-style command\n",
            "\n",
            "Logging and input file:\n",
            "  -o,  --output-file=FILE          log messages to FILE\n",
            "  -a,  --append-output=FILE        append messages to FILE\n",
            "  -d,  --debug                     print lots of debugging information\n",
            "  -q,  --quiet                     quiet (no output)\n",
            "  -v,  --verbose                   be verbose (this is the default)\n",
            "  -nv, --no-verbose                turn off verboseness, without being quiet\n",
            "       --report-speed=TYPE         output bandwidth as TYPE.  TYPE can be bits\n",
            "  -i,  --input-file=FILE           download URLs found in local or external FILE\n",
            "  -F,  --force-html                treat input file as HTML\n",
            "  -B,  --base=URL                  resolves HTML input-file links (-i -F)\n",
            "                                     relative to URL\n",
            "       --config=FILE               specify config file to use\n",
            "       --no-config                 do not read any config file\n",
            "       --rejected-log=FILE         log reasons for URL rejection to FILE\n",
            "\n",
            "Download:\n",
            "  -t,  --tries=NUMBER              set number of retries to NUMBER (0 unlimits)\n",
            "       --retry-connrefused         retry even if connection is refused\n",
            "  -O,  --output-document=FILE      write documents to FILE\n",
            "  -nc, --no-clobber                skip downloads that would download to\n",
            "                                     existing files (overwriting them)\n",
            "       --no-netrc                  don't try to obtain credentials from .netrc\n",
            "  -c,  --continue                  resume getting a partially-downloaded file\n",
            "       --start-pos=OFFSET          start downloading from zero-based position OFFSET\n",
            "       --progress=TYPE             select progress gauge type\n",
            "       --show-progress             display the progress bar in any verbosity mode\n",
            "  -N,  --timestamping              don't re-retrieve files unless newer than\n",
            "                                     local\n",
            "       --no-if-modified-since      don't use conditional if-modified-since get\n",
            "                                     requests in timestamping mode\n",
            "       --no-use-server-timestamps  don't set the local file's timestamp by\n",
            "                                     the one on the server\n",
            "  -S,  --server-response           print server response\n",
            "       --spider                    don't download anything\n",
            "  -T,  --timeout=SECONDS           set all timeout values to SECONDS\n",
            "       --dns-timeout=SECS          set the DNS lookup timeout to SECS\n",
            "       --connect-timeout=SECS      set the connect timeout to SECS\n",
            "       --read-timeout=SECS         set the read timeout to SECS\n",
            "  -w,  --wait=SECONDS              wait SECONDS between retrievals\n",
            "       --waitretry=SECONDS         wait 1..SECONDS between retries of a retrieval\n",
            "       --random-wait               wait from 0.5*WAIT...1.5*WAIT secs between retrievals\n",
            "       --no-proxy                  explicitly turn off proxy\n",
            "  -Q,  --quota=NUMBER              set retrieval quota to NUMBER\n",
            "       --bind-address=ADDRESS      bind to ADDRESS (hostname or IP) on local host\n",
            "       --limit-rate=RATE           limit download rate to RATE\n",
            "       --no-dns-cache              disable caching DNS lookups\n",
            "       --restrict-file-names=OS    restrict chars in file names to ones OS allows\n",
            "       --ignore-case               ignore case when matching files/directories\n",
            "  -4,  --inet4-only                connect only to IPv4 addresses\n",
            "  -6,  --inet6-only                connect only to IPv6 addresses\n",
            "       --prefer-family=FAMILY      connect first to addresses of specified family,\n",
            "                                     one of IPv6, IPv4, or none\n",
            "       --user=USER                 set both ftp and http user to USER\n",
            "       --password=PASS             set both ftp and http password to PASS\n",
            "       --ask-password              prompt for passwords\n",
            "       --use-askpass=COMMAND       specify credential handler for requesting \n",
            "                                     username and password.  If no COMMAND is \n",
            "                                     specified the WGET_ASKPASS or the SSH_ASKPASS \n",
            "                                     environment variable is used.\n",
            "       --no-iri                    turn off IRI support\n",
            "       --local-encoding=ENC        use ENC as the local encoding for IRIs\n",
            "       --remote-encoding=ENC       use ENC as the default remote encoding\n",
            "       --unlink                    remove file before clobber\n",
            "       --xattr                     turn on storage of metadata in extended file attributes\n",
            "\n",
            "Directories:\n",
            "  -nd, --no-directories            don't create directories\n",
            "  -x,  --force-directories         force creation of directories\n",
            "  -nH, --no-host-directories       don't create host directories\n",
            "       --protocol-directories      use protocol name in directories\n",
            "  -P,  --directory-prefix=PREFIX   save files to PREFIX/..\n",
            "       --cut-dirs=NUMBER           ignore NUMBER remote directory components\n",
            "\n",
            "HTTP options:\n",
            "       --http-user=USER            set http user to USER\n",
            "       --http-password=PASS        set http password to PASS\n",
            "       --no-cache                  disallow server-cached data\n",
            "       --default-page=NAME         change the default page name (normally\n",
            "                                     this is 'index.html'.)\n",
            "  -E,  --adjust-extension          save HTML/CSS documents with proper extensions\n",
            "       --ignore-length             ignore 'Content-Length' header field\n",
            "       --header=STRING             insert STRING among the headers\n",
            "       --max-redirect              maximum redirections allowed per page\n",
            "       --proxy-user=USER           set USER as proxy username\n",
            "       --proxy-password=PASS       set PASS as proxy password\n",
            "       --referer=URL               include 'Referer: URL' header in HTTP request\n",
            "       --save-headers              save the HTTP headers to file\n",
            "  -U,  --user-agent=AGENT          identify as AGENT instead of Wget/VERSION\n",
            "       --no-http-keep-alive        disable HTTP keep-alive (persistent connections)\n",
            "       --no-cookies                don't use cookies\n",
            "       --load-cookies=FILE         load cookies from FILE before session\n",
            "       --save-cookies=FILE         save cookies to FILE after session\n",
            "       --keep-session-cookies      load and save session (non-permanent) cookies\n",
            "       --post-data=STRING          use the POST method; send STRING as the data\n",
            "       --post-file=FILE            use the POST method; send contents of FILE\n",
            "       --method=HTTPMethod         use method \"HTTPMethod\" in the request\n",
            "       --body-data=STRING          send STRING as data. --method MUST be set\n",
            "       --body-file=FILE            send contents of FILE. --method MUST be set\n",
            "       --content-disposition       honor the Content-Disposition header when\n",
            "                                     choosing local file names (EXPERIMENTAL)\n",
            "       --content-on-error          output the received content on server errors\n",
            "       --auth-no-challenge         send Basic HTTP authentication information\n",
            "                                     without first waiting for the server's\n",
            "                                     challenge\n",
            "\n",
            "HTTPS (SSL/TLS) options:\n",
            "       --secure-protocol=PR        choose secure protocol, one of auto, SSLv2,\n",
            "                                     SSLv3, TLSv1, TLSv1_1, TLSv1_2 and PFS\n",
            "       --https-only                only follow secure HTTPS links\n",
            "       --no-check-certificate      don't validate the server's certificate\n",
            "       --certificate=FILE          client certificate file\n",
            "       --certificate-type=TYPE     client certificate type, PEM or DER\n",
            "       --private-key=FILE          private key file\n",
            "       --private-key-type=TYPE     private key type, PEM or DER\n",
            "       --ca-certificate=FILE       file with the bundle of CAs\n",
            "       --ca-directory=DIR          directory where hash list of CAs is stored\n",
            "       --crl-file=FILE             file with bundle of CRLs\n",
            "       --pinnedpubkey=FILE/HASHES  Public key (PEM/DER) file, or any number\n",
            "                                   of base64 encoded sha256 hashes preceded by\n",
            "                                   'sha256//' and separated by ';', to verify\n",
            "                                   peer against\n",
            "       --random-file=FILE          file with random data for seeding the SSL PRNG\n",
            "\n",
            "HSTS options:\n",
            "       --no-hsts                   disable HSTS\n",
            "       --hsts-file                 path of HSTS database (will override default)\n",
            "\n",
            "FTP options:\n",
            "       --ftp-user=USER             set ftp user to USER\n",
            "       --ftp-password=PASS         set ftp password to PASS\n",
            "       --no-remove-listing         don't remove '.listing' files\n",
            "       --no-glob                   turn off FTP file name globbing\n",
            "       --no-passive-ftp            disable the \"passive\" transfer mode\n",
            "       --preserve-permissions      preserve remote file permissions\n",
            "       --retr-symlinks             when recursing, get linked-to files (not dir)\n",
            "\n",
            "FTPS options:\n",
            "       --ftps-implicit                 use implicit FTPS (default port is 990)\n",
            "       --ftps-resume-ssl               resume the SSL/TLS session started in the control connection when\n",
            "                                         opening a data connection\n",
            "       --ftps-clear-data-connection    cipher the control channel only; all the data will be in plaintext\n",
            "       --ftps-fallback-to-ftp          fall back to FTP if FTPS is not supported in the target server\n",
            "WARC options:\n",
            "       --warc-file=FILENAME        save request/response data to a .warc.gz file\n",
            "       --warc-header=STRING        insert STRING into the warcinfo record\n",
            "       --warc-max-size=NUMBER      set maximum size of WARC files to NUMBER\n",
            "       --warc-cdx                  write CDX index files\n",
            "       --warc-dedup=FILENAME       do not store records listed in this CDX file\n",
            "       --no-warc-digests           do not calculate SHA1 digests\n",
            "       --no-warc-keep-log          do not store the log file in a WARC record\n",
            "       --warc-tempdir=DIRECTORY    location for temporary files created by the\n",
            "                                     WARC writer\n",
            "\n",
            "Recursive download:\n",
            "  -r,  --recursive                 specify recursive download\n",
            "  -l,  --level=NUMBER              maximum recursion depth (inf or 0 for infinite)\n",
            "       --delete-after              delete files locally after downloading them\n",
            "  -k,  --convert-links             make links in downloaded HTML or CSS point to\n",
            "                                     local files\n",
            "       --convert-file-only         convert the file part of the URLs only (usually known as the basename)\n",
            "       --backups=N                 before writing file X, rotate up to N backup files\n",
            "  -K,  --backup-converted          before converting file X, back up as X.orig\n",
            "  -m,  --mirror                    shortcut for -N -r -l inf --no-remove-listing\n",
            "  -p,  --page-requisites           get all images, etc. needed to display HTML page\n",
            "       --strict-comments           turn on strict (SGML) handling of HTML comments\n",
            "\n",
            "Recursive accept/reject:\n",
            "  -A,  --accept=LIST               comma-separated list of accepted extensions\n",
            "  -R,  --reject=LIST               comma-separated list of rejected extensions\n",
            "       --accept-regex=REGEX        regex matching accepted URLs\n",
            "       --reject-regex=REGEX        regex matching rejected URLs\n",
            "       --regex-type=TYPE           regex type (posix|pcre)\n",
            "  -D,  --domains=LIST              comma-separated list of accepted domains\n",
            "       --exclude-domains=LIST      comma-separated list of rejected domains\n",
            "       --follow-ftp                follow FTP links from HTML documents\n",
            "       --follow-tags=LIST          comma-separated list of followed HTML tags\n",
            "       --ignore-tags=LIST          comma-separated list of ignored HTML tags\n",
            "  -H,  --span-hosts                go to foreign hosts when recursive\n",
            "  -L,  --relative                  follow relative links only\n",
            "  -I,  --include-directories=LIST  list of allowed directories\n",
            "       --trust-server-names        use the name specified by the redirection\n",
            "                                     URL's last component\n",
            "  -X,  --exclude-directories=LIST  list of excluded directories\n",
            "  -np, --no-parent                 don't ascend to the parent directory\n",
            "\n",
            "Mail bug reports and suggestions to <bug-wget@gnu.org>\n"
          ]
        }
      ]
    },
    {
      "cell_type": "markdown",
      "metadata": {
        "id": "LFcGuRRr_fuT"
      },
      "source": [
        "Descargando un archivo alojado en **Dropbox**: Archivos `.zip`"
      ]
    },
    {
      "cell_type": "code",
      "metadata": {
        "colab": {
          "base_uri": "https://localhost:8080/"
        },
        "id": "pNdgKLJ94g8u",
        "outputId": "51421b74-3ce7-4841-f755-bb9be402a983"
      },
      "source": [
        "!wget https://www.dropbox.com/s/gf51dybqbujyjb2/Data.zip"
      ],
      "execution_count": null,
      "outputs": [
        {
          "output_type": "stream",
          "name": "stdout",
          "text": [
            "--2021-10-24 15:51:41--  https://www.dropbox.com/s/gf51dybqbujyjb2/Data.zip\n",
            "Resolving www.dropbox.com (www.dropbox.com)... 162.125.5.18, 2620:100:601d:18::a27d:512\n",
            "Connecting to www.dropbox.com (www.dropbox.com)|162.125.5.18|:443... connected.\n",
            "HTTP request sent, awaiting response... 301 Moved Permanently\n",
            "Location: /s/raw/gf51dybqbujyjb2/Data.zip [following]\n",
            "--2021-10-24 15:51:41--  https://www.dropbox.com/s/raw/gf51dybqbujyjb2/Data.zip\n",
            "Reusing existing connection to www.dropbox.com:443.\n",
            "HTTP request sent, awaiting response... 302 Found\n",
            "Location: https://uca9ddcb9c2dbc4fa970738f2220.dl.dropboxusercontent.com/cd/0/inline/BYplv3KPpo2kgsrR7OUuNv9Vxmg0ndXtCxZsVojWR27xI1g4kqF15v-n6azVPEi5fmA7MpXfH7nOWjGbugZbkANS0j1t0Mv0VBLlKXdbi0Rs5_A0URqGYVHDwYS80QK9wN2qT6LN08GaCprz1CdTJ0XE/file# [following]\n",
            "--2021-10-24 15:51:41--  https://uca9ddcb9c2dbc4fa970738f2220.dl.dropboxusercontent.com/cd/0/inline/BYplv3KPpo2kgsrR7OUuNv9Vxmg0ndXtCxZsVojWR27xI1g4kqF15v-n6azVPEi5fmA7MpXfH7nOWjGbugZbkANS0j1t0Mv0VBLlKXdbi0Rs5_A0URqGYVHDwYS80QK9wN2qT6LN08GaCprz1CdTJ0XE/file\n",
            "Resolving uca9ddcb9c2dbc4fa970738f2220.dl.dropboxusercontent.com (uca9ddcb9c2dbc4fa970738f2220.dl.dropboxusercontent.com)... 162.125.5.15, 2620:100:601d:15::a27d:50f\n",
            "Connecting to uca9ddcb9c2dbc4fa970738f2220.dl.dropboxusercontent.com (uca9ddcb9c2dbc4fa970738f2220.dl.dropboxusercontent.com)|162.125.5.15|:443... connected.\n",
            "HTTP request sent, awaiting response... 302 Found\n",
            "Location: /cd/0/inline2/BYp1N7ruGGz2T_UIkgvW4lrQyVDxp7xjDVznzCuIknBqOdWo4hEYajo_3fflbwDP6Z2TO1eY3o3OkMrhvOpaod4oGfJ28iih7xOEGtaf1w927RDcdg6nNtpcNwPfHY_fmCMY0Md5C_HzjWQjuQh5Rm3maCGQSxIMkDPunog78mSf7qZTQ5MuUJVQn1hYFHXKBdtNv-GcsK4POPODUrGlmg5Dh99n9ty4tbCrpEvQPHpwOOj0kM8j8VZUdD4vgjm7ONXcGMmF4SD9i0ZQ_HPdFi7wFoEBym1NFwCD8jvBygucLMAlFF8XVJnGwuTXHiikipD2ZwkOrY32vOTPF4BKi_GGdkzKmduN_3ktrV1g3taUQx9h-Qgq7BqfXT3AJdd5uqI/file [following]\n",
            "--2021-10-24 15:51:42--  https://uca9ddcb9c2dbc4fa970738f2220.dl.dropboxusercontent.com/cd/0/inline2/BYp1N7ruGGz2T_UIkgvW4lrQyVDxp7xjDVznzCuIknBqOdWo4hEYajo_3fflbwDP6Z2TO1eY3o3OkMrhvOpaod4oGfJ28iih7xOEGtaf1w927RDcdg6nNtpcNwPfHY_fmCMY0Md5C_HzjWQjuQh5Rm3maCGQSxIMkDPunog78mSf7qZTQ5MuUJVQn1hYFHXKBdtNv-GcsK4POPODUrGlmg5Dh99n9ty4tbCrpEvQPHpwOOj0kM8j8VZUdD4vgjm7ONXcGMmF4SD9i0ZQ_HPdFi7wFoEBym1NFwCD8jvBygucLMAlFF8XVJnGwuTXHiikipD2ZwkOrY32vOTPF4BKi_GGdkzKmduN_3ktrV1g3taUQx9h-Qgq7BqfXT3AJdd5uqI/file\n",
            "Reusing existing connection to uca9ddcb9c2dbc4fa970738f2220.dl.dropboxusercontent.com:443.\n",
            "HTTP request sent, awaiting response... 200 OK\n",
            "Length: 4157010 (4.0M) [application/zip]\n",
            "Saving to: ‘Data.zip’\n",
            "\n",
            "Data.zip            100%[===================>]   3.96M  --.-KB/s    in 0.1s    \n",
            "\n",
            "2021-10-24 15:51:42 (28.1 MB/s) - ‘Data.zip’ saved [4157010/4157010]\n",
            "\n"
          ]
        }
      ]
    },
    {
      "cell_type": "markdown",
      "metadata": {
        "id": "AsnJ4By8_jpD"
      },
      "source": [
        "Extrayendo datos de un archivo `.zip` con `!unzip`"
      ]
    },
    {
      "cell_type": "code",
      "metadata": {
        "colab": {
          "base_uri": "https://localhost:8080/"
        },
        "id": "OXMk-GBU_rJh",
        "outputId": "d664247e-f90b-4a3a-f85d-fc1baa48926d"
      },
      "source": [
        "!unzip"
      ],
      "execution_count": null,
      "outputs": [
        {
          "output_type": "stream",
          "name": "stdout",
          "text": [
            "UnZip 6.00 of 20 April 2009, by Debian. Original by Info-ZIP.\n",
            "\n",
            "Usage: unzip [-Z] [-opts[modifiers]] file[.zip] [list] [-x xlist] [-d exdir]\n",
            "  Default action is to extract files in list, except those in xlist, to exdir;\n",
            "  file[.zip] may be a wildcard.  -Z => ZipInfo mode (\"unzip -Z\" for usage).\n",
            "\n",
            "  -p  extract files to pipe, no messages     -l  list files (short format)\n",
            "  -f  freshen existing files, create none    -t  test compressed archive data\n",
            "  -u  update files, create if necessary      -z  display archive comment only\n",
            "  -v  list verbosely/show version info       -T  timestamp archive to latest\n",
            "  -x  exclude files that follow (in xlist)   -d  extract files into exdir\n",
            "modifiers:\n",
            "  -n  never overwrite existing files         -q  quiet mode (-qq => quieter)\n",
            "  -o  overwrite files WITHOUT prompting      -a  auto-convert any text files\n",
            "  -j  junk paths (do not make directories)   -aa treat ALL files as text\n",
            "  -U  use escapes for all non-ASCII Unicode  -UU ignore any Unicode fields\n",
            "  -C  match filenames case-insensitively     -L  make (some) names lowercase\n",
            "  -X  restore UID/GID info                   -V  retain VMS version numbers\n",
            "  -K  keep setuid/setgid/tacky permissions   -M  pipe through \"more\" pager\n",
            "  -O CHARSET  specify a character encoding for DOS, Windows and OS/2 archives\n",
            "  -I CHARSET  specify a character encoding for UNIX and other archives\n",
            "\n",
            "See \"unzip -hh\" or unzip.txt for more help.  Examples:\n",
            "  unzip data1 -x joe   => extract all files except joe from zipfile data1.zip\n",
            "  unzip -p foo | more  => send contents of foo.zip via pipe into program more\n",
            "  unzip -fo foo ReadMe => quietly replace existing ReadMe if archive file newer\n"
          ]
        }
      ]
    },
    {
      "cell_type": "code",
      "metadata": {
        "colab": {
          "base_uri": "https://localhost:8080/"
        },
        "id": "ezZVdHsg5HhR",
        "outputId": "75f245b7-d7a6-4eee-e61b-d3218dc6818d"
      },
      "source": [
        "# Listar archivos del .zip (para revisar antes de descargar)\n",
        "!unzip -l Data.zip "
      ],
      "execution_count": null,
      "outputs": [
        {
          "output_type": "stream",
          "name": "stdout",
          "text": [
            "Archive:  Data.zip\n",
            "  Length      Date    Time    Name\n",
            "---------  ---------- -----   ----\n",
            "        0  2019-11-12 05:37   Data/\n",
            "        0  2019-11-12 08:45   Data/20191002/\n",
            "   386415  2019-11-12 08:45   Data/20191002/B02-20191002.tif\n",
            "   386415  2019-11-12 08:44   Data/20191002/B03-20191002.tif\n",
            "   386415  2019-11-12 08:42   Data/20191002/B04-20191002.tif\n",
            "   386415  2019-11-12 08:43   Data/20191002/B08-20191002.tif\n",
            "        0  2019-11-12 08:51   Data/20191101/\n",
            "   386415  2019-11-12 08:33   Data/20191101/B02-20191101.tif\n",
            "   386415  2019-11-12 08:34   Data/20191101/B03-20191101.tif\n",
            "   386415  2019-11-12 08:35   Data/20191101/B04-20191101.tif\n",
            "   386415  2019-11-12 08:36   Data/20191101/B08-20191101.tif\n",
            "        0  2019-11-12 09:29   Data/shapefiles/\n",
            "        5  2019-11-12 05:26   Data/shapefiles/boundary.cpg\n",
            "     7185  2019-11-12 05:26   Data/shapefiles/boundary.dbf\n",
            "      389  2019-11-12 05:26   Data/shapefiles/boundary.prj\n",
            "      598  2019-11-12 05:26   Data/shapefiles/boundary.qpj\n",
            "     1180  2019-11-12 05:26   Data/shapefiles/boundary.shp\n",
            "      108  2019-11-12 05:26   Data/shapefiles/boundary.shx\n",
            "        5  2019-11-12 05:25   Data/shapefiles/osm_buildings.cpg\n",
            "104639910  2019-11-12 09:29   Data/shapefiles/osm_buildings.dbf\n",
            "      389  2019-11-12 05:25   Data/shapefiles/osm_buildings.prj\n",
            "      598  2019-11-12 05:25   Data/shapefiles/osm_buildings.qpj\n",
            "  2302668  2019-11-12 09:29   Data/shapefiles/osm_buildings.shp\n",
            "   131908  2019-11-12 09:29   Data/shapefiles/osm_buildings.shx\n",
            "        5  2019-11-12 05:25   Data/shapefiles/river.cpg\n",
            "    13536  2019-11-12 05:25   Data/shapefiles/river.dbf\n",
            "      389  2019-11-12 05:25   Data/shapefiles/river.prj\n",
            "      598  2019-11-12 05:25   Data/shapefiles/river.qpj\n",
            "    14164  2019-11-12 05:25   Data/shapefiles/river.shp\n",
            "      116  2019-11-12 05:25   Data/shapefiles/river.shx\n",
            "---------                     -------\n",
            "110205071                     30 files\n"
          ]
        }
      ]
    },
    {
      "cell_type": "code",
      "metadata": {
        "colab": {
          "base_uri": "https://localhost:8080/"
        },
        "id": "JY1pRGpwAlXu",
        "outputId": "5778c7f2-6054-4803-b1af-575c8afc1313"
      },
      "source": [
        "# Extraer archivos del .zip y listarlos\n",
        "!unzip Data.zip "
      ],
      "execution_count": null,
      "outputs": [
        {
          "output_type": "stream",
          "name": "stdout",
          "text": [
            "Archive:  Data.zip\n",
            "   creating: Data/\n",
            "   creating: Data/20191002/\n",
            "  inflating: Data/20191002/B02-20191002.tif  \n",
            "  inflating: Data/20191002/B03-20191002.tif  \n",
            "  inflating: Data/20191002/B04-20191002.tif  \n",
            "  inflating: Data/20191002/B08-20191002.tif  \n",
            "   creating: Data/20191101/\n",
            "  inflating: Data/20191101/B02-20191101.tif  \n",
            "  inflating: Data/20191101/B03-20191101.tif  \n",
            "  inflating: Data/20191101/B04-20191101.tif  \n",
            "  inflating: Data/20191101/B08-20191101.tif  \n",
            "   creating: Data/shapefiles/\n",
            " extracting: Data/shapefiles/boundary.cpg  \n",
            "  inflating: Data/shapefiles/boundary.dbf  \n",
            "  inflating: Data/shapefiles/boundary.prj  \n",
            "  inflating: Data/shapefiles/boundary.qpj  \n",
            "  inflating: Data/shapefiles/boundary.shp  \n",
            "  inflating: Data/shapefiles/boundary.shx  \n",
            " extracting: Data/shapefiles/osm_buildings.cpg  \n",
            "  inflating: Data/shapefiles/osm_buildings.dbf  \n",
            "  inflating: Data/shapefiles/osm_buildings.prj  \n",
            "  inflating: Data/shapefiles/osm_buildings.qpj  \n",
            "  inflating: Data/shapefiles/osm_buildings.shp  \n",
            "  inflating: Data/shapefiles/osm_buildings.shx  \n",
            " extracting: Data/shapefiles/river.cpg  \n",
            "  inflating: Data/shapefiles/river.dbf  \n",
            "  inflating: Data/shapefiles/river.prj  \n",
            "  inflating: Data/shapefiles/river.qpj  \n",
            "  inflating: Data/shapefiles/river.shp  \n",
            "  inflating: Data/shapefiles/river.shx  \n"
          ]
        }
      ]
    },
    {
      "cell_type": "markdown",
      "metadata": {
        "id": "6prLhKfXwVFN"
      },
      "source": [
        "### Extracción de datos de un archivo `.tar.gz` con `!tar`"
      ]
    },
    {
      "cell_type": "markdown",
      "metadata": {
        "id": "HonMP6bNweTl"
      },
      "source": [
        "Referencia: https://linuxize.com/post/how-to-extract-unzip-tar-gz-file/"
      ]
    },
    {
      "cell_type": "code",
      "metadata": {
        "id": "i1rlQFZWwh0l"
      },
      "source": [
        "# Ayuda\n",
        "!tar --help"
      ],
      "execution_count": null,
      "outputs": []
    },
    {
      "cell_type": "markdown",
      "metadata": {
        "id": "bcdnKZFBDn9-"
      },
      "source": [
        "Extrayendo las bandas de una imagen satelital en formato `.tar.gz`."
      ]
    },
    {
      "cell_type": "code",
      "metadata": {
        "colab": {
          "base_uri": "https://localhost:8080/"
        },
        "id": "JS4dbDTGwOEV",
        "outputId": "90f36762-7d21-4301-bdde-50568395a578"
      },
      "source": [
        "# List all files in archive.tar\n",
        "!tar -tf drive/MyDrive/LC08_L1TP_002069_20190817_20190902_01_T1.tar.gz "
      ],
      "execution_count": null,
      "outputs": [
        {
          "output_type": "stream",
          "name": "stdout",
          "text": [
            "LC08_L1TP_002069_20190817_20190902_01_T1_B1.TIF\n",
            "LC08_L1TP_002069_20190817_20190902_01_T1_B2.TIF\n",
            "LC08_L1TP_002069_20190817_20190902_01_T1_B3.TIF\n",
            "LC08_L1TP_002069_20190817_20190902_01_T1_B4.TIF\n",
            "LC08_L1TP_002069_20190817_20190902_01_T1_B5.TIF\n",
            "LC08_L1TP_002069_20190817_20190902_01_T1_B6.TIF\n",
            "LC08_L1TP_002069_20190817_20190902_01_T1_B7.TIF\n",
            "LC08_L1TP_002069_20190817_20190902_01_T1_B8.TIF\n",
            "LC08_L1TP_002069_20190817_20190902_01_T1_B9.TIF\n",
            "LC08_L1TP_002069_20190817_20190902_01_T1_B10.TIF\n",
            "LC08_L1TP_002069_20190817_20190902_01_T1_B11.TIF\n",
            "LC08_L1TP_002069_20190817_20190902_01_T1_BQA.TIF\n",
            "LC08_L1TP_002069_20190817_20190902_01_T1_ANG.txt\n",
            "LC08_L1TP_002069_20190817_20190902_01_T1_MTL.txt\n"
          ]
        }
      ]
    },
    {
      "cell_type": "markdown",
      "metadata": {
        "id": "5ebhjly1Dzqt"
      },
      "source": [
        "Extrayendo el contenido de un archivos `.tar.gz` en una carpeta específica"
      ]
    },
    {
      "cell_type": "code",
      "metadata": {
        "id": "H3aE1qkqwgou"
      },
      "source": [
        "# Extract all files from archive.tar in a specific directory\n",
        "%mkdir Landsat8\n",
        "!tar -xf drive/MyDrive/LC08_L1TP_002069_20190817_20190902_01_T1.tar.gz -C Landsat8"
      ],
      "execution_count": null,
      "outputs": []
    },
    {
      "cell_type": "markdown",
      "metadata": {
        "id": "DXPfeF-9lm2i"
      },
      "source": [
        "## HTML en Colab"
      ]
    },
    {
      "cell_type": "markdown",
      "metadata": {
        "id": "pxUxv3rJlzLG"
      },
      "source": [
        "<center>\n",
        "\n",
        "<p>Logo de Colab <a href=\"https://colab.research.google.com/github/googlecolab/colabtools/blob/master/notebooks/colab-github-demo.ipynb#scrollTo=Rmai0dD30XzL\">y cómo conectarlo con tu libreta</a></p>\n",
        "\n",
        "<a href=\"#\">\n",
        "<img align=\"center\" src=\"https://colab.research.google.com/assets/colab-badge.svg\" alt=\"Open in Colab\" title=\"Open and Execute in Google Colaboratory\">\n",
        "</a>\n",
        "\n",
        "<p>Imagenes</p>\n",
        "<img src= 'https://miro.medium.com/max/591/1*zIOSesO10Jjpf506kdVV5g.png' width=30%/>\n",
        "\n",
        "```\n",
        "<img src= 'https://miro.medium.com/max/591/1*zIOSesO10Jjpf506kdVV5g.png' width=30%/>\n",
        "```\n",
        "\n",
        "<p>GIFs</p>\n",
        "<img src= 'https://media1.tenor.com/images/48e1afc1fbdc8fa9ed3a8ab5ebb04b91/tenor.gif' width=30%/>\n",
        "\n",
        "```\n",
        "<img src= 'https://media1.tenor.com/images/48e1afc1fbdc8fa9ed3a8ab5ebb04b91/tenor.gif' width=30%/>\n",
        "```\n",
        "<img align=\"left\" style=\"padding-right:10px;\" src=\"https://media1.tenor.com/images/48e1afc1fbdc8fa9ed3a8ab5ebb04b91/tenor.gif\" width=10%>\n",
        "\n",
        "Se puede escribir a la derecha de una imagen\n",
        "\n",
        "</center>\n",
        "\n"
      ]
    },
    {
      "cell_type": "code",
      "metadata": {
        "colab": {
          "base_uri": "https://localhost:8080/",
          "height": 37
        },
        "id": "hPb5tK3t6Ok8",
        "cellView": "form",
        "outputId": "7aa043cb-f381-4303-caf7-a85909679e55"
      },
      "source": [
        "#@markdown Banner con html\n",
        "%%html\n",
        "<marquee style='width: 30%; color: blue;'><b>¡Mira como me desplazo! </b></marquee>"
      ],
      "execution_count": null,
      "outputs": [
        {
          "output_type": "display_data",
          "data": {
            "text/html": [
              "<marquee style='width: 30%; color: blue;'><b>¡Mira como me desplazo! </b></marquee>"
            ],
            "text/plain": [
              "<IPython.core.display.HTML object>"
            ]
          },
          "metadata": {
            "tags": []
          }
        }
      ]
    },
    {
      "cell_type": "markdown",
      "metadata": {
        "id": "RIvwpiT_hOU9"
      },
      "source": [
        "## Más referencias"
      ]
    },
    {
      "cell_type": "markdown",
      "metadata": {
        "id": "exfHY7-ihSWF"
      },
      "source": [
        "Colab: \n",
        "- Cheatsheet de Colab por Tanu N Prabhu - [GitHub](https://github.com/Tanu-N-Prabhu/Python/blob/master/Cheat_sheet_for_Google_Colab.ipynb)\n",
        "- A Complete guide to Google Colab for Deep Learning - [kdnuggets](https://www.kdnuggets.com/2020/06/google-colab-deep-learning.html)\n",
        "- Importing Data to Google Colab — the CLEAN Way | by Joos Korstanje - [Towards Data Science](https://towardsdatascience.com/importing-data-to-google-colab-the-clean-way-5ceef9e9e3c8)\n",
        "- Deep Learning Development with Google Colab, TensorFlow, Keras & PyTorch - [kdnuggets](https://www.kdnuggets.com/2018/02/google-colab-free-gpu-tutorial-tensorflow-keras-pytorch.html)\n"
      ]
    }
  ]
}