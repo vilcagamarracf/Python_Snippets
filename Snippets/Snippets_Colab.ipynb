{
  "nbformat": 4,
  "nbformat_minor": 0,
  "metadata": {
    "colab": {
      "name": "Snippets_Colab.ipynb",
      "provenance": [],
      "collapsed_sections": [
        "cKS17l0toJ6e"
      ],
      "toc_visible": true,
      "authorship_tag": "ABX9TyOZM5VTgQ816T7f0Lu00QIj",
      "include_colab_link": true
    },
    "kernelspec": {
      "name": "python3",
      "display_name": "Python 3"
    }
  },
  "cells": [
    {
      "cell_type": "markdown",
      "metadata": {
        "id": "view-in-github",
        "colab_type": "text"
      },
      "source": [
        "<a href=\"https://colab.research.google.com/github/vilcagamarracf/Python_Snippets/blob/main/Snippets/Snippets_Colab.ipynb\" target=\"_parent\"><img src=\"https://colab.research.google.com/assets/colab-badge.svg\" alt=\"Open In Colab\"/></a>"
      ]
    },
    {
      "cell_type": "markdown",
      "metadata": {
        "id": "gQivB8jgghX-"
      },
      "source": [
        "<center>\n",
        "<h1>Explorando Colaboratory</h1>\n",
        "<img alt=\"Colaboratory logo\" height=\"100px\" src=\"/img/colab_favicon.ico\" hspace=\"10px\" vspace=\"0px\">\n",
        "<h2> Colab Snippets </h2>\n",
        "</center>"
      ]
    },
    {
      "cell_type": "markdown",
      "metadata": {
        "id": "VP_VceQRxgkG"
      },
      "source": [
        "### Referencias"
      ]
    },
    {
      "cell_type": "markdown",
      "metadata": {
        "id": "eSczK7DBgksZ"
      },
      "source": [
        "Conjunto de libretas de Colab útiles:\n",
        "\n",
        "-  Colab:\n",
        "  - [Welcome To Colaboratory!](https://colab.research.google.com/notebooks/intro.ipynb)\n",
        "  - [Overview of Colaboratory Features](https://colab.research.google.com/notebooks/basic_features_overview.ipynb)\n",
        "  - [Importing a library that is not in Colaboratory](https://colab.research.google.com/notebooks/snippets/importing_libraries.ipynb)\n",
        "\n",
        "-  Markdown:\n",
        "  - [A guide to Colaboratory markdown](https://colab.research.google.com/notebooks/markdown_guide.ipynb)\n",
        "  - [Markdown Cells](https://colab.research.google.com/github/gitedio/examples/blob/master/Working%20With%20Markdown%20Cells.ipynb)\n",
        "  - [Markdown](https://colab.research.google.com/drive/1BQnMegza6X8nG-O6hBR4t-KDKBrBKl8D#scrollTo=zQ21l9WTU2Yn)\n",
        "  - [LaTex mathematics for equations](https://en.wikibooks.org/wiki/LaTeX/Mathematics)\n",
        "  - <img src=\"/img/new.png\" height=\"20px\" align=\"left\" hspace=\"4px\" alt=\"New\"></img>[Mathematical Python](https://www.math.ubc.ca/~pwalls/math-python/jupyter/latex/) \n",
        "  \n",
        "-  Otros:\n",
        "  - [Using Colab with Github](https://colab.research.google.com/github/googlecolab/colabtools/blob/master/notebooks/colab-github-demo.ipynb#scrollTo=8QAWNjizy_3O)\n",
        "  - [Colab Widgets](https://colab.research.google.com/notebooks/widgets.ipynb)\n",
        "  - [Interactive Widgets](https://colab.research.google.com/github/jupyter-widgets/ipywidgets/blob/master/docs/source/examples/Index.ipynb#scrollTo=RhOwwKSDHmSL) Buenazo!\n",
        "  - [Forms](https://colab.research.google.com/notebooks/forms.ipynb)\n",
        "  - [Charts](https://colab.research.google.com/notebooks/charts.ipynb#scrollTo=QSMmdrrVLZ-N): Matplotlib, Plot styles, 3D Graphs, Seaborn, Altair, Plotly and Bokeh examples.\n",
        "  - <img src=\"/img/new.png\" height=\"20px\" align=\"left\" hspace=\"4px\" alt=\"New\"></img> Mira este logo"
      ]
    },
    {
      "cell_type": "markdown",
      "metadata": {
        "id": "5MI373f9GaRd"
      },
      "source": [
        "# Python y IPython \n",
        "\n",
        "**Python** is a general-purpose programming language. It was created in the late 1980s by Guido van Rossum. It is now one of the most popular languages in the world. It is routinely used by system administrators and web developers. Also, many scientists are using Python thanks to libraries such as NumPy, SciPy, pandas, and matplotlib. The ease of use of Python and its dynamic nature make it a very productive language.\n",
        "\n",
        "**IPython** is an interactive command-line terminal for Python. It was created by [Fernando Perez](https://www.youtube.com/watch?v=g8xQRI3E8r8) in 2001. IPython offers an enhanced read-eval-print loop (REPL) environment particularly well adapted to scientific computing.\n",
        "\n",
        "More info:\n",
        "- [IPython: Python vs IPython](https://ipython.readthedocs.io/en/stable/interactive/python-ipython-diff.html)\n",
        "- [Plotly: IPython vs Python in Python](https://plotly.com/python/ipython-vs-python/)"
      ]
    },
    {
      "cell_type": "markdown",
      "metadata": {
        "id": "GtYJRbh-FSY7"
      },
      "source": [
        "### Instalando librerías en Colab"
      ]
    },
    {
      "cell_type": "markdown",
      "metadata": {
        "id": "535Zbs4LaR_I"
      },
      "source": [
        "Colab supports both the `pip` and `apt` package managers. Regardless of which you are using, remember to prepend any bash commands with a `!`.\n",
        "\n",
        "More Info: [Kdnuggets - Essential google colaboratory tips tricks](https://www.kdnuggets.com/2018/02/essential-google-colaboratory-tips-tricks.html)"
      ]
    },
    {
      "cell_type": "code",
      "metadata": {
        "id": "8sxvGfgDxqrE"
      },
      "source": [
        "# Install Keras with pip\n",
        "!pip install -q keras\n",
        "import keras\n",
        "\n",
        "# Install GraphViz with apt\n",
        "!apt-get install graphviz -y"
      ],
      "execution_count": null,
      "outputs": []
    },
    {
      "cell_type": "code",
      "metadata": {
        "id": "yLdhwqLljDyk",
        "colab": {
          "base_uri": "https://localhost:8080/",
          "height": 35
        },
        "outputId": "c3e7d49d-f2e1-4f40-9289-a1aea91c76e0"
      },
      "source": [
        "# Versión de Python en el computador virtual\n",
        "import sys\n",
        "sys.version"
      ],
      "execution_count": null,
      "outputs": [
        {
          "output_type": "execute_result",
          "data": {
            "application/vnd.google.colaboratory.intrinsic+json": {
              "type": "string"
            },
            "text/plain": [
              "'3.7.12 (default, Sep 10 2021, 00:21:48) \\n[GCC 7.5.0]'"
            ]
          },
          "metadata": {},
          "execution_count": 3
        }
      ]
    },
    {
      "cell_type": "code",
      "metadata": {
        "id": "vUC-giU332oP",
        "cellView": "form"
      },
      "source": [
        "# @markdown Ver upgrade de packages: [foro](https://stackoverflow.com/questions/5183672/how-do-i-update-a-python-package)\n",
        "!pip list --outdated\n",
        "\n",
        "# https://medium.com/python-in-plain-english/understand-python-import-module-and-package-c5b4289bbf60"
      ],
      "execution_count": null,
      "outputs": []
    },
    {
      "cell_type": "markdown",
      "metadata": {
        "id": "0Cea0ZMRpsTl"
      },
      "source": [
        "https://www.youtube.com/watch?v=fmtB2PzqXVY&list=PLAxJ4-o7ZoPeUqGpMhvJoVk5G-TrvMAd-&index=7"
      ]
    },
    {
      "cell_type": "markdown",
      "metadata": {
        "id": "cKS17l0toJ6e"
      },
      "source": [
        "## System shell commands: `!`\n",
        "\n"
      ]
    },
    {
      "cell_type": "markdown",
      "metadata": {
        "id": "aAKo1mCgHLYC"
      },
      "source": [
        "When doing interactive computing it is common to need to access the underlying shell. This is doable through the use of the exclamation mark `!` (or bang).\n",
        "\n",
        "The line after the bang `!` can call any program installed in the underlying shell, and support variable expansion in the form of `$variable` or `{variable}`.\n",
        "\n",
        "More info: [Shell Assignment](https://ipython.readthedocs.io/en/stable/interactive/python-ipython-diff.html#shell-assignment)"
      ]
    },
    {
      "cell_type": "code",
      "metadata": {
        "colab": {
          "base_uri": "https://localhost:8080/"
        },
        "id": "bg9hPA4OHSq8",
        "outputId": "1279f169-6346-4674-c8c0-16704cdebd7e"
      },
      "source": [
        "!pwd"
      ],
      "execution_count": null,
      "outputs": [
        {
          "output_type": "stream",
          "name": "stdout",
          "text": [
            "/content\n"
          ]
        }
      ]
    },
    {
      "cell_type": "markdown",
      "metadata": {
        "id": "ynTaujS3zjFD"
      },
      "source": [
        "Jupyter includes shortcuts for common operations, such as `ls`:"
      ]
    },
    {
      "cell_type": "code",
      "metadata": {
        "colab": {
          "base_uri": "https://localhost:8080/"
        },
        "id": "uIkm3yWGzjxD",
        "outputId": "12f97575-5e0b-4591-a086-f293d725555d"
      },
      "source": [
        "!ls /bin"
      ],
      "execution_count": null,
      "outputs": [
        {
          "output_type": "stream",
          "name": "stdout",
          "text": [
            "bash\t       hostname       su\n",
            "bunzip2        journalctl     sync\n",
            "bzcat\t       kill\t      systemctl\n",
            "bzcmp\t       kmod\t      systemd\n",
            "bzdiff\t       less\t      systemd-ask-password\n",
            "bzegrep        lessecho       systemd-escape\n",
            "bzexe\t       lessfile       systemd-hwdb\n",
            "bzfgrep        lesskey\t      systemd-inhibit\n",
            "bzgrep\t       lesspipe       systemd-machine-id-setup\n",
            "bzip2\t       ln\t      systemd-notify\n",
            "bzip2recover   login\t      systemd-sysusers\n",
            "bzless\t       loginctl       systemd-tmpfiles\n",
            "bzmore\t       ls\t      systemd-tty-ask-password-agent\n",
            "cat\t       lsblk\t      tar\n",
            "chgrp\t       lsmod\t      tempfile\n",
            "chmod\t       mkdir\t      touch\n",
            "chown\t       mknod\t      true\n",
            "cp\t       mktemp\t      udevadm\n",
            "dash\t       more\t      ulockmgr_server\n",
            "date\t       mount\t      umount\n",
            "dd\t       mountpoint     uname\n",
            "df\t       mv\t      uncompress\n",
            "dir\t       networkctl     vdir\n",
            "dmesg\t       nisdomainname  wdctl\n",
            "dnsdomainname  pidof\t      which\n",
            "domainname     ps\t      ypdomainname\n",
            "echo\t       pwd\t      zcat\n",
            "egrep\t       rbash\t      zcmp\n",
            "false\t       readlink       zdiff\n",
            "fgrep\t       rm\t      zegrep\n",
            "findmnt        rmdir\t      zfgrep\n",
            "fuser\t       run-parts      zforce\n",
            "fusermount     sed\t      zgrep\n",
            "grep\t       sh\t      zless\n",
            "gunzip\t       sh.distrib     zmore\n",
            "gzexe\t       sleep\t      znew\n",
            "gzip\t       stty\n"
          ]
        }
      ]
    },
    {
      "cell_type": "markdown",
      "metadata": {
        "id": "B2rsjNiiDWde"
      },
      "source": [
        "Para conversar con la PC (SO: Linux) usamos siempre el signo de admiración !\n",
        "```\n",
        "- pwd    : (present working directory) ver nuestra ubicación\n",
        "- ls     : (list storage) hacer un listado de nuestros archivos\n",
        "- ls -R  : Búsqueda recursiva \n",
        "- cd     : cambiar la ruta: cd /content/sample_data/   , comprobar el cambio con pwd \n",
        "- cp     : nos permite copiar documentos \n",
        "```"
      ]
    },
    {
      "cell_type": "code",
      "metadata": {
        "colab": {
          "base_uri": "https://localhost:8080/"
        },
        "id": "TitvnpGgkw0M",
        "outputId": "2cd1fd8c-1b0b-4caa-bed5-9b2638aef1c3"
      },
      "source": [
        "# System aliases\n",
        "# Jupyter includes shortcuts for common operations, such as ls:\n",
        "\n",
        "!ls /bin"
      ],
      "execution_count": null,
      "outputs": [
        {
          "output_type": "stream",
          "text": [
            "bash\t       hostname       su\n",
            "bunzip2        journalctl     sync\n",
            "bzcat\t       kill\t      systemctl\n",
            "bzcmp\t       kmod\t      systemd\n",
            "bzdiff\t       less\t      systemd-ask-password\n",
            "bzegrep        lessecho       systemd-escape\n",
            "bzexe\t       lessfile       systemd-hwdb\n",
            "bzfgrep        lesskey\t      systemd-inhibit\n",
            "bzgrep\t       lesspipe       systemd-machine-id-setup\n",
            "bzip2\t       ln\t      systemd-notify\n",
            "bzip2recover   login\t      systemd-sysusers\n",
            "bzless\t       loginctl       systemd-tmpfiles\n",
            "bzmore\t       ls\t      systemd-tty-ask-password-agent\n",
            "cat\t       lsblk\t      tar\n",
            "chgrp\t       lsmod\t      tempfile\n",
            "chmod\t       mkdir\t      touch\n",
            "chown\t       mknod\t      true\n",
            "cp\t       mktemp\t      udevadm\n",
            "dash\t       more\t      ulockmgr_server\n",
            "date\t       mount\t      umount\n",
            "dd\t       mountpoint     uname\n",
            "df\t       mv\t      uncompress\n",
            "dir\t       networkctl     vdir\n",
            "dmesg\t       nisdomainname  wdctl\n",
            "dnsdomainname  pidof\t      which\n",
            "domainname     ps\t      ypdomainname\n",
            "echo\t       pwd\t      zcat\n",
            "egrep\t       rbash\t      zcmp\n",
            "false\t       readlink       zdiff\n",
            "fgrep\t       rm\t      zegrep\n",
            "findmnt        rmdir\t      zfgrep\n",
            "fuser\t       run-parts      zforce\n",
            "fusermount     sed\t      zgrep\n",
            "grep\t       sh\t      zless\n",
            "gunzip\t       sh.distrib     zmore\n",
            "gzexe\t       sleep\t      znew\n",
            "gzip\t       stty\n"
          ],
          "name": "stdout"
        }
      ]
    },
    {
      "cell_type": "code",
      "metadata": {
        "id": "7wR5Pj_Dh_nV"
      },
      "source": [
        "# ¿Que paquetes de Python están instalados?\n",
        "!pip3 freeze"
      ],
      "execution_count": null,
      "outputs": []
    },
    {
      "cell_type": "code",
      "metadata": {
        "id": "44qt2oKW2g87",
        "colab": {
          "base_uri": "https://localhost:8080/"
        },
        "outputId": "f49ecb0e-fa5b-4cc0-80c2-fd2128120b11"
      },
      "source": [
        "# ver ubicacion\n",
        "!pwd # Presetn working directory\n",
        "\n",
        "# listar contenido\n",
        "!ls # list storage \n",
        "\n",
        "# Cambiar ruta\n",
        "!cd /content/\n",
        "\n",
        "# Ver el inicio del archivo\n",
        "!head sample_data/california_housing_test.csv\n",
        "\n",
        "# Copiar un archivo\n",
        "!cp sample_data/california_housing_test.csv My\\ Drive/california_housing_test.csv"
      ],
      "execution_count": null,
      "outputs": [
        {
          "output_type": "stream",
          "text": [
            "/content\n"
          ],
          "name": "stdout"
        }
      ]
    },
    {
      "cell_type": "code",
      "metadata": {
        "id": "XD4QeHBtmwm-",
        "colab": {
          "base_uri": "https://localhost:8080/"
        },
        "outputId": "1388e009-10c2-4750-9681-655a0820ed5f"
      },
      "source": [
        "!cat /etc/*release  # Ver que PC nos está dando Colab"
      ],
      "execution_count": null,
      "outputs": [
        {
          "output_type": "stream",
          "text": [
            "DISTRIB_ID=Ubuntu\n",
            "DISTRIB_RELEASE=18.04\n",
            "DISTRIB_CODENAME=bionic\n",
            "DISTRIB_DESCRIPTION=\"Ubuntu 18.04.5 LTS\"\n",
            "NAME=\"Ubuntu\"\n",
            "VERSION=\"18.04.5 LTS (Bionic Beaver)\"\n",
            "ID=ubuntu\n",
            "ID_LIKE=debian\n",
            "PRETTY_NAME=\"Ubuntu 18.04.5 LTS\"\n",
            "VERSION_ID=\"18.04\"\n",
            "HOME_URL=\"https://www.ubuntu.com/\"\n",
            "SUPPORT_URL=\"https://help.ubuntu.com/\"\n",
            "BUG_REPORT_URL=\"https://bugs.launchpad.net/ubuntu/\"\n",
            "PRIVACY_POLICY_URL=\"https://www.ubuntu.com/legal/terms-and-policies/privacy-policy\"\n",
            "VERSION_CODENAME=bionic\n",
            "UBUNTU_CODENAME=bionic\n"
          ],
          "name": "stdout"
        }
      ]
    },
    {
      "cell_type": "code",
      "metadata": {
        "id": "ZfjSM9G3m3QP",
        "colab": {
          "base_uri": "https://localhost:8080/"
        },
        "outputId": "e6309950-d51b-4744-9377-6702a8c8377b"
      },
      "source": [
        "!lscpu # Número de Cpu's de la pc"
      ],
      "execution_count": null,
      "outputs": [
        {
          "output_type": "stream",
          "text": [
            "Architecture:        x86_64\n",
            "CPU op-mode(s):      32-bit, 64-bit\n",
            "Byte Order:          Little Endian\n",
            "CPU(s):              2\n",
            "On-line CPU(s) list: 0,1\n",
            "Thread(s) per core:  2\n",
            "Core(s) per socket:  1\n",
            "Socket(s):           1\n",
            "NUMA node(s):        1\n",
            "Vendor ID:           GenuineIntel\n",
            "CPU family:          6\n",
            "Model:               63\n",
            "Model name:          Intel(R) Xeon(R) CPU @ 2.30GHz\n",
            "Stepping:            0\n",
            "CPU MHz:             2299.998\n",
            "BogoMIPS:            4599.99\n",
            "Hypervisor vendor:   KVM\n",
            "Virtualization type: full\n",
            "L1d cache:           32K\n",
            "L1i cache:           32K\n",
            "L2 cache:            256K\n",
            "L3 cache:            46080K\n",
            "NUMA node0 CPU(s):   0,1\n",
            "Flags:               fpu vme de pse tsc msr pae mce cx8 apic sep mtrr pge mca cmov pat pse36 clflush mmx fxsr sse sse2 ss ht syscall nx pdpe1gb rdtscp lm constant_tsc rep_good nopl xtopology nonstop_tsc cpuid tsc_known_freq pni pclmulqdq ssse3 fma cx16 pcid sse4_1 sse4_2 x2apic movbe popcnt aes xsave avx f16c rdrand hypervisor lahf_lm abm invpcid_single ssbd ibrs ibpb stibp fsgsbase tsc_adjust bmi1 avx2 smep bmi2 erms invpcid xsaveopt arat md_clear arch_capabilities\n"
          ],
          "name": "stdout"
        }
      ]
    },
    {
      "cell_type": "code",
      "metadata": {
        "id": "7EvbBl1rnK4F",
        "colab": {
          "base_uri": "https://localhost:8080/"
        },
        "outputId": "7617206a-8e47-4ebc-90ce-89bdc885d18a"
      },
      "source": [
        "!grep MemTotal /proc/meminfo # Memoria Ram que cuenta la pc: 13 GB"
      ],
      "execution_count": null,
      "outputs": [
        {
          "output_type": "stream",
          "text": [
            "MemTotal:       13333580 kB\n"
          ],
          "name": "stdout"
        }
      ]
    },
    {
      "cell_type": "code",
      "metadata": {
        "colab": {
          "base_uri": "https://localhost:8080/"
        },
        "id": "AyV808Fa3McE",
        "outputId": "ed718706-fc15-49ef-87c2-07fce0ca2006"
      },
      "source": [
        "!pwd"
      ],
      "execution_count": null,
      "outputs": [
        {
          "output_type": "stream",
          "text": [
            "/content\n"
          ],
          "name": "stdout"
        }
      ]
    },
    {
      "cell_type": "code",
      "metadata": {
        "colab": {
          "base_uri": "https://localhost:8080/"
        },
        "id": "_Rhkt4wd3JGr",
        "outputId": "1a8fde23-d269-4f40-92cb-27dffd9e802e"
      },
      "source": [
        "!ls"
      ],
      "execution_count": null,
      "outputs": [
        {
          "output_type": "stream",
          "text": [
            "sample_data\n"
          ],
          "name": "stdout"
        }
      ]
    },
    {
      "cell_type": "code",
      "metadata": {
        "id": "FJqtXi3Q3iXz"
      },
      "source": [
        "!cd ~"
      ],
      "execution_count": null,
      "outputs": []
    },
    {
      "cell_type": "markdown",
      "metadata": {
        "id": "MNK1NeyElqwq"
      },
      "source": [
        "## Magic commands in Colab: `%magic`"
      ]
    },
    {
      "cell_type": "markdown",
      "metadata": {
        "id": "TF9hVCEiH9WT"
      },
      "source": [
        "Magics function are often present in the form of shell-like syntax, but are under the hood python function. The syntax and assignment possibility are similar to the one with the bang (`!`) syntax, but with more flexibility and power. Magic function start with a percent sign `(%`) or double percent (`%%`)."
      ]
    },
    {
      "cell_type": "markdown",
      "metadata": {
        "id": "HB-dbBn2hn0T"
      },
      "source": [
        "Para iniciar usaremos:"
      ]
    },
    {
      "cell_type": "code",
      "metadata": {
        "id": "nL4lkrIvQ34J"
      },
      "source": [
        "# Comandos magic: IPython's 'magic' functions\n",
        "%magic"
      ],
      "execution_count": null,
      "outputs": []
    },
    {
      "cell_type": "markdown",
      "metadata": {
        "id": "_D6wdFx_mE2j"
      },
      "source": [
        "Mostrará la siguiente información:\n",
        "\n",
        "The magic function system provides a series of functions which allow you to control the behavior of IPython itself, plus a lot of system-type features. \n",
        "\n",
        "There are two kinds of magics, line-oriented and cell-oriented.\n",
        "\n",
        "- Line magics are prefixed with the % character and work much like OS\n",
        "command-line calls: they get as an argument the rest of the line, where\n",
        "arguments are passed without parentheses or quotes.  For example, this will\n",
        "time the given statement::\n",
        "\n",
        "        %timeit range(1000)\n",
        "\n",
        "- Cell magics are prefixed with a double %%, and they are functions that get as\n",
        "an argument not only the rest of the line, but also the lines below it in a\n",
        "separate argument.  These magics are called with two arguments: the rest of the\n",
        "call line and the body of the cell, consisting of the lines below the first.\n",
        "For example::\n",
        "\n",
        "        %%timeit x = numpy.random.randn((100, 100))\n",
        "        numpy.linalg.svd(x)\n"
      ]
    },
    {
      "cell_type": "markdown",
      "metadata": {
        "id": "B5NB_8lEazjk"
      },
      "source": [
        "Para más información revisar la documentación de [ipython - Built-in magic commands](https://ipython.readthedocs.io/en/stable/interactive/magics.html#)"
      ]
    },
    {
      "cell_type": "markdown",
      "metadata": {
        "id": "GHGa7hiOz4WE"
      },
      "source": [
        "Lista de comandos `%magic` al estilo cheat sheet"
      ]
    },
    {
      "cell_type": "code",
      "metadata": {
        "id": "vnikzE5ZV290"
      },
      "source": [
        "%quickref"
      ],
      "execution_count": null,
      "outputs": []
    },
    {
      "cell_type": "markdown",
      "metadata": {
        "id": "ai7dk-nm0IHy"
      },
      "source": [
        "Lista de comandos pero impresos abajo "
      ]
    },
    {
      "cell_type": "code",
      "metadata": {
        "colab": {
          "base_uri": "https://localhost:8080/",
          "height": 161
        },
        "id": "hLAJS4E3UxIU",
        "outputId": "53bf27d3-3106-4018-b26d-4ecbdd8a2606"
      },
      "source": [
        "%lsmagic"
      ],
      "execution_count": null,
      "outputs": [
        {
          "output_type": "execute_result",
          "data": {
            "application/json": {
              "cell": {
                "prun": "ExecutionMagics",
                "file": "Other",
                "!": "OSMagics",
                "capture": "ExecutionMagics",
                "timeit": "ExecutionMagics",
                "script": "ScriptMagics",
                "pypy": "Other",
                "system": "OSMagics",
                "perl": "Other",
                "html": "DisplayMagics",
                "bash": "Other",
                "shell": "Other",
                "HTML": "Other",
                "python": "Other",
                "SVG": "Other",
                "javascript": "DisplayMagics",
                "bigquery": "Other",
                "js": "DisplayMagics",
                "writefile": "OSMagics",
                "ruby": "Other",
                "python3": "Other",
                "python2": "Other",
                "latex": "DisplayMagics",
                "sx": "OSMagics",
                "svg": "DisplayMagics",
                "sh": "Other",
                "time": "ExecutionMagics",
                "debug": "ExecutionMagics"
              },
              "line": {
                "psource": "NamespaceMagics",
                "logstart": "LoggingMagics",
                "popd": "OSMagics",
                "tensorflow_version": "Other",
                "loadpy": "CodeMagics",
                "colors": "BasicMagics",
                "who_ls": "NamespaceMagics",
                "lf": "Other",
                "ll": "Other",
                "pprint": "BasicMagics",
                "lk": "Other",
                "ls": "Other",
                "save": "CodeMagics",
                "tb": "ExecutionMagics",
                "lx": "Other",
                "pylab": "PylabMagics",
                "killbgscripts": "ScriptMagics",
                "quickref": "BasicMagics",
                "magic": "BasicMagics",
                "dhist": "OSMagics",
                "edit": "KernelMagics",
                "logstop": "LoggingMagics",
                "gui": "BasicMagics",
                "prun": "ExecutionMagics",
                "debug": "ExecutionMagics",
                "page": "BasicMagics",
                "logstate": "LoggingMagics",
                "ed": "Other",
                "pushd": "OSMagics",
                "timeit": "ExecutionMagics",
                "set_env": "OSMagics",
                "rehashx": "OSMagics",
                "hist": "Other",
                "qtconsole": "KernelMagics",
                "rm": "Other",
                "dirs": "OSMagics",
                "run": "ExecutionMagics",
                "reset_selective": "NamespaceMagics",
                "pinfo2": "NamespaceMagics",
                "matplotlib": "PylabMagics",
                "unload_ext": "ExtensionMagics",
                "doctest_mode": "BasicMagics",
                "logoff": "LoggingMagics",
                "reload_ext": "ExtensionMagics",
                "pdb": "ExecutionMagics",
                "load": "CodeMagics",
                "lsmagic": "BasicMagics",
                "autosave": "KernelMagics",
                "cd": "OSMagics",
                "pastebin": "CodeMagics",
                "alias_magic": "BasicMagics",
                "cp": "Other",
                "autocall": "AutoMagics",
                "ldir": "Other",
                "bookmark": "OSMagics",
                "connect_info": "KernelMagics",
                "mkdir": "Other",
                "system": "OSMagics",
                "whos": "NamespaceMagics",
                "rmdir": "Other",
                "automagic": "AutoMagics",
                "store": "StoreMagics",
                "more": "KernelMagics",
                "shell": "Other",
                "pdef": "NamespaceMagics",
                "precision": "BasicMagics",
                "pinfo": "NamespaceMagics",
                "pwd": "OSMagics",
                "psearch": "NamespaceMagics",
                "reset": "NamespaceMagics",
                "recall": "HistoryMagics",
                "xdel": "NamespaceMagics",
                "xmode": "BasicMagics",
                "cat": "Other",
                "mv": "Other",
                "rerun": "HistoryMagics",
                "logon": "LoggingMagics",
                "history": "HistoryMagics",
                "pycat": "OSMagics",
                "pip": "Other",
                "unalias": "OSMagics",
                "env": "OSMagics",
                "load_ext": "ExtensionMagics",
                "config": "ConfigMagics",
                "profile": "BasicMagics",
                "pfile": "NamespaceMagics",
                "less": "KernelMagics",
                "who": "NamespaceMagics",
                "notebook": "BasicMagics",
                "man": "KernelMagics",
                "sx": "OSMagics",
                "macro": "ExecutionMagics",
                "clear": "KernelMagics",
                "alias": "OSMagics",
                "time": "ExecutionMagics",
                "sc": "OSMagics",
                "rep": "Other",
                "pdoc": "NamespaceMagics"
              }
            },
            "text/plain": [
              "Available line magics:\n",
              "%alias  %alias_magic  %autocall  %automagic  %autosave  %bookmark  %cat  %cd  %clear  %colors  %config  %connect_info  %cp  %debug  %dhist  %dirs  %doctest_mode  %ed  %edit  %env  %gui  %hist  %history  %killbgscripts  %ldir  %less  %lf  %lk  %ll  %load  %load_ext  %loadpy  %logoff  %logon  %logstart  %logstate  %logstop  %ls  %lsmagic  %lx  %macro  %magic  %man  %matplotlib  %mkdir  %more  %mv  %notebook  %page  %pastebin  %pdb  %pdef  %pdoc  %pfile  %pinfo  %pinfo2  %pip  %popd  %pprint  %precision  %profile  %prun  %psearch  %psource  %pushd  %pwd  %pycat  %pylab  %qtconsole  %quickref  %recall  %rehashx  %reload_ext  %rep  %rerun  %reset  %reset_selective  %rm  %rmdir  %run  %save  %sc  %set_env  %shell  %store  %sx  %system  %tb  %tensorflow_version  %time  %timeit  %unalias  %unload_ext  %who  %who_ls  %whos  %xdel  %xmode\n",
              "\n",
              "Available cell magics:\n",
              "%%!  %%HTML  %%SVG  %%bash  %%bigquery  %%capture  %%debug  %%file  %%html  %%javascript  %%js  %%latex  %%perl  %%prun  %%pypy  %%python  %%python2  %%python3  %%ruby  %%script  %%sh  %%shell  %%svg  %%sx  %%system  %%time  %%timeit  %%writefile\n",
              "\n",
              "Automagic is ON, % prefix IS NOT needed for line magics."
            ]
          },
          "metadata": {},
          "execution_count": 13
        }
      ]
    },
    {
      "cell_type": "markdown",
      "metadata": {
        "id": "p30poAQjalLo"
      },
      "source": [
        "### Line magics"
      ]
    },
    {
      "cell_type": "markdown",
      "metadata": {
        "id": "mfiKW8ONb20L"
      },
      "source": [
        "**Obtener el directorio de trabajo**"
      ]
    },
    {
      "cell_type": "code",
      "metadata": {
        "colab": {
          "base_uri": "https://localhost:8080/",
          "height": 35
        },
        "id": "7vVB-QXEbJg2",
        "outputId": "98c7e27f-1669-4f3a-b5f1-aa7551ebec1a"
      },
      "source": [
        "%pwd"
      ],
      "execution_count": null,
      "outputs": [
        {
          "output_type": "execute_result",
          "data": {
            "application/vnd.google.colaboratory.intrinsic+json": {
              "type": "string"
            },
            "text/plain": [
              "'/content/cloned-repo'"
            ]
          },
          "metadata": {},
          "execution_count": 33
        }
      ]
    },
    {
      "cell_type": "markdown",
      "metadata": {
        "id": "_QiJ2_nq0Set"
      },
      "source": [
        "El comando `%cd` o change directory usado para **cambiar de directorio de trabajo**. Preferible a usar `os.chdir()` ya que es más rápido. "
      ]
    },
    {
      "cell_type": "code",
      "metadata": {
        "colab": {
          "base_uri": "https://localhost:8080/"
        },
        "id": "asoXuBBRVRYk",
        "outputId": "fc3462e3-8efd-4325-fa89-d953533c05b2"
      },
      "source": [
        "%cd /content"
      ],
      "execution_count": null,
      "outputs": [
        {
          "output_type": "stream",
          "name": "stdout",
          "text": [
            "/content\n"
          ]
        }
      ]
    },
    {
      "cell_type": "code",
      "metadata": {
        "colab": {
          "base_uri": "https://localhost:8080/"
        },
        "id": "9FNFIQ4SWKH2",
        "outputId": "0a6803fc-c255-400f-8807-3db005a8868a"
      },
      "source": [
        "%cd /content/cloned-repo/"
      ],
      "execution_count": null,
      "outputs": [
        {
          "output_type": "stream",
          "name": "stdout",
          "text": [
            "/content/cloned-repo\n"
          ]
        }
      ]
    },
    {
      "cell_type": "markdown",
      "metadata": {
        "id": "PzgEeTcY1Tpd"
      },
      "source": [
        "**Creación de carpetas en el directorio de trabajo**"
      ]
    },
    {
      "cell_type": "code",
      "metadata": {
        "id": "KaG8eLANVGet"
      },
      "source": [
        "# Crear carpeta con nombre hola\n",
        "%mkdir hola"
      ],
      "execution_count": null,
      "outputs": []
    },
    {
      "cell_type": "markdown",
      "metadata": {
        "id": "hC4Q0Xmn0iS5"
      },
      "source": [
        "El comando automagic permite **usar los comandos magic sin necesidad de escribir el singo %** junto a los mismos."
      ]
    },
    {
      "cell_type": "code",
      "metadata": {
        "colab": {
          "base_uri": "https://localhost:8080/"
        },
        "id": "6iYBUI2aWIp9",
        "outputId": "c4d67cd4-4ae4-4809-dcc3-5e1c4596a6fd"
      },
      "source": [
        "%automagic off"
      ],
      "execution_count": null,
      "outputs": [
        {
          "output_type": "stream",
          "name": "stdout",
          "text": [
            "\n",
            "Automagic is OFF, % prefix IS needed for line magics.\n"
          ]
        }
      ]
    },
    {
      "cell_type": "markdown",
      "metadata": {
        "id": "7m0OBNi000bG"
      },
      "source": [
        "**Impresión de las variables usadas en la sesión con `%who` y `%whos`**"
      ]
    },
    {
      "cell_type": "code",
      "metadata": {
        "colab": {
          "base_uri": "https://localhost:8080/"
        },
        "id": "uqYB-mSceCDv",
        "outputId": "8f3ec695-362c-48d5-e51b-0b072b2d2ec6"
      },
      "source": [
        "%who"
      ],
      "execution_count": null,
      "outputs": [
        {
          "output_type": "stream",
          "name": "stdout",
          "text": [
            "pd\t sys\t \n"
          ]
        }
      ]
    },
    {
      "cell_type": "code",
      "metadata": {
        "colab": {
          "base_uri": "https://localhost:8080/"
        },
        "id": "1mNvQN9teFXb",
        "outputId": "70f78372-d51c-4923-9a24-3c535eaa28df"
      },
      "source": [
        "%whos"
      ],
      "execution_count": null,
      "outputs": [
        {
          "output_type": "stream",
          "name": "stdout",
          "text": [
            "Variable   Type      Data/Info\n",
            "------------------------------\n",
            "pd         module    <module 'pandas' from '/u<...>ages/pandas/__init__.py'>\n",
            "sys        module    <module 'sys' (built-in)>\n"
          ]
        }
      ]
    },
    {
      "cell_type": "markdown",
      "metadata": {
        "id": "AO9NKykabtPl"
      },
      "source": [
        "**Obtener documentación de algún objeto**"
      ]
    },
    {
      "cell_type": "code",
      "metadata": {
        "id": "qxn83y6YVnPA"
      },
      "source": [
        "%pdoc sys"
      ],
      "execution_count": null,
      "outputs": []
    },
    {
      "cell_type": "code",
      "metadata": {
        "id": "5Atj0GgQVq_k"
      },
      "source": [
        "import pandas as pd\n",
        "%pdoc pd.read_csv"
      ],
      "execution_count": null,
      "outputs": []
    },
    {
      "cell_type": "markdown",
      "metadata": {
        "id": "77o0a-i2atCO"
      },
      "source": [
        "### Cells magics"
      ]
    },
    {
      "cell_type": "markdown",
      "metadata": {
        "id": "-vuP6uxpacQ9"
      },
      "source": [
        "**Run the cell, capturing stdout, stderr, and IPython’s rich display() calls.** [More info](https://pythonguides.com/python-stderr-stdin-and-stdout/)\n",
        "\n",
        "Usable en la instalación de librerías para así no visualizar texto innecesario.\n",
        "\n",
        "Más información en [`%%capture`](https://ipython.readthedocs.io/en/stable/interactive/magics.html#cellmagic-capture)"
      ]
    },
    {
      "cell_type": "code",
      "metadata": {
        "id": "HPaD0bwNaCN1"
      },
      "source": [
        "# Prueba instalando 3 librerías con una sola celda\n",
        "%%capture\n",
        "!pip install netcdf4\n",
        "!pip install geopandas\n",
        "!pip install rioxarray"
      ],
      "execution_count": null,
      "outputs": []
    },
    {
      "cell_type": "markdown",
      "metadata": {
        "id": "OwO65u6L08oH"
      },
      "source": [
        "**Uso de latex en colab**"
      ]
    },
    {
      "cell_type": "code",
      "metadata": {
        "colab": {
          "base_uri": "https://localhost:8080/",
          "height": 36
        },
        "id": "5dchiQOTiALA",
        "outputId": "e1b83b8d-92c8-4e24-b65b-bbd5fda231ae"
      },
      "source": [
        "%%latex\n",
        "$$\\text{asd}$$"
      ],
      "execution_count": null,
      "outputs": [
        {
          "output_type": "display_data",
          "data": {
            "text/latex": "$$\\text{asd}$$",
            "text/plain": [
              "<IPython.core.display.Latex object>"
            ]
          },
          "metadata": {}
        }
      ]
    },
    {
      "cell_type": "markdown",
      "metadata": {
        "id": "dKs95syc1Dfm"
      },
      "source": [
        "**Uso de otros lenguajes de programación**"
      ]
    },
    {
      "cell_type": "code",
      "metadata": {
        "colab": {
          "base_uri": "https://localhost:8080/",
          "height": 16
        },
        "id": "C--ODB_7j6Y6",
        "outputId": "320bfb59-ebb6-4fea-8bae-5af74745e1a1"
      },
      "source": [
        "%%javascript\n",
        "var hola = 'asdasd'\n",
        "console.log(hola)"
      ],
      "execution_count": null,
      "outputs": [
        {
          "output_type": "display_data",
          "data": {
            "application/javascript": [
              "var hola = 'asdasd'\n",
              "console.log(hola)"
            ],
            "text/plain": [
              "<IPython.core.display.Javascript object>"
            ]
          },
          "metadata": {}
        }
      ]
    },
    {
      "cell_type": "markdown",
      "metadata": {
        "id": "ZQ6L-VUn1Ijd"
      },
      "source": [
        "**Estimar el tiempo usado para una operación**"
      ]
    },
    {
      "cell_type": "code",
      "metadata": {
        "colab": {
          "base_uri": "https://localhost:8080/"
        },
        "id": "2Dxit5LmkYcj",
        "outputId": "3868d10e-ea70-4849-8b51-0ab834962af8"
      },
      "source": [
        "%%timeit\n",
        "x = []\n",
        "for i in range(50):\n",
        "  x.append(i**2)\n",
        "x"
      ],
      "execution_count": null,
      "outputs": [
        {
          "output_type": "stream",
          "name": "stdout",
          "text": [
            "100000 loops, best of 5: 14.9 µs per loop\n"
          ]
        }
      ]
    },
    {
      "cell_type": "code",
      "metadata": {
        "colab": {
          "base_uri": "https://localhost:8080/",
          "height": 37
        },
        "id": "_elTWoKrImNo",
        "outputId": "20a25067-6004-48ac-a1f0-b261fba1bc20"
      },
      "source": [
        "%%html\n",
        "<marquee style='width: 30%; color: blue;'><b>Whee!</b></marquee>"
      ],
      "execution_count": null,
      "outputs": [
        {
          "output_type": "display_data",
          "data": {
            "text/html": [
              "<marquee style='width: 30%; color: blue;'><b>Whee!</b></marquee>"
            ],
            "text/plain": [
              "<IPython.core.display.HTML object>"
            ]
          },
          "metadata": {}
        }
      ]
    },
    {
      "cell_type": "markdown",
      "metadata": {
        "id": "a5dr9IYQQarJ"
      },
      "source": [
        "**Get, set, or list environment variables.**"
      ]
    },
    {
      "cell_type": "code",
      "metadata": {
        "id": "nAsclqDrRQ3G",
        "colab": {
          "base_uri": "https://localhost:8080/"
        },
        "outputId": "791829d8-e57a-4f4e-b9a1-29a88a56227f"
      },
      "source": [
        "%env"
      ],
      "execution_count": null,
      "outputs": [
        {
          "output_type": "execute_result",
          "data": {
            "text/plain": [
              "{'CLICOLOR': '1',\n",
              " 'CLOUDSDK_CONFIG': '/content/.config',\n",
              " 'CLOUDSDK_PYTHON': 'python3',\n",
              " 'COLAB_GPU': '0',\n",
              " 'CUDA_VERSION': '11.1.1',\n",
              " 'CUDNN_VERSION': '8.0.5.39',\n",
              " 'DATALAB_SETTINGS_OVERRIDES': '{\"kernelManagerProxyPort\":6000,\"kernelManagerProxyHost\":\"172.28.0.3\",\"jupyterArgs\":[\"--ip=\\\\\"172.28.0.2\\\\\"\"],\"debugAdapterMultiplexerPath\":\"/usr/local/bin/dap_multiplexer\",\"enableLsp\":true}',\n",
              " 'DEBIAN_FRONTEND': 'noninteractive',\n",
              " 'ENV': '/root/.bashrc',\n",
              " 'GCE_METADATA_TIMEOUT': '0',\n",
              " 'GCS_READ_CACHE_BLOCK_SIZE_MB': '16',\n",
              " 'GIT_PAGER': 'cat',\n",
              " 'GLIBCPP_FORCE_NEW': '1',\n",
              " 'GLIBCXX_FORCE_NEW': '1',\n",
              " 'HOME': '/root',\n",
              " 'HOSTNAME': 'da064d9ec274',\n",
              " 'JPY_PARENT_PID': '51',\n",
              " 'LANG': 'en_US.UTF-8',\n",
              " 'LAST_FORCED_REBUILD': '20210824',\n",
              " 'LD_LIBRARY_PATH': '/usr/local/nvidia/lib:/usr/local/nvidia/lib64',\n",
              " 'LD_PRELOAD': '/usr/lib/x86_64-linux-gnu/libtcmalloc.so.4',\n",
              " 'LIBRARY_PATH': '/usr/local/cuda/lib64/stubs',\n",
              " 'MPLBACKEND': 'module://ipykernel.pylab.backend_inline',\n",
              " 'NCCL_VERSION': '2.7.8',\n",
              " 'NO_GCE_CHECK': 'True',\n",
              " 'NVIDIA_DRIVER_CAPABILITIES': 'compute,utility',\n",
              " 'NVIDIA_REQUIRE_CUDA': 'cuda>=11.1 brand=tesla,driver>=418,driver<419 brand=tesla,driver>=440,driver<441 brand=tesla,driver>=450,driver<451',\n",
              " 'NVIDIA_VISIBLE_DEVICES': 'all',\n",
              " 'OLDPWD': '/',\n",
              " 'PAGER': 'cat',\n",
              " 'PATH': '/usr/local/nvidia/bin:/usr/local/cuda/bin:/usr/local/sbin:/usr/local/bin:/usr/sbin:/usr/bin:/sbin:/bin:/tools/node/bin:/tools/google-cloud-sdk/bin:/opt/bin',\n",
              " 'PWD': '/',\n",
              " 'PYDEVD_USE_FRAME_EVAL': 'NO',\n",
              " 'PYTHONPATH': '/env/python',\n",
              " 'PYTHONWARNINGS': 'ignore:::pip._internal.cli.base_command',\n",
              " 'SHELL': '/bin/bash',\n",
              " 'SHLVL': '0',\n",
              " 'TBE_CREDS_ADDR': '172.28.0.1:8008',\n",
              " 'TERM': 'xterm-color',\n",
              " 'TF_FORCE_GPU_ALLOW_GROWTH': 'true'}"
            ]
          },
          "metadata": {},
          "execution_count": 3
        }
      ]
    },
    {
      "cell_type": "markdown",
      "metadata": {
        "id": "bFkdu9WpRH1g"
      },
      "source": [
        "**Revisar el historial de celdas corridas**"
      ]
    },
    {
      "cell_type": "code",
      "metadata": {
        "colab": {
          "base_uri": "https://localhost:8080/"
        },
        "id": "GDj4kkydQ0ym",
        "outputId": "1e8475bf-aafe-4497-f949-69d58839b231"
      },
      "source": [
        "%history -n 1-10"
      ],
      "execution_count": null,
      "outputs": [
        {
          "output_type": "stream",
          "name": "stdout",
          "text": [
            "   1: !ls \\bin\n",
            "   2: !ls /bin\n",
            "   3:\n",
            "# Versión de Python en el computador virtual\n",
            "import sys\n",
            "sys.version\n",
            "   4:\n",
            "# Comandos magic: IPython's 'magic' functions\n",
            "%magic\n",
            "   5: !pwd\n",
            "   6:\n",
            "%%html\n",
            "<marquee style='width: 30%; color: blue;'><b>Whee!</b></marquee>\n",
            "   7: %load http://matplotlib.sourceforge.net/mpl_examples/pylab_examples/integral_demo.py\n",
            "   8: %load https://github.com/vilcagamarracf/Inv_arroz_METRIC/blob/main/Inv_Arroz_METRIC.ipynb\n",
            "   9: %load https://matplotlib.org/stable/gallery/images_contours_and_fields/image_zcoord.html#sphx-glr-gallery-images-contours-and-fields-image-zcoord-py\n",
            "  10: %history -n 4-6\n"
          ]
        }
      ]
    },
    {
      "cell_type": "markdown",
      "metadata": {
        "id": "DXPfeF-9lm2i"
      },
      "source": [
        "## 02. HTML en Colab"
      ]
    },
    {
      "cell_type": "markdown",
      "metadata": {
        "id": "pxUxv3rJlzLG"
      },
      "source": [
        "<center>\n",
        "\n",
        "<p>Logo de Colab <a href=\"https://colab.research.google.com/github/googlecolab/colabtools/blob/master/notebooks/colab-github-demo.ipynb#scrollTo=Rmai0dD30XzL\">y cómo conectarlo con tu libreta</a></p>\n",
        "\n",
        "<a href=\"#\">\n",
        "<img align=\"center\" src=\"https://colab.research.google.com/assets/colab-badge.svg\" alt=\"Open in Colab\" title=\"Open and Execute in Google Colaboratory\">\n",
        "</a>\n",
        "\n",
        "<p>Imagenes</p>\n",
        "<img src= 'https://miro.medium.com/max/591/1*zIOSesO10Jjpf506kdVV5g.png' width=30%/>\n",
        "\n",
        "```\n",
        "<img src= 'https://miro.medium.com/max/591/1*zIOSesO10Jjpf506kdVV5g.png' width=30%/>\n",
        "```\n",
        "\n",
        "<p>GIFs</p>\n",
        "<img src= 'https://media1.tenor.com/images/48e1afc1fbdc8fa9ed3a8ab5ebb04b91/tenor.gif' width=30%/>\n",
        "\n",
        "```\n",
        "<img src= 'https://media1.tenor.com/images/48e1afc1fbdc8fa9ed3a8ab5ebb04b91/tenor.gif' width=30%/>\n",
        "```\n",
        "<img align=\"left\" style=\"padding-right:10px;\" src=\"https://media1.tenor.com/images/48e1afc1fbdc8fa9ed3a8ab5ebb04b91/tenor.gif\" width=10%>\n",
        "\n",
        "Se puede escribir a la derecha de una imagen\n",
        "\n",
        "</center>\n",
        "\n"
      ]
    },
    {
      "cell_type": "code",
      "metadata": {
        "colab": {
          "base_uri": "https://localhost:8080/",
          "height": 37
        },
        "id": "hPb5tK3t6Ok8",
        "cellView": "form",
        "outputId": "7aa043cb-f381-4303-caf7-a85909679e55"
      },
      "source": [
        "#@markdown Banner con html\n",
        "%%html\n",
        "<marquee style='width: 30%; color: blue;'><b>¡Mira como me desplazo! </b></marquee>"
      ],
      "execution_count": null,
      "outputs": [
        {
          "output_type": "display_data",
          "data": {
            "text/html": [
              "<marquee style='width: 30%; color: blue;'><b>¡Mira como me desplazo! </b></marquee>"
            ],
            "text/plain": [
              "<IPython.core.display.HTML object>"
            ]
          },
          "metadata": {
            "tags": []
          }
        }
      ]
    },
    {
      "cell_type": "markdown",
      "metadata": {
        "id": "i-s7BNVQFOyX"
      },
      "source": [
        "## 03. Extraibles en Colab"
      ]
    },
    {
      "cell_type": "markdown",
      "metadata": {
        "id": "ceXHzQYyF36U"
      },
      "source": [
        "### Github"
      ]
    },
    {
      "cell_type": "markdown",
      "metadata": {
        "id": "o9SC301LPrnx"
      },
      "source": [
        "- [18 GIT Commands I learned during my first year as a Software Developer](https://towardsdatascience.com/altair-statistical-visualization-library-for-python-part-4-9ec970fb12e8)\n",
        "- [Using Google Colab with Github (notebook)](https://colab.research.google.com/github/googlecolab/colabtools/blob/master/notebooks/colab-github-demo.ipynb#scrollTo=-pVhOfzLx9us)"
      ]
    },
    {
      "cell_type": "code",
      "metadata": {
        "id": "H2a5eM-nFVdE",
        "colab": {
          "base_uri": "https://localhost:8080/"
        },
        "outputId": "19605778-36dd-4441-9495-460eca864b92"
      },
      "source": [
        "# Clone the entire repo. #Ejemplo de colab\n",
        "!git clone -l -s git://github.com/jakevdp/PythonDataScienceHandbook.git cloned-repo\n",
        "%cd cloned-repo\n",
        "!ls"
      ],
      "execution_count": null,
      "outputs": [
        {
          "output_type": "stream",
          "name": "stdout",
          "text": [
            "Cloning into 'cloned-repo'...\n",
            "warning: --local is ignored\n",
            "remote: Enumerating objects: 1696, done.\u001b[K\n",
            "remote: Counting objects: 100% (3/3), done.\u001b[K\n",
            "remote: Compressing objects: 100% (3/3), done.\u001b[K\n",
            "remote: Total 1696 (delta 0), reused 0 (delta 0), pack-reused 1693\u001b[K\n",
            "Receiving objects: 100% (1696/1696), 33.83 MiB | 30.47 MiB/s, done.\n",
            "Resolving deltas: 100% (1098/1098), done.\n",
            "/content/cloned-repo\n",
            "environment.yml  LICENSE-TEXT  README.md\t tools\n",
            "LICENSE-CODE\t notebooks     requirements.txt  website\n"
          ]
        }
      ]
    },
    {
      "cell_type": "code",
      "metadata": {
        "id": "-ibpcXP5zcsI",
        "colab": {
          "base_uri": "https://localhost:8080/",
          "height": 87
        },
        "outputId": "beeea845-ed11-4c69-8000-9e3b11aba784"
      },
      "source": [
        "!git clone --recursive https://github.com/shakasom/GDS.git"
      ],
      "execution_count": null,
      "outputs": [
        {
          "output_type": "stream",
          "text": [
            "Cloning into 'GDS'...\n",
            "remote: Enumerating objects: 39, done.\u001b[K\n",
            "remote: Total 39 (delta 0), reused 0 (delta 0), pack-reused 39\u001b[K\n",
            "Unpacking objects: 100% (39/39), done.\n"
          ],
          "name": "stdout"
        }
      ]
    },
    {
      "cell_type": "code",
      "metadata": {
        "id": "zrQl3bD6zkEM",
        "colab": {
          "base_uri": "https://localhost:8080/",
          "height": 34
        },
        "outputId": "64aa436d-1cda-4d81-d4d8-0bdce516c983"
      },
      "source": [
        "# Let us see what we have inside GDS Folder\n",
        "!ls GDS/dataset/"
      ],
      "execution_count": null,
      "outputs": [
        {
          "output_type": "stream",
          "text": [
            "1-introData.zip\n"
          ],
          "name": "stdout"
        }
      ]
    },
    {
      "cell_type": "code",
      "metadata": {
        "id": "BfhcXwdCzobI",
        "colab": {
          "base_uri": "https://localhost:8080/",
          "height": 105
        },
        "outputId": "4b8c8581-d28b-4f27-d406-951986b9e440"
      },
      "source": [
        "# We have zipped data so let us unzip it\n",
        "!unzip GDS/dataset/1-introData.zip"
      ],
      "execution_count": null,
      "outputs": [
        {
          "output_type": "stream",
          "text": [
            "Archive:  GDS/dataset/1-introData.zip\n",
            "   creating: 1-introData/\n",
            "  inflating: 1-introData/cities.geojson  \n",
            "  inflating: 1-introData/countries.gpkg  \n",
            "  inflating: 1-introData/rivers.gpkg  \n"
          ],
          "name": "stdout"
        }
      ]
    },
    {
      "cell_type": "markdown",
      "metadata": {
        "id": "Xtdc_44-F5Wt"
      },
      "source": [
        "### Dropbox"
      ]
    },
    {
      "cell_type": "code",
      "metadata": {
        "colab": {
          "base_uri": "https://localhost:8080/"
        },
        "id": "pNdgKLJ94g8u",
        "outputId": "f0c77d14-c665-4bf8-ce4d-800ab6d8469a"
      },
      "source": [
        "!wget https://www.dropbox.com/s/gf51dybqbujyjb2/Data.zip"
      ],
      "execution_count": null,
      "outputs": [
        {
          "output_type": "stream",
          "text": [
            "--2020-12-24 03:56:39--  https://www.dropbox.com/s/gf51dybqbujyjb2/Data.zip\n",
            "Resolving www.dropbox.com (www.dropbox.com)... 162.125.5.18, 2620:100:601d:18::a27d:512\n",
            "Connecting to www.dropbox.com (www.dropbox.com)|162.125.5.18|:443... connected.\n",
            "HTTP request sent, awaiting response... 301 Moved Permanently\n",
            "Location: /s/raw/gf51dybqbujyjb2/Data.zip [following]\n",
            "--2020-12-24 03:56:39--  https://www.dropbox.com/s/raw/gf51dybqbujyjb2/Data.zip\n",
            "Reusing existing connection to www.dropbox.com:443.\n",
            "HTTP request sent, awaiting response... 302 Found\n",
            "Location: https://uce8f9aa4cc751515816edc6fac1.dl.dropboxusercontent.com/cd/0/inline/BFo9udKGKd_MmybUtt7qFlWRq9e-LRUpiSkT98zFblq6hJhDEPsPdP7XDjOucNyU68JPh0bb1QwWTMO9KmG7jLUDF4DDDfFyWPtCzhqMNzVMYKG9x8lEhR0lUKBq21UNcrs/file# [following]\n",
            "--2020-12-24 03:56:39--  https://uce8f9aa4cc751515816edc6fac1.dl.dropboxusercontent.com/cd/0/inline/BFo9udKGKd_MmybUtt7qFlWRq9e-LRUpiSkT98zFblq6hJhDEPsPdP7XDjOucNyU68JPh0bb1QwWTMO9KmG7jLUDF4DDDfFyWPtCzhqMNzVMYKG9x8lEhR0lUKBq21UNcrs/file\n",
            "Resolving uce8f9aa4cc751515816edc6fac1.dl.dropboxusercontent.com (uce8f9aa4cc751515816edc6fac1.dl.dropboxusercontent.com)... 162.125.5.15, 2620:100:601d:15::a27d:50f\n",
            "Connecting to uce8f9aa4cc751515816edc6fac1.dl.dropboxusercontent.com (uce8f9aa4cc751515816edc6fac1.dl.dropboxusercontent.com)|162.125.5.15|:443... connected.\n",
            "HTTP request sent, awaiting response... 302 Found\n",
            "Location: /cd/0/inline2/BFo_5LT8_s16V4Yyv3hVY1T-QRutnH5NecSdkjRTjxT50X3mKQXQiOzm9E1vRpbd-rXqUbMYFAkuaTRK0Ru1OGxfkbFN25sNvhoeuO0jiD6VCY9Kz3nepIrp6DKvGeQjYXyJVVF_K4fy3orIx14c9VdghLf8LNA82xfp636raBhfkCHYADdjno9FFidTsOHu_ulp5JRr0tO05g5nHJpFuQ27ackYg_qRt9-rjxfSPX5DPcsrkioUctw8oxT_T2AIiWeDfFnwfdLDiItLIl9I21e1uLN8owN5hr9EJF4juZRDwP_TNcvR3nwquGdLI-0aOTof4bkaktfx89sNGpfxIdrrdjcgAa9QYc7C5yXGwqjkvw/file [following]\n",
            "--2020-12-24 03:56:40--  https://uce8f9aa4cc751515816edc6fac1.dl.dropboxusercontent.com/cd/0/inline2/BFo_5LT8_s16V4Yyv3hVY1T-QRutnH5NecSdkjRTjxT50X3mKQXQiOzm9E1vRpbd-rXqUbMYFAkuaTRK0Ru1OGxfkbFN25sNvhoeuO0jiD6VCY9Kz3nepIrp6DKvGeQjYXyJVVF_K4fy3orIx14c9VdghLf8LNA82xfp636raBhfkCHYADdjno9FFidTsOHu_ulp5JRr0tO05g5nHJpFuQ27ackYg_qRt9-rjxfSPX5DPcsrkioUctw8oxT_T2AIiWeDfFnwfdLDiItLIl9I21e1uLN8owN5hr9EJF4juZRDwP_TNcvR3nwquGdLI-0aOTof4bkaktfx89sNGpfxIdrrdjcgAa9QYc7C5yXGwqjkvw/file\n",
            "Reusing existing connection to uce8f9aa4cc751515816edc6fac1.dl.dropboxusercontent.com:443.\n",
            "HTTP request sent, awaiting response... 200 OK\n",
            "Length: 4157010 (4.0M) [application/zip]\n",
            "Saving to: ‘Data.zip’\n",
            "\n",
            "Data.zip            100%[===================>]   3.96M  21.3MB/s    in 0.2s    \n",
            "\n",
            "2020-12-24 03:56:41 (21.3 MB/s) - ‘Data.zip’ saved [4157010/4157010]\n",
            "\n"
          ],
          "name": "stdout"
        }
      ]
    },
    {
      "cell_type": "code",
      "metadata": {
        "colab": {
          "base_uri": "https://localhost:8080/"
        },
        "id": "ezZVdHsg5HhR",
        "outputId": "69af9c2e-1a65-46db-ebd8-b3ad1cd1236b"
      },
      "source": [
        "!unzip Data.zip"
      ],
      "execution_count": null,
      "outputs": [
        {
          "output_type": "stream",
          "text": [
            "Archive:  Data.zip\n",
            "   creating: Data/\n",
            "   creating: Data/20191002/\n",
            "  inflating: Data/20191002/B02-20191002.tif  \n",
            "  inflating: Data/20191002/B03-20191002.tif  \n",
            "  inflating: Data/20191002/B04-20191002.tif  \n",
            "  inflating: Data/20191002/B08-20191002.tif  \n",
            "   creating: Data/20191101/\n",
            "  inflating: Data/20191101/B02-20191101.tif  \n",
            "  inflating: Data/20191101/B03-20191101.tif  \n",
            "  inflating: Data/20191101/B04-20191101.tif  \n",
            "  inflating: Data/20191101/B08-20191101.tif  \n",
            "   creating: Data/shapefiles/\n",
            " extracting: Data/shapefiles/boundary.cpg  \n",
            "  inflating: Data/shapefiles/boundary.dbf  \n",
            "  inflating: Data/shapefiles/boundary.prj  \n",
            "  inflating: Data/shapefiles/boundary.qpj  \n",
            "  inflating: Data/shapefiles/boundary.shp  \n",
            "  inflating: Data/shapefiles/boundary.shx  \n",
            " extracting: Data/shapefiles/osm_buildings.cpg  \n",
            "  inflating: Data/shapefiles/osm_buildings.dbf  \n",
            "  inflating: Data/shapefiles/osm_buildings.prj  \n",
            "  inflating: Data/shapefiles/osm_buildings.qpj  \n",
            "  inflating: Data/shapefiles/osm_buildings.shp  \n",
            "  inflating: Data/shapefiles/osm_buildings.shx  \n",
            " extracting: Data/shapefiles/river.cpg  \n",
            "  inflating: Data/shapefiles/river.dbf  \n",
            "  inflating: Data/shapefiles/river.prj  \n",
            "  inflating: Data/shapefiles/river.qpj  \n",
            "  inflating: Data/shapefiles/river.shp  \n",
            "  inflating: Data/shapefiles/river.shx  \n"
          ],
          "name": "stdout"
        }
      ]
    },
    {
      "cell_type": "markdown",
      "metadata": {
        "id": "RIvwpiT_hOU9"
      },
      "source": [
        "## 04. Links de interés"
      ]
    },
    {
      "cell_type": "markdown",
      "metadata": {
        "id": "exfHY7-ihSWF"
      },
      "source": [
        "- [Cheat-sheet for Google Colab. In this tutorial, you will learn how to… | by Tanu N Prabhu | Towards Data Science](https://towardsdatascience.com/cheat-sheet-for-google-colab-63853778c093)\n",
        "- [A Complete guide to Google Colab for Deep Learning](https://www.kdnuggets.com/2020/06/google-colab-deep-learning.html)\n",
        "- [List of named colors — Matplotlib 3.1.0 documentation](https://matplotlib.org/3.1.0/gallery/color/named_colors.html)\n",
        "- [Harmonic NDVI Time Series Clustering with Python and GEE | by Joao Otavio Nascimento Firigato | Aug, 2020 | Medium](https://medium.com/@joaootavionf007/harmonic-ndvi-time-series-clustering-with-python-and-gee-f5c1a8b47f6f)\n",
        "- [ee-api-folium-setup.ipynb - Colaboratory](https://colab.research.google.com/github/giswqs/qgis-earthengine-examples/blob/master/Folium/ee-api-folium-setup.ipynb)\n",
        "- [Joao Otavio Nascimento Firigato – Medium](https://medium.com/@joaootavionf007)\n",
        "- [João Otavio Firigato on LinkedIn: #remotesensing #googleearthengine #ndvi](https://www.linkedin.com/posts/jo%C3%A3o-otavio-firigato-4876b3aa_remotesensing-googleearthengine-ndvi-activity-6725094068642185216-roP8?fbclid=IwAR3Qf_ZeahHCLoIDy7mTAEloAi1ejrK7msgVpmV-Tz9TrqN2DtYPoncHO-o)\n",
        "- [Importing Data to Google Colab — the CLEAN Way | by Joos Korstanje | Towards Data Science](https://towardsdatascience.com/importing-data-to-google-colab-the-clean-way-5ceef9e9e3c8)\n",
        "- [Deep Learning Development with Google Colab, TensorFlow, Keras & PyTorch](https://www.kdnuggets.com/2018/02/google-colab-free-gpu-tutorial-tensorflow-keras-pytorch.html)\n"
      ]
    },
    {
      "cell_type": "markdown",
      "metadata": {
        "id": "Qj4HMhfAKK6R"
      },
      "source": [
        "- [5 things that make my job as a Data Scientist easier: **Multiprocessing in Python**](https://towardsdatascience.com/5-things-that-make-my-job-as-a-data-scientist-easier-dc0820f0f136?source=rss----7f60cf5620c9---4)"
      ]
    }
  ]
}