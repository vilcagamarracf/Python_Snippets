{
  "nbformat": 4,
  "nbformat_minor": 0,
  "metadata": {
    "colab": {
      "name": "Snippets_Pandas.ipynb",
      "provenance": [],
      "collapsed_sections": [
        "22DAKdqKSxW1",
        "WWtCG51wS430",
        "olebvXKYVzpv",
        "6JUElTVLT_Oc",
        "YrwcyuzseYjc",
        "Tvo2LkjBgtZ8",
        "b_EIvr22nFwT",
        "IICWDUQc8U5f",
        "l2PLskfMAdGc",
        "3qyvAmpIDSIN",
        "QhoHhBYVFG0t",
        "JM7YGDqWH7dl",
        "bWkbOZ3BYRgu",
        "vpRNGF40d38Z",
        "sq5XNLB_SiKj",
        "P_v5CQhcSnOn"
      ],
      "authorship_tag": "ABX9TyMcYlwES1q/XsBewkS/0Dkn",
      "include_colab_link": true
    },
    "kernelspec": {
      "name": "python3",
      "display_name": "Python 3"
    },
    "language_info": {
      "name": "python"
    }
  },
  "cells": [
    {
      "cell_type": "markdown",
      "metadata": {
        "id": "view-in-github",
        "colab_type": "text"
      },
      "source": [
        "<a href=\"https://colab.research.google.com/github/vilcagamarracf/Python_Snippets/blob/main/Snippets/Snippets_Pandas.ipynb\" target=\"_parent\"><img src=\"https://colab.research.google.com/assets/colab-badge.svg\" alt=\"Open In Colab\"/></a>"
      ]
    },
    {
      "cell_type": "markdown",
      "metadata": {
        "id": "vJ-lc1ekRPGO"
      },
      "source": [
        "<center><h2> Pandas Snippets - Colaboratory 👨‍🚀</h2></center>"
      ]
    },
    {
      "cell_type": "markdown",
      "metadata": {
        "id": "jMF74wX0LiBj"
      },
      "source": [
        "<center>\n",
        "<img src='https://www.freecodecamp.org/news/content/images/size/w2000/2020/07/pandas-logo.png' alt='Pandas logo' width='400'/>\n",
        "</center>"
      ]
    },
    {
      "cell_type": "markdown",
      "metadata": {
        "id": "IeIHLkaZgvHH"
      },
      "source": [
        "**Referencias**\n",
        " \n",
        "- [Página Oficial de Pandas](https://pandas.pydata.org/)\n",
        "- [Pandas Cheat Sheet](https://pandas.pydata.org/Pandas_Cheat_Sheet.pdf)\n",
        "- [Dataquest Pandas Cheat Sheet](https://drive.google.com/file/d/1UHK8wtWbADvHKXFC937IS6MTnlSZC_zB/view)\n"
      ]
    },
    {
      "cell_type": "markdown",
      "metadata": {
        "id": "pSrdUoaQUGaL"
      },
      "source": [
        "Antes de empezar deberemos usar archivos de nuestro drive"
      ]
    },
    {
      "cell_type": "code",
      "metadata": {
        "colab": {
          "base_uri": "https://localhost:8080/"
        },
        "cellView": "form",
        "id": "nOBbekVAi-Zf",
        "outputId": "44a751cc-39ce-4e8c-bcd5-9d3b7e8e4a7e"
      },
      "source": [
        "# @markdown Cargar drive personal\n",
        "\n",
        "from google.colab import drive\n",
        "drive.mount('/content/drive')"
      ],
      "execution_count": null,
      "outputs": [
        {
          "output_type": "stream",
          "name": "stdout",
          "text": [
            "Mounted at /content/drive\n"
          ]
        }
      ]
    },
    {
      "cell_type": "code",
      "metadata": {
        "id": "42MoRzrMX4lK"
      },
      "source": [
        "%%capture\n",
        "!pip install --upgrade seaborn\n",
        "!pip install --upgrade pandas"
      ],
      "execution_count": null,
      "outputs": []
    },
    {
      "cell_type": "code",
      "metadata": {
        "id": "_AVTz-f8YHav"
      },
      "source": [
        "import matplotlib.pyplot as plt\n",
        "import seaborn as sns\n",
        "import pandas as pd\n",
        "import numpy as np"
      ],
      "execution_count": null,
      "outputs": []
    },
    {
      "cell_type": "code",
      "metadata": {
        "colab": {
          "base_uri": "https://localhost:8080/",
          "height": 35
        },
        "id": "bUVcuJG1Zrm1",
        "outputId": "6e1ed62f-02a5-419b-fb66-c5b3abe6e2ec"
      },
      "source": [
        "pd.__version__"
      ],
      "execution_count": null,
      "outputs": [
        {
          "output_type": "execute_result",
          "data": {
            "application/vnd.google.colaboratory.intrinsic+json": {
              "type": "string"
            },
            "text/plain": [
              "'1.3.3'"
            ]
          },
          "metadata": {},
          "execution_count": 5
        }
      ]
    },
    {
      "cell_type": "code",
      "metadata": {
        "colab": {
          "base_uri": "https://localhost:8080/",
          "height": 35
        },
        "id": "w1bWK5KcZtyd",
        "outputId": "ac335f7e-5aaf-49cf-f595-c3224ecc98fb"
      },
      "source": [
        "sns.__version__"
      ],
      "execution_count": null,
      "outputs": [
        {
          "output_type": "execute_result",
          "data": {
            "application/vnd.google.colaboratory.intrinsic+json": {
              "type": "string"
            },
            "text/plain": [
              "'0.11.2'"
            ]
          },
          "metadata": {},
          "execution_count": 6
        }
      ]
    },
    {
      "cell_type": "markdown",
      "metadata": {
        "id": "CBrjF9vFc9A9"
      },
      "source": [
        "### Referencias"
      ]
    },
    {
      "cell_type": "markdown",
      "metadata": {
        "id": "5AKTq0MSdBdK"
      },
      "source": [
        "- [How to Filter Data in Python Pandas Dataframes using Conditional Statements](https://medium.com/@AIWatson/how-to-filter-data-in-python-pandas-dataframes-using-conditional-statements-69c4bb842de8)\n",
        "- [How to select data from a Python Pandas DataFrame using loc and iloc in Jupyter Lab](https://medium.com/@AIWatson/select-data-from-a-pandas-dataframe-using-loc-and-iloc-in-jupyter-lab-b1c05c8248dd)"
      ]
    },
    {
      "cell_type": "markdown",
      "metadata": {
        "id": "22DAKdqKSxW1"
      },
      "source": [
        "### Importar base de datos\n",
        "\n",
        "- `pd.read_csv()`\n",
        "- `pd.DataFrame()`"
      ]
    },
    {
      "cell_type": "markdown",
      "metadata": {
        "id": "CC2fdXdpkApn"
      },
      "source": [
        "Usaremos datos de precipitación en formato `.csv` alojado en nuestro drive."
      ]
    },
    {
      "cell_type": "markdown",
      "metadata": {
        "id": "i3vFTjOWR5hI"
      },
      "source": [
        "> Nota: Si el archivo .csv pesa demasiado (> 500mb), procurar no abrirlo directamente ya que tomaría mucho tiempo en hacerlo. Es mejor usar python o R para revisarlo. Si se abre excel, éste no cargaría y daría un error tipo Permission Denied en python si se tratara de abrir con este."
      ]
    },
    {
      "cell_type": "code",
      "metadata": {
        "id": "PQ0VWafYg0c2"
      },
      "source": [
        "df = pd.read_csv(r'/content/drive/MyDrive/Colab Notebooks/Otros/pp_salida2.csv')\n",
        "df.head()"
      ],
      "execution_count": null,
      "outputs": []
    },
    {
      "cell_type": "markdown",
      "metadata": {
        "id": "WWtCG51wS430"
      },
      "source": [
        "### Información general del dataframe\n",
        "\n",
        "- `df.info()`\n",
        "- `df.shape`\n",
        "- `df.columns`\n",
        "- `df.dtypes`\n",
        "- `df.values`"
      ]
    },
    {
      "cell_type": "markdown",
      "metadata": {
        "id": "StnCAzonN1t5"
      },
      "source": [
        "Uso de paréntesis:\n",
        "\n",
        "- **SI**, para extracción de datos del dataframe\n",
        "- **NO**, para extracción de información de atributos del dataframe"
      ]
    },
    {
      "cell_type": "code",
      "metadata": {
        "id": "9hevW9wElHTG"
      },
      "source": [
        "df.info()"
      ],
      "execution_count": null,
      "outputs": []
    },
    {
      "cell_type": "code",
      "metadata": {
        "id": "6esEqEf1k3W3"
      },
      "source": [
        "print(pp.shape)\n",
        "print(f'Numero de columnas: {pp.shape[1]}\\nNumero de filas: {pp.shape[0]}')"
      ],
      "execution_count": null,
      "outputs": []
    },
    {
      "cell_type": "code",
      "metadata": {
        "id": "H5knubW-lCF-"
      },
      "source": [
        "pp.columns"
      ],
      "execution_count": null,
      "outputs": []
    },
    {
      "cell_type": "code",
      "metadata": {
        "id": "LKehAlJxONl7"
      },
      "source": [
        "pp.dtypes"
      ],
      "execution_count": null,
      "outputs": []
    },
    {
      "cell_type": "code",
      "metadata": {
        "id": "TYnAeUnoOQtW"
      },
      "source": [
        "pp.values # array"
      ],
      "execution_count": null,
      "outputs": []
    },
    {
      "cell_type": "markdown",
      "metadata": {
        "id": "olebvXKYVzpv"
      },
      "source": [
        "### Modificando el dataframe"
      ]
    },
    {
      "cell_type": "code",
      "metadata": {
        "id": "i_i6CMs0OW9W"
      },
      "source": [
        "# Usar un nuevo dataframe a partir de uno\n",
        "pp = df.iloc[:,:5]\n",
        "pp.head(3)"
      ],
      "execution_count": null,
      "outputs": []
    },
    {
      "cell_type": "code",
      "metadata": {
        "id": "Q0RkOMiEOqaf"
      },
      "source": [
        "pp['P1'].head() # obtener información de columnas"
      ],
      "execution_count": null,
      "outputs": []
    },
    {
      "cell_type": "code",
      "metadata": {
        "id": "UEqzbm7sOs9F"
      },
      "source": [
        "pp[0:10] # obtener información de filas"
      ],
      "execution_count": null,
      "outputs": []
    },
    {
      "cell_type": "code",
      "metadata": {
        "id": "-tK0OXe2O4of"
      },
      "source": [
        "pp[pp['P1']<5].head()"
      ],
      "execution_count": null,
      "outputs": []
    },
    {
      "cell_type": "code",
      "metadata": {
        "id": "lqrjNJ2wPLH0"
      },
      "source": [
        "df[df['DATE']=='01/03/1982']"
      ],
      "execution_count": null,
      "outputs": []
    },
    {
      "cell_type": "markdown",
      "metadata": {
        "id": "6JUElTVLT_Oc"
      },
      "source": [
        "### Modificación de fechas"
      ]
    },
    {
      "cell_type": "markdown",
      "metadata": {
        "id": "925wmK-nYIaU"
      },
      "source": [
        "Información mensual: `01/01/1981`"
      ]
    },
    {
      "cell_type": "code",
      "metadata": {
        "id": "H43EFcv1W68k"
      },
      "source": [
        "df = pd.read_csv(r'/content/drive/MyDrive/Colab Notebooks/Otros/pp_salida2.csv').iloc[:,:5]\n",
        "df.head(3)"
      ],
      "execution_count": null,
      "outputs": []
    },
    {
      "cell_type": "markdown",
      "metadata": {
        "id": "T2f1eXqSYve9"
      },
      "source": [
        "Al hacer el cambio de tipo object a datetime se produce un cambio: el formato `%d/%m/%Y` cambió a `%Y/%d/%m`. Se debe a que Python trabaja las fechas en formato inglés."
      ]
    },
    {
      "cell_type": "code",
      "metadata": {
        "id": "bd1Oa6GOXCoz"
      },
      "source": [
        "df = pd.read_csv(r'/content/drive/MyDrive/Colab Notebooks/Otros/pp_salida2.csv').iloc[:,:5]\n",
        "df.DATE = pd.to_datetime(df.DATE, format='%d/%m/%Y')\n",
        "# df.DATE = df.DATE.dt.strftime('%d/%m/%Y') \n",
        "# df.DATE = pd.to_datetime(df.DATE)\n",
        "df.head(13)"
      ],
      "execution_count": null,
      "outputs": []
    },
    {
      "cell_type": "code",
      "metadata": {
        "id": "soVBAUhxhGIb"
      },
      "source": [
        "import matplotlib.pyplot as plt\n",
        "\n",
        "plt.plot(df.DATE, df.P1, 'r-o')\n",
        "plt.show()"
      ],
      "execution_count": null,
      "outputs": []
    },
    {
      "cell_type": "code",
      "metadata": {
        "id": "Fu1rBEoHeMIz"
      },
      "source": [
        "type(df.DATE[0])"
      ],
      "execution_count": null,
      "outputs": []
    },
    {
      "cell_type": "markdown",
      "metadata": {
        "id": "QsBjxeIHX9yD"
      },
      "source": [
        "- Antes: `01/01/1981`\n",
        "- Después: `1981-01-01\t`"
      ]
    },
    {
      "cell_type": "markdown",
      "metadata": {
        "id": "sfu6dz2ebrGl"
      },
      "source": [
        "Finalmente:"
      ]
    },
    {
      "cell_type": "code",
      "metadata": {
        "id": "jvi-5NhRSGU9"
      },
      "source": [
        "# from datetime import datetime as dt\n",
        "df['DATE'] = df['DATE'].dt.strftime('%d/%m/%Y') \n",
        "df.head(100)"
      ],
      "execution_count": null,
      "outputs": []
    },
    {
      "cell_type": "markdown",
      "metadata": {
        "id": "0anhUr38btoD"
      },
      "source": [
        "El formato `'%m/%d/%Y'` no es el que representa realmente nuestro sistema de fechas pero nos sirve."
      ]
    },
    {
      "cell_type": "code",
      "metadata": {
        "id": "1QIrSJMNPnXe"
      },
      "source": [
        "df = pd.read_csv(r'/content/drive/MyDrive/Colab Notebooks/Otros/pp_salida2.csv').iloc[:,:5]\n",
        "# df.head(13)\n",
        "df['DATE'] = pd.to_datetime(df['DATE'], format='%d/%Y/%m', errors='ignore')\n",
        "df.head(13)"
      ],
      "execution_count": null,
      "outputs": []
    },
    {
      "cell_type": "code",
      "metadata": {
        "id": "LledFJ8EPjzN"
      },
      "source": [
        "# Function to add date variables to DataFrame.\n",
        "def add_date_info(df):\n",
        "  df['Timestamp'] = pd.to_datetime(df['millis'], unit='ms')\n",
        "  df['Year'] = pd.DatetimeIndex(df['Timestamp']).year\n",
        "  df['Month'] = pd.DatetimeIndex(df['Timestamp']).month\n",
        "  df['Day'] = pd.DatetimeIndex(df['Timestamp']).day\n",
        "  df['DOY'] = pd.DatetimeIndex(df['Timestamp']).dayofyear\n",
        "  return df"
      ],
      "execution_count": null,
      "outputs": []
    },
    {
      "cell_type": "markdown",
      "metadata": {
        "id": "8Fahad9zj8Au"
      },
      "source": [
        "**Cambiando formato de fechas**"
      ]
    },
    {
      "cell_type": "code",
      "metadata": {
        "id": "R-5-k8GuiyHp"
      },
      "source": [
        "# Transformar columna de tipo string a tipo datetime64\n",
        "pp.DATE = pd.to_datetime(pp.DATE, format='%d/%m/%Y')\n",
        "# Ubicar como index para posterior visualización con matplotlib\n",
        "pp.set_index('DATE', inplace=True)\n",
        "pp.head()"
      ],
      "execution_count": null,
      "outputs": []
    },
    {
      "cell_type": "code",
      "metadata": {
        "id": "NfFLYx5uj7HU"
      },
      "source": [
        "pp.dtypes"
      ],
      "execution_count": null,
      "outputs": []
    },
    {
      "cell_type": "markdown",
      "metadata": {
        "id": "CXLxZUFkTeBq"
      },
      "source": [
        "## Revisión de curso de linkedin"
      ]
    },
    {
      "cell_type": "markdown",
      "metadata": {
        "id": "R8mSHWf-nCdU"
      },
      "source": [
        "### Gestión de datos en Python"
      ]
    },
    {
      "cell_type": "markdown",
      "metadata": {
        "id": "LXFr2opJXhcI"
      },
      "source": [
        "#### Introducción a pandas"
      ]
    },
    {
      "cell_type": "code",
      "metadata": {
        "colab": {
          "base_uri": "https://localhost:8080/",
          "height": 238
        },
        "id": "VeUmuo1GTgGS",
        "outputId": "a266b8ab-d43b-4223-dda6-bee90cd47f0c"
      },
      "source": [
        "path = r'/content/drive/MyDrive/Colab Notebooks/Snippets/bdatos/base_datos_2008_short.csv'\n",
        "\n",
        "import pandas as pd\n",
        "df = pd.read_csv(path) # nrows = 100\n",
        "df.head()"
      ],
      "execution_count": null,
      "outputs": [
        {
          "output_type": "execute_result",
          "data": {
            "text/html": [
              "<div>\n",
              "<style scoped>\n",
              "    .dataframe tbody tr th:only-of-type {\n",
              "        vertical-align: middle;\n",
              "    }\n",
              "\n",
              "    .dataframe tbody tr th {\n",
              "        vertical-align: top;\n",
              "    }\n",
              "\n",
              "    .dataframe thead th {\n",
              "        text-align: right;\n",
              "    }\n",
              "</style>\n",
              "<table border=\"1\" class=\"dataframe\">\n",
              "  <thead>\n",
              "    <tr style=\"text-align: right;\">\n",
              "      <th></th>\n",
              "      <th>Unnamed: 0</th>\n",
              "      <th>Year</th>\n",
              "      <th>Month</th>\n",
              "      <th>DayofMonth</th>\n",
              "      <th>DayOfWeek</th>\n",
              "      <th>DepTime</th>\n",
              "      <th>CRSDepTime</th>\n",
              "      <th>ArrTime</th>\n",
              "      <th>CRSArrTime</th>\n",
              "      <th>UniqueCarrier</th>\n",
              "      <th>FlightNum</th>\n",
              "      <th>TailNum</th>\n",
              "      <th>ActualElapsedTime</th>\n",
              "      <th>CRSElapsedTime</th>\n",
              "      <th>AirTime</th>\n",
              "      <th>ArrDelay</th>\n",
              "      <th>DepDelay</th>\n",
              "      <th>Origin</th>\n",
              "      <th>Dest</th>\n",
              "      <th>Distance</th>\n",
              "      <th>TaxiIn</th>\n",
              "      <th>TaxiOut</th>\n",
              "      <th>Cancelled</th>\n",
              "      <th>CancellationCode</th>\n",
              "      <th>Diverted</th>\n",
              "      <th>CarrierDelay</th>\n",
              "      <th>WeatherDelay</th>\n",
              "      <th>NASDelay</th>\n",
              "      <th>SecurityDelay</th>\n",
              "      <th>LateAircraftDelay</th>\n",
              "    </tr>\n",
              "  </thead>\n",
              "  <tbody>\n",
              "    <tr>\n",
              "      <th>0</th>\n",
              "      <td>6193029</td>\n",
              "      <td>2008</td>\n",
              "      <td>11</td>\n",
              "      <td>28</td>\n",
              "      <td>5</td>\n",
              "      <td>1607.0</td>\n",
              "      <td>1610</td>\n",
              "      <td>5.0</td>\n",
              "      <td>10</td>\n",
              "      <td>US</td>\n",
              "      <td>882</td>\n",
              "      <td>N933UW</td>\n",
              "      <td>298.0</td>\n",
              "      <td>300.0</td>\n",
              "      <td>274.0</td>\n",
              "      <td>-5.0</td>\n",
              "      <td>-3.0</td>\n",
              "      <td>LAS</td>\n",
              "      <td>BOS</td>\n",
              "      <td>2381</td>\n",
              "      <td>6.0</td>\n",
              "      <td>18.0</td>\n",
              "      <td>0</td>\n",
              "      <td>NaN</td>\n",
              "      <td>0</td>\n",
              "      <td>NaN</td>\n",
              "      <td>NaN</td>\n",
              "      <td>NaN</td>\n",
              "      <td>NaN</td>\n",
              "      <td>NaN</td>\n",
              "    </tr>\n",
              "    <tr>\n",
              "      <th>1</th>\n",
              "      <td>2566613</td>\n",
              "      <td>2008</td>\n",
              "      <td>5</td>\n",
              "      <td>7</td>\n",
              "      <td>3</td>\n",
              "      <td>1956.0</td>\n",
              "      <td>1946</td>\n",
              "      <td>2054.0</td>\n",
              "      <td>2049</td>\n",
              "      <td>OO</td>\n",
              "      <td>5455</td>\n",
              "      <td>N576SW</td>\n",
              "      <td>58.0</td>\n",
              "      <td>63.0</td>\n",
              "      <td>47.0</td>\n",
              "      <td>5.0</td>\n",
              "      <td>10.0</td>\n",
              "      <td>SBP</td>\n",
              "      <td>SFO</td>\n",
              "      <td>191</td>\n",
              "      <td>4.0</td>\n",
              "      <td>7.0</td>\n",
              "      <td>0</td>\n",
              "      <td>NaN</td>\n",
              "      <td>0</td>\n",
              "      <td>NaN</td>\n",
              "      <td>NaN</td>\n",
              "      <td>NaN</td>\n",
              "      <td>NaN</td>\n",
              "      <td>NaN</td>\n",
              "    </tr>\n",
              "    <tr>\n",
              "      <th>2</th>\n",
              "      <td>873200</td>\n",
              "      <td>2008</td>\n",
              "      <td>2</td>\n",
              "      <td>21</td>\n",
              "      <td>4</td>\n",
              "      <td>921.0</td>\n",
              "      <td>930</td>\n",
              "      <td>1122.0</td>\n",
              "      <td>1141</td>\n",
              "      <td>US</td>\n",
              "      <td>1800</td>\n",
              "      <td>N747UW</td>\n",
              "      <td>121.0</td>\n",
              "      <td>131.0</td>\n",
              "      <td>101.0</td>\n",
              "      <td>-19.0</td>\n",
              "      <td>-9.0</td>\n",
              "      <td>CLT</td>\n",
              "      <td>BOS</td>\n",
              "      <td>728</td>\n",
              "      <td>3.0</td>\n",
              "      <td>17.0</td>\n",
              "      <td>0</td>\n",
              "      <td>NaN</td>\n",
              "      <td>0</td>\n",
              "      <td>NaN</td>\n",
              "      <td>NaN</td>\n",
              "      <td>NaN</td>\n",
              "      <td>NaN</td>\n",
              "      <td>NaN</td>\n",
              "    </tr>\n",
              "    <tr>\n",
              "      <th>3</th>\n",
              "      <td>1510383</td>\n",
              "      <td>2008</td>\n",
              "      <td>3</td>\n",
              "      <td>28</td>\n",
              "      <td>5</td>\n",
              "      <td>1444.0</td>\n",
              "      <td>1429</td>\n",
              "      <td>1711.0</td>\n",
              "      <td>1638</td>\n",
              "      <td>EV</td>\n",
              "      <td>4446</td>\n",
              "      <td>N718EV</td>\n",
              "      <td>147.0</td>\n",
              "      <td>129.0</td>\n",
              "      <td>103.0</td>\n",
              "      <td>33.0</td>\n",
              "      <td>15.0</td>\n",
              "      <td>ATL</td>\n",
              "      <td>ALB</td>\n",
              "      <td>852</td>\n",
              "      <td>2.0</td>\n",
              "      <td>42.0</td>\n",
              "      <td>0</td>\n",
              "      <td>NaN</td>\n",
              "      <td>0</td>\n",
              "      <td>15.0</td>\n",
              "      <td>0.0</td>\n",
              "      <td>18.0</td>\n",
              "      <td>0.0</td>\n",
              "      <td>0.0</td>\n",
              "    </tr>\n",
              "    <tr>\n",
              "      <th>4</th>\n",
              "      <td>1164410</td>\n",
              "      <td>2008</td>\n",
              "      <td>2</td>\n",
              "      <td>6</td>\n",
              "      <td>3</td>\n",
              "      <td>556.0</td>\n",
              "      <td>600</td>\n",
              "      <td>1137.0</td>\n",
              "      <td>1128</td>\n",
              "      <td>DL</td>\n",
              "      <td>476</td>\n",
              "      <td>N615DL</td>\n",
              "      <td>221.0</td>\n",
              "      <td>208.0</td>\n",
              "      <td>201.0</td>\n",
              "      <td>9.0</td>\n",
              "      <td>-4.0</td>\n",
              "      <td>PHX</td>\n",
              "      <td>ATL</td>\n",
              "      <td>1587</td>\n",
              "      <td>7.0</td>\n",
              "      <td>13.0</td>\n",
              "      <td>0</td>\n",
              "      <td>NaN</td>\n",
              "      <td>0</td>\n",
              "      <td>NaN</td>\n",
              "      <td>NaN</td>\n",
              "      <td>NaN</td>\n",
              "      <td>NaN</td>\n",
              "      <td>NaN</td>\n",
              "    </tr>\n",
              "  </tbody>\n",
              "</table>\n",
              "</div>"
            ],
            "text/plain": [
              "   Unnamed: 0  Year  Month  ...  NASDelay  SecurityDelay  LateAircraftDelay\n",
              "0     6193029  2008     11  ...       NaN            NaN                NaN\n",
              "1     2566613  2008      5  ...       NaN            NaN                NaN\n",
              "2      873200  2008      2  ...       NaN            NaN                NaN\n",
              "3     1510383  2008      3  ...      18.0            0.0                0.0\n",
              "4     1164410  2008      2  ...       NaN            NaN                NaN\n",
              "\n",
              "[5 rows x 30 columns]"
            ]
          },
          "metadata": {},
          "execution_count": 8
        }
      ]
    },
    {
      "cell_type": "code",
      "metadata": {
        "colab": {
          "base_uri": "https://localhost:8080/"
        },
        "id": "VsbfvE1hTx8J",
        "outputId": "39661fb7-76f9-4a23-9a30-3ebec3f662d8"
      },
      "source": [
        "df.shape"
      ],
      "execution_count": null,
      "outputs": [
        {
          "output_type": "execute_result",
          "data": {
            "text/plain": [
              "(10000, 30)"
            ]
          },
          "metadata": {},
          "execution_count": 9
        }
      ]
    },
    {
      "cell_type": "code",
      "metadata": {
        "colab": {
          "base_uri": "https://localhost:8080/"
        },
        "id": "Uv0Z7q1FT0JV",
        "outputId": "9f97022c-a9a9-4079-ff24-eaea0a1d26dc"
      },
      "source": [
        "df.info()"
      ],
      "execution_count": null,
      "outputs": [
        {
          "output_type": "stream",
          "name": "stdout",
          "text": [
            "<class 'pandas.core.frame.DataFrame'>\n",
            "RangeIndex: 10000 entries, 0 to 9999\n",
            "Data columns (total 30 columns):\n",
            " #   Column             Non-Null Count  Dtype  \n",
            "---  ------             --------------  -----  \n",
            " 0   Unnamed: 0         10000 non-null  int64  \n",
            " 1   Year               10000 non-null  int64  \n",
            " 2   Month              10000 non-null  int64  \n",
            " 3   DayofMonth         10000 non-null  int64  \n",
            " 4   DayOfWeek          10000 non-null  int64  \n",
            " 5   DepTime            9813 non-null   float64\n",
            " 6   CRSDepTime         10000 non-null  int64  \n",
            " 7   ArrTime            9791 non-null   float64\n",
            " 8   CRSArrTime         10000 non-null  int64  \n",
            " 9   UniqueCarrier      10000 non-null  object \n",
            " 10  FlightNum          10000 non-null  int64  \n",
            " 11  TailNum            9888 non-null   object \n",
            " 12  ActualElapsedTime  9786 non-null   float64\n",
            " 13  CRSElapsedTime     9999 non-null   float64\n",
            " 14  AirTime            9786 non-null   float64\n",
            " 15  ArrDelay           9786 non-null   float64\n",
            " 16  DepDelay           9813 non-null   float64\n",
            " 17  Origin             10000 non-null  object \n",
            " 18  Dest               10000 non-null  object \n",
            " 19  Distance           10000 non-null  int64  \n",
            " 20  TaxiIn             9791 non-null   float64\n",
            " 21  TaxiOut            9811 non-null   float64\n",
            " 22  Cancelled          10000 non-null  int64  \n",
            " 23  CancellationCode   189 non-null    object \n",
            " 24  Diverted           10000 non-null  int64  \n",
            " 25  CarrierDelay       2225 non-null   float64\n",
            " 26  WeatherDelay       2225 non-null   float64\n",
            " 27  NASDelay           2225 non-null   float64\n",
            " 28  SecurityDelay      2225 non-null   float64\n",
            " 29  LateAircraftDelay  2225 non-null   float64\n",
            "dtypes: float64(14), int64(11), object(5)\n",
            "memory usage: 2.3+ MB\n"
          ]
        }
      ]
    },
    {
      "cell_type": "code",
      "metadata": {
        "colab": {
          "base_uri": "https://localhost:8080/",
          "height": 451
        },
        "id": "KgyCFSBcW2KX",
        "outputId": "c38f9f9c-9e3e-46ac-f651-6d1587f2ede4"
      },
      "source": [
        "df.sample(frac= 1) # Mostrar el dataframe desordenado"
      ],
      "execution_count": null,
      "outputs": [
        {
          "output_type": "execute_result",
          "data": {
            "text/html": [
              "<div>\n",
              "<style scoped>\n",
              "    .dataframe tbody tr th:only-of-type {\n",
              "        vertical-align: middle;\n",
              "    }\n",
              "\n",
              "    .dataframe tbody tr th {\n",
              "        vertical-align: top;\n",
              "    }\n",
              "\n",
              "    .dataframe thead th {\n",
              "        text-align: right;\n",
              "    }\n",
              "</style>\n",
              "<table border=\"1\" class=\"dataframe\">\n",
              "  <thead>\n",
              "    <tr style=\"text-align: right;\">\n",
              "      <th></th>\n",
              "      <th>Unnamed: 0</th>\n",
              "      <th>Year</th>\n",
              "      <th>Month</th>\n",
              "      <th>DayofMonth</th>\n",
              "      <th>DayOfWeek</th>\n",
              "      <th>DepTime</th>\n",
              "      <th>CRSDepTime</th>\n",
              "      <th>ArrTime</th>\n",
              "      <th>CRSArrTime</th>\n",
              "      <th>UniqueCarrier</th>\n",
              "      <th>FlightNum</th>\n",
              "      <th>TailNum</th>\n",
              "      <th>ActualElapsedTime</th>\n",
              "      <th>CRSElapsedTime</th>\n",
              "      <th>AirTime</th>\n",
              "      <th>ArrDelay</th>\n",
              "      <th>DepDelay</th>\n",
              "      <th>Origin</th>\n",
              "      <th>Dest</th>\n",
              "      <th>Distance</th>\n",
              "      <th>TaxiIn</th>\n",
              "      <th>TaxiOut</th>\n",
              "      <th>Cancelled</th>\n",
              "      <th>CancellationCode</th>\n",
              "      <th>Diverted</th>\n",
              "      <th>CarrierDelay</th>\n",
              "      <th>WeatherDelay</th>\n",
              "      <th>NASDelay</th>\n",
              "      <th>SecurityDelay</th>\n",
              "      <th>LateAircraftDelay</th>\n",
              "    </tr>\n",
              "  </thead>\n",
              "  <tbody>\n",
              "    <tr>\n",
              "      <th>3444</th>\n",
              "      <td>6652956</td>\n",
              "      <td>2008</td>\n",
              "      <td>12</td>\n",
              "      <td>12</td>\n",
              "      <td>5</td>\n",
              "      <td>1639.0</td>\n",
              "      <td>1642</td>\n",
              "      <td>1807.0</td>\n",
              "      <td>1806</td>\n",
              "      <td>OO</td>\n",
              "      <td>6491</td>\n",
              "      <td>N969SW</td>\n",
              "      <td>88.0</td>\n",
              "      <td>84.0</td>\n",
              "      <td>60.0</td>\n",
              "      <td>1.0</td>\n",
              "      <td>-3.0</td>\n",
              "      <td>LAX</td>\n",
              "      <td>SMF</td>\n",
              "      <td>373</td>\n",
              "      <td>4.0</td>\n",
              "      <td>24.0</td>\n",
              "      <td>0</td>\n",
              "      <td>NaN</td>\n",
              "      <td>0</td>\n",
              "      <td>NaN</td>\n",
              "      <td>NaN</td>\n",
              "      <td>NaN</td>\n",
              "      <td>NaN</td>\n",
              "      <td>NaN</td>\n",
              "    </tr>\n",
              "    <tr>\n",
              "      <th>5869</th>\n",
              "      <td>914839</td>\n",
              "      <td>2008</td>\n",
              "      <td>2</td>\n",
              "      <td>3</td>\n",
              "      <td>7</td>\n",
              "      <td>1122.0</td>\n",
              "      <td>1122</td>\n",
              "      <td>1249.0</td>\n",
              "      <td>1300</td>\n",
              "      <td>EV</td>\n",
              "      <td>4337</td>\n",
              "      <td>N870AS</td>\n",
              "      <td>87.0</td>\n",
              "      <td>98.0</td>\n",
              "      <td>67.0</td>\n",
              "      <td>-11.0</td>\n",
              "      <td>0.0</td>\n",
              "      <td>OAJ</td>\n",
              "      <td>ATL</td>\n",
              "      <td>399</td>\n",
              "      <td>13.0</td>\n",
              "      <td>7.0</td>\n",
              "      <td>0</td>\n",
              "      <td>NaN</td>\n",
              "      <td>0</td>\n",
              "      <td>NaN</td>\n",
              "      <td>NaN</td>\n",
              "      <td>NaN</td>\n",
              "      <td>NaN</td>\n",
              "      <td>NaN</td>\n",
              "    </tr>\n",
              "    <tr>\n",
              "      <th>598</th>\n",
              "      <td>6394402</td>\n",
              "      <td>2008</td>\n",
              "      <td>11</td>\n",
              "      <td>13</td>\n",
              "      <td>4</td>\n",
              "      <td>827.0</td>\n",
              "      <td>830</td>\n",
              "      <td>1012.0</td>\n",
              "      <td>1020</td>\n",
              "      <td>AA</td>\n",
              "      <td>2003</td>\n",
              "      <td>N5DVAA</td>\n",
              "      <td>165.0</td>\n",
              "      <td>170.0</td>\n",
              "      <td>137.0</td>\n",
              "      <td>-8.0</td>\n",
              "      <td>-3.0</td>\n",
              "      <td>BOS</td>\n",
              "      <td>ORD</td>\n",
              "      <td>867</td>\n",
              "      <td>12.0</td>\n",
              "      <td>16.0</td>\n",
              "      <td>0</td>\n",
              "      <td>NaN</td>\n",
              "      <td>0</td>\n",
              "      <td>NaN</td>\n",
              "      <td>NaN</td>\n",
              "      <td>NaN</td>\n",
              "      <td>NaN</td>\n",
              "      <td>NaN</td>\n",
              "    </tr>\n",
              "    <tr>\n",
              "      <th>6492</th>\n",
              "      <td>6009546</td>\n",
              "      <td>2008</td>\n",
              "      <td>11</td>\n",
              "      <td>24</td>\n",
              "      <td>1</td>\n",
              "      <td>755.0</td>\n",
              "      <td>800</td>\n",
              "      <td>1016.0</td>\n",
              "      <td>1040</td>\n",
              "      <td>WN</td>\n",
              "      <td>3576</td>\n",
              "      <td>N913WN</td>\n",
              "      <td>141.0</td>\n",
              "      <td>160.0</td>\n",
              "      <td>131.0</td>\n",
              "      <td>-24.0</td>\n",
              "      <td>-5.0</td>\n",
              "      <td>DTW</td>\n",
              "      <td>MCO</td>\n",
              "      <td>957</td>\n",
              "      <td>5.0</td>\n",
              "      <td>5.0</td>\n",
              "      <td>0</td>\n",
              "      <td>NaN</td>\n",
              "      <td>0</td>\n",
              "      <td>NaN</td>\n",
              "      <td>NaN</td>\n",
              "      <td>NaN</td>\n",
              "      <td>NaN</td>\n",
              "      <td>NaN</td>\n",
              "    </tr>\n",
              "    <tr>\n",
              "      <th>9140</th>\n",
              "      <td>3701459</td>\n",
              "      <td>2008</td>\n",
              "      <td>7</td>\n",
              "      <td>31</td>\n",
              "      <td>4</td>\n",
              "      <td>1939.0</td>\n",
              "      <td>1625</td>\n",
              "      <td>2042.0</td>\n",
              "      <td>1725</td>\n",
              "      <td>WN</td>\n",
              "      <td>87</td>\n",
              "      <td>N413WN</td>\n",
              "      <td>63.0</td>\n",
              "      <td>60.0</td>\n",
              "      <td>42.0</td>\n",
              "      <td>197.0</td>\n",
              "      <td>194.0</td>\n",
              "      <td>TPA</td>\n",
              "      <td>FLL</td>\n",
              "      <td>197</td>\n",
              "      <td>11.0</td>\n",
              "      <td>10.0</td>\n",
              "      <td>0</td>\n",
              "      <td>NaN</td>\n",
              "      <td>0</td>\n",
              "      <td>0.0</td>\n",
              "      <td>38.0</td>\n",
              "      <td>3.0</td>\n",
              "      <td>0.0</td>\n",
              "      <td>156.0</td>\n",
              "    </tr>\n",
              "    <tr>\n",
              "      <th>...</th>\n",
              "      <td>...</td>\n",
              "      <td>...</td>\n",
              "      <td>...</td>\n",
              "      <td>...</td>\n",
              "      <td>...</td>\n",
              "      <td>...</td>\n",
              "      <td>...</td>\n",
              "      <td>...</td>\n",
              "      <td>...</td>\n",
              "      <td>...</td>\n",
              "      <td>...</td>\n",
              "      <td>...</td>\n",
              "      <td>...</td>\n",
              "      <td>...</td>\n",
              "      <td>...</td>\n",
              "      <td>...</td>\n",
              "      <td>...</td>\n",
              "      <td>...</td>\n",
              "      <td>...</td>\n",
              "      <td>...</td>\n",
              "      <td>...</td>\n",
              "      <td>...</td>\n",
              "      <td>...</td>\n",
              "      <td>...</td>\n",
              "      <td>...</td>\n",
              "      <td>...</td>\n",
              "      <td>...</td>\n",
              "      <td>...</td>\n",
              "      <td>...</td>\n",
              "      <td>...</td>\n",
              "    </tr>\n",
              "    <tr>\n",
              "      <th>7406</th>\n",
              "      <td>2822901</td>\n",
              "      <td>2008</td>\n",
              "      <td>5</td>\n",
              "      <td>16</td>\n",
              "      <td>5</td>\n",
              "      <td>1207.0</td>\n",
              "      <td>1215</td>\n",
              "      <td>1732.0</td>\n",
              "      <td>1732</td>\n",
              "      <td>NW</td>\n",
              "      <td>590</td>\n",
              "      <td>N556NW</td>\n",
              "      <td>205.0</td>\n",
              "      <td>197.0</td>\n",
              "      <td>180.0</td>\n",
              "      <td>0.0</td>\n",
              "      <td>-8.0</td>\n",
              "      <td>PDX</td>\n",
              "      <td>MSP</td>\n",
              "      <td>1426</td>\n",
              "      <td>5.0</td>\n",
              "      <td>20.0</td>\n",
              "      <td>0</td>\n",
              "      <td>NaN</td>\n",
              "      <td>0</td>\n",
              "      <td>NaN</td>\n",
              "      <td>NaN</td>\n",
              "      <td>NaN</td>\n",
              "      <td>NaN</td>\n",
              "      <td>NaN</td>\n",
              "    </tr>\n",
              "    <tr>\n",
              "      <th>2391</th>\n",
              "      <td>4957555</td>\n",
              "      <td>2008</td>\n",
              "      <td>9</td>\n",
              "      <td>18</td>\n",
              "      <td>4</td>\n",
              "      <td>858.0</td>\n",
              "      <td>905</td>\n",
              "      <td>1131.0</td>\n",
              "      <td>1138</td>\n",
              "      <td>XE</td>\n",
              "      <td>2246</td>\n",
              "      <td>N17115</td>\n",
              "      <td>153.0</td>\n",
              "      <td>153.0</td>\n",
              "      <td>121.0</td>\n",
              "      <td>-7.0</td>\n",
              "      <td>-7.0</td>\n",
              "      <td>IAH</td>\n",
              "      <td>ORD</td>\n",
              "      <td>925</td>\n",
              "      <td>11.0</td>\n",
              "      <td>21.0</td>\n",
              "      <td>0</td>\n",
              "      <td>NaN</td>\n",
              "      <td>0</td>\n",
              "      <td>NaN</td>\n",
              "      <td>NaN</td>\n",
              "      <td>NaN</td>\n",
              "      <td>NaN</td>\n",
              "      <td>NaN</td>\n",
              "    </tr>\n",
              "    <tr>\n",
              "      <th>1367</th>\n",
              "      <td>5161808</td>\n",
              "      <td>2008</td>\n",
              "      <td>9</td>\n",
              "      <td>2</td>\n",
              "      <td>2</td>\n",
              "      <td>1010.0</td>\n",
              "      <td>1015</td>\n",
              "      <td>1528.0</td>\n",
              "      <td>1545</td>\n",
              "      <td>FL</td>\n",
              "      <td>349</td>\n",
              "      <td>N176AT</td>\n",
              "      <td>198.0</td>\n",
              "      <td>210.0</td>\n",
              "      <td>176.0</td>\n",
              "      <td>-17.0</td>\n",
              "      <td>-5.0</td>\n",
              "      <td>LAS</td>\n",
              "      <td>MKE</td>\n",
              "      <td>1524</td>\n",
              "      <td>10.0</td>\n",
              "      <td>12.0</td>\n",
              "      <td>0</td>\n",
              "      <td>NaN</td>\n",
              "      <td>0</td>\n",
              "      <td>NaN</td>\n",
              "      <td>NaN</td>\n",
              "      <td>NaN</td>\n",
              "      <td>NaN</td>\n",
              "      <td>NaN</td>\n",
              "    </tr>\n",
              "    <tr>\n",
              "      <th>4381</th>\n",
              "      <td>6645829</td>\n",
              "      <td>2008</td>\n",
              "      <td>12</td>\n",
              "      <td>1</td>\n",
              "      <td>1</td>\n",
              "      <td>825.0</td>\n",
              "      <td>816</td>\n",
              "      <td>1109.0</td>\n",
              "      <td>1014</td>\n",
              "      <td>OO</td>\n",
              "      <td>6017</td>\n",
              "      <td>N934SW</td>\n",
              "      <td>164.0</td>\n",
              "      <td>118.0</td>\n",
              "      <td>83.0</td>\n",
              "      <td>55.0</td>\n",
              "      <td>9.0</td>\n",
              "      <td>ORD</td>\n",
              "      <td>ICT</td>\n",
              "      <td>588</td>\n",
              "      <td>6.0</td>\n",
              "      <td>75.0</td>\n",
              "      <td>0</td>\n",
              "      <td>NaN</td>\n",
              "      <td>0</td>\n",
              "      <td>0.0</td>\n",
              "      <td>2.0</td>\n",
              "      <td>46.0</td>\n",
              "      <td>0.0</td>\n",
              "      <td>7.0</td>\n",
              "    </tr>\n",
              "    <tr>\n",
              "      <th>8700</th>\n",
              "      <td>5948865</td>\n",
              "      <td>2008</td>\n",
              "      <td>11</td>\n",
              "      <td>5</td>\n",
              "      <td>3</td>\n",
              "      <td>918.0</td>\n",
              "      <td>920</td>\n",
              "      <td>1038.0</td>\n",
              "      <td>1045</td>\n",
              "      <td>WN</td>\n",
              "      <td>1469</td>\n",
              "      <td>N257WN</td>\n",
              "      <td>80.0</td>\n",
              "      <td>85.0</td>\n",
              "      <td>67.0</td>\n",
              "      <td>-7.0</td>\n",
              "      <td>-2.0</td>\n",
              "      <td>MSY</td>\n",
              "      <td>DAL</td>\n",
              "      <td>437</td>\n",
              "      <td>6.0</td>\n",
              "      <td>7.0</td>\n",
              "      <td>0</td>\n",
              "      <td>NaN</td>\n",
              "      <td>0</td>\n",
              "      <td>NaN</td>\n",
              "      <td>NaN</td>\n",
              "      <td>NaN</td>\n",
              "      <td>NaN</td>\n",
              "      <td>NaN</td>\n",
              "    </tr>\n",
              "  </tbody>\n",
              "</table>\n",
              "<p>10000 rows × 30 columns</p>\n",
              "</div>"
            ],
            "text/plain": [
              "      Unnamed: 0  Year  Month  ...  NASDelay  SecurityDelay  LateAircraftDelay\n",
              "3444     6652956  2008     12  ...       NaN            NaN                NaN\n",
              "5869      914839  2008      2  ...       NaN            NaN                NaN\n",
              "598      6394402  2008     11  ...       NaN            NaN                NaN\n",
              "6492     6009546  2008     11  ...       NaN            NaN                NaN\n",
              "9140     3701459  2008      7  ...       3.0            0.0              156.0\n",
              "...          ...   ...    ...  ...       ...            ...                ...\n",
              "7406     2822901  2008      5  ...       NaN            NaN                NaN\n",
              "2391     4957555  2008      9  ...       NaN            NaN                NaN\n",
              "1367     5161808  2008      9  ...       NaN            NaN                NaN\n",
              "4381     6645829  2008     12  ...      46.0            0.0                7.0\n",
              "8700     5948865  2008     11  ...       NaN            NaN                NaN\n",
              "\n",
              "[10000 rows x 30 columns]"
            ]
          },
          "metadata": {},
          "execution_count": 11
        }
      ]
    },
    {
      "cell_type": "code",
      "metadata": {
        "colab": {
          "base_uri": "https://localhost:8080/"
        },
        "id": "O0skSmwLXDev",
        "outputId": "6cc7f48b-f7a8-41d2-fa3a-964d306c9b80"
      },
      "source": [
        "df.columns"
      ],
      "execution_count": null,
      "outputs": [
        {
          "output_type": "execute_result",
          "data": {
            "text/plain": [
              "Index(['Unnamed: 0', 'Year', 'Month', 'DayofMonth', 'DayOfWeek', 'DepTime',\n",
              "       'CRSDepTime', 'ArrTime', 'CRSArrTime', 'UniqueCarrier', 'FlightNum',\n",
              "       'TailNum', 'ActualElapsedTime', 'CRSElapsedTime', 'AirTime', 'ArrDelay',\n",
              "       'DepDelay', 'Origin', 'Dest', 'Distance', 'TaxiIn', 'TaxiOut',\n",
              "       'Cancelled', 'CancellationCode', 'Diverted', 'CarrierDelay',\n",
              "       'WeatherDelay', 'NASDelay', 'SecurityDelay', 'LateAircraftDelay'],\n",
              "      dtype='object')"
            ]
          },
          "metadata": {},
          "execution_count": 12
        }
      ]
    },
    {
      "cell_type": "code",
      "metadata": {
        "colab": {
          "base_uri": "https://localhost:8080/"
        },
        "id": "JUshOtqYXH3-",
        "outputId": "9b87b616-3661-4871-df4a-25a850d7fe9f"
      },
      "source": [
        "df.DepTime"
      ],
      "execution_count": null,
      "outputs": [
        {
          "output_type": "execute_result",
          "data": {
            "text/plain": [
              "0       1607.0\n",
              "1       1956.0\n",
              "2        921.0\n",
              "3       1444.0\n",
              "4        556.0\n",
              "         ...  \n",
              "9995    2249.0\n",
              "9996    1127.0\n",
              "9997    1103.0\n",
              "9998    1709.0\n",
              "9999     810.0\n",
              "Name: DepTime, Length: 10000, dtype: float64"
            ]
          },
          "metadata": {},
          "execution_count": 13
        }
      ]
    },
    {
      "cell_type": "code",
      "metadata": {
        "colab": {
          "base_uri": "https://localhost:8080/"
        },
        "id": "kGOQign4XKpB",
        "outputId": "56781b76-9047-40cb-e1cf-b3c0797cc122"
      },
      "source": [
        "df.dtypes"
      ],
      "execution_count": null,
      "outputs": [
        {
          "output_type": "execute_result",
          "data": {
            "text/plain": [
              "Unnamed: 0             int64\n",
              "Year                   int64\n",
              "Month                  int64\n",
              "DayofMonth             int64\n",
              "DayOfWeek              int64\n",
              "DepTime              float64\n",
              "CRSDepTime             int64\n",
              "ArrTime              float64\n",
              "CRSArrTime             int64\n",
              "UniqueCarrier         object\n",
              "FlightNum              int64\n",
              "TailNum               object\n",
              "ActualElapsedTime    float64\n",
              "CRSElapsedTime       float64\n",
              "AirTime              float64\n",
              "ArrDelay             float64\n",
              "DepDelay             float64\n",
              "Origin                object\n",
              "Dest                  object\n",
              "Distance               int64\n",
              "TaxiIn               float64\n",
              "TaxiOut              float64\n",
              "Cancelled              int64\n",
              "CancellationCode      object\n",
              "Diverted               int64\n",
              "CarrierDelay         float64\n",
              "WeatherDelay         float64\n",
              "NASDelay             float64\n",
              "SecurityDelay        float64\n",
              "LateAircraftDelay    float64\n",
              "dtype: object"
            ]
          },
          "metadata": {},
          "execution_count": 14
        }
      ]
    },
    {
      "cell_type": "code",
      "metadata": {
        "colab": {
          "base_uri": "https://localhost:8080/"
        },
        "id": "uTY8XfLxXQ1H",
        "outputId": "d8eacfeb-d809-4140-bdb5-708bf7aa55a6"
      },
      "source": [
        "df.values # para operaciones matriciales y así"
      ],
      "execution_count": null,
      "outputs": [
        {
          "output_type": "execute_result",
          "data": {
            "text/plain": [
              "array([[6193029, 2008, 11, ..., nan, nan, nan],\n",
              "       [2566613, 2008, 5, ..., nan, nan, nan],\n",
              "       [873200, 2008, 2, ..., nan, nan, nan],\n",
              "       ...,\n",
              "       [497153, 2008, 1, ..., 21.0, 0.0, 0.0],\n",
              "       [2017490, 2008, 4, ..., nan, nan, nan],\n",
              "       [897650, 2008, 2, ..., nan, nan, nan]], dtype=object)"
            ]
          },
          "metadata": {},
          "execution_count": 15
        }
      ]
    },
    {
      "cell_type": "code",
      "metadata": {
        "colab": {
          "base_uri": "https://localhost:8080/",
          "height": 392
        },
        "id": "139mZrkGXUf6",
        "outputId": "45156457-5ae7-4b90-b7f0-cd020b1db921"
      },
      "source": [
        "df2 = df.head(10)\n",
        "df2"
      ],
      "execution_count": null,
      "outputs": [
        {
          "output_type": "execute_result",
          "data": {
            "text/html": [
              "<div>\n",
              "<style scoped>\n",
              "    .dataframe tbody tr th:only-of-type {\n",
              "        vertical-align: middle;\n",
              "    }\n",
              "\n",
              "    .dataframe tbody tr th {\n",
              "        vertical-align: top;\n",
              "    }\n",
              "\n",
              "    .dataframe thead th {\n",
              "        text-align: right;\n",
              "    }\n",
              "</style>\n",
              "<table border=\"1\" class=\"dataframe\">\n",
              "  <thead>\n",
              "    <tr style=\"text-align: right;\">\n",
              "      <th></th>\n",
              "      <th>Unnamed: 0</th>\n",
              "      <th>Year</th>\n",
              "      <th>Month</th>\n",
              "      <th>DayofMonth</th>\n",
              "      <th>DayOfWeek</th>\n",
              "      <th>DepTime</th>\n",
              "      <th>CRSDepTime</th>\n",
              "      <th>ArrTime</th>\n",
              "      <th>CRSArrTime</th>\n",
              "      <th>UniqueCarrier</th>\n",
              "      <th>FlightNum</th>\n",
              "      <th>TailNum</th>\n",
              "      <th>ActualElapsedTime</th>\n",
              "      <th>CRSElapsedTime</th>\n",
              "      <th>AirTime</th>\n",
              "      <th>ArrDelay</th>\n",
              "      <th>DepDelay</th>\n",
              "      <th>Origin</th>\n",
              "      <th>Dest</th>\n",
              "      <th>Distance</th>\n",
              "      <th>TaxiIn</th>\n",
              "      <th>TaxiOut</th>\n",
              "      <th>Cancelled</th>\n",
              "      <th>CancellationCode</th>\n",
              "      <th>Diverted</th>\n",
              "      <th>CarrierDelay</th>\n",
              "      <th>WeatherDelay</th>\n",
              "      <th>NASDelay</th>\n",
              "      <th>SecurityDelay</th>\n",
              "      <th>LateAircraftDelay</th>\n",
              "    </tr>\n",
              "  </thead>\n",
              "  <tbody>\n",
              "    <tr>\n",
              "      <th>0</th>\n",
              "      <td>6193029</td>\n",
              "      <td>2008</td>\n",
              "      <td>11</td>\n",
              "      <td>28</td>\n",
              "      <td>5</td>\n",
              "      <td>1607.0</td>\n",
              "      <td>1610</td>\n",
              "      <td>5.0</td>\n",
              "      <td>10</td>\n",
              "      <td>US</td>\n",
              "      <td>882</td>\n",
              "      <td>N933UW</td>\n",
              "      <td>298.0</td>\n",
              "      <td>300.0</td>\n",
              "      <td>274.0</td>\n",
              "      <td>-5.0</td>\n",
              "      <td>-3.0</td>\n",
              "      <td>LAS</td>\n",
              "      <td>BOS</td>\n",
              "      <td>2381</td>\n",
              "      <td>6.0</td>\n",
              "      <td>18.0</td>\n",
              "      <td>0</td>\n",
              "      <td>NaN</td>\n",
              "      <td>0</td>\n",
              "      <td>NaN</td>\n",
              "      <td>NaN</td>\n",
              "      <td>NaN</td>\n",
              "      <td>NaN</td>\n",
              "      <td>NaN</td>\n",
              "    </tr>\n",
              "    <tr>\n",
              "      <th>1</th>\n",
              "      <td>2566613</td>\n",
              "      <td>2008</td>\n",
              "      <td>5</td>\n",
              "      <td>7</td>\n",
              "      <td>3</td>\n",
              "      <td>1956.0</td>\n",
              "      <td>1946</td>\n",
              "      <td>2054.0</td>\n",
              "      <td>2049</td>\n",
              "      <td>OO</td>\n",
              "      <td>5455</td>\n",
              "      <td>N576SW</td>\n",
              "      <td>58.0</td>\n",
              "      <td>63.0</td>\n",
              "      <td>47.0</td>\n",
              "      <td>5.0</td>\n",
              "      <td>10.0</td>\n",
              "      <td>SBP</td>\n",
              "      <td>SFO</td>\n",
              "      <td>191</td>\n",
              "      <td>4.0</td>\n",
              "      <td>7.0</td>\n",
              "      <td>0</td>\n",
              "      <td>NaN</td>\n",
              "      <td>0</td>\n",
              "      <td>NaN</td>\n",
              "      <td>NaN</td>\n",
              "      <td>NaN</td>\n",
              "      <td>NaN</td>\n",
              "      <td>NaN</td>\n",
              "    </tr>\n",
              "    <tr>\n",
              "      <th>2</th>\n",
              "      <td>873200</td>\n",
              "      <td>2008</td>\n",
              "      <td>2</td>\n",
              "      <td>21</td>\n",
              "      <td>4</td>\n",
              "      <td>921.0</td>\n",
              "      <td>930</td>\n",
              "      <td>1122.0</td>\n",
              "      <td>1141</td>\n",
              "      <td>US</td>\n",
              "      <td>1800</td>\n",
              "      <td>N747UW</td>\n",
              "      <td>121.0</td>\n",
              "      <td>131.0</td>\n",
              "      <td>101.0</td>\n",
              "      <td>-19.0</td>\n",
              "      <td>-9.0</td>\n",
              "      <td>CLT</td>\n",
              "      <td>BOS</td>\n",
              "      <td>728</td>\n",
              "      <td>3.0</td>\n",
              "      <td>17.0</td>\n",
              "      <td>0</td>\n",
              "      <td>NaN</td>\n",
              "      <td>0</td>\n",
              "      <td>NaN</td>\n",
              "      <td>NaN</td>\n",
              "      <td>NaN</td>\n",
              "      <td>NaN</td>\n",
              "      <td>NaN</td>\n",
              "    </tr>\n",
              "    <tr>\n",
              "      <th>3</th>\n",
              "      <td>1510383</td>\n",
              "      <td>2008</td>\n",
              "      <td>3</td>\n",
              "      <td>28</td>\n",
              "      <td>5</td>\n",
              "      <td>1444.0</td>\n",
              "      <td>1429</td>\n",
              "      <td>1711.0</td>\n",
              "      <td>1638</td>\n",
              "      <td>EV</td>\n",
              "      <td>4446</td>\n",
              "      <td>N718EV</td>\n",
              "      <td>147.0</td>\n",
              "      <td>129.0</td>\n",
              "      <td>103.0</td>\n",
              "      <td>33.0</td>\n",
              "      <td>15.0</td>\n",
              "      <td>ATL</td>\n",
              "      <td>ALB</td>\n",
              "      <td>852</td>\n",
              "      <td>2.0</td>\n",
              "      <td>42.0</td>\n",
              "      <td>0</td>\n",
              "      <td>NaN</td>\n",
              "      <td>0</td>\n",
              "      <td>15.0</td>\n",
              "      <td>0.0</td>\n",
              "      <td>18.0</td>\n",
              "      <td>0.0</td>\n",
              "      <td>0.0</td>\n",
              "    </tr>\n",
              "    <tr>\n",
              "      <th>4</th>\n",
              "      <td>1164410</td>\n",
              "      <td>2008</td>\n",
              "      <td>2</td>\n",
              "      <td>6</td>\n",
              "      <td>3</td>\n",
              "      <td>556.0</td>\n",
              "      <td>600</td>\n",
              "      <td>1137.0</td>\n",
              "      <td>1128</td>\n",
              "      <td>DL</td>\n",
              "      <td>476</td>\n",
              "      <td>N615DL</td>\n",
              "      <td>221.0</td>\n",
              "      <td>208.0</td>\n",
              "      <td>201.0</td>\n",
              "      <td>9.0</td>\n",
              "      <td>-4.0</td>\n",
              "      <td>PHX</td>\n",
              "      <td>ATL</td>\n",
              "      <td>1587</td>\n",
              "      <td>7.0</td>\n",
              "      <td>13.0</td>\n",
              "      <td>0</td>\n",
              "      <td>NaN</td>\n",
              "      <td>0</td>\n",
              "      <td>NaN</td>\n",
              "      <td>NaN</td>\n",
              "      <td>NaN</td>\n",
              "      <td>NaN</td>\n",
              "      <td>NaN</td>\n",
              "    </tr>\n",
              "    <tr>\n",
              "      <th>5</th>\n",
              "      <td>666858</td>\n",
              "      <td>2008</td>\n",
              "      <td>2</td>\n",
              "      <td>21</td>\n",
              "      <td>4</td>\n",
              "      <td>852.0</td>\n",
              "      <td>850</td>\n",
              "      <td>943.0</td>\n",
              "      <td>950</td>\n",
              "      <td>WN</td>\n",
              "      <td>2614</td>\n",
              "      <td>N316SW</td>\n",
              "      <td>111.0</td>\n",
              "      <td>120.0</td>\n",
              "      <td>98.0</td>\n",
              "      <td>-7.0</td>\n",
              "      <td>2.0</td>\n",
              "      <td>MCO</td>\n",
              "      <td>BNA</td>\n",
              "      <td>616</td>\n",
              "      <td>6.0</td>\n",
              "      <td>7.0</td>\n",
              "      <td>0</td>\n",
              "      <td>NaN</td>\n",
              "      <td>0</td>\n",
              "      <td>NaN</td>\n",
              "      <td>NaN</td>\n",
              "      <td>NaN</td>\n",
              "      <td>NaN</td>\n",
              "      <td>NaN</td>\n",
              "    </tr>\n",
              "    <tr>\n",
              "      <th>6</th>\n",
              "      <td>3626868</td>\n",
              "      <td>2008</td>\n",
              "      <td>7</td>\n",
              "      <td>9</td>\n",
              "      <td>3</td>\n",
              "      <td>1824.0</td>\n",
              "      <td>1825</td>\n",
              "      <td>1919.0</td>\n",
              "      <td>1925</td>\n",
              "      <td>WN</td>\n",
              "      <td>1134</td>\n",
              "      <td>N741SA</td>\n",
              "      <td>55.0</td>\n",
              "      <td>60.0</td>\n",
              "      <td>45.0</td>\n",
              "      <td>-6.0</td>\n",
              "      <td>-1.0</td>\n",
              "      <td>SAT</td>\n",
              "      <td>DAL</td>\n",
              "      <td>248</td>\n",
              "      <td>3.0</td>\n",
              "      <td>7.0</td>\n",
              "      <td>0</td>\n",
              "      <td>NaN</td>\n",
              "      <td>0</td>\n",
              "      <td>NaN</td>\n",
              "      <td>NaN</td>\n",
              "      <td>NaN</td>\n",
              "      <td>NaN</td>\n",
              "      <td>NaN</td>\n",
              "    </tr>\n",
              "    <tr>\n",
              "      <th>7</th>\n",
              "      <td>6780985</td>\n",
              "      <td>2008</td>\n",
              "      <td>12</td>\n",
              "      <td>8</td>\n",
              "      <td>1</td>\n",
              "      <td>2145.0</td>\n",
              "      <td>2144</td>\n",
              "      <td>2231.0</td>\n",
              "      <td>2246</td>\n",
              "      <td>EV</td>\n",
              "      <td>5126</td>\n",
              "      <td>N857AS</td>\n",
              "      <td>46.0</td>\n",
              "      <td>62.0</td>\n",
              "      <td>29.0</td>\n",
              "      <td>-15.0</td>\n",
              "      <td>1.0</td>\n",
              "      <td>ATL</td>\n",
              "      <td>AVL</td>\n",
              "      <td>164</td>\n",
              "      <td>2.0</td>\n",
              "      <td>15.0</td>\n",
              "      <td>0</td>\n",
              "      <td>NaN</td>\n",
              "      <td>0</td>\n",
              "      <td>NaN</td>\n",
              "      <td>NaN</td>\n",
              "      <td>NaN</td>\n",
              "      <td>NaN</td>\n",
              "      <td>NaN</td>\n",
              "    </tr>\n",
              "    <tr>\n",
              "      <th>8</th>\n",
              "      <td>1354034</td>\n",
              "      <td>2008</td>\n",
              "      <td>3</td>\n",
              "      <td>5</td>\n",
              "      <td>3</td>\n",
              "      <td>1910.0</td>\n",
              "      <td>1915</td>\n",
              "      <td>2217.0</td>\n",
              "      <td>2229</td>\n",
              "      <td>OO</td>\n",
              "      <td>6714</td>\n",
              "      <td>N916SW</td>\n",
              "      <td>127.0</td>\n",
              "      <td>134.0</td>\n",
              "      <td>105.0</td>\n",
              "      <td>-12.0</td>\n",
              "      <td>-5.0</td>\n",
              "      <td>DEN</td>\n",
              "      <td>MEM</td>\n",
              "      <td>872</td>\n",
              "      <td>4.0</td>\n",
              "      <td>18.0</td>\n",
              "      <td>0</td>\n",
              "      <td>NaN</td>\n",
              "      <td>0</td>\n",
              "      <td>NaN</td>\n",
              "      <td>NaN</td>\n",
              "      <td>NaN</td>\n",
              "      <td>NaN</td>\n",
              "      <td>NaN</td>\n",
              "    </tr>\n",
              "    <tr>\n",
              "      <th>9</th>\n",
              "      <td>4985402</td>\n",
              "      <td>2008</td>\n",
              "      <td>9</td>\n",
              "      <td>14</td>\n",
              "      <td>7</td>\n",
              "      <td>1230.0</td>\n",
              "      <td>1230</td>\n",
              "      <td>NaN</td>\n",
              "      <td>1427</td>\n",
              "      <td>OH</td>\n",
              "      <td>6480</td>\n",
              "      <td>N916CA</td>\n",
              "      <td>NaN</td>\n",
              "      <td>117.0</td>\n",
              "      <td>NaN</td>\n",
              "      <td>NaN</td>\n",
              "      <td>0.0</td>\n",
              "      <td>JAX</td>\n",
              "      <td>CVG</td>\n",
              "      <td>614</td>\n",
              "      <td>NaN</td>\n",
              "      <td>9.0</td>\n",
              "      <td>0</td>\n",
              "      <td>NaN</td>\n",
              "      <td>1</td>\n",
              "      <td>NaN</td>\n",
              "      <td>NaN</td>\n",
              "      <td>NaN</td>\n",
              "      <td>NaN</td>\n",
              "      <td>NaN</td>\n",
              "    </tr>\n",
              "  </tbody>\n",
              "</table>\n",
              "</div>"
            ],
            "text/plain": [
              "   Unnamed: 0  Year  Month  ...  NASDelay  SecurityDelay  LateAircraftDelay\n",
              "0     6193029  2008     11  ...       NaN            NaN                NaN\n",
              "1     2566613  2008      5  ...       NaN            NaN                NaN\n",
              "2      873200  2008      2  ...       NaN            NaN                NaN\n",
              "3     1510383  2008      3  ...      18.0            0.0                0.0\n",
              "4     1164410  2008      2  ...       NaN            NaN                NaN\n",
              "5      666858  2008      2  ...       NaN            NaN                NaN\n",
              "6     3626868  2008      7  ...       NaN            NaN                NaN\n",
              "7     6780985  2008     12  ...       NaN            NaN                NaN\n",
              "8     1354034  2008      3  ...       NaN            NaN                NaN\n",
              "9     4985402  2008      9  ...       NaN            NaN                NaN\n",
              "\n",
              "[10 rows x 30 columns]"
            ]
          },
          "metadata": {},
          "execution_count": 16
        }
      ]
    },
    {
      "cell_type": "markdown",
      "metadata": {
        "id": "h1nE9RQlXj-4"
      },
      "source": [
        "#### Filtrar datos en python"
      ]
    },
    {
      "cell_type": "markdown",
      "metadata": {
        "id": "Vfs4JA1ubHtL"
      },
      "source": [
        "- [How to Filter Data in Python Pandas Dataframes using Conditional Statements](https://medium.com/@AIWatson/how-to-filter-data-in-python-pandas-dataframes-using-conditional-statements-69c4bb842de8)"
      ]
    },
    {
      "cell_type": "code",
      "metadata": {
        "colab": {
          "base_uri": "https://localhost:8080/"
        },
        "id": "k2duKz5TXyI2",
        "outputId": "04428997-4fe2-4901-e810-8170fe947133"
      },
      "source": [
        "df.ArrDelay.head()"
      ],
      "execution_count": null,
      "outputs": [
        {
          "output_type": "execute_result",
          "data": {
            "text/plain": [
              "0    -5.0\n",
              "1     5.0\n",
              "2   -19.0\n",
              "3    33.0\n",
              "4     9.0\n",
              "Name: ArrDelay, dtype: float64"
            ]
          },
          "metadata": {},
          "execution_count": 17
        }
      ]
    },
    {
      "cell_type": "code",
      "metadata": {
        "colab": {
          "base_uri": "https://localhost:8080/",
          "height": 238
        },
        "id": "JIqURAtqXleR",
        "outputId": "2d51f0fe-4e7f-4143-b8c1-df13ed6e9a73"
      },
      "source": [
        "df[50:55]"
      ],
      "execution_count": null,
      "outputs": [
        {
          "output_type": "execute_result",
          "data": {
            "text/html": [
              "<div>\n",
              "<style scoped>\n",
              "    .dataframe tbody tr th:only-of-type {\n",
              "        vertical-align: middle;\n",
              "    }\n",
              "\n",
              "    .dataframe tbody tr th {\n",
              "        vertical-align: top;\n",
              "    }\n",
              "\n",
              "    .dataframe thead th {\n",
              "        text-align: right;\n",
              "    }\n",
              "</style>\n",
              "<table border=\"1\" class=\"dataframe\">\n",
              "  <thead>\n",
              "    <tr style=\"text-align: right;\">\n",
              "      <th></th>\n",
              "      <th>Unnamed: 0</th>\n",
              "      <th>Year</th>\n",
              "      <th>Month</th>\n",
              "      <th>DayofMonth</th>\n",
              "      <th>DayOfWeek</th>\n",
              "      <th>DepTime</th>\n",
              "      <th>CRSDepTime</th>\n",
              "      <th>ArrTime</th>\n",
              "      <th>CRSArrTime</th>\n",
              "      <th>UniqueCarrier</th>\n",
              "      <th>FlightNum</th>\n",
              "      <th>TailNum</th>\n",
              "      <th>ActualElapsedTime</th>\n",
              "      <th>CRSElapsedTime</th>\n",
              "      <th>AirTime</th>\n",
              "      <th>ArrDelay</th>\n",
              "      <th>DepDelay</th>\n",
              "      <th>Origin</th>\n",
              "      <th>Dest</th>\n",
              "      <th>Distance</th>\n",
              "      <th>TaxiIn</th>\n",
              "      <th>TaxiOut</th>\n",
              "      <th>Cancelled</th>\n",
              "      <th>CancellationCode</th>\n",
              "      <th>Diverted</th>\n",
              "      <th>CarrierDelay</th>\n",
              "      <th>WeatherDelay</th>\n",
              "      <th>NASDelay</th>\n",
              "      <th>SecurityDelay</th>\n",
              "      <th>LateAircraftDelay</th>\n",
              "    </tr>\n",
              "  </thead>\n",
              "  <tbody>\n",
              "    <tr>\n",
              "      <th>50</th>\n",
              "      <td>896281</td>\n",
              "      <td>2008</td>\n",
              "      <td>2</td>\n",
              "      <td>19</td>\n",
              "      <td>2</td>\n",
              "      <td>917.0</td>\n",
              "      <td>919</td>\n",
              "      <td>1053.0</td>\n",
              "      <td>1106</td>\n",
              "      <td>DL</td>\n",
              "      <td>1461</td>\n",
              "      <td>N624DL</td>\n",
              "      <td>96.0</td>\n",
              "      <td>107.0</td>\n",
              "      <td>73.0</td>\n",
              "      <td>-13.0</td>\n",
              "      <td>-2.0</td>\n",
              "      <td>ATL</td>\n",
              "      <td>RSW</td>\n",
              "      <td>515</td>\n",
              "      <td>5.0</td>\n",
              "      <td>18.0</td>\n",
              "      <td>0</td>\n",
              "      <td>NaN</td>\n",
              "      <td>0</td>\n",
              "      <td>NaN</td>\n",
              "      <td>NaN</td>\n",
              "      <td>NaN</td>\n",
              "      <td>NaN</td>\n",
              "      <td>NaN</td>\n",
              "    </tr>\n",
              "    <tr>\n",
              "      <th>51</th>\n",
              "      <td>3499203</td>\n",
              "      <td>2008</td>\n",
              "      <td>6</td>\n",
              "      <td>13</td>\n",
              "      <td>5</td>\n",
              "      <td>2255.0</td>\n",
              "      <td>2300</td>\n",
              "      <td>2337.0</td>\n",
              "      <td>2350</td>\n",
              "      <td>AA</td>\n",
              "      <td>1274</td>\n",
              "      <td>N4XPAA</td>\n",
              "      <td>42.0</td>\n",
              "      <td>50.0</td>\n",
              "      <td>31.0</td>\n",
              "      <td>-13.0</td>\n",
              "      <td>-5.0</td>\n",
              "      <td>DFW</td>\n",
              "      <td>AUS</td>\n",
              "      <td>190</td>\n",
              "      <td>4.0</td>\n",
              "      <td>7.0</td>\n",
              "      <td>0</td>\n",
              "      <td>NaN</td>\n",
              "      <td>0</td>\n",
              "      <td>NaN</td>\n",
              "      <td>NaN</td>\n",
              "      <td>NaN</td>\n",
              "      <td>NaN</td>\n",
              "      <td>NaN</td>\n",
              "    </tr>\n",
              "    <tr>\n",
              "      <th>52</th>\n",
              "      <td>6596444</td>\n",
              "      <td>2008</td>\n",
              "      <td>12</td>\n",
              "      <td>25</td>\n",
              "      <td>4</td>\n",
              "      <td>1005.0</td>\n",
              "      <td>1002</td>\n",
              "      <td>1105.0</td>\n",
              "      <td>1058</td>\n",
              "      <td>YV</td>\n",
              "      <td>7184</td>\n",
              "      <td>N17175</td>\n",
              "      <td>60.0</td>\n",
              "      <td>56.0</td>\n",
              "      <td>31.0</td>\n",
              "      <td>7.0</td>\n",
              "      <td>3.0</td>\n",
              "      <td>ORD</td>\n",
              "      <td>ATW</td>\n",
              "      <td>160</td>\n",
              "      <td>5.0</td>\n",
              "      <td>24.0</td>\n",
              "      <td>0</td>\n",
              "      <td>NaN</td>\n",
              "      <td>0</td>\n",
              "      <td>NaN</td>\n",
              "      <td>NaN</td>\n",
              "      <td>NaN</td>\n",
              "      <td>NaN</td>\n",
              "      <td>NaN</td>\n",
              "    </tr>\n",
              "    <tr>\n",
              "      <th>53</th>\n",
              "      <td>5394014</td>\n",
              "      <td>2008</td>\n",
              "      <td>10</td>\n",
              "      <td>6</td>\n",
              "      <td>1</td>\n",
              "      <td>1731.0</td>\n",
              "      <td>1730</td>\n",
              "      <td>1837.0</td>\n",
              "      <td>1835</td>\n",
              "      <td>WN</td>\n",
              "      <td>45</td>\n",
              "      <td>N327SW</td>\n",
              "      <td>66.0</td>\n",
              "      <td>65.0</td>\n",
              "      <td>45.0</td>\n",
              "      <td>2.0</td>\n",
              "      <td>1.0</td>\n",
              "      <td>DAL</td>\n",
              "      <td>HOU</td>\n",
              "      <td>239</td>\n",
              "      <td>5.0</td>\n",
              "      <td>16.0</td>\n",
              "      <td>0</td>\n",
              "      <td>NaN</td>\n",
              "      <td>0</td>\n",
              "      <td>NaN</td>\n",
              "      <td>NaN</td>\n",
              "      <td>NaN</td>\n",
              "      <td>NaN</td>\n",
              "      <td>NaN</td>\n",
              "    </tr>\n",
              "    <tr>\n",
              "      <th>54</th>\n",
              "      <td>6656822</td>\n",
              "      <td>2008</td>\n",
              "      <td>12</td>\n",
              "      <td>8</td>\n",
              "      <td>1</td>\n",
              "      <td>1844.0</td>\n",
              "      <td>1852</td>\n",
              "      <td>2032.0</td>\n",
              "      <td>2002</td>\n",
              "      <td>OO</td>\n",
              "      <td>6667</td>\n",
              "      <td>N928SW</td>\n",
              "      <td>168.0</td>\n",
              "      <td>130.0</td>\n",
              "      <td>119.0</td>\n",
              "      <td>30.0</td>\n",
              "      <td>-8.0</td>\n",
              "      <td>CID</td>\n",
              "      <td>DEN</td>\n",
              "      <td>692</td>\n",
              "      <td>8.0</td>\n",
              "      <td>41.0</td>\n",
              "      <td>0</td>\n",
              "      <td>NaN</td>\n",
              "      <td>0</td>\n",
              "      <td>0.0</td>\n",
              "      <td>0.0</td>\n",
              "      <td>30.0</td>\n",
              "      <td>0.0</td>\n",
              "      <td>0.0</td>\n",
              "    </tr>\n",
              "  </tbody>\n",
              "</table>\n",
              "</div>"
            ],
            "text/plain": [
              "    Unnamed: 0  Year  Month  ...  NASDelay  SecurityDelay  LateAircraftDelay\n",
              "50      896281  2008      2  ...       NaN            NaN                NaN\n",
              "51     3499203  2008      6  ...       NaN            NaN                NaN\n",
              "52     6596444  2008     12  ...       NaN            NaN                NaN\n",
              "53     5394014  2008     10  ...       NaN            NaN                NaN\n",
              "54     6656822  2008     12  ...      30.0            0.0                0.0\n",
              "\n",
              "[5 rows x 30 columns]"
            ]
          },
          "metadata": {},
          "execution_count": 18
        }
      ]
    },
    {
      "cell_type": "markdown",
      "metadata": {
        "id": "rxl6wpNwZ0aO"
      },
      "source": [
        "**Filtrado con condicionales**"
      ]
    },
    {
      "cell_type": "code",
      "metadata": {
        "colab": {
          "base_uri": "https://localhost:8080/",
          "height": 146
        },
        "id": "beNUefT2X595",
        "outputId": "6910e43b-9215-4608-c487-79457d7a118a"
      },
      "source": [
        "# Usando una condición\n",
        "df[df.ArrDelay > 60].head(2)"
      ],
      "execution_count": null,
      "outputs": [
        {
          "output_type": "execute_result",
          "data": {
            "text/html": [
              "<div>\n",
              "<style scoped>\n",
              "    .dataframe tbody tr th:only-of-type {\n",
              "        vertical-align: middle;\n",
              "    }\n",
              "\n",
              "    .dataframe tbody tr th {\n",
              "        vertical-align: top;\n",
              "    }\n",
              "\n",
              "    .dataframe thead th {\n",
              "        text-align: right;\n",
              "    }\n",
              "</style>\n",
              "<table border=\"1\" class=\"dataframe\">\n",
              "  <thead>\n",
              "    <tr style=\"text-align: right;\">\n",
              "      <th></th>\n",
              "      <th>Unnamed: 0</th>\n",
              "      <th>Year</th>\n",
              "      <th>Month</th>\n",
              "      <th>DayofMonth</th>\n",
              "      <th>DayOfWeek</th>\n",
              "      <th>DepTime</th>\n",
              "      <th>CRSDepTime</th>\n",
              "      <th>ArrTime</th>\n",
              "      <th>CRSArrTime</th>\n",
              "      <th>UniqueCarrier</th>\n",
              "      <th>FlightNum</th>\n",
              "      <th>TailNum</th>\n",
              "      <th>ActualElapsedTime</th>\n",
              "      <th>CRSElapsedTime</th>\n",
              "      <th>AirTime</th>\n",
              "      <th>ArrDelay</th>\n",
              "      <th>DepDelay</th>\n",
              "      <th>Origin</th>\n",
              "      <th>Dest</th>\n",
              "      <th>Distance</th>\n",
              "      <th>TaxiIn</th>\n",
              "      <th>TaxiOut</th>\n",
              "      <th>Cancelled</th>\n",
              "      <th>CancellationCode</th>\n",
              "      <th>Diverted</th>\n",
              "      <th>CarrierDelay</th>\n",
              "      <th>WeatherDelay</th>\n",
              "      <th>NASDelay</th>\n",
              "      <th>SecurityDelay</th>\n",
              "      <th>LateAircraftDelay</th>\n",
              "    </tr>\n",
              "  </thead>\n",
              "  <tbody>\n",
              "    <tr>\n",
              "      <th>21</th>\n",
              "      <td>637157</td>\n",
              "      <td>2008</td>\n",
              "      <td>2</td>\n",
              "      <td>12</td>\n",
              "      <td>2</td>\n",
              "      <td>2347.0</td>\n",
              "      <td>2105</td>\n",
              "      <td>100.0</td>\n",
              "      <td>2235</td>\n",
              "      <td>WN</td>\n",
              "      <td>2633</td>\n",
              "      <td>N645SW</td>\n",
              "      <td>73.0</td>\n",
              "      <td>90.0</td>\n",
              "      <td>61.0</td>\n",
              "      <td>145.0</td>\n",
              "      <td>162.0</td>\n",
              "      <td>MCI</td>\n",
              "      <td>DAL</td>\n",
              "      <td>461</td>\n",
              "      <td>6.0</td>\n",
              "      <td>6.0</td>\n",
              "      <td>0</td>\n",
              "      <td>NaN</td>\n",
              "      <td>0</td>\n",
              "      <td>0.0</td>\n",
              "      <td>0.0</td>\n",
              "      <td>0.0</td>\n",
              "      <td>0.0</td>\n",
              "      <td>145.0</td>\n",
              "    </tr>\n",
              "    <tr>\n",
              "      <th>25</th>\n",
              "      <td>3779741</td>\n",
              "      <td>2008</td>\n",
              "      <td>7</td>\n",
              "      <td>6</td>\n",
              "      <td>7</td>\n",
              "      <td>1350.0</td>\n",
              "      <td>1225</td>\n",
              "      <td>1645.0</td>\n",
              "      <td>1532</td>\n",
              "      <td>OH</td>\n",
              "      <td>5681</td>\n",
              "      <td>N695CA</td>\n",
              "      <td>175.0</td>\n",
              "      <td>187.0</td>\n",
              "      <td>135.0</td>\n",
              "      <td>73.0</td>\n",
              "      <td>85.0</td>\n",
              "      <td>MIA</td>\n",
              "      <td>JFK</td>\n",
              "      <td>1090</td>\n",
              "      <td>10.0</td>\n",
              "      <td>30.0</td>\n",
              "      <td>0</td>\n",
              "      <td>NaN</td>\n",
              "      <td>0</td>\n",
              "      <td>0.0</td>\n",
              "      <td>73.0</td>\n",
              "      <td>0.0</td>\n",
              "      <td>0.0</td>\n",
              "      <td>0.0</td>\n",
              "    </tr>\n",
              "  </tbody>\n",
              "</table>\n",
              "</div>"
            ],
            "text/plain": [
              "    Unnamed: 0  Year  Month  ...  NASDelay  SecurityDelay  LateAircraftDelay\n",
              "21      637157  2008      2  ...       0.0            0.0              145.0\n",
              "25     3779741  2008      7  ...       0.0            0.0                0.0\n",
              "\n",
              "[2 rows x 30 columns]"
            ]
          },
          "metadata": {},
          "execution_count": 19
        }
      ]
    },
    {
      "cell_type": "code",
      "metadata": {
        "colab": {
          "base_uri": "https://localhost:8080/",
          "height": 146
        },
        "id": "QXv4prIBYGY4",
        "outputId": "c5b940f9-af88-4446-e163-d21c3bc1a36c"
      },
      "source": [
        "# Usando una condición\n",
        "df[df.ArrDelay != 60].head(2)"
      ],
      "execution_count": null,
      "outputs": [
        {
          "output_type": "execute_result",
          "data": {
            "text/html": [
              "<div>\n",
              "<style scoped>\n",
              "    .dataframe tbody tr th:only-of-type {\n",
              "        vertical-align: middle;\n",
              "    }\n",
              "\n",
              "    .dataframe tbody tr th {\n",
              "        vertical-align: top;\n",
              "    }\n",
              "\n",
              "    .dataframe thead th {\n",
              "        text-align: right;\n",
              "    }\n",
              "</style>\n",
              "<table border=\"1\" class=\"dataframe\">\n",
              "  <thead>\n",
              "    <tr style=\"text-align: right;\">\n",
              "      <th></th>\n",
              "      <th>Unnamed: 0</th>\n",
              "      <th>Year</th>\n",
              "      <th>Month</th>\n",
              "      <th>DayofMonth</th>\n",
              "      <th>DayOfWeek</th>\n",
              "      <th>DepTime</th>\n",
              "      <th>CRSDepTime</th>\n",
              "      <th>ArrTime</th>\n",
              "      <th>CRSArrTime</th>\n",
              "      <th>UniqueCarrier</th>\n",
              "      <th>FlightNum</th>\n",
              "      <th>TailNum</th>\n",
              "      <th>ActualElapsedTime</th>\n",
              "      <th>CRSElapsedTime</th>\n",
              "      <th>AirTime</th>\n",
              "      <th>ArrDelay</th>\n",
              "      <th>DepDelay</th>\n",
              "      <th>Origin</th>\n",
              "      <th>Dest</th>\n",
              "      <th>Distance</th>\n",
              "      <th>TaxiIn</th>\n",
              "      <th>TaxiOut</th>\n",
              "      <th>Cancelled</th>\n",
              "      <th>CancellationCode</th>\n",
              "      <th>Diverted</th>\n",
              "      <th>CarrierDelay</th>\n",
              "      <th>WeatherDelay</th>\n",
              "      <th>NASDelay</th>\n",
              "      <th>SecurityDelay</th>\n",
              "      <th>LateAircraftDelay</th>\n",
              "    </tr>\n",
              "  </thead>\n",
              "  <tbody>\n",
              "    <tr>\n",
              "      <th>0</th>\n",
              "      <td>6193029</td>\n",
              "      <td>2008</td>\n",
              "      <td>11</td>\n",
              "      <td>28</td>\n",
              "      <td>5</td>\n",
              "      <td>1607.0</td>\n",
              "      <td>1610</td>\n",
              "      <td>5.0</td>\n",
              "      <td>10</td>\n",
              "      <td>US</td>\n",
              "      <td>882</td>\n",
              "      <td>N933UW</td>\n",
              "      <td>298.0</td>\n",
              "      <td>300.0</td>\n",
              "      <td>274.0</td>\n",
              "      <td>-5.0</td>\n",
              "      <td>-3.0</td>\n",
              "      <td>LAS</td>\n",
              "      <td>BOS</td>\n",
              "      <td>2381</td>\n",
              "      <td>6.0</td>\n",
              "      <td>18.0</td>\n",
              "      <td>0</td>\n",
              "      <td>NaN</td>\n",
              "      <td>0</td>\n",
              "      <td>NaN</td>\n",
              "      <td>NaN</td>\n",
              "      <td>NaN</td>\n",
              "      <td>NaN</td>\n",
              "      <td>NaN</td>\n",
              "    </tr>\n",
              "    <tr>\n",
              "      <th>1</th>\n",
              "      <td>2566613</td>\n",
              "      <td>2008</td>\n",
              "      <td>5</td>\n",
              "      <td>7</td>\n",
              "      <td>3</td>\n",
              "      <td>1956.0</td>\n",
              "      <td>1946</td>\n",
              "      <td>2054.0</td>\n",
              "      <td>2049</td>\n",
              "      <td>OO</td>\n",
              "      <td>5455</td>\n",
              "      <td>N576SW</td>\n",
              "      <td>58.0</td>\n",
              "      <td>63.0</td>\n",
              "      <td>47.0</td>\n",
              "      <td>5.0</td>\n",
              "      <td>10.0</td>\n",
              "      <td>SBP</td>\n",
              "      <td>SFO</td>\n",
              "      <td>191</td>\n",
              "      <td>4.0</td>\n",
              "      <td>7.0</td>\n",
              "      <td>0</td>\n",
              "      <td>NaN</td>\n",
              "      <td>0</td>\n",
              "      <td>NaN</td>\n",
              "      <td>NaN</td>\n",
              "      <td>NaN</td>\n",
              "      <td>NaN</td>\n",
              "      <td>NaN</td>\n",
              "    </tr>\n",
              "  </tbody>\n",
              "</table>\n",
              "</div>"
            ],
            "text/plain": [
              "   Unnamed: 0  Year  Month  ...  NASDelay  SecurityDelay  LateAircraftDelay\n",
              "0     6193029  2008     11  ...       NaN            NaN                NaN\n",
              "1     2566613  2008      5  ...       NaN            NaN                NaN\n",
              "\n",
              "[2 rows x 30 columns]"
            ]
          },
          "metadata": {},
          "execution_count": 20
        }
      ]
    },
    {
      "cell_type": "code",
      "metadata": {
        "colab": {
          "base_uri": "https://localhost:8080/"
        },
        "id": "QpRJ0AnrYV5_",
        "outputId": "0cca864e-ae99-4bd2-f971-567396c9ec4b"
      },
      "source": [
        "df.Origin.unique()"
      ],
      "execution_count": null,
      "outputs": [
        {
          "output_type": "execute_result",
          "data": {
            "text/plain": [
              "array(['LAS', 'SBP', 'CLT', 'ATL', 'PHX', 'MCO', 'SAT', 'DEN', 'JAX',\n",
              "       'DSM', 'DFW', 'LGA', 'ONT', 'CVG', 'PDX', 'IAH', 'BOS', 'FNT',\n",
              "       'MCI', 'CLE', 'SAN', 'MIA', 'ORF', 'OAK', 'HOU', 'MDW', 'GUC',\n",
              "       'DCA', 'ORD', 'FLL', 'SLC', 'EWR', 'JFK', 'IND', 'PFN', 'DAL',\n",
              "       'CID', 'MKE', 'TYS', 'BUR', 'BWI', 'TPA', 'EUG', 'DTW', 'OMA',\n",
              "       'SYR', 'PIT', 'SPI', 'XNA', 'IAD', 'SAV', 'STL', 'BTV', 'SFO',\n",
              "       'SEA', 'PHL', 'LNK', 'LAX', 'BGR', 'MSP', 'OGG', 'HNL', 'SMF',\n",
              "       'GRR', 'RDU', 'ITO', 'ABQ', 'RNO', 'PBI', 'OKC', 'SHV', 'MEM',\n",
              "       'RSW', 'BUF', 'BDL', 'TUS', 'PVD', 'ELP', 'CMH', 'COS', 'MSN',\n",
              "       'JAN', 'MAF', 'LIT', 'MLU', 'SJU', 'BNA', 'MFR', 'MSY', 'MRY',\n",
              "       'GRB', 'CSG', 'RDM', 'RIC', 'CAK', 'LMT', 'MHT', 'HRL', 'FAI',\n",
              "       'TUL', 'ATW', 'JAC', 'PSG', 'HHH', 'KOA', 'SJC', 'HSV', 'MYR',\n",
              "       'GJT', 'SBA', 'DRO', 'FWA', 'SWF', 'IDA', 'GRK', 'STT', 'CMI',\n",
              "       'BHM', 'COD', 'ACV', 'ANC', 'ROC', 'AMA', 'FAT', 'TYR', 'PNS',\n",
              "       'BRO', 'GEG', 'ISP', 'SRQ', 'ICT', 'GSO', 'ILM', 'SPS', 'AUS',\n",
              "       'LIH', 'SBN', 'LGB', 'SDF', 'BTR', 'MFE', 'SNA', 'AVL', 'BZN',\n",
              "       'MOD', 'CAE', 'HPN', 'GPT', 'PSC', 'BOI', 'FSM', 'DAY', 'MGM',\n",
              "       'SGF', 'PIA', 'EGE', 'EVV', 'RFD', 'OTZ', 'TOL', 'ROW', 'PSP',\n",
              "       'HDN', 'LRD', 'TLH', 'ERI', 'AVP', 'YUM', 'SMX', 'MSO', 'LCH',\n",
              "       'MBS', 'LEX', 'MLI', 'CRP', 'PHF', 'LBB', 'ASE', 'HLN', 'CHA',\n",
              "       'AEX', 'DBQ', 'CHS', 'TWF', 'RAP', 'PWM', 'DAB', 'GNV', 'MOB',\n",
              "       'CLD', 'GSP', 'AGS', 'ADQ', 'ALB', 'DLH', 'MDT', 'LAW', 'FCA',\n",
              "       'RST', 'MOT', 'VPS', 'ACT', 'LFT', 'BIL', 'FLO', 'STX', 'FAR',\n",
              "       'TVC', 'ABE', 'JNU', 'CWA', 'ROA', 'BMI', 'SCC', 'EYW', 'KTN',\n",
              "       'CPR', 'DHN', 'BIS', 'SJT', 'OTH', 'RHI', 'FAY', 'LWB', 'FLG',\n",
              "       'BRW', 'PIH', 'BQN', 'LAN', 'FSD', 'YKM', 'TXK', 'SUN', 'ABI',\n",
              "       'TRI', 'LSE', 'VLD', 'ELM', 'OXR', 'AZO', 'OME', 'CRW', 'ABY',\n",
              "       'OAJ', 'BFL', 'GGG', 'MTJ', 'BGM', 'MLB', 'CDC', 'GCC', 'MCN',\n",
              "       'SIT', 'MQT', 'SGU', 'CIC', 'SCE', 'BTM', 'RKS', 'CHO'],\n",
              "      dtype=object)"
            ]
          },
          "metadata": {},
          "execution_count": 21
        }
      ]
    },
    {
      "cell_type": "code",
      "metadata": {
        "colab": {
          "base_uri": "https://localhost:8080/",
          "height": 146
        },
        "id": "rmY7uB07YLP3",
        "outputId": "370aec94-638d-4921-cc2a-d845fd4edc42"
      },
      "source": [
        "df[df.Origin == 'ISP'].head(2)"
      ],
      "execution_count": null,
      "outputs": [
        {
          "output_type": "execute_result",
          "data": {
            "text/html": [
              "<div>\n",
              "<style scoped>\n",
              "    .dataframe tbody tr th:only-of-type {\n",
              "        vertical-align: middle;\n",
              "    }\n",
              "\n",
              "    .dataframe tbody tr th {\n",
              "        vertical-align: top;\n",
              "    }\n",
              "\n",
              "    .dataframe thead th {\n",
              "        text-align: right;\n",
              "    }\n",
              "</style>\n",
              "<table border=\"1\" class=\"dataframe\">\n",
              "  <thead>\n",
              "    <tr style=\"text-align: right;\">\n",
              "      <th></th>\n",
              "      <th>Unnamed: 0</th>\n",
              "      <th>Year</th>\n",
              "      <th>Month</th>\n",
              "      <th>DayofMonth</th>\n",
              "      <th>DayOfWeek</th>\n",
              "      <th>DepTime</th>\n",
              "      <th>CRSDepTime</th>\n",
              "      <th>ArrTime</th>\n",
              "      <th>CRSArrTime</th>\n",
              "      <th>UniqueCarrier</th>\n",
              "      <th>FlightNum</th>\n",
              "      <th>TailNum</th>\n",
              "      <th>ActualElapsedTime</th>\n",
              "      <th>CRSElapsedTime</th>\n",
              "      <th>AirTime</th>\n",
              "      <th>ArrDelay</th>\n",
              "      <th>DepDelay</th>\n",
              "      <th>Origin</th>\n",
              "      <th>Dest</th>\n",
              "      <th>Distance</th>\n",
              "      <th>TaxiIn</th>\n",
              "      <th>TaxiOut</th>\n",
              "      <th>Cancelled</th>\n",
              "      <th>CancellationCode</th>\n",
              "      <th>Diverted</th>\n",
              "      <th>CarrierDelay</th>\n",
              "      <th>WeatherDelay</th>\n",
              "      <th>NASDelay</th>\n",
              "      <th>SecurityDelay</th>\n",
              "      <th>LateAircraftDelay</th>\n",
              "    </tr>\n",
              "  </thead>\n",
              "  <tbody>\n",
              "    <tr>\n",
              "      <th>664</th>\n",
              "      <td>5986935</td>\n",
              "      <td>2008</td>\n",
              "      <td>11</td>\n",
              "      <td>17</td>\n",
              "      <td>1</td>\n",
              "      <td>1105.0</td>\n",
              "      <td>1110</td>\n",
              "      <td>1404.0</td>\n",
              "      <td>1410</td>\n",
              "      <td>WN</td>\n",
              "      <td>3083</td>\n",
              "      <td>N478WN</td>\n",
              "      <td>179.0</td>\n",
              "      <td>180.0</td>\n",
              "      <td>165.0</td>\n",
              "      <td>-6.0</td>\n",
              "      <td>-5.0</td>\n",
              "      <td>ISP</td>\n",
              "      <td>TPA</td>\n",
              "      <td>1034</td>\n",
              "      <td>6.0</td>\n",
              "      <td>8.0</td>\n",
              "      <td>0</td>\n",
              "      <td>NaN</td>\n",
              "      <td>0</td>\n",
              "      <td>NaN</td>\n",
              "      <td>NaN</td>\n",
              "      <td>NaN</td>\n",
              "      <td>NaN</td>\n",
              "      <td>NaN</td>\n",
              "    </tr>\n",
              "    <tr>\n",
              "      <th>983</th>\n",
              "      <td>3043866</td>\n",
              "      <td>2008</td>\n",
              "      <td>6</td>\n",
              "      <td>17</td>\n",
              "      <td>2</td>\n",
              "      <td>NaN</td>\n",
              "      <td>935</td>\n",
              "      <td>NaN</td>\n",
              "      <td>1210</td>\n",
              "      <td>WN</td>\n",
              "      <td>1236</td>\n",
              "      <td>NaN</td>\n",
              "      <td>NaN</td>\n",
              "      <td>155.0</td>\n",
              "      <td>NaN</td>\n",
              "      <td>NaN</td>\n",
              "      <td>NaN</td>\n",
              "      <td>ISP</td>\n",
              "      <td>MCO</td>\n",
              "      <td>972</td>\n",
              "      <td>NaN</td>\n",
              "      <td>NaN</td>\n",
              "      <td>1</td>\n",
              "      <td>A</td>\n",
              "      <td>0</td>\n",
              "      <td>NaN</td>\n",
              "      <td>NaN</td>\n",
              "      <td>NaN</td>\n",
              "      <td>NaN</td>\n",
              "      <td>NaN</td>\n",
              "    </tr>\n",
              "  </tbody>\n",
              "</table>\n",
              "</div>"
            ],
            "text/plain": [
              "     Unnamed: 0  Year  Month  ...  NASDelay  SecurityDelay  LateAircraftDelay\n",
              "664     5986935  2008     11  ...       NaN            NaN                NaN\n",
              "983     3043866  2008      6  ...       NaN            NaN                NaN\n",
              "\n",
              "[2 rows x 30 columns]"
            ]
          },
          "metadata": {},
          "execution_count": 22
        }
      ]
    },
    {
      "cell_type": "code",
      "metadata": {
        "colab": {
          "base_uri": "https://localhost:8080/",
          "height": 85
        },
        "id": "q-9xK2aJYgTu",
        "outputId": "828dfaa7-b59b-447d-b99e-8dedd348cf78"
      },
      "source": [
        "# Usando dos condiciones\n",
        "df[(df.Origin == 'ISP') & (df.ArrDelay > 60)].head(2)"
      ],
      "execution_count": null,
      "outputs": [
        {
          "output_type": "execute_result",
          "data": {
            "text/html": [
              "<div>\n",
              "<style scoped>\n",
              "    .dataframe tbody tr th:only-of-type {\n",
              "        vertical-align: middle;\n",
              "    }\n",
              "\n",
              "    .dataframe tbody tr th {\n",
              "        vertical-align: top;\n",
              "    }\n",
              "\n",
              "    .dataframe thead th {\n",
              "        text-align: right;\n",
              "    }\n",
              "</style>\n",
              "<table border=\"1\" class=\"dataframe\">\n",
              "  <thead>\n",
              "    <tr style=\"text-align: right;\">\n",
              "      <th></th>\n",
              "      <th>Unnamed: 0</th>\n",
              "      <th>Year</th>\n",
              "      <th>Month</th>\n",
              "      <th>DayofMonth</th>\n",
              "      <th>DayOfWeek</th>\n",
              "      <th>DepTime</th>\n",
              "      <th>CRSDepTime</th>\n",
              "      <th>ArrTime</th>\n",
              "      <th>CRSArrTime</th>\n",
              "      <th>UniqueCarrier</th>\n",
              "      <th>FlightNum</th>\n",
              "      <th>TailNum</th>\n",
              "      <th>ActualElapsedTime</th>\n",
              "      <th>CRSElapsedTime</th>\n",
              "      <th>AirTime</th>\n",
              "      <th>ArrDelay</th>\n",
              "      <th>DepDelay</th>\n",
              "      <th>Origin</th>\n",
              "      <th>Dest</th>\n",
              "      <th>Distance</th>\n",
              "      <th>TaxiIn</th>\n",
              "      <th>TaxiOut</th>\n",
              "      <th>Cancelled</th>\n",
              "      <th>CancellationCode</th>\n",
              "      <th>Diverted</th>\n",
              "      <th>CarrierDelay</th>\n",
              "      <th>WeatherDelay</th>\n",
              "      <th>NASDelay</th>\n",
              "      <th>SecurityDelay</th>\n",
              "      <th>LateAircraftDelay</th>\n",
              "    </tr>\n",
              "  </thead>\n",
              "  <tbody>\n",
              "  </tbody>\n",
              "</table>\n",
              "</div>"
            ],
            "text/plain": [
              "Empty DataFrame\n",
              "Columns: [Unnamed: 0, Year, Month, DayofMonth, DayOfWeek, DepTime, CRSDepTime, ArrTime, CRSArrTime, UniqueCarrier, FlightNum, TailNum, ActualElapsedTime, CRSElapsedTime, AirTime, ArrDelay, DepDelay, Origin, Dest, Distance, TaxiIn, TaxiOut, Cancelled, CancellationCode, Diverted, CarrierDelay, WeatherDelay, NASDelay, SecurityDelay, LateAircraftDelay]\n",
              "Index: []"
            ]
          },
          "metadata": {},
          "execution_count": 23
        }
      ]
    },
    {
      "cell_type": "code",
      "metadata": {
        "colab": {
          "base_uri": "https://localhost:8080/",
          "height": 146
        },
        "id": "yDi38lRAYux_",
        "outputId": "9a4437c3-5a1c-4322-fc01-d609c4c67c67"
      },
      "source": [
        "df[(df.Origin == 'ISP') | (df.ArrDelay > 60)].head(2)"
      ],
      "execution_count": null,
      "outputs": [
        {
          "output_type": "execute_result",
          "data": {
            "text/html": [
              "<div>\n",
              "<style scoped>\n",
              "    .dataframe tbody tr th:only-of-type {\n",
              "        vertical-align: middle;\n",
              "    }\n",
              "\n",
              "    .dataframe tbody tr th {\n",
              "        vertical-align: top;\n",
              "    }\n",
              "\n",
              "    .dataframe thead th {\n",
              "        text-align: right;\n",
              "    }\n",
              "</style>\n",
              "<table border=\"1\" class=\"dataframe\">\n",
              "  <thead>\n",
              "    <tr style=\"text-align: right;\">\n",
              "      <th></th>\n",
              "      <th>Unnamed: 0</th>\n",
              "      <th>Year</th>\n",
              "      <th>Month</th>\n",
              "      <th>DayofMonth</th>\n",
              "      <th>DayOfWeek</th>\n",
              "      <th>DepTime</th>\n",
              "      <th>CRSDepTime</th>\n",
              "      <th>ArrTime</th>\n",
              "      <th>CRSArrTime</th>\n",
              "      <th>UniqueCarrier</th>\n",
              "      <th>FlightNum</th>\n",
              "      <th>TailNum</th>\n",
              "      <th>ActualElapsedTime</th>\n",
              "      <th>CRSElapsedTime</th>\n",
              "      <th>AirTime</th>\n",
              "      <th>ArrDelay</th>\n",
              "      <th>DepDelay</th>\n",
              "      <th>Origin</th>\n",
              "      <th>Dest</th>\n",
              "      <th>Distance</th>\n",
              "      <th>TaxiIn</th>\n",
              "      <th>TaxiOut</th>\n",
              "      <th>Cancelled</th>\n",
              "      <th>CancellationCode</th>\n",
              "      <th>Diverted</th>\n",
              "      <th>CarrierDelay</th>\n",
              "      <th>WeatherDelay</th>\n",
              "      <th>NASDelay</th>\n",
              "      <th>SecurityDelay</th>\n",
              "      <th>LateAircraftDelay</th>\n",
              "    </tr>\n",
              "  </thead>\n",
              "  <tbody>\n",
              "    <tr>\n",
              "      <th>21</th>\n",
              "      <td>637157</td>\n",
              "      <td>2008</td>\n",
              "      <td>2</td>\n",
              "      <td>12</td>\n",
              "      <td>2</td>\n",
              "      <td>2347.0</td>\n",
              "      <td>2105</td>\n",
              "      <td>100.0</td>\n",
              "      <td>2235</td>\n",
              "      <td>WN</td>\n",
              "      <td>2633</td>\n",
              "      <td>N645SW</td>\n",
              "      <td>73.0</td>\n",
              "      <td>90.0</td>\n",
              "      <td>61.0</td>\n",
              "      <td>145.0</td>\n",
              "      <td>162.0</td>\n",
              "      <td>MCI</td>\n",
              "      <td>DAL</td>\n",
              "      <td>461</td>\n",
              "      <td>6.0</td>\n",
              "      <td>6.0</td>\n",
              "      <td>0</td>\n",
              "      <td>NaN</td>\n",
              "      <td>0</td>\n",
              "      <td>0.0</td>\n",
              "      <td>0.0</td>\n",
              "      <td>0.0</td>\n",
              "      <td>0.0</td>\n",
              "      <td>145.0</td>\n",
              "    </tr>\n",
              "    <tr>\n",
              "      <th>25</th>\n",
              "      <td>3779741</td>\n",
              "      <td>2008</td>\n",
              "      <td>7</td>\n",
              "      <td>6</td>\n",
              "      <td>7</td>\n",
              "      <td>1350.0</td>\n",
              "      <td>1225</td>\n",
              "      <td>1645.0</td>\n",
              "      <td>1532</td>\n",
              "      <td>OH</td>\n",
              "      <td>5681</td>\n",
              "      <td>N695CA</td>\n",
              "      <td>175.0</td>\n",
              "      <td>187.0</td>\n",
              "      <td>135.0</td>\n",
              "      <td>73.0</td>\n",
              "      <td>85.0</td>\n",
              "      <td>MIA</td>\n",
              "      <td>JFK</td>\n",
              "      <td>1090</td>\n",
              "      <td>10.0</td>\n",
              "      <td>30.0</td>\n",
              "      <td>0</td>\n",
              "      <td>NaN</td>\n",
              "      <td>0</td>\n",
              "      <td>0.0</td>\n",
              "      <td>73.0</td>\n",
              "      <td>0.0</td>\n",
              "      <td>0.0</td>\n",
              "      <td>0.0</td>\n",
              "    </tr>\n",
              "  </tbody>\n",
              "</table>\n",
              "</div>"
            ],
            "text/plain": [
              "    Unnamed: 0  Year  Month  ...  NASDelay  SecurityDelay  LateAircraftDelay\n",
              "21      637157  2008      2  ...       0.0            0.0              145.0\n",
              "25     3779741  2008      7  ...       0.0            0.0                0.0\n",
              "\n",
              "[2 rows x 30 columns]"
            ]
          },
          "metadata": {},
          "execution_count": 24
        }
      ]
    },
    {
      "cell_type": "code",
      "metadata": {
        "colab": {
          "base_uri": "https://localhost:8080/",
          "height": 698
        },
        "id": "itQBkY54Y3uw",
        "outputId": "553bb4a7-ca30-48c5-f645-d3a674815b3f"
      },
      "source": [
        "# Filtrar los valores ISP e IND de Origin\n",
        "df[df.Origin.isin(['ISP', 'IND'])].head(20)"
      ],
      "execution_count": null,
      "outputs": [
        {
          "output_type": "execute_result",
          "data": {
            "text/html": [
              "<div>\n",
              "<style scoped>\n",
              "    .dataframe tbody tr th:only-of-type {\n",
              "        vertical-align: middle;\n",
              "    }\n",
              "\n",
              "    .dataframe tbody tr th {\n",
              "        vertical-align: top;\n",
              "    }\n",
              "\n",
              "    .dataframe thead th {\n",
              "        text-align: right;\n",
              "    }\n",
              "</style>\n",
              "<table border=\"1\" class=\"dataframe\">\n",
              "  <thead>\n",
              "    <tr style=\"text-align: right;\">\n",
              "      <th></th>\n",
              "      <th>Unnamed: 0</th>\n",
              "      <th>Year</th>\n",
              "      <th>Month</th>\n",
              "      <th>DayofMonth</th>\n",
              "      <th>DayOfWeek</th>\n",
              "      <th>DepTime</th>\n",
              "      <th>CRSDepTime</th>\n",
              "      <th>ArrTime</th>\n",
              "      <th>CRSArrTime</th>\n",
              "      <th>UniqueCarrier</th>\n",
              "      <th>FlightNum</th>\n",
              "      <th>TailNum</th>\n",
              "      <th>ActualElapsedTime</th>\n",
              "      <th>CRSElapsedTime</th>\n",
              "      <th>AirTime</th>\n",
              "      <th>ArrDelay</th>\n",
              "      <th>DepDelay</th>\n",
              "      <th>Origin</th>\n",
              "      <th>Dest</th>\n",
              "      <th>Distance</th>\n",
              "      <th>TaxiIn</th>\n",
              "      <th>TaxiOut</th>\n",
              "      <th>Cancelled</th>\n",
              "      <th>CancellationCode</th>\n",
              "      <th>Diverted</th>\n",
              "      <th>CarrierDelay</th>\n",
              "      <th>WeatherDelay</th>\n",
              "      <th>NASDelay</th>\n",
              "      <th>SecurityDelay</th>\n",
              "      <th>LateAircraftDelay</th>\n",
              "    </tr>\n",
              "  </thead>\n",
              "  <tbody>\n",
              "    <tr>\n",
              "      <th>47</th>\n",
              "      <td>497339</td>\n",
              "      <td>2008</td>\n",
              "      <td>1</td>\n",
              "      <td>26</td>\n",
              "      <td>6</td>\n",
              "      <td>1754.0</td>\n",
              "      <td>1800</td>\n",
              "      <td>1813.0</td>\n",
              "      <td>1815</td>\n",
              "      <td>AA</td>\n",
              "      <td>1058</td>\n",
              "      <td>N556AA</td>\n",
              "      <td>79.0</td>\n",
              "      <td>75.0</td>\n",
              "      <td>46.0</td>\n",
              "      <td>-2.0</td>\n",
              "      <td>-6.0</td>\n",
              "      <td>IND</td>\n",
              "      <td>ORD</td>\n",
              "      <td>177</td>\n",
              "      <td>21.0</td>\n",
              "      <td>12.0</td>\n",
              "      <td>0</td>\n",
              "      <td>NaN</td>\n",
              "      <td>0</td>\n",
              "      <td>NaN</td>\n",
              "      <td>NaN</td>\n",
              "      <td>NaN</td>\n",
              "      <td>NaN</td>\n",
              "      <td>NaN</td>\n",
              "    </tr>\n",
              "    <tr>\n",
              "      <th>529</th>\n",
              "      <td>6999009</td>\n",
              "      <td>2008</td>\n",
              "      <td>12</td>\n",
              "      <td>4</td>\n",
              "      <td>4</td>\n",
              "      <td>1051.0</td>\n",
              "      <td>1058</td>\n",
              "      <td>1234.0</td>\n",
              "      <td>1229</td>\n",
              "      <td>DL</td>\n",
              "      <td>1719</td>\n",
              "      <td>N940DL</td>\n",
              "      <td>103.0</td>\n",
              "      <td>91.0</td>\n",
              "      <td>79.0</td>\n",
              "      <td>5.0</td>\n",
              "      <td>-7.0</td>\n",
              "      <td>IND</td>\n",
              "      <td>ATL</td>\n",
              "      <td>432</td>\n",
              "      <td>4.0</td>\n",
              "      <td>20.0</td>\n",
              "      <td>0</td>\n",
              "      <td>NaN</td>\n",
              "      <td>0</td>\n",
              "      <td>NaN</td>\n",
              "      <td>NaN</td>\n",
              "      <td>NaN</td>\n",
              "      <td>NaN</td>\n",
              "      <td>NaN</td>\n",
              "    </tr>\n",
              "    <tr>\n",
              "      <th>630</th>\n",
              "      <td>1627993</td>\n",
              "      <td>2008</td>\n",
              "      <td>3</td>\n",
              "      <td>2</td>\n",
              "      <td>7</td>\n",
              "      <td>1722.0</td>\n",
              "      <td>1725</td>\n",
              "      <td>1748.0</td>\n",
              "      <td>1750</td>\n",
              "      <td>NW</td>\n",
              "      <td>1295</td>\n",
              "      <td>N368NB</td>\n",
              "      <td>86.0</td>\n",
              "      <td>85.0</td>\n",
              "      <td>60.0</td>\n",
              "      <td>-2.0</td>\n",
              "      <td>-3.0</td>\n",
              "      <td>IND</td>\n",
              "      <td>MEM</td>\n",
              "      <td>381</td>\n",
              "      <td>15.0</td>\n",
              "      <td>11.0</td>\n",
              "      <td>0</td>\n",
              "      <td>NaN</td>\n",
              "      <td>0</td>\n",
              "      <td>NaN</td>\n",
              "      <td>NaN</td>\n",
              "      <td>NaN</td>\n",
              "      <td>NaN</td>\n",
              "      <td>NaN</td>\n",
              "    </tr>\n",
              "    <tr>\n",
              "      <th>664</th>\n",
              "      <td>5986935</td>\n",
              "      <td>2008</td>\n",
              "      <td>11</td>\n",
              "      <td>17</td>\n",
              "      <td>1</td>\n",
              "      <td>1105.0</td>\n",
              "      <td>1110</td>\n",
              "      <td>1404.0</td>\n",
              "      <td>1410</td>\n",
              "      <td>WN</td>\n",
              "      <td>3083</td>\n",
              "      <td>N478WN</td>\n",
              "      <td>179.0</td>\n",
              "      <td>180.0</td>\n",
              "      <td>165.0</td>\n",
              "      <td>-6.0</td>\n",
              "      <td>-5.0</td>\n",
              "      <td>ISP</td>\n",
              "      <td>TPA</td>\n",
              "      <td>1034</td>\n",
              "      <td>6.0</td>\n",
              "      <td>8.0</td>\n",
              "      <td>0</td>\n",
              "      <td>NaN</td>\n",
              "      <td>0</td>\n",
              "      <td>NaN</td>\n",
              "      <td>NaN</td>\n",
              "      <td>NaN</td>\n",
              "      <td>NaN</td>\n",
              "      <td>NaN</td>\n",
              "    </tr>\n",
              "    <tr>\n",
              "      <th>699</th>\n",
              "      <td>953520</td>\n",
              "      <td>2008</td>\n",
              "      <td>2</td>\n",
              "      <td>22</td>\n",
              "      <td>5</td>\n",
              "      <td>1717.0</td>\n",
              "      <td>1607</td>\n",
              "      <td>1842.0</td>\n",
              "      <td>1717</td>\n",
              "      <td>FL</td>\n",
              "      <td>719</td>\n",
              "      <td>N240AT</td>\n",
              "      <td>265.0</td>\n",
              "      <td>250.0</td>\n",
              "      <td>221.0</td>\n",
              "      <td>85.0</td>\n",
              "      <td>70.0</td>\n",
              "      <td>IND</td>\n",
              "      <td>LAS</td>\n",
              "      <td>1591</td>\n",
              "      <td>11.0</td>\n",
              "      <td>33.0</td>\n",
              "      <td>0</td>\n",
              "      <td>NaN</td>\n",
              "      <td>0</td>\n",
              "      <td>0.0</td>\n",
              "      <td>0.0</td>\n",
              "      <td>15.0</td>\n",
              "      <td>0.0</td>\n",
              "      <td>70.0</td>\n",
              "    </tr>\n",
              "    <tr>\n",
              "      <th>707</th>\n",
              "      <td>3102789</td>\n",
              "      <td>2008</td>\n",
              "      <td>6</td>\n",
              "      <td>28</td>\n",
              "      <td>6</td>\n",
              "      <td>626.0</td>\n",
              "      <td>634</td>\n",
              "      <td>818.0</td>\n",
              "      <td>829</td>\n",
              "      <td>XE</td>\n",
              "      <td>2251</td>\n",
              "      <td>N15910</td>\n",
              "      <td>112.0</td>\n",
              "      <td>115.0</td>\n",
              "      <td>93.0</td>\n",
              "      <td>-11.0</td>\n",
              "      <td>-8.0</td>\n",
              "      <td>IND</td>\n",
              "      <td>EWR</td>\n",
              "      <td>644</td>\n",
              "      <td>8.0</td>\n",
              "      <td>11.0</td>\n",
              "      <td>0</td>\n",
              "      <td>NaN</td>\n",
              "      <td>0</td>\n",
              "      <td>NaN</td>\n",
              "      <td>NaN</td>\n",
              "      <td>NaN</td>\n",
              "      <td>NaN</td>\n",
              "      <td>NaN</td>\n",
              "    </tr>\n",
              "    <tr>\n",
              "      <th>936</th>\n",
              "      <td>3172444</td>\n",
              "      <td>2008</td>\n",
              "      <td>6</td>\n",
              "      <td>5</td>\n",
              "      <td>4</td>\n",
              "      <td>1658.0</td>\n",
              "      <td>1549</td>\n",
              "      <td>1701.0</td>\n",
              "      <td>1558</td>\n",
              "      <td>OO</td>\n",
              "      <td>6141</td>\n",
              "      <td>N774SK</td>\n",
              "      <td>63.0</td>\n",
              "      <td>69.0</td>\n",
              "      <td>38.0</td>\n",
              "      <td>63.0</td>\n",
              "      <td>69.0</td>\n",
              "      <td>IND</td>\n",
              "      <td>ORD</td>\n",
              "      <td>177</td>\n",
              "      <td>6.0</td>\n",
              "      <td>19.0</td>\n",
              "      <td>0</td>\n",
              "      <td>NaN</td>\n",
              "      <td>0</td>\n",
              "      <td>0.0</td>\n",
              "      <td>0.0</td>\n",
              "      <td>63.0</td>\n",
              "      <td>0.0</td>\n",
              "      <td>0.0</td>\n",
              "    </tr>\n",
              "    <tr>\n",
              "      <th>983</th>\n",
              "      <td>3043866</td>\n",
              "      <td>2008</td>\n",
              "      <td>6</td>\n",
              "      <td>17</td>\n",
              "      <td>2</td>\n",
              "      <td>NaN</td>\n",
              "      <td>935</td>\n",
              "      <td>NaN</td>\n",
              "      <td>1210</td>\n",
              "      <td>WN</td>\n",
              "      <td>1236</td>\n",
              "      <td>NaN</td>\n",
              "      <td>NaN</td>\n",
              "      <td>155.0</td>\n",
              "      <td>NaN</td>\n",
              "      <td>NaN</td>\n",
              "      <td>NaN</td>\n",
              "      <td>ISP</td>\n",
              "      <td>MCO</td>\n",
              "      <td>972</td>\n",
              "      <td>NaN</td>\n",
              "      <td>NaN</td>\n",
              "      <td>1</td>\n",
              "      <td>A</td>\n",
              "      <td>0</td>\n",
              "      <td>NaN</td>\n",
              "      <td>NaN</td>\n",
              "      <td>NaN</td>\n",
              "      <td>NaN</td>\n",
              "      <td>NaN</td>\n",
              "    </tr>\n",
              "    <tr>\n",
              "      <th>1116</th>\n",
              "      <td>5437028</td>\n",
              "      <td>2008</td>\n",
              "      <td>10</td>\n",
              "      <td>19</td>\n",
              "      <td>7</td>\n",
              "      <td>926.0</td>\n",
              "      <td>925</td>\n",
              "      <td>1215.0</td>\n",
              "      <td>1230</td>\n",
              "      <td>WN</td>\n",
              "      <td>1928</td>\n",
              "      <td>N926WN</td>\n",
              "      <td>169.0</td>\n",
              "      <td>185.0</td>\n",
              "      <td>158.0</td>\n",
              "      <td>-15.0</td>\n",
              "      <td>1.0</td>\n",
              "      <td>ISP</td>\n",
              "      <td>RSW</td>\n",
              "      <td>1101</td>\n",
              "      <td>3.0</td>\n",
              "      <td>8.0</td>\n",
              "      <td>0</td>\n",
              "      <td>NaN</td>\n",
              "      <td>0</td>\n",
              "      <td>NaN</td>\n",
              "      <td>NaN</td>\n",
              "      <td>NaN</td>\n",
              "      <td>NaN</td>\n",
              "      <td>NaN</td>\n",
              "    </tr>\n",
              "    <tr>\n",
              "      <th>1219</th>\n",
              "      <td>1547963</td>\n",
              "      <td>2008</td>\n",
              "      <td>3</td>\n",
              "      <td>20</td>\n",
              "      <td>4</td>\n",
              "      <td>920.0</td>\n",
              "      <td>925</td>\n",
              "      <td>1140.0</td>\n",
              "      <td>1149</td>\n",
              "      <td>FL</td>\n",
              "      <td>390</td>\n",
              "      <td>N289AT</td>\n",
              "      <td>140.0</td>\n",
              "      <td>144.0</td>\n",
              "      <td>126.0</td>\n",
              "      <td>-9.0</td>\n",
              "      <td>-5.0</td>\n",
              "      <td>IND</td>\n",
              "      <td>RSW</td>\n",
              "      <td>946</td>\n",
              "      <td>4.0</td>\n",
              "      <td>10.0</td>\n",
              "      <td>0</td>\n",
              "      <td>NaN</td>\n",
              "      <td>0</td>\n",
              "      <td>NaN</td>\n",
              "      <td>NaN</td>\n",
              "      <td>NaN</td>\n",
              "      <td>NaN</td>\n",
              "      <td>NaN</td>\n",
              "    </tr>\n",
              "    <tr>\n",
              "      <th>1260</th>\n",
              "      <td>1218961</td>\n",
              "      <td>2008</td>\n",
              "      <td>3</td>\n",
              "      <td>16</td>\n",
              "      <td>7</td>\n",
              "      <td>1328.0</td>\n",
              "      <td>1325</td>\n",
              "      <td>1607.0</td>\n",
              "      <td>1615</td>\n",
              "      <td>WN</td>\n",
              "      <td>3580</td>\n",
              "      <td>N202WN</td>\n",
              "      <td>159.0</td>\n",
              "      <td>170.0</td>\n",
              "      <td>149.0</td>\n",
              "      <td>-8.0</td>\n",
              "      <td>3.0</td>\n",
              "      <td>ISP</td>\n",
              "      <td>PBI</td>\n",
              "      <td>1052</td>\n",
              "      <td>3.0</td>\n",
              "      <td>7.0</td>\n",
              "      <td>0</td>\n",
              "      <td>NaN</td>\n",
              "      <td>0</td>\n",
              "      <td>NaN</td>\n",
              "      <td>NaN</td>\n",
              "      <td>NaN</td>\n",
              "      <td>NaN</td>\n",
              "      <td>NaN</td>\n",
              "    </tr>\n",
              "    <tr>\n",
              "      <th>1537</th>\n",
              "      <td>2056672</td>\n",
              "      <td>2008</td>\n",
              "      <td>4</td>\n",
              "      <td>11</td>\n",
              "      <td>5</td>\n",
              "      <td>906.0</td>\n",
              "      <td>910</td>\n",
              "      <td>1043.0</td>\n",
              "      <td>1044</td>\n",
              "      <td>US</td>\n",
              "      <td>1597</td>\n",
              "      <td>N589US</td>\n",
              "      <td>97.0</td>\n",
              "      <td>94.0</td>\n",
              "      <td>74.0</td>\n",
              "      <td>-1.0</td>\n",
              "      <td>-4.0</td>\n",
              "      <td>IND</td>\n",
              "      <td>CLT</td>\n",
              "      <td>428</td>\n",
              "      <td>7.0</td>\n",
              "      <td>16.0</td>\n",
              "      <td>0</td>\n",
              "      <td>NaN</td>\n",
              "      <td>0</td>\n",
              "      <td>NaN</td>\n",
              "      <td>NaN</td>\n",
              "      <td>NaN</td>\n",
              "      <td>NaN</td>\n",
              "      <td>NaN</td>\n",
              "    </tr>\n",
              "    <tr>\n",
              "      <th>1650</th>\n",
              "      <td>346892</td>\n",
              "      <td>2008</td>\n",
              "      <td>1</td>\n",
              "      <td>3</td>\n",
              "      <td>4</td>\n",
              "      <td>1150.0</td>\n",
              "      <td>1148</td>\n",
              "      <td>1229.0</td>\n",
              "      <td>1235</td>\n",
              "      <td>F9</td>\n",
              "      <td>617</td>\n",
              "      <td>N912FR</td>\n",
              "      <td>159.0</td>\n",
              "      <td>167.0</td>\n",
              "      <td>142.0</td>\n",
              "      <td>-6.0</td>\n",
              "      <td>2.0</td>\n",
              "      <td>IND</td>\n",
              "      <td>DEN</td>\n",
              "      <td>977</td>\n",
              "      <td>7.0</td>\n",
              "      <td>10.0</td>\n",
              "      <td>0</td>\n",
              "      <td>NaN</td>\n",
              "      <td>0</td>\n",
              "      <td>NaN</td>\n",
              "      <td>NaN</td>\n",
              "      <td>NaN</td>\n",
              "      <td>NaN</td>\n",
              "      <td>NaN</td>\n",
              "    </tr>\n",
              "    <tr>\n",
              "      <th>1691</th>\n",
              "      <td>1239353</td>\n",
              "      <td>2008</td>\n",
              "      <td>3</td>\n",
              "      <td>22</td>\n",
              "      <td>6</td>\n",
              "      <td>834.0</td>\n",
              "      <td>840</td>\n",
              "      <td>1204.0</td>\n",
              "      <td>1140</td>\n",
              "      <td>WN</td>\n",
              "      <td>1721</td>\n",
              "      <td>N779SW</td>\n",
              "      <td>210.0</td>\n",
              "      <td>180.0</td>\n",
              "      <td>175.0</td>\n",
              "      <td>24.0</td>\n",
              "      <td>-6.0</td>\n",
              "      <td>ISP</td>\n",
              "      <td>RSW</td>\n",
              "      <td>1101</td>\n",
              "      <td>3.0</td>\n",
              "      <td>32.0</td>\n",
              "      <td>0</td>\n",
              "      <td>NaN</td>\n",
              "      <td>0</td>\n",
              "      <td>0.0</td>\n",
              "      <td>0.0</td>\n",
              "      <td>24.0</td>\n",
              "      <td>0.0</td>\n",
              "      <td>0.0</td>\n",
              "    </tr>\n",
              "    <tr>\n",
              "      <th>1785</th>\n",
              "      <td>5625868</td>\n",
              "      <td>2008</td>\n",
              "      <td>10</td>\n",
              "      <td>7</td>\n",
              "      <td>2</td>\n",
              "      <td>1533.0</td>\n",
              "      <td>1540</td>\n",
              "      <td>1709.0</td>\n",
              "      <td>1711</td>\n",
              "      <td>US</td>\n",
              "      <td>1915</td>\n",
              "      <td>N967UW</td>\n",
              "      <td>96.0</td>\n",
              "      <td>91.0</td>\n",
              "      <td>78.0</td>\n",
              "      <td>-2.0</td>\n",
              "      <td>-7.0</td>\n",
              "      <td>IND</td>\n",
              "      <td>CLT</td>\n",
              "      <td>428</td>\n",
              "      <td>5.0</td>\n",
              "      <td>13.0</td>\n",
              "      <td>0</td>\n",
              "      <td>NaN</td>\n",
              "      <td>0</td>\n",
              "      <td>NaN</td>\n",
              "      <td>NaN</td>\n",
              "      <td>NaN</td>\n",
              "      <td>NaN</td>\n",
              "      <td>NaN</td>\n",
              "    </tr>\n",
              "    <tr>\n",
              "      <th>1796</th>\n",
              "      <td>1860991</td>\n",
              "      <td>2008</td>\n",
              "      <td>4</td>\n",
              "      <td>24</td>\n",
              "      <td>4</td>\n",
              "      <td>641.0</td>\n",
              "      <td>645</td>\n",
              "      <td>740.0</td>\n",
              "      <td>750</td>\n",
              "      <td>WN</td>\n",
              "      <td>796</td>\n",
              "      <td>N376SW</td>\n",
              "      <td>59.0</td>\n",
              "      <td>65.0</td>\n",
              "      <td>48.0</td>\n",
              "      <td>-10.0</td>\n",
              "      <td>-4.0</td>\n",
              "      <td>ISP</td>\n",
              "      <td>BWI</td>\n",
              "      <td>220</td>\n",
              "      <td>4.0</td>\n",
              "      <td>7.0</td>\n",
              "      <td>0</td>\n",
              "      <td>NaN</td>\n",
              "      <td>0</td>\n",
              "      <td>NaN</td>\n",
              "      <td>NaN</td>\n",
              "      <td>NaN</td>\n",
              "      <td>NaN</td>\n",
              "      <td>NaN</td>\n",
              "    </tr>\n",
              "    <tr>\n",
              "      <th>2170</th>\n",
              "      <td>5217424</td>\n",
              "      <td>2008</td>\n",
              "      <td>9</td>\n",
              "      <td>24</td>\n",
              "      <td>3</td>\n",
              "      <td>1320.0</td>\n",
              "      <td>1325</td>\n",
              "      <td>1314.0</td>\n",
              "      <td>1330</td>\n",
              "      <td>MQ</td>\n",
              "      <td>4491</td>\n",
              "      <td>N906AE</td>\n",
              "      <td>54.0</td>\n",
              "      <td>65.0</td>\n",
              "      <td>39.0</td>\n",
              "      <td>-16.0</td>\n",
              "      <td>-5.0</td>\n",
              "      <td>IND</td>\n",
              "      <td>ORD</td>\n",
              "      <td>177</td>\n",
              "      <td>5.0</td>\n",
              "      <td>10.0</td>\n",
              "      <td>0</td>\n",
              "      <td>NaN</td>\n",
              "      <td>0</td>\n",
              "      <td>NaN</td>\n",
              "      <td>NaN</td>\n",
              "      <td>NaN</td>\n",
              "      <td>NaN</td>\n",
              "      <td>NaN</td>\n",
              "    </tr>\n",
              "    <tr>\n",
              "      <th>2307</th>\n",
              "      <td>4898420</td>\n",
              "      <td>2008</td>\n",
              "      <td>9</td>\n",
              "      <td>19</td>\n",
              "      <td>5</td>\n",
              "      <td>1950.0</td>\n",
              "      <td>1950</td>\n",
              "      <td>2224.0</td>\n",
              "      <td>2235</td>\n",
              "      <td>WN</td>\n",
              "      <td>267</td>\n",
              "      <td>N247WN</td>\n",
              "      <td>154.0</td>\n",
              "      <td>165.0</td>\n",
              "      <td>143.0</td>\n",
              "      <td>-11.0</td>\n",
              "      <td>0.0</td>\n",
              "      <td>ISP</td>\n",
              "      <td>PBI</td>\n",
              "      <td>1052</td>\n",
              "      <td>4.0</td>\n",
              "      <td>7.0</td>\n",
              "      <td>0</td>\n",
              "      <td>NaN</td>\n",
              "      <td>0</td>\n",
              "      <td>NaN</td>\n",
              "      <td>NaN</td>\n",
              "      <td>NaN</td>\n",
              "      <td>NaN</td>\n",
              "      <td>NaN</td>\n",
              "    </tr>\n",
              "    <tr>\n",
              "      <th>2357</th>\n",
              "      <td>6563884</td>\n",
              "      <td>2008</td>\n",
              "      <td>12</td>\n",
              "      <td>21</td>\n",
              "      <td>7</td>\n",
              "      <td>2148.0</td>\n",
              "      <td>2005</td>\n",
              "      <td>2341.0</td>\n",
              "      <td>2212</td>\n",
              "      <td>XE</td>\n",
              "      <td>2298</td>\n",
              "      <td>N22971</td>\n",
              "      <td>113.0</td>\n",
              "      <td>127.0</td>\n",
              "      <td>87.0</td>\n",
              "      <td>89.0</td>\n",
              "      <td>103.0</td>\n",
              "      <td>IND</td>\n",
              "      <td>EWR</td>\n",
              "      <td>644</td>\n",
              "      <td>13.0</td>\n",
              "      <td>13.0</td>\n",
              "      <td>0</td>\n",
              "      <td>NaN</td>\n",
              "      <td>0</td>\n",
              "      <td>10.0</td>\n",
              "      <td>0.0</td>\n",
              "      <td>0.0</td>\n",
              "      <td>0.0</td>\n",
              "      <td>79.0</td>\n",
              "    </tr>\n",
              "    <tr>\n",
              "      <th>2649</th>\n",
              "      <td>601842</td>\n",
              "      <td>2008</td>\n",
              "      <td>1</td>\n",
              "      <td>12</td>\n",
              "      <td>6</td>\n",
              "      <td>548.0</td>\n",
              "      <td>600</td>\n",
              "      <td>740.0</td>\n",
              "      <td>734</td>\n",
              "      <td>DL</td>\n",
              "      <td>589</td>\n",
              "      <td>N901DE</td>\n",
              "      <td>112.0</td>\n",
              "      <td>94.0</td>\n",
              "      <td>71.0</td>\n",
              "      <td>6.0</td>\n",
              "      <td>-12.0</td>\n",
              "      <td>IND</td>\n",
              "      <td>ATL</td>\n",
              "      <td>432</td>\n",
              "      <td>7.0</td>\n",
              "      <td>34.0</td>\n",
              "      <td>0</td>\n",
              "      <td>NaN</td>\n",
              "      <td>0</td>\n",
              "      <td>NaN</td>\n",
              "      <td>NaN</td>\n",
              "      <td>NaN</td>\n",
              "      <td>NaN</td>\n",
              "      <td>NaN</td>\n",
              "    </tr>\n",
              "  </tbody>\n",
              "</table>\n",
              "</div>"
            ],
            "text/plain": [
              "      Unnamed: 0  Year  Month  ...  NASDelay  SecurityDelay  LateAircraftDelay\n",
              "47        497339  2008      1  ...       NaN            NaN                NaN\n",
              "529      6999009  2008     12  ...       NaN            NaN                NaN\n",
              "630      1627993  2008      3  ...       NaN            NaN                NaN\n",
              "664      5986935  2008     11  ...       NaN            NaN                NaN\n",
              "699       953520  2008      2  ...      15.0            0.0               70.0\n",
              "707      3102789  2008      6  ...       NaN            NaN                NaN\n",
              "936      3172444  2008      6  ...      63.0            0.0                0.0\n",
              "983      3043866  2008      6  ...       NaN            NaN                NaN\n",
              "1116     5437028  2008     10  ...       NaN            NaN                NaN\n",
              "1219     1547963  2008      3  ...       NaN            NaN                NaN\n",
              "1260     1218961  2008      3  ...       NaN            NaN                NaN\n",
              "1537     2056672  2008      4  ...       NaN            NaN                NaN\n",
              "1650      346892  2008      1  ...       NaN            NaN                NaN\n",
              "1691     1239353  2008      3  ...      24.0            0.0                0.0\n",
              "1785     5625868  2008     10  ...       NaN            NaN                NaN\n",
              "1796     1860991  2008      4  ...       NaN            NaN                NaN\n",
              "2170     5217424  2008      9  ...       NaN            NaN                NaN\n",
              "2307     4898420  2008      9  ...       NaN            NaN                NaN\n",
              "2357     6563884  2008     12  ...       0.0            0.0               79.0\n",
              "2649      601842  2008      1  ...       NaN            NaN                NaN\n",
              "\n",
              "[20 rows x 30 columns]"
            ]
          },
          "metadata": {},
          "execution_count": 25
        }
      ]
    },
    {
      "cell_type": "markdown",
      "metadata": {
        "id": "G63opUdUZu4A"
      },
      "source": [
        "**Valores faltantes: NaN**"
      ]
    },
    {
      "cell_type": "code",
      "metadata": {
        "colab": {
          "base_uri": "https://localhost:8080/",
          "height": 238
        },
        "id": "8T9n3d0GZMe-",
        "outputId": "cdf52b72-d764-4e80-8c04-a06403e84fed"
      },
      "source": [
        "df[pd.isna(df.SecurityDelay)].head()"
      ],
      "execution_count": null,
      "outputs": [
        {
          "output_type": "execute_result",
          "data": {
            "text/html": [
              "<div>\n",
              "<style scoped>\n",
              "    .dataframe tbody tr th:only-of-type {\n",
              "        vertical-align: middle;\n",
              "    }\n",
              "\n",
              "    .dataframe tbody tr th {\n",
              "        vertical-align: top;\n",
              "    }\n",
              "\n",
              "    .dataframe thead th {\n",
              "        text-align: right;\n",
              "    }\n",
              "</style>\n",
              "<table border=\"1\" class=\"dataframe\">\n",
              "  <thead>\n",
              "    <tr style=\"text-align: right;\">\n",
              "      <th></th>\n",
              "      <th>Unnamed: 0</th>\n",
              "      <th>Year</th>\n",
              "      <th>Month</th>\n",
              "      <th>DayofMonth</th>\n",
              "      <th>DayOfWeek</th>\n",
              "      <th>DepTime</th>\n",
              "      <th>CRSDepTime</th>\n",
              "      <th>ArrTime</th>\n",
              "      <th>CRSArrTime</th>\n",
              "      <th>UniqueCarrier</th>\n",
              "      <th>FlightNum</th>\n",
              "      <th>TailNum</th>\n",
              "      <th>ActualElapsedTime</th>\n",
              "      <th>CRSElapsedTime</th>\n",
              "      <th>AirTime</th>\n",
              "      <th>ArrDelay</th>\n",
              "      <th>DepDelay</th>\n",
              "      <th>Origin</th>\n",
              "      <th>Dest</th>\n",
              "      <th>Distance</th>\n",
              "      <th>TaxiIn</th>\n",
              "      <th>TaxiOut</th>\n",
              "      <th>Cancelled</th>\n",
              "      <th>CancellationCode</th>\n",
              "      <th>Diverted</th>\n",
              "      <th>CarrierDelay</th>\n",
              "      <th>WeatherDelay</th>\n",
              "      <th>NASDelay</th>\n",
              "      <th>SecurityDelay</th>\n",
              "      <th>LateAircraftDelay</th>\n",
              "    </tr>\n",
              "  </thead>\n",
              "  <tbody>\n",
              "    <tr>\n",
              "      <th>0</th>\n",
              "      <td>6193029</td>\n",
              "      <td>2008</td>\n",
              "      <td>11</td>\n",
              "      <td>28</td>\n",
              "      <td>5</td>\n",
              "      <td>1607.0</td>\n",
              "      <td>1610</td>\n",
              "      <td>5.0</td>\n",
              "      <td>10</td>\n",
              "      <td>US</td>\n",
              "      <td>882</td>\n",
              "      <td>N933UW</td>\n",
              "      <td>298.0</td>\n",
              "      <td>300.0</td>\n",
              "      <td>274.0</td>\n",
              "      <td>-5.0</td>\n",
              "      <td>-3.0</td>\n",
              "      <td>LAS</td>\n",
              "      <td>BOS</td>\n",
              "      <td>2381</td>\n",
              "      <td>6.0</td>\n",
              "      <td>18.0</td>\n",
              "      <td>0</td>\n",
              "      <td>NaN</td>\n",
              "      <td>0</td>\n",
              "      <td>NaN</td>\n",
              "      <td>NaN</td>\n",
              "      <td>NaN</td>\n",
              "      <td>NaN</td>\n",
              "      <td>NaN</td>\n",
              "    </tr>\n",
              "    <tr>\n",
              "      <th>1</th>\n",
              "      <td>2566613</td>\n",
              "      <td>2008</td>\n",
              "      <td>5</td>\n",
              "      <td>7</td>\n",
              "      <td>3</td>\n",
              "      <td>1956.0</td>\n",
              "      <td>1946</td>\n",
              "      <td>2054.0</td>\n",
              "      <td>2049</td>\n",
              "      <td>OO</td>\n",
              "      <td>5455</td>\n",
              "      <td>N576SW</td>\n",
              "      <td>58.0</td>\n",
              "      <td>63.0</td>\n",
              "      <td>47.0</td>\n",
              "      <td>5.0</td>\n",
              "      <td>10.0</td>\n",
              "      <td>SBP</td>\n",
              "      <td>SFO</td>\n",
              "      <td>191</td>\n",
              "      <td>4.0</td>\n",
              "      <td>7.0</td>\n",
              "      <td>0</td>\n",
              "      <td>NaN</td>\n",
              "      <td>0</td>\n",
              "      <td>NaN</td>\n",
              "      <td>NaN</td>\n",
              "      <td>NaN</td>\n",
              "      <td>NaN</td>\n",
              "      <td>NaN</td>\n",
              "    </tr>\n",
              "    <tr>\n",
              "      <th>2</th>\n",
              "      <td>873200</td>\n",
              "      <td>2008</td>\n",
              "      <td>2</td>\n",
              "      <td>21</td>\n",
              "      <td>4</td>\n",
              "      <td>921.0</td>\n",
              "      <td>930</td>\n",
              "      <td>1122.0</td>\n",
              "      <td>1141</td>\n",
              "      <td>US</td>\n",
              "      <td>1800</td>\n",
              "      <td>N747UW</td>\n",
              "      <td>121.0</td>\n",
              "      <td>131.0</td>\n",
              "      <td>101.0</td>\n",
              "      <td>-19.0</td>\n",
              "      <td>-9.0</td>\n",
              "      <td>CLT</td>\n",
              "      <td>BOS</td>\n",
              "      <td>728</td>\n",
              "      <td>3.0</td>\n",
              "      <td>17.0</td>\n",
              "      <td>0</td>\n",
              "      <td>NaN</td>\n",
              "      <td>0</td>\n",
              "      <td>NaN</td>\n",
              "      <td>NaN</td>\n",
              "      <td>NaN</td>\n",
              "      <td>NaN</td>\n",
              "      <td>NaN</td>\n",
              "    </tr>\n",
              "    <tr>\n",
              "      <th>4</th>\n",
              "      <td>1164410</td>\n",
              "      <td>2008</td>\n",
              "      <td>2</td>\n",
              "      <td>6</td>\n",
              "      <td>3</td>\n",
              "      <td>556.0</td>\n",
              "      <td>600</td>\n",
              "      <td>1137.0</td>\n",
              "      <td>1128</td>\n",
              "      <td>DL</td>\n",
              "      <td>476</td>\n",
              "      <td>N615DL</td>\n",
              "      <td>221.0</td>\n",
              "      <td>208.0</td>\n",
              "      <td>201.0</td>\n",
              "      <td>9.0</td>\n",
              "      <td>-4.0</td>\n",
              "      <td>PHX</td>\n",
              "      <td>ATL</td>\n",
              "      <td>1587</td>\n",
              "      <td>7.0</td>\n",
              "      <td>13.0</td>\n",
              "      <td>0</td>\n",
              "      <td>NaN</td>\n",
              "      <td>0</td>\n",
              "      <td>NaN</td>\n",
              "      <td>NaN</td>\n",
              "      <td>NaN</td>\n",
              "      <td>NaN</td>\n",
              "      <td>NaN</td>\n",
              "    </tr>\n",
              "    <tr>\n",
              "      <th>5</th>\n",
              "      <td>666858</td>\n",
              "      <td>2008</td>\n",
              "      <td>2</td>\n",
              "      <td>21</td>\n",
              "      <td>4</td>\n",
              "      <td>852.0</td>\n",
              "      <td>850</td>\n",
              "      <td>943.0</td>\n",
              "      <td>950</td>\n",
              "      <td>WN</td>\n",
              "      <td>2614</td>\n",
              "      <td>N316SW</td>\n",
              "      <td>111.0</td>\n",
              "      <td>120.0</td>\n",
              "      <td>98.0</td>\n",
              "      <td>-7.0</td>\n",
              "      <td>2.0</td>\n",
              "      <td>MCO</td>\n",
              "      <td>BNA</td>\n",
              "      <td>616</td>\n",
              "      <td>6.0</td>\n",
              "      <td>7.0</td>\n",
              "      <td>0</td>\n",
              "      <td>NaN</td>\n",
              "      <td>0</td>\n",
              "      <td>NaN</td>\n",
              "      <td>NaN</td>\n",
              "      <td>NaN</td>\n",
              "      <td>NaN</td>\n",
              "      <td>NaN</td>\n",
              "    </tr>\n",
              "  </tbody>\n",
              "</table>\n",
              "</div>"
            ],
            "text/plain": [
              "   Unnamed: 0  Year  Month  ...  NASDelay  SecurityDelay  LateAircraftDelay\n",
              "0     6193029  2008     11  ...       NaN            NaN                NaN\n",
              "1     2566613  2008      5  ...       NaN            NaN                NaN\n",
              "2      873200  2008      2  ...       NaN            NaN                NaN\n",
              "4     1164410  2008      2  ...       NaN            NaN                NaN\n",
              "5      666858  2008      2  ...       NaN            NaN                NaN\n",
              "\n",
              "[5 rows x 30 columns]"
            ]
          },
          "metadata": {},
          "execution_count": 26
        }
      ]
    },
    {
      "cell_type": "code",
      "metadata": {
        "colab": {
          "base_uri": "https://localhost:8080/"
        },
        "id": "MZzFhdXxZgM-",
        "outputId": "dd39083a-b8a6-4e58-c117-56c327c49f08"
      },
      "source": [
        "len(df[pd.isna(df.SecurityDelay)].head())"
      ],
      "execution_count": null,
      "outputs": [
        {
          "output_type": "execute_result",
          "data": {
            "text/plain": [
              "5"
            ]
          },
          "metadata": {},
          "execution_count": 27
        }
      ]
    },
    {
      "cell_type": "markdown",
      "metadata": {
        "id": "VV0A0SqCZ3Gj"
      },
      "source": [
        "#### Transformaciones de la base de datos"
      ]
    },
    {
      "cell_type": "markdown",
      "metadata": {
        "id": "6JrgjYlZbJuG"
      },
      "source": [
        "**Creando una columna nueva**"
      ]
    },
    {
      "cell_type": "code",
      "metadata": {
        "colab": {
          "base_uri": "https://localhost:8080/"
        },
        "id": "9iefacx0bNTu",
        "outputId": "5a6ccc33-9990-44f0-ed18-777b93e76970"
      },
      "source": [
        "df['HoursDelay'] = round(df.ArrDelay/60)\n",
        "df['HoursDelay'].head()"
      ],
      "execution_count": null,
      "outputs": [
        {
          "output_type": "execute_result",
          "data": {
            "text/plain": [
              "0   -0.0\n",
              "1    0.0\n",
              "2   -0.0\n",
              "3    1.0\n",
              "4    0.0\n",
              "Name: HoursDelay, dtype: float64"
            ]
          },
          "metadata": {},
          "execution_count": 28
        }
      ]
    },
    {
      "cell_type": "code",
      "metadata": {
        "colab": {
          "base_uri": "https://localhost:8080/"
        },
        "id": "Qc3G7iBrZ4Gp",
        "outputId": "fb5d82e8-08dc-463f-be89-fc27a97882f6"
      },
      "source": [
        "df.columns"
      ],
      "execution_count": null,
      "outputs": [
        {
          "output_type": "execute_result",
          "data": {
            "text/plain": [
              "Index(['Unnamed: 0', 'Year', 'Month', 'DayofMonth', 'DayOfWeek', 'DepTime',\n",
              "       'CRSDepTime', 'ArrTime', 'CRSArrTime', 'UniqueCarrier', 'FlightNum',\n",
              "       'TailNum', 'ActualElapsedTime', 'CRSElapsedTime', 'AirTime', 'ArrDelay',\n",
              "       'DepDelay', 'Origin', 'Dest', 'Distance', 'TaxiIn', 'TaxiOut',\n",
              "       'Cancelled', 'CancellationCode', 'Diverted', 'CarrierDelay',\n",
              "       'WeatherDelay', 'NASDelay', 'SecurityDelay', 'LateAircraftDelay',\n",
              "       'HoursDelay'],\n",
              "      dtype='object')"
            ]
          },
          "metadata": {},
          "execution_count": 29
        }
      ]
    },
    {
      "cell_type": "markdown",
      "metadata": {
        "id": "ZzaT_BdQb2vG"
      },
      "source": [
        "**Eliminando filas**"
      ]
    },
    {
      "cell_type": "code",
      "metadata": {
        "colab": {
          "base_uri": "https://localhost:8080/"
        },
        "id": "1BChIUlIaQ-P",
        "outputId": "e0d008d2-9276-465a-96b1-f2f14fa1c6fb"
      },
      "source": [
        "# Eliminar una columna\n",
        "del(df['Unnamed: 0'])\n",
        "df.columns"
      ],
      "execution_count": null,
      "outputs": [
        {
          "output_type": "execute_result",
          "data": {
            "text/plain": [
              "Index(['Year', 'Month', 'DayofMonth', 'DayOfWeek', 'DepTime', 'CRSDepTime',\n",
              "       'ArrTime', 'CRSArrTime', 'UniqueCarrier', 'FlightNum', 'TailNum',\n",
              "       'ActualElapsedTime', 'CRSElapsedTime', 'AirTime', 'ArrDelay',\n",
              "       'DepDelay', 'Origin', 'Dest', 'Distance', 'TaxiIn', 'TaxiOut',\n",
              "       'Cancelled', 'CancellationCode', 'Diverted', 'CarrierDelay',\n",
              "       'WeatherDelay', 'NASDelay', 'SecurityDelay', 'LateAircraftDelay',\n",
              "       'HoursDelay'],\n",
              "      dtype='object')"
            ]
          },
          "metadata": {},
          "execution_count": 31
        }
      ]
    },
    {
      "cell_type": "code",
      "metadata": {
        "id": "EeCgFMJLa9x2"
      },
      "source": [
        "# Eliminar columnas en el mismo dataframe\n",
        "df.drop(['Distance', 'AirTime', 'TaxiOut'], axis=1, inplace=True)"
      ],
      "execution_count": null,
      "outputs": []
    },
    {
      "cell_type": "code",
      "metadata": {
        "id": "zfryoRtJaalh"
      },
      "source": [
        "# Eliminar más columnas y creando otra variable\n",
        "df_del = df.drop(['Distance', 'AirTime', 'TaxiOut'], axis= 1)\n",
        "df_del.columns"
      ],
      "execution_count": null,
      "outputs": []
    },
    {
      "cell_type": "code",
      "metadata": {
        "id": "qX4x6MLKaxqe"
      },
      "source": [
        "# Eliminar filas\n",
        "# df.drop(range(0,1000000), inplace=True)"
      ],
      "execution_count": null,
      "outputs": []
    },
    {
      "cell_type": "markdown",
      "metadata": {
        "id": "_lUdZhu0b9x2"
      },
      "source": [
        "**Añadir nuevas filas**"
      ]
    },
    {
      "cell_type": "code",
      "metadata": {
        "id": "jNXBL2Kkb0uM"
      },
      "source": [
        "df.Origin.unique()"
      ],
      "execution_count": null,
      "outputs": []
    },
    {
      "cell_type": "code",
      "metadata": {
        "id": "Re2_gjLzcZiV"
      },
      "source": [
        "df[df.Origin == 'IAD']"
      ],
      "execution_count": null,
      "outputs": []
    },
    {
      "cell_type": "code",
      "metadata": {
        "id": "o_uutbALcFIN"
      },
      "source": [
        "dfIAD = df[df.Origin == 'IAD']\n",
        "dfIND = df[df.Origin == 'IND']"
      ],
      "execution_count": null,
      "outputs": []
    },
    {
      "cell_type": "code",
      "metadata": {
        "id": "T2dWGVDDcOPX"
      },
      "source": [
        "newdf = dfIAD.append(dfIND)\n",
        "newdf.Origin"
      ],
      "execution_count": null,
      "outputs": []
    },
    {
      "cell_type": "markdown",
      "metadata": {
        "id": "YgWkOlt0ct4G"
      },
      "source": [
        "#### Groupby: obtener información esencial"
      ]
    },
    {
      "cell_type": "markdown",
      "metadata": {
        "id": "AO_W9qhHczxu"
      },
      "source": [
        "Agrupando por categorías"
      ]
    },
    {
      "cell_type": "code",
      "metadata": {
        "colab": {
          "base_uri": "https://localhost:8080/"
        },
        "id": "D6JiMyH1cyzQ",
        "outputId": "f0398fb5-a7ab-44ef-bae7-125439aab903"
      },
      "source": [
        "df.groupby(by='DayOfWeek')['ArrDelay'].max()"
      ],
      "execution_count": null,
      "outputs": [
        {
          "output_type": "execute_result",
          "data": {
            "text/plain": [
              "DayOfWeek\n",
              "1    304.0\n",
              "2    517.0\n",
              "3    243.0\n",
              "4    368.0\n",
              "5    654.0\n",
              "6    597.0\n",
              "7    318.0\n",
              "Name: ArrDelay, dtype: float64"
            ]
          },
          "metadata": {},
          "execution_count": 32
        }
      ]
    },
    {
      "cell_type": "code",
      "metadata": {
        "colab": {
          "base_uri": "https://localhost:8080/"
        },
        "id": "Ocj8WwrOdBUX",
        "outputId": "422c24f7-84ff-4994-a441-611c003892d4"
      },
      "source": [
        "df.groupby(by='DayOfWeek')['ArrDelay'].mean()"
      ],
      "execution_count": null,
      "outputs": [
        {
          "output_type": "execute_result",
          "data": {
            "text/plain": [
              "DayOfWeek\n",
              "1     8.691156\n",
              "2     6.158184\n",
              "3     5.382479\n",
              "4     7.817680\n",
              "5    11.070866\n",
              "6     6.705065\n",
              "7    11.259179\n",
              "Name: ArrDelay, dtype: float64"
            ]
          },
          "metadata": {},
          "execution_count": 33
        }
      ]
    },
    {
      "cell_type": "code",
      "metadata": {
        "colab": {
          "base_uri": "https://localhost:8080/"
        },
        "id": "KjpEOjmwdDQe",
        "outputId": "593f1a7a-af93-4e99-989a-187f454bce36"
      },
      "source": [
        "df.groupby(by='DayOfWeek')['ArrDelay'].count()"
      ],
      "execution_count": null,
      "outputs": [
        {
          "output_type": "execute_result",
          "data": {
            "text/plain": [
              "DayOfWeek\n",
              "1    1470\n",
              "2    1454\n",
              "3    1404\n",
              "4    1448\n",
              "5    1397\n",
              "6    1224\n",
              "7    1389\n",
              "Name: ArrDelay, dtype: int64"
            ]
          },
          "metadata": {},
          "execution_count": 34
        }
      ]
    },
    {
      "cell_type": "code",
      "metadata": {
        "colab": {
          "base_uri": "https://localhost:8080/",
          "height": 294
        },
        "id": "oBXth3_EdEhn",
        "outputId": "8090e4d5-812a-43b7-a389-fb88fee4a50b"
      },
      "source": [
        "df.groupby(by='DayOfWeek')['ArrDelay'].describe()"
      ],
      "execution_count": null,
      "outputs": [
        {
          "output_type": "execute_result",
          "data": {
            "text/html": [
              "<div>\n",
              "<style scoped>\n",
              "    .dataframe tbody tr th:only-of-type {\n",
              "        vertical-align: middle;\n",
              "    }\n",
              "\n",
              "    .dataframe tbody tr th {\n",
              "        vertical-align: top;\n",
              "    }\n",
              "\n",
              "    .dataframe thead th {\n",
              "        text-align: right;\n",
              "    }\n",
              "</style>\n",
              "<table border=\"1\" class=\"dataframe\">\n",
              "  <thead>\n",
              "    <tr style=\"text-align: right;\">\n",
              "      <th></th>\n",
              "      <th>count</th>\n",
              "      <th>mean</th>\n",
              "      <th>std</th>\n",
              "      <th>min</th>\n",
              "      <th>25%</th>\n",
              "      <th>50%</th>\n",
              "      <th>75%</th>\n",
              "      <th>max</th>\n",
              "    </tr>\n",
              "    <tr>\n",
              "      <th>DayOfWeek</th>\n",
              "      <th></th>\n",
              "      <th></th>\n",
              "      <th></th>\n",
              "      <th></th>\n",
              "      <th></th>\n",
              "      <th></th>\n",
              "      <th></th>\n",
              "      <th></th>\n",
              "    </tr>\n",
              "  </thead>\n",
              "  <tbody>\n",
              "    <tr>\n",
              "      <th>1</th>\n",
              "      <td>1470.0</td>\n",
              "      <td>8.691156</td>\n",
              "      <td>36.977573</td>\n",
              "      <td>-34.0</td>\n",
              "      <td>-10.0</td>\n",
              "      <td>-2.0</td>\n",
              "      <td>12.00</td>\n",
              "      <td>304.0</td>\n",
              "    </tr>\n",
              "    <tr>\n",
              "      <th>2</th>\n",
              "      <td>1454.0</td>\n",
              "      <td>6.158184</td>\n",
              "      <td>37.456023</td>\n",
              "      <td>-48.0</td>\n",
              "      <td>-11.0</td>\n",
              "      <td>-3.0</td>\n",
              "      <td>9.75</td>\n",
              "      <td>517.0</td>\n",
              "    </tr>\n",
              "    <tr>\n",
              "      <th>3</th>\n",
              "      <td>1404.0</td>\n",
              "      <td>5.382479</td>\n",
              "      <td>30.537634</td>\n",
              "      <td>-42.0</td>\n",
              "      <td>-10.0</td>\n",
              "      <td>-2.0</td>\n",
              "      <td>10.00</td>\n",
              "      <td>243.0</td>\n",
              "    </tr>\n",
              "    <tr>\n",
              "      <th>4</th>\n",
              "      <td>1448.0</td>\n",
              "      <td>7.817680</td>\n",
              "      <td>34.297631</td>\n",
              "      <td>-52.0</td>\n",
              "      <td>-10.0</td>\n",
              "      <td>-1.0</td>\n",
              "      <td>13.00</td>\n",
              "      <td>368.0</td>\n",
              "    </tr>\n",
              "    <tr>\n",
              "      <th>5</th>\n",
              "      <td>1397.0</td>\n",
              "      <td>11.070866</td>\n",
              "      <td>41.331908</td>\n",
              "      <td>-46.0</td>\n",
              "      <td>-9.0</td>\n",
              "      <td>0.0</td>\n",
              "      <td>17.00</td>\n",
              "      <td>654.0</td>\n",
              "    </tr>\n",
              "    <tr>\n",
              "      <th>6</th>\n",
              "      <td>1224.0</td>\n",
              "      <td>6.705065</td>\n",
              "      <td>41.192551</td>\n",
              "      <td>-44.0</td>\n",
              "      <td>-11.0</td>\n",
              "      <td>-3.0</td>\n",
              "      <td>10.00</td>\n",
              "      <td>597.0</td>\n",
              "    </tr>\n",
              "    <tr>\n",
              "      <th>7</th>\n",
              "      <td>1389.0</td>\n",
              "      <td>11.259179</td>\n",
              "      <td>41.607147</td>\n",
              "      <td>-50.0</td>\n",
              "      <td>-10.0</td>\n",
              "      <td>-1.0</td>\n",
              "      <td>15.00</td>\n",
              "      <td>318.0</td>\n",
              "    </tr>\n",
              "  </tbody>\n",
              "</table>\n",
              "</div>"
            ],
            "text/plain": [
              "            count       mean        std   min   25%  50%    75%    max\n",
              "DayOfWeek                                                             \n",
              "1          1470.0   8.691156  36.977573 -34.0 -10.0 -2.0  12.00  304.0\n",
              "2          1454.0   6.158184  37.456023 -48.0 -11.0 -3.0   9.75  517.0\n",
              "3          1404.0   5.382479  30.537634 -42.0 -10.0 -2.0  10.00  243.0\n",
              "4          1448.0   7.817680  34.297631 -52.0 -10.0 -1.0  13.00  368.0\n",
              "5          1397.0  11.070866  41.331908 -46.0  -9.0  0.0  17.00  654.0\n",
              "6          1224.0   6.705065  41.192551 -44.0 -11.0 -3.0  10.00  597.0\n",
              "7          1389.0  11.259179  41.607147 -50.0 -10.0 -1.0  15.00  318.0"
            ]
          },
          "metadata": {},
          "execution_count": 35
        }
      ]
    },
    {
      "cell_type": "code",
      "metadata": {
        "colab": {
          "base_uri": "https://localhost:8080/",
          "height": 350
        },
        "id": "Mhpy6t5ndLA6",
        "outputId": "5df98f2e-c215-4798-da93-917f664f7369"
      },
      "source": [
        "df.groupby(by='DayOfWeek')['ArrDelay', 'DepDelay'].mean() # Se espera que sean del mismo tipo de dato"
      ],
      "execution_count": null,
      "outputs": [
        {
          "output_type": "stream",
          "name": "stderr",
          "text": [
            "/usr/local/lib/python3.7/dist-packages/ipykernel_launcher.py:1: FutureWarning: Indexing with multiple keys (implicitly converted to a tuple of keys) will be deprecated, use a list instead.\n",
            "  \"\"\"Entry point for launching an IPython kernel.\n"
          ]
        },
        {
          "output_type": "execute_result",
          "data": {
            "text/html": [
              "<div>\n",
              "<style scoped>\n",
              "    .dataframe tbody tr th:only-of-type {\n",
              "        vertical-align: middle;\n",
              "    }\n",
              "\n",
              "    .dataframe tbody tr th {\n",
              "        vertical-align: top;\n",
              "    }\n",
              "\n",
              "    .dataframe thead th {\n",
              "        text-align: right;\n",
              "    }\n",
              "</style>\n",
              "<table border=\"1\" class=\"dataframe\">\n",
              "  <thead>\n",
              "    <tr style=\"text-align: right;\">\n",
              "      <th></th>\n",
              "      <th>ArrDelay</th>\n",
              "      <th>DepDelay</th>\n",
              "    </tr>\n",
              "    <tr>\n",
              "      <th>DayOfWeek</th>\n",
              "      <th></th>\n",
              "      <th></th>\n",
              "    </tr>\n",
              "  </thead>\n",
              "  <tbody>\n",
              "    <tr>\n",
              "      <th>1</th>\n",
              "      <td>8.691156</td>\n",
              "      <td>10.767821</td>\n",
              "    </tr>\n",
              "    <tr>\n",
              "      <th>2</th>\n",
              "      <td>6.158184</td>\n",
              "      <td>8.131597</td>\n",
              "    </tr>\n",
              "    <tr>\n",
              "      <th>3</th>\n",
              "      <td>5.382479</td>\n",
              "      <td>7.098862</td>\n",
              "    </tr>\n",
              "    <tr>\n",
              "      <th>4</th>\n",
              "      <td>7.817680</td>\n",
              "      <td>9.589249</td>\n",
              "    </tr>\n",
              "    <tr>\n",
              "      <th>5</th>\n",
              "      <td>11.070866</td>\n",
              "      <td>11.850427</td>\n",
              "    </tr>\n",
              "    <tr>\n",
              "      <th>6</th>\n",
              "      <td>6.705065</td>\n",
              "      <td>9.224307</td>\n",
              "    </tr>\n",
              "    <tr>\n",
              "      <th>7</th>\n",
              "      <td>11.259179</td>\n",
              "      <td>13.393831</td>\n",
              "    </tr>\n",
              "  </tbody>\n",
              "</table>\n",
              "</div>"
            ],
            "text/plain": [
              "            ArrDelay   DepDelay\n",
              "DayOfWeek                      \n",
              "1           8.691156  10.767821\n",
              "2           6.158184   8.131597\n",
              "3           5.382479   7.098862\n",
              "4           7.817680   9.589249\n",
              "5          11.070866  11.850427\n",
              "6           6.705065   9.224307\n",
              "7          11.259179  13.393831"
            ]
          },
          "metadata": {},
          "execution_count": 36
        }
      ]
    },
    {
      "cell_type": "code",
      "metadata": {
        "colab": {
          "base_uri": "https://localhost:8080/"
        },
        "id": "jpFjkkjcdeNg",
        "outputId": "5cacaacf-fb3e-4657-b243-177920b1dcb8"
      },
      "source": [
        "# Rango de valores \n",
        "df.groupby(by='DayOfWeek')['ArrDelay'].max() - df.groupby(by='DayOfWeek')['ArrDelay'].min()"
      ],
      "execution_count": null,
      "outputs": [
        {
          "output_type": "execute_result",
          "data": {
            "text/plain": [
              "DayOfWeek\n",
              "1    338.0\n",
              "2    565.0\n",
              "3    285.0\n",
              "4    420.0\n",
              "5    700.0\n",
              "6    641.0\n",
              "7    368.0\n",
              "Name: ArrDelay, dtype: float64"
            ]
          },
          "metadata": {},
          "execution_count": 37
        }
      ]
    },
    {
      "cell_type": "code",
      "metadata": {
        "id": "2rk2laC8dso-"
      },
      "source": [
        "dfIADIND = df[df.Origin.isin(['IAD','IND'])]"
      ],
      "execution_count": null,
      "outputs": []
    },
    {
      "cell_type": "code",
      "metadata": {
        "colab": {
          "base_uri": "https://localhost:8080/"
        },
        "id": "F5x38kiud2Bu",
        "outputId": "3361ab95-21be-422b-ea3f-2541fe3252ea"
      },
      "source": [
        "dfIADIND.groupby(by=['DayOfWeek','Origin'])['ArrDelay'].mean()"
      ],
      "execution_count": null,
      "outputs": [
        {
          "output_type": "execute_result",
          "data": {
            "text/plain": [
              "DayOfWeek  Origin\n",
              "1          IAD       32.500000\n",
              "           IND       -1.500000\n",
              "2          IAD       -2.500000\n",
              "           IND        0.250000\n",
              "3          IAD      -11.750000\n",
              "           IND       -6.000000\n",
              "4          IAD       16.437500\n",
              "           IND        3.187500\n",
              "5          IAD       20.928571\n",
              "           IND       18.272727\n",
              "6          IAD       17.333333\n",
              "           IND      -13.750000\n",
              "7          IAD        8.764706\n",
              "           IND        1.181818\n",
              "Name: ArrDelay, dtype: float64"
            ]
          },
          "metadata": {},
          "execution_count": 39
        }
      ]
    },
    {
      "cell_type": "markdown",
      "metadata": {
        "id": "QEnUoa_yeDnp"
      },
      "source": [
        "El orden con el que se ponen las columnas en el by afectará el resultado final."
      ]
    },
    {
      "cell_type": "code",
      "metadata": {
        "id": "bCLBbXkJeHG0"
      },
      "source": [
        "mygroupby = dfIADIND.groupby(by=['DayOfWeek','Origin'])['ArrDelay']"
      ],
      "execution_count": null,
      "outputs": []
    },
    {
      "cell_type": "code",
      "metadata": {
        "colab": {
          "base_uri": "https://localhost:8080/"
        },
        "id": "z0twKcG1eSxu",
        "outputId": "a0ef65ff-8193-4f68-f0f5-a3ad63c207cf"
      },
      "source": [
        "mygroupby.max()"
      ],
      "execution_count": null,
      "outputs": [
        {
          "output_type": "execute_result",
          "data": {
            "text/plain": [
              "DayOfWeek  Origin\n",
              "1          IAD       266.0\n",
              "           IND        39.0\n",
              "2          IAD        50.0\n",
              "           IND        14.0\n",
              "3          IAD         8.0\n",
              "           IND        15.0\n",
              "4          IAD       111.0\n",
              "           IND        63.0\n",
              "5          IAD       103.0\n",
              "           IND       186.0\n",
              "6          IAD       149.0\n",
              "           IND         6.0\n",
              "7          IAD        73.0\n",
              "           IND        89.0\n",
              "Name: ArrDelay, dtype: float64"
            ]
          },
          "metadata": {},
          "execution_count": 41
        }
      ]
    },
    {
      "cell_type": "code",
      "metadata": {
        "colab": {
          "base_uri": "https://localhost:8080/"
        },
        "id": "IcUeQ6D-eVuG",
        "outputId": "83eec3be-6f8f-4691-f869-d71312529134"
      },
      "source": [
        "mygroupby.min()"
      ],
      "execution_count": null,
      "outputs": [
        {
          "output_type": "execute_result",
          "data": {
            "text/plain": [
              "DayOfWeek  Origin\n",
              "1          IAD      -26.0\n",
              "           IND      -12.0\n",
              "2          IAD      -29.0\n",
              "           IND      -24.0\n",
              "3          IAD      -37.0\n",
              "           IND      -17.0\n",
              "4          IAD      -36.0\n",
              "           IND      -15.0\n",
              "5          IAD      -34.0\n",
              "           IND      -15.0\n",
              "6          IAD      -25.0\n",
              "           IND      -33.0\n",
              "7          IAD      -14.0\n",
              "           IND      -21.0\n",
              "Name: ArrDelay, dtype: float64"
            ]
          },
          "metadata": {},
          "execution_count": 42
        }
      ]
    },
    {
      "cell_type": "markdown",
      "metadata": {
        "id": "YrwcyuzseYjc"
      },
      "source": [
        "#### Tratar datos duplicados y perdidos"
      ]
    },
    {
      "cell_type": "code",
      "metadata": {
        "id": "w-cwrz4yebTI"
      },
      "source": [
        "dfduplicado = df.append(df)"
      ],
      "execution_count": null,
      "outputs": []
    },
    {
      "cell_type": "code",
      "metadata": {
        "id": "AnTRNLw8eqYF"
      },
      "source": [
        "dfduplicado = dfduplicado.sample(frac=1)\n",
        "dfclean = dfduplicado.drop_duplicates()"
      ],
      "execution_count": null,
      "outputs": []
    },
    {
      "cell_type": "code",
      "metadata": {
        "id": "QevSGyqVe0qV"
      },
      "source": [
        "len(dfclean) == len(df)"
      ],
      "execution_count": null,
      "outputs": []
    },
    {
      "cell_type": "code",
      "metadata": {
        "id": "YmGvjcCce79d"
      },
      "source": [
        "dfclean.drop_duplicates(subset='DayofMonth')"
      ],
      "execution_count": null,
      "outputs": []
    },
    {
      "cell_type": "code",
      "metadata": {
        "id": "g0FOk42Kfh2V"
      },
      "source": [
        "# Datos faltantes\n",
        "df.dropna()"
      ],
      "execution_count": null,
      "outputs": []
    },
    {
      "cell_type": "markdown",
      "metadata": {
        "id": "JYGOCk_wfk_1"
      },
      "source": [
        "Ninguna de nuestras filas tiene un valor faltante"
      ]
    },
    {
      "cell_type": "code",
      "metadata": {
        "id": "C-N9HSFzfm5r"
      },
      "source": [
        "df.dropna(thresh=25) # 25 entradas llenas de las 29 que hay"
      ],
      "execution_count": null,
      "outputs": []
    },
    {
      "cell_type": "code",
      "metadata": {
        "id": "Bnq8SZNigUsc"
      },
      "source": [
        "df.dropna(thresh=len(df.columns)-2)"
      ],
      "execution_count": null,
      "outputs": []
    },
    {
      "cell_type": "code",
      "metadata": {
        "id": "YxjiqzbXgdqd"
      },
      "source": [
        "df.dropna(subset= ['CancellationCode']) # Devolverá un dataframe donde no tenga NaN en dicha columna"
      ],
      "execution_count": null,
      "outputs": []
    },
    {
      "cell_type": "markdown",
      "metadata": {
        "id": "Tvo2LkjBgtZ8"
      },
      "source": [
        "#### Numpy"
      ]
    },
    {
      "cell_type": "code",
      "metadata": {
        "id": "bjbMn5EogpmF"
      },
      "source": [
        "import numpy as np\n",
        "\n",
        "valoraciones = np.array([[8,7,8,5],[2,6,8,1],[8,8,9,5]])\n",
        "valoraciones"
      ],
      "execution_count": null,
      "outputs": []
    },
    {
      "cell_type": "code",
      "metadata": {
        "id": "PsEF6KMqiLNH"
      },
      "source": [
        "valoraciones[0][1]"
      ],
      "execution_count": null,
      "outputs": []
    },
    {
      "cell_type": "code",
      "metadata": {
        "id": "JZFW0ls3iOY1"
      },
      "source": [
        "valoraciones[0,1]"
      ],
      "execution_count": null,
      "outputs": []
    },
    {
      "cell_type": "code",
      "metadata": {
        "id": "iLvR-wupiSNU"
      },
      "source": [
        "valoraciones2 = np.array([[[8,7,8,5],[2,6,8,1]],\n",
        "                          [[8,7,8,5],[2,6,8,1]],\n",
        "                          [[8,7,8,5],[2,6,8,1]]])\n",
        "valoraciones2"
      ],
      "execution_count": null,
      "outputs": []
    },
    {
      "cell_type": "markdown",
      "metadata": {
        "id": "9fTqmB2eihV5"
      },
      "source": [
        "Puede entenderse como 3 clientes con distintos datos, 4 productos con una valoración para cada producto."
      ]
    },
    {
      "cell_type": "code",
      "metadata": {
        "id": "P6f5Eb5jikVE"
      },
      "source": [
        "valoraciones2[0,1,2]"
      ],
      "execution_count": null,
      "outputs": []
    },
    {
      "cell_type": "code",
      "metadata": {
        "id": "uKlnQ5aRiy36"
      },
      "source": [
        "np.zeros((3,2))"
      ],
      "execution_count": null,
      "outputs": []
    },
    {
      "cell_type": "code",
      "metadata": {
        "id": "lE0bgac6j9Gc"
      },
      "source": [
        "valoraciones2 + np.ones((3,2,4))"
      ],
      "execution_count": null,
      "outputs": []
    },
    {
      "cell_type": "code",
      "metadata": {
        "id": "jTyL1EvMku3z"
      },
      "source": [
        "valoraciones2"
      ],
      "execution_count": null,
      "outputs": []
    },
    {
      "cell_type": "code",
      "metadata": {
        "id": "i_godrI8koZ_"
      },
      "source": [
        "np.mean(valoraciones2)"
      ],
      "execution_count": null,
      "outputs": []
    },
    {
      "cell_type": "code",
      "metadata": {
        "id": "S348ibZ0ktlU"
      },
      "source": [
        "for i in range(0,3):\n",
        "  print(f'Eje {i}:\\n', np.mean(valoraciones2, axis=i),'\\n')"
      ],
      "execution_count": null,
      "outputs": []
    },
    {
      "cell_type": "code",
      "metadata": {
        "id": "qVls1Nosmbn-"
      },
      "source": [
        "lista = [i for i in range(1,13)]\n",
        "np.reshape(lista, (3,2,2))"
      ],
      "execution_count": null,
      "outputs": []
    },
    {
      "cell_type": "code",
      "metadata": {
        "id": "V51XzyZkmthL"
      },
      "source": [
        "# Numpy con dataframes\n",
        "np.median(df['DepTime'])"
      ],
      "execution_count": null,
      "outputs": []
    },
    {
      "cell_type": "code",
      "metadata": {
        "id": "WYH6CZn4m60F"
      },
      "source": [
        "np.random.rand(2,2)"
      ],
      "execution_count": null,
      "outputs": []
    },
    {
      "cell_type": "markdown",
      "metadata": {
        "id": "b_EIvr22nFwT"
      },
      "source": [
        "### Gestión de datos avanzada"
      ]
    },
    {
      "cell_type": "markdown",
      "metadata": {
        "id": "IICWDUQc8U5f"
      },
      "source": [
        "#### Correlaciones, Entender las relaciones entre variables"
      ]
    },
    {
      "cell_type": "code",
      "metadata": {
        "id": "z_WIiodbnHb1"
      },
      "source": [
        "# import pandas as pd\n",
        "import numpy as np"
      ],
      "execution_count": null,
      "outputs": []
    },
    {
      "cell_type": "markdown",
      "metadata": {
        "id": "WV8H_uTy8RSw"
      },
      "source": [
        "$$\n",
        "\\rho_{X,Y} = \\frac{\\sigma_{XY}}{\\sigma_{X}\\sigma_{Y}} = \\frac{E[(X - \\mu_X)(Y - \\mu_Y)]}{\\sigma_{X}\\sigma_{Y}}\n",
        "$$"
      ]
    },
    {
      "cell_type": "code",
      "metadata": {
        "id": "Kh5g2Dqo87Fd"
      },
      "source": [
        "np.corrcoef(df.ArrDelay, df.DepDelay)"
      ],
      "execution_count": null,
      "outputs": []
    },
    {
      "cell_type": "code",
      "metadata": {
        "id": "G2_wVO4i9OM3"
      },
      "source": [
        "df.dropna(inplace=True, subset=['ArrDelay','DepDelay'])"
      ],
      "execution_count": null,
      "outputs": []
    },
    {
      "cell_type": "code",
      "metadata": {
        "id": "hnCTE5_Q9VxM"
      },
      "source": [
        "np.corrcoef([df['ArrDelay'], df['DepDelay'], df['DepTime']])"
      ],
      "execution_count": null,
      "outputs": []
    },
    {
      "cell_type": "code",
      "metadata": {
        "id": "rF9kygqe9lce"
      },
      "source": [
        "df.drop(columns= ['Unnamed: 0', 'Month', 'Year', 'Cancelled', 'Diverted'], inplace=True)"
      ],
      "execution_count": null,
      "outputs": []
    },
    {
      "cell_type": "code",
      "metadata": {
        "id": "GYvCHfVm9zNX"
      },
      "source": [
        "df.corr()"
      ],
      "execution_count": null,
      "outputs": []
    },
    {
      "cell_type": "code",
      "metadata": {
        "id": "v94raX6U93dy"
      },
      "source": [
        "corr = round(df.corr(),3)\n",
        "corr.style.background_gradient() # Se ve mejor para jupyter notebook"
      ],
      "execution_count": null,
      "outputs": []
    },
    {
      "cell_type": "markdown",
      "metadata": {
        "id": "l2PLskfMAdGc"
      },
      "source": [
        "#### Test de la Chi-Cuadrado"
      ]
    },
    {
      "cell_type": "markdown",
      "metadata": {
        "id": "PDs6WeDyAsjG"
      },
      "source": [
        "$$\n",
        "X^2 = \\sum^{k}_{i=1} \\frac{(\\text{observado}_i - \\text{esperado}_i)^2}{\\text{esperado}_i}\n",
        "$$"
      ]
    },
    {
      "cell_type": "code",
      "metadata": {
        "id": "3fQCTNBTBEbY"
      },
      "source": [
        "np.random.seed(0)\n",
        "df = df[df['Origin'].isin(['ISP','IND'])]\n",
        "df = df.sample(frac=1)\n",
        "df"
      ],
      "execution_count": null,
      "outputs": []
    },
    {
      "cell_type": "code",
      "metadata": {
        "id": "YFap_tbNBd3d"
      },
      "source": [
        "df['BigDelay'] = df['ArrDelay'] > 30\n",
        "observados = pd.crosstab(index=df['BigDelay'], columns=df['Origin'], margins=True)"
      ],
      "execution_count": null,
      "outputs": []
    },
    {
      "cell_type": "code",
      "metadata": {
        "id": "6got4YbGBr8W"
      },
      "source": [
        "observados"
      ],
      "execution_count": null,
      "outputs": []
    },
    {
      "cell_type": "code",
      "metadata": {
        "id": "iOCpGdiQByQ-"
      },
      "source": [
        "from scipy.stats import chi2_contingency"
      ],
      "execution_count": null,
      "outputs": []
    },
    {
      "cell_type": "code",
      "metadata": {
        "id": "eLCezZahB-K8"
      },
      "source": [
        "test = chi2_contingency(observados)\n",
        "test"
      ],
      "execution_count": null,
      "outputs": []
    },
    {
      "cell_type": "code",
      "metadata": {
        "id": "elidimTqCDEW"
      },
      "source": [
        "esperados = pd.DataFrame(test[3])\n",
        "esperados"
      ],
      "execution_count": null,
      "outputs": []
    },
    {
      "cell_type": "code",
      "metadata": {
        "id": "8vozfL72CMmH"
      },
      "source": [
        "esperados_rel = round(esperados.apply(lambda r: r/len(df)*100, axis=1),2)"
      ],
      "execution_count": null,
      "outputs": []
    },
    {
      "cell_type": "code",
      "metadata": {
        "id": "WnnBZELbCVql"
      },
      "source": [
        "observados_rel = round(observados.apply(lambda r: r/len(df)*100, axis=1),2)"
      ],
      "execution_count": null,
      "outputs": []
    },
    {
      "cell_type": "code",
      "metadata": {
        "id": "IsXet9i5CdgW"
      },
      "source": [
        "observados_rel"
      ],
      "execution_count": null,
      "outputs": []
    },
    {
      "cell_type": "code",
      "metadata": {
        "id": "iOqGDmcQCfRu"
      },
      "source": [
        "esperados_rel"
      ],
      "execution_count": null,
      "outputs": []
    },
    {
      "cell_type": "code",
      "metadata": {
        "id": "CiHa3KDOC1yl"
      },
      "source": [
        "test[1]"
      ],
      "execution_count": null,
      "outputs": []
    },
    {
      "cell_type": "markdown",
      "metadata": {
        "id": "sYb2u_T_C4Qe"
      },
      "source": [
        "**Resumen de Test de Hipótesis**\n",
        "- Si el p-valor < 0.05, hay diferencias significativas: Hay relación entre variables\n",
        "- Si el p-valor > 0.05, no hay diferencias significativas: No hay relación entre variables"
      ]
    },
    {
      "cell_type": "markdown",
      "metadata": {
        "id": "3qyvAmpIDSIN"
      },
      "source": [
        "#### Análisis de datos extremos"
      ]
    },
    {
      "cell_type": "code",
      "metadata": {
        "id": "431nCS3xDVJS"
      },
      "source": [
        "x = df['ArrDelay'].dropna()"
      ],
      "execution_count": null,
      "outputs": []
    },
    {
      "cell_type": "code",
      "metadata": {
        "id": "43s5EF7UDcM2"
      },
      "source": [
        "Q1 = np.percentile(x,25)\n",
        "Q3 = np.percentile(x,75)\n",
        "rangointer = Q3 - Q1"
      ],
      "execution_count": null,
      "outputs": []
    },
    {
      "cell_type": "code",
      "metadata": {
        "id": "aIiR-lHBDjtI"
      },
      "source": [
        "umbralinferior = Q1 - 1.5*rangointer\n",
        "umbralsuperior = Q3 + 1.5*rangointer"
      ],
      "execution_count": null,
      "outputs": []
    },
    {
      "cell_type": "code",
      "metadata": {
        "id": "k9Lo2iC-Dtb6"
      },
      "source": [
        "umbralinferior"
      ],
      "execution_count": null,
      "outputs": []
    },
    {
      "cell_type": "code",
      "metadata": {
        "id": "k-aUZOtaDrbz"
      },
      "source": [
        "umbralsuperior"
      ],
      "execution_count": null,
      "outputs": []
    },
    {
      "cell_type": "code",
      "metadata": {
        "id": "JjWQq5AXD1dK"
      },
      "source": [
        "np.mean(x > umbralsuperior)"
      ],
      "execution_count": null,
      "outputs": []
    },
    {
      "cell_type": "code",
      "metadata": {
        "id": "7NG4Nha7D5JW"
      },
      "source": [
        "np.mean(x < umbralinferior)"
      ],
      "execution_count": null,
      "outputs": []
    },
    {
      "cell_type": "code",
      "metadata": {
        "id": "3aR6Yk4JD_KW"
      },
      "source": [
        "from sklearn.covariance import EllipticEnvelope"
      ],
      "execution_count": null,
      "outputs": []
    },
    {
      "cell_type": "code",
      "metadata": {
        "id": "5QFuhhw8ECxm"
      },
      "source": [
        "outliers = EllipticEnvelope(contamination= .01)"
      ],
      "execution_count": null,
      "outputs": []
    },
    {
      "cell_type": "code",
      "metadata": {
        "id": "zulpy7yREHMZ"
      },
      "source": [
        "var_list = ['DepDelay', 'TaxiIn', 'TaxiOut', 'CarrierDelay', 'WeatherDelay', 'NASDelay', 'SecurityDelay']"
      ],
      "execution_count": null,
      "outputs": []
    },
    {
      "cell_type": "code",
      "metadata": {
        "id": "neu2tTZNEd-O"
      },
      "source": [
        "x = np.array(df.loc[:, var_list].dropna())"
      ],
      "execution_count": null,
      "outputs": []
    },
    {
      "cell_type": "code",
      "metadata": {
        "id": "BKoLs9K6Ej82"
      },
      "source": [
        "outliers.fit(x)"
      ],
      "execution_count": null,
      "outputs": []
    },
    {
      "cell_type": "code",
      "metadata": {
        "id": "5gL3ZTBwEmgm"
      },
      "source": [
        "pred = outliers.predict(x)"
      ],
      "execution_count": null,
      "outputs": []
    },
    {
      "cell_type": "code",
      "metadata": {
        "id": "6Ip3UJPaEqtH"
      },
      "source": [
        "pred"
      ],
      "execution_count": null,
      "outputs": []
    },
    {
      "cell_type": "code",
      "metadata": {
        "id": "u7ytQQ4DEy-1"
      },
      "source": [
        "elips_outliers = np.where(pred == -1)[0]"
      ],
      "execution_count": null,
      "outputs": []
    },
    {
      "cell_type": "code",
      "metadata": {
        "id": "td9Rz0jIE4bX"
      },
      "source": [
        "elips_outliers"
      ],
      "execution_count": null,
      "outputs": []
    },
    {
      "cell_type": "markdown",
      "metadata": {
        "id": "QhoHhBYVFG0t"
      },
      "source": [
        "#### Principios de las bases de datos relacionales"
      ]
    },
    {
      "cell_type": "code",
      "metadata": {
        "id": "4AuttXjNFKN1"
      },
      "source": [
        "data = [\n",
        "        (1, 'Joan', 'Gasull', 25, 1, 'Libreta', 1.2, .4, 0.8, 3, '03-02-2018'),\n",
        "        (1, 'Joan', 'Gasull', 25, 2, 'Libreta', 1.2, .4, 0.8, 3, '03-02-2018'),\n",
        "        (1, 'Joan', 'Gasull', 25, 2, 'Libreta', 1.2, .4, 0.8, 3, '03-02-2018'),\n",
        "        (2, 'Joan', 'Gasull', 33, 2, 'Libreta', 1.2, .4, 0.8, 3, '03-02-2018'),\n",
        "        (2, 'Joan', 'Gasull', 33, 1, 'Libreta', 1.2, .4, 0.8, 3, '03-02-2018'),\n",
        "        (3, 'Joan', 'Gasull', 40, 2, 'Libreta', 1.2, .4, 0.8, 3, '03-02-2018'),\n",
        "        (3, 'Joan', 'Gasull', 40, 1, 'Libreta', 1.2, .4, 0.8, 3, '03-02-2018'),\n",
        "        (3, 'Joan', 'Gasull', 25, 1, 'Libreta', 1.2, .4, 0.8, 3, '03-02-2018'),\n",
        "]\n",
        "\n",
        "labels = ['Comprador_id', 'Nombre', 'Apellido', 'Edad', 'Producto_id', 'Producto',\n",
        "          'Precio', 'Coste', 'Margen', 'Cantidad','Fecha']"
      ],
      "execution_count": null,
      "outputs": []
    },
    {
      "cell_type": "code",
      "metadata": {
        "id": "meJO1K4AGlqF"
      },
      "source": [
        "df = pd.DataFrame.from_records(data, columns=labels)"
      ],
      "execution_count": null,
      "outputs": []
    },
    {
      "cell_type": "code",
      "metadata": {
        "id": "vJGVZl2wGrfU"
      },
      "source": [
        "df"
      ],
      "execution_count": null,
      "outputs": []
    },
    {
      "cell_type": "code",
      "metadata": {
        "id": "XLS3IAE8GvEE"
      },
      "source": [
        "compradores = df.drop_duplicates(subset= 'Comprador_id', keep='first')\n",
        "compradores"
      ],
      "execution_count": null,
      "outputs": []
    },
    {
      "cell_type": "code",
      "metadata": {
        "id": "bDsx2RD7G-DX"
      },
      "source": [
        "compradores = compradores[['Comprador_id', 'Nombre', 'Apellido', 'Edad']]\n",
        "compradores"
      ],
      "execution_count": null,
      "outputs": []
    },
    {
      "cell_type": "code",
      "metadata": {
        "id": "ow2faKkOHIEN"
      },
      "source": [
        "productos = df.drop_duplicates(subset= 'Producto_id', keep='first')"
      ],
      "execution_count": null,
      "outputs": []
    },
    {
      "cell_type": "code",
      "metadata": {
        "id": "Pqu6Kvz2HTlG"
      },
      "source": [
        "productos = productos[['Producto_id', 'Producto', 'Precio', 'Coste', 'Margen']]\n",
        "productos"
      ],
      "execution_count": null,
      "outputs": []
    },
    {
      "cell_type": "code",
      "metadata": {
        "id": "CMiZzY5lHgH1"
      },
      "source": [
        "compras = df[['Comprador_id', 'Producto_id', 'Fecha', 'Cantidad']]\n",
        "compras"
      ],
      "execution_count": null,
      "outputs": []
    },
    {
      "cell_type": "markdown",
      "metadata": {
        "id": "JM7YGDqWH7dl"
      },
      "source": [
        "#### Joins. Trabajar con bases de datos relacionales"
      ]
    },
    {
      "cell_type": "code",
      "metadata": {
        "id": "l6qIx3cDIAz6"
      },
      "source": [
        "consumidores = [\n",
        "                ('A','Móvil'),\n",
        "                ('B','Móvil'),\n",
        "                ('A','Portátil'),\n",
        "                ('A','Tablet'),\n",
        "                ('B','Tablet'),\n",
        "                ('C','Portátil'),\n",
        "                ('D','Smartwatch'),\n",
        "                ('E','Consola')\n",
        "] \n",
        "\n",
        "con_labels = ['Consumidor', 'Producto']\n",
        "\n",
        "con_df = pd.DataFrame.from_records(consumidores, columns= con_labels)\n",
        "\n",
        "productores = [\n",
        "               ('a','Móvil'),\n",
        "               ('a','Smartwatch'),\n",
        "               ('a','Tablet'),\n",
        "               ('b','Portátil'),\n",
        "               ('c','Sobremesa'),\n",
        "               ('c','Portátil')\n",
        "]\n",
        "\n",
        "prod_labels = ['Productor', 'Producto']\n",
        "\n",
        "prod_df = pd.DataFrame.from_records(productores, columns= prod_labels)"
      ],
      "execution_count": null,
      "outputs": []
    },
    {
      "cell_type": "code",
      "metadata": {
        "id": "1oBP3FmmUCgm"
      },
      "source": [
        "con_df"
      ],
      "execution_count": null,
      "outputs": []
    },
    {
      "cell_type": "code",
      "metadata": {
        "id": "G49FTgc1UFKM"
      },
      "source": [
        "prod_df"
      ],
      "execution_count": null,
      "outputs": []
    },
    {
      "cell_type": "code",
      "metadata": {
        "id": "lXASUA2eUHDD"
      },
      "source": [
        "pd.merge(con_df, prod_df, on='Producto', how='outer')"
      ],
      "execution_count": null,
      "outputs": []
    },
    {
      "cell_type": "code",
      "metadata": {
        "id": "bu2h4NDhUwVe"
      },
      "source": [
        "pd.merge(con_df, prod_df, on='Producto', how='inner') # No hay sobremesa ni consola"
      ],
      "execution_count": null,
      "outputs": []
    },
    {
      "cell_type": "code",
      "metadata": {
        "id": "B8Br_5pdU4QT"
      },
      "source": [
        "pd.merge(con_df, prod_df, on='Producto', how='right')"
      ],
      "execution_count": null,
      "outputs": []
    },
    {
      "cell_type": "code",
      "metadata": {
        "id": "QtcVNZFWYH77"
      },
      "source": [
        "pd.merge(con_df, prod_df, on='Producto', how='left')"
      ],
      "execution_count": null,
      "outputs": []
    },
    {
      "cell_type": "markdown",
      "metadata": {
        "id": "bWkbOZ3BYRgu"
      },
      "source": [
        "#### Paralelizar loops en Python"
      ]
    },
    {
      "cell_type": "code",
      "metadata": {
        "id": "5E_qIjXTYTwZ"
      },
      "source": [
        "from joblib import Parallel, delayed"
      ],
      "execution_count": null,
      "outputs": []
    },
    {
      "cell_type": "code",
      "metadata": {
        "id": "BjT6OafxYsXC"
      },
      "source": [
        "df.columns"
      ],
      "execution_count": null,
      "outputs": []
    },
    {
      "cell_type": "code",
      "metadata": {
        "id": "VaWmosyGYcw6"
      },
      "source": [
        "df_sub = df[['CarrierDelay', 'WeatherDelay', 'NASDelay','SecurityDelay','LateAircraftDelay']]\n",
        "df_sub.head()"
      ],
      "execution_count": null,
      "outputs": []
    },
    {
      "cell_type": "code",
      "metadata": {
        "id": "W-kkNX88Y6tv"
      },
      "source": [
        "def retraso_maximo(fila):\n",
        "  if not np.isnan(fila).any():\n",
        "    names = ['CarrierDelay', 'WeatherDelay', 'NASDelay','SecurityDelay','LateAircraftDelay']\n",
        "    return names[fila.index(max(fila))]\n",
        "  else:\n",
        "    return 'None'"
      ],
      "execution_count": null,
      "outputs": []
    },
    {
      "cell_type": "code",
      "metadata": {
        "id": "4_SZTw2cZIMV"
      },
      "source": [
        "results = []\n",
        "for fila in df_sub.values.tolist():\n",
        "  results.append(retraso_maximo(fila))"
      ],
      "execution_count": null,
      "outputs": []
    },
    {
      "cell_type": "code",
      "metadata": {
        "id": "bcGkH1M1ZQPq"
      },
      "source": [
        "results"
      ],
      "execution_count": null,
      "outputs": []
    },
    {
      "cell_type": "code",
      "metadata": {
        "id": "ZnVo72qmZWxi"
      },
      "source": [
        "result = Parallel(n_jobs=2, backend= 'multiprocessing')(\n",
        "    map(delayed(retraso_maximo),df_sub.values.tolist())\n",
        "    )\n",
        "result"
      ],
      "execution_count": null,
      "outputs": []
    },
    {
      "cell_type": "markdown",
      "metadata": {
        "id": "9o-lV7R-ZyAm"
      },
      "source": [
        "### Visualización de datos en Matplotlib"
      ]
    },
    {
      "cell_type": "markdown",
      "metadata": {
        "id": "6rXneJDeaeEP"
      },
      "source": [
        "#### Introducción al Matplotlib"
      ]
    },
    {
      "cell_type": "code",
      "metadata": {
        "id": "yl7QvB_4Z1Ci"
      },
      "source": [
        "import matplotlib.pyplot as plt\n",
        "import numpy as np"
      ],
      "execution_count": null,
      "outputs": []
    },
    {
      "cell_type": "code",
      "metadata": {
        "colab": {
          "base_uri": "https://localhost:8080/"
        },
        "id": "cA1uaPA7Z8iD",
        "outputId": "b149c192-52dd-493d-cc26-e3f89a509577"
      },
      "source": [
        "data = np.unique(df.Cancelled, return_counts=True)\n",
        "data"
      ],
      "execution_count": null,
      "outputs": [
        {
          "output_type": "execute_result",
          "data": {
            "text/plain": [
              "(array([0, 1]), array([9811,  189]))"
            ]
          },
          "metadata": {},
          "execution_count": 44
        }
      ]
    },
    {
      "cell_type": "code",
      "metadata": {
        "colab": {
          "base_uri": "https://localhost:8080/",
          "height": 326
        },
        "id": "wFASPOnCaFgq",
        "outputId": "ee655bbe-0ad7-45f0-f1ec-cae548a93c9a"
      },
      "source": [
        "plt.pie(x = data[1],\n",
        "        labels = data[0],\n",
        "        colors = ['Red','Green'],\n",
        "        shadow = True,\n",
        "        startangle = 90,\n",
        "        radius = 1.5);"
      ],
      "execution_count": null,
      "outputs": [
        {
          "output_type": "display_data",
          "data": {
            "image/png": "[encoded data removed]",
            "text/plain": [
              "<Figure size 432x288 with 1 Axes>"
            ]
          },
          "metadata": {}
        }
      ]
    },
    {
      "cell_type": "markdown",
      "metadata": {
        "id": "lUIU80qDahJx"
      },
      "source": [
        "#### Modificar elementos del gráfico en Matplotlib"
      ]
    },
    {
      "cell_type": "code",
      "metadata": {
        "colab": {
          "base_uri": "https://localhost:8080/",
          "height": 264
        },
        "id": "XERR7g98eG-Y",
        "outputId": "3298a0a9-7aa2-4dfa-e1fd-731a30b97f32"
      },
      "source": [
        "plt.scatter(x=df.DayofMonth, y= df.ArrDelay, s= df.Distance);"
      ],
      "execution_count": null,
      "outputs": [
        {
          "output_type": "display_data",
          "data": {
            "image/png": "[encoded data removed]",
            "text/plain": [
              "<Figure size 432x288 with 1 Axes>"
            ]
          },
          "metadata": {
            "needs_background": "light"
          }
        }
      ]
    },
    {
      "cell_type": "code",
      "metadata": {
        "colab": {
          "base_uri": "https://localhost:8080/",
          "height": 264
        },
        "id": "WK5Nn0kNeT4w",
        "outputId": "83c6d934-5d52-4d79-a08c-90e8e5fa0778"
      },
      "source": [
        "plt.scatter(x=df.DayofMonth, y= df.ArrDelay, s= df.Distance, alpha=0.3);"
      ],
      "execution_count": null,
      "outputs": [
        {
          "output_type": "display_data",
          "data": {
            "image/png": "[encoded data removed]",
            "text/plain": [
              "<Figure size 432x288 with 1 Axes>"
            ]
          },
          "metadata": {
            "needs_background": "light"
          }
        }
      ]
    },
    {
      "cell_type": "code",
      "metadata": {
        "colab": {
          "base_uri": "https://localhost:8080/"
        },
        "id": "6BBK61uRbHrv",
        "outputId": "d1c1a1a6-876f-4149-c27d-855ee7982d7b"
      },
      "source": [
        "np.arange(1,8,1)"
      ],
      "execution_count": null,
      "outputs": [
        {
          "output_type": "execute_result",
          "data": {
            "text/plain": [
              "array([1, 2, 3, 4, 5, 6, 7])"
            ]
          },
          "metadata": {},
          "execution_count": 57
        }
      ]
    },
    {
      "cell_type": "code",
      "metadata": {
        "colab": {
          "base_uri": "https://localhost:8080/",
          "height": 404
        },
        "id": "wUY0b2dmeW7Z",
        "outputId": "985dc1b3-ba12-41a0-b5d0-c75ae670b677"
      },
      "source": [
        "plt.figure(figsize=(12, 6))\n",
        "plt.scatter(x=df.DayofMonth, y= df.ArrDelay, s= df.Distance, alpha=0.3, c = df.DayOfWeek.isin([6,7])); # [6,7]\n",
        "plt.title('Retrasos en EEUU')\n",
        "plt.xlabel('Día del Mes')\n",
        "plt.ylabel('Retraso al llegar')\n",
        "# plt.ylim([0,150])\n",
        "plt.xticks(list(np.arange(1,32,1))); # [0,15,30]\n",
        "plt.text(x=28, y=600, s='Mi vuelo');"
      ],
      "execution_count": null,
      "outputs": [
        {
          "output_type": "display_data",
          "data": {
            "image/png": "[encoded data removed]",
            "text/plain": [
              "<Figure size 864x432 with 1 Axes>"
            ]
          },
          "metadata": {
            "needs_background": "light"
          }
        }
      ]
    },
    {
      "cell_type": "markdown",
      "metadata": {
        "id": "vpRNGF40d38Z"
      },
      "source": [
        "#### Etiquetas y leyendas en Matplotlib"
      ]
    },
    {
      "cell_type": "code",
      "metadata": {
        "id": "CEn95ydWd6-U",
        "colab": {
          "base_uri": "https://localhost:8080/"
        },
        "outputId": "d62ebe73-835c-469e-9bc6-487abffb7ea1"
      },
      "source": [
        "data = np.unique(df.DayOfWeek, return_counts=True)\n",
        "labs = ['Lun','Mar','Mier','Jue','Vie','Sab','Dom']\n",
        "data"
      ],
      "execution_count": null,
      "outputs": [
        {
          "output_type": "execute_result",
          "data": {
            "text/plain": [
              "(array([1, 2, 3, 4, 5, 6, 7]),\n",
              " array([1470, 1454, 1404, 1448, 1397, 1224, 1389]))"
            ]
          },
          "metadata": {},
          "execution_count": 74
        }
      ]
    },
    {
      "cell_type": "code",
      "metadata": {
        "id": "DJz0E599wWLL"
      },
      "source": [
        ""
      ],
      "execution_count": null,
      "outputs": []
    },
    {
      "cell_type": "markdown",
      "metadata": {
        "id": "sq5XNLB_SiKj"
      },
      "source": [
        "#### Gráficos para series temporales en Matplotlib"
      ]
    },
    {
      "cell_type": "code",
      "metadata": {
        "id": "H7iP17mXSm4_"
      },
      "source": [
        ""
      ],
      "execution_count": null,
      "outputs": []
    },
    {
      "cell_type": "markdown",
      "metadata": {
        "id": "P_v5CQhcSnOn"
      },
      "source": [
        "#### Histogramas y box plots en Matplotlib"
      ]
    },
    {
      "cell_type": "code",
      "metadata": {
        "id": "z5BPD4CFSq-C"
      },
      "source": [
        ""
      ],
      "execution_count": null,
      "outputs": []
    },
    {
      "cell_type": "markdown",
      "metadata": {
        "id": "iOIzTREJSrPI"
      },
      "source": [
        "#### Nubes de puntos y mapas de calor en Matplotlib\n"
      ]
    },
    {
      "cell_type": "markdown",
      "metadata": {
        "id": "ydq0MD62SzL2"
      },
      "source": [
        "**Nubes de puntos**"
      ]
    },
    {
      "cell_type": "code",
      "metadata": {
        "id": "qDKY3wqzTKAL"
      },
      "source": [
        "df.dropna(subset=['ArrDelay','DepDelay','Distance','AirTime'], inplace=True)"
      ],
      "execution_count": null,
      "outputs": []
    },
    {
      "cell_type": "code",
      "metadata": {
        "id": "hIYYWckichpI"
      },
      "source": [
        "sns.set(rc={'figure.figsize':(15,10)}) # Establecer el tamaño de las figuras de ahora en adelante"
      ],
      "execution_count": null,
      "outputs": []
    },
    {
      "cell_type": "code",
      "metadata": {
        "colab": {
          "base_uri": "https://localhost:8080/",
          "height": 436
        },
        "id": "b349unp3TsTj",
        "outputId": "498bafda-b1fd-4dbd-b43b-4ecfe77f3d17"
      },
      "source": [
        "df2 = df[df['Origin'].isin(['ATL', 'HOU', 'IND'])].sample(frac=1).head(1000)\n",
        "sns.jointplot(data=df2, x='DepDelay', y='ArrDelay');"
      ],
      "execution_count": null,
      "outputs": [
        {
          "output_type": "display_data",
          "data": {
            "image/png": "[encoded data removed]",
            "text/plain": [
              "<Figure size 432x432 with 3 Axes>"
            ]
          },
          "metadata": {}
        }
      ]
    },
    {
      "cell_type": "markdown",
      "metadata": {
        "id": "jmRY-EjNUJ2c"
      },
      "source": [
        "Se ha producido un scatterplot con histogramas para cada variable."
      ]
    },
    {
      "cell_type": "code",
      "metadata": {
        "colab": {
          "base_uri": "https://localhost:8080/",
          "height": 436
        },
        "id": "VCVhuDaUVJsr",
        "outputId": "cacf0a46-855d-46f4-ce6d-45446fc7b9dc"
      },
      "source": [
        "sns.jointplot(data=df2, x='DepDelay', y='ArrDelay', kind='hex');"
      ],
      "execution_count": null,
      "outputs": [
        {
          "output_type": "display_data",
          "data": {
            "image/png": "[encoded data removed]",
            "text/plain": [
              "<Figure size 432x432 with 3 Axes>"
            ]
          },
          "metadata": {}
        }
      ]
    },
    {
      "cell_type": "markdown",
      "metadata": {
        "id": "5ktVZpG3VhEz"
      },
      "source": [
        "Para enfocarnos más en los datos, haremos un filtro"
      ]
    },
    {
      "cell_type": "code",
      "metadata": {
        "id": "-VUyfOZfS3AD"
      },
      "source": [
        "df3 = df2[np.abs(df2['DepDelay'])<40]\n",
        "df3 = df3[np.abs(df3['DepDelay'])<40]"
      ],
      "execution_count": null,
      "outputs": []
    },
    {
      "cell_type": "code",
      "metadata": {
        "colab": {
          "base_uri": "https://localhost:8080/",
          "height": 436
        },
        "id": "fQzXV1MMVrh6",
        "outputId": "f343a3e5-0546-4143-9844-51bf329ea4d7"
      },
      "source": [
        "sns.jointplot(data=df3, x='DepDelay', y='ArrDelay', kind='hex');"
      ],
      "execution_count": null,
      "outputs": [
        {
          "output_type": "display_data",
          "data": {
            "image/png": "[encoded data removed]",
            "text/plain": [
              "<Figure size 432x432 with 3 Axes>"
            ]
          },
          "metadata": {}
        }
      ]
    },
    {
      "cell_type": "code",
      "metadata": {
        "colab": {
          "base_uri": "https://localhost:8080/",
          "height": 436
        },
        "id": "OT2IUxGRVzwK",
        "outputId": "5d366ea7-a770-49f7-a5f9-e6f0f04bb6bf"
      },
      "source": [
        "sns.jointplot(data=df3, x='DepDelay', y='ArrDelay', kind='kde'); # Plot de densidad"
      ],
      "execution_count": null,
      "outputs": [
        {
          "output_type": "display_data",
          "data": {
            "image/png": "[encoded data removed]",
            "text/plain": [
              "<Figure size 432x432 with 3 Axes>"
            ]
          },
          "metadata": {}
        }
      ]
    },
    {
      "cell_type": "markdown",
      "metadata": {
        "id": "wa-dSF1SS1G9"
      },
      "source": [
        "**Mapas de calor**"
      ]
    },
    {
      "cell_type": "code",
      "metadata": {
        "colab": {
          "base_uri": "https://localhost:8080/",
          "height": 202
        },
        "id": "KWO7kX8dSvWO",
        "outputId": "9480add7-ef16-4c7a-c60a-65191744c87f"
      },
      "source": [
        "gb_df = pd.DataFrame(df2.groupby(['Origin','Month'], as_index=False,)['DepDelay'].mean())\n",
        "gb_df.head()"
      ],
      "execution_count": null,
      "outputs": [
        {
          "output_type": "execute_result",
          "data": {
            "text/html": [
              "<div>\n",
              "<style scoped>\n",
              "    .dataframe tbody tr th:only-of-type {\n",
              "        vertical-align: middle;\n",
              "    }\n",
              "\n",
              "    .dataframe tbody tr th {\n",
              "        vertical-align: top;\n",
              "    }\n",
              "\n",
              "    .dataframe thead th {\n",
              "        text-align: right;\n",
              "    }\n",
              "</style>\n",
              "<table border=\"1\" class=\"dataframe\">\n",
              "  <thead>\n",
              "    <tr style=\"text-align: right;\">\n",
              "      <th></th>\n",
              "      <th>Origin</th>\n",
              "      <th>Month</th>\n",
              "      <th>DepDelay</th>\n",
              "    </tr>\n",
              "  </thead>\n",
              "  <tbody>\n",
              "    <tr>\n",
              "      <th>0</th>\n",
              "      <td>ATL</td>\n",
              "      <td>1</td>\n",
              "      <td>11.808511</td>\n",
              "    </tr>\n",
              "    <tr>\n",
              "      <th>1</th>\n",
              "      <td>ATL</td>\n",
              "      <td>2</td>\n",
              "      <td>8.163265</td>\n",
              "    </tr>\n",
              "    <tr>\n",
              "      <th>2</th>\n",
              "      <td>ATL</td>\n",
              "      <td>3</td>\n",
              "      <td>15.590909</td>\n",
              "    </tr>\n",
              "    <tr>\n",
              "      <th>3</th>\n",
              "      <td>ATL</td>\n",
              "      <td>4</td>\n",
              "      <td>16.685714</td>\n",
              "    </tr>\n",
              "    <tr>\n",
              "      <th>4</th>\n",
              "      <td>ATL</td>\n",
              "      <td>5</td>\n",
              "      <td>5.655172</td>\n",
              "    </tr>\n",
              "  </tbody>\n",
              "</table>\n",
              "</div>"
            ],
            "text/plain": [
              "  Origin  Month   DepDelay\n",
              "0    ATL      1  11.808511\n",
              "1    ATL      2   8.163265\n",
              "2    ATL      3  15.590909\n",
              "3    ATL      4  16.685714\n",
              "4    ATL      5   5.655172"
            ]
          },
          "metadata": {},
          "execution_count": 69
        }
      ]
    },
    {
      "cell_type": "code",
      "metadata": {
        "colab": {
          "base_uri": "https://localhost:8080/",
          "height": 447
        },
        "id": "N6BZ79AFWOYL",
        "outputId": "6397b098-b7b2-4312-fcf3-38215efec1e2"
      },
      "source": [
        "data = gb_df.pivot('Month','Origin','DepDelay')\n",
        "data"
      ],
      "execution_count": null,
      "outputs": [
        {
          "output_type": "execute_result",
          "data": {
            "text/html": [
              "<div>\n",
              "<style scoped>\n",
              "    .dataframe tbody tr th:only-of-type {\n",
              "        vertical-align: middle;\n",
              "    }\n",
              "\n",
              "    .dataframe tbody tr th {\n",
              "        vertical-align: top;\n",
              "    }\n",
              "\n",
              "    .dataframe thead th {\n",
              "        text-align: right;\n",
              "    }\n",
              "</style>\n",
              "<table border=\"1\" class=\"dataframe\">\n",
              "  <thead>\n",
              "    <tr style=\"text-align: right;\">\n",
              "      <th>Origin</th>\n",
              "      <th>ATL</th>\n",
              "      <th>HOU</th>\n",
              "      <th>IND</th>\n",
              "    </tr>\n",
              "    <tr>\n",
              "      <th>Month</th>\n",
              "      <th></th>\n",
              "      <th></th>\n",
              "      <th></th>\n",
              "    </tr>\n",
              "  </thead>\n",
              "  <tbody>\n",
              "    <tr>\n",
              "      <th>1</th>\n",
              "      <td>11.808511</td>\n",
              "      <td>17.250000</td>\n",
              "      <td>-3.000000</td>\n",
              "    </tr>\n",
              "    <tr>\n",
              "      <th>2</th>\n",
              "      <td>8.163265</td>\n",
              "      <td>19.285714</td>\n",
              "      <td>23.000000</td>\n",
              "    </tr>\n",
              "    <tr>\n",
              "      <th>3</th>\n",
              "      <td>15.590909</td>\n",
              "      <td>47.500000</td>\n",
              "      <td>8.083333</td>\n",
              "    </tr>\n",
              "    <tr>\n",
              "      <th>4</th>\n",
              "      <td>16.685714</td>\n",
              "      <td>8.800000</td>\n",
              "      <td>-3.500000</td>\n",
              "    </tr>\n",
              "    <tr>\n",
              "      <th>5</th>\n",
              "      <td>5.655172</td>\n",
              "      <td>8.625000</td>\n",
              "      <td>16.375000</td>\n",
              "    </tr>\n",
              "    <tr>\n",
              "      <th>6</th>\n",
              "      <td>10.562500</td>\n",
              "      <td>11.166667</td>\n",
              "      <td>11.200000</td>\n",
              "    </tr>\n",
              "    <tr>\n",
              "      <th>7</th>\n",
              "      <td>13.142857</td>\n",
              "      <td>4.444444</td>\n",
              "      <td>6.333333</td>\n",
              "    </tr>\n",
              "    <tr>\n",
              "      <th>8</th>\n",
              "      <td>19.178571</td>\n",
              "      <td>25.400000</td>\n",
              "      <td>-6.857143</td>\n",
              "    </tr>\n",
              "    <tr>\n",
              "      <th>9</th>\n",
              "      <td>-0.800000</td>\n",
              "      <td>5.750000</td>\n",
              "      <td>-5.400000</td>\n",
              "    </tr>\n",
              "    <tr>\n",
              "      <th>10</th>\n",
              "      <td>4.074074</td>\n",
              "      <td>-1.200000</td>\n",
              "      <td>-7.000000</td>\n",
              "    </tr>\n",
              "    <tr>\n",
              "      <th>11</th>\n",
              "      <td>16.282609</td>\n",
              "      <td>6.800000</td>\n",
              "      <td>-1.200000</td>\n",
              "    </tr>\n",
              "    <tr>\n",
              "      <th>12</th>\n",
              "      <td>20.625000</td>\n",
              "      <td>20.714286</td>\n",
              "      <td>30.000000</td>\n",
              "    </tr>\n",
              "  </tbody>\n",
              "</table>\n",
              "</div>"
            ],
            "text/plain": [
              "Origin        ATL        HOU        IND\n",
              "Month                                  \n",
              "1       11.808511  17.250000  -3.000000\n",
              "2        8.163265  19.285714  23.000000\n",
              "3       15.590909  47.500000   8.083333\n",
              "4       16.685714   8.800000  -3.500000\n",
              "5        5.655172   8.625000  16.375000\n",
              "6       10.562500  11.166667  11.200000\n",
              "7       13.142857   4.444444   6.333333\n",
              "8       19.178571  25.400000  -6.857143\n",
              "9       -0.800000   5.750000  -5.400000\n",
              "10       4.074074  -1.200000  -7.000000\n",
              "11      16.282609   6.800000  -1.200000\n",
              "12      20.625000  20.714286  30.000000"
            ]
          },
          "metadata": {},
          "execution_count": 70
        }
      ]
    },
    {
      "cell_type": "code",
      "metadata": {
        "colab": {
          "base_uri": "https://localhost:8080/",
          "height": 502
        },
        "id": "NFa6wnxabzpM",
        "outputId": "a62ced80-025d-4fe4-d60a-bbb4df4bc4fc"
      },
      "source": [
        "sns.set(rc={'figure.figsize':(15,8)})\n",
        "sns.heatmap(data=data, annot=True, linewidths=0.5);"
      ],
      "execution_count": null,
      "outputs": [
        {
          "output_type": "display_data",
          "data": {
            "image/png": "[encoded data removed]",
            "text/plain": [
              "<Figure size 1080x576 with 2 Axes>"
            ]
          },
          "metadata": {}
        }
      ]
    }
  ]
}