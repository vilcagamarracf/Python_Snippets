{
  "nbformat": 4,
  "nbformat_minor": 0,
  "metadata": {
    "colab": {
      "name": "Snippets_Numpy.ipynb",
      "provenance": [],
      "collapsed_sections": [
        "qfuiBrurdwxX"
      ],
      "mount_file_id": "1ITWgnSyNsfrpvp3q4GtKZwi0oInQfIYi",
      "authorship_tag": "ABX9TyPJ2nocNVDpYBH3WxLiBUsW",
      "include_colab_link": true
    },
    "kernelspec": {
      "name": "python3",
      "display_name": "Python 3"
    },
    "language_info": {
      "name": "python"
    }
  },
  "cells": [
    {
      "cell_type": "markdown",
      "metadata": {
        "id": "view-in-github",
        "colab_type": "text"
      },
      "source": [
        "<a href=\"https://colab.research.google.com/github/vilcagamarracf/Python_Snippets/blob/main/Snippets/Snippets_Numpy.ipynb\" target=\"_parent\"><img src=\"https://colab.research.google.com/assets/colab-badge.svg\" alt=\"Open In Colab\"/></a>"
      ]
    },
    {
      "cell_type": "markdown",
      "metadata": {
        "id": "IeIHLkaZgvHH"
      },
      "source": [
        "# Numpy Snippets - Colaboratory \n",
        "\n",
        "<center>\n",
        "  <img src='https://upload.wikimedia.org/wikipedia/commons/3/31/NumPy_logo_2020.svg' alt='Numpy logo' width='400'/>\n",
        "</center>\n",
        "\n",
        "**Referencias principales**\n",
        " \n",
        "- Página Oficial de Numpy: https://numpy.org/doc/stable/index.html \n",
        "\n",
        "\n"
      ]
    },
    {
      "cell_type": "markdown",
      "source": [
        "# Snippets "
      ],
      "metadata": {
        "id": "KWHsIwxdD97U"
      }
    },
    {
      "cell_type": "markdown",
      "source": [
        "**Revisando documentación**\n",
        "- [numpy.ndarray.tolist](https://numpy.org/doc/stable/reference/generated/numpy.ndarray.tolist.html?highlight=ndarray%20tolist#numpy-ndarray-tolist)\n",
        "- [numpy.ndarray.flatten](https://numpy.org/doc/stable/reference/generated/numpy.ndarray.flatten.html#numpy-ndarray-flatten)"
      ],
      "metadata": {
        "id": "z5XEfOsLf3Jo"
      }
    },
    {
      "cell_type": "markdown",
      "source": [
        "# Aplicaciones"
      ],
      "metadata": {
        "id": "LGTLYYZed6Hf"
      }
    },
    {
      "cell_type": "markdown",
      "source": [
        "###### Elaborando boxplots"
      ],
      "metadata": {
        "id": "qfuiBrurdwxX"
      }
    },
    {
      "cell_type": "markdown",
      "source": [
        "Lo que se ha realizado:\n",
        "1. Correr función `R_n` \n",
        "1. Según la imagen que se desee obtener información (en este caso NDVI), elegir una zona tipo rectángulo para extraer datos de pixeles -> almacenar como `np.array`\n",
        "  1. El `np.array` presenta la forma (# de filas, # de columnas)\n",
        "  1. Convertirlo en 1D con `.flatten('C')` [`numpy.ndarray.flatten`](https://numpy.org/doc/stable/reference/generated/numpy.ndarray.flatten.html#numpy-ndarray-flatten) \n",
        "  1. Como se encuentra en 1D, el array casi equivale a ser una lista, para volverlo lista es necesario aplicar [`numpy.ndarray.tolist`](https://numpy.org/doc/stable/reference/generated/numpy.ndarray.tolist.html?highlight=ndarray%20tolist#numpy-ndarray-tolist)\n",
        "  1. Almacenar las listas obtenidas en otras listas\n",
        "1. Usar `ptl.boxplot` con datos de las listas almacenadas en `lista_ndvi_boxplot`"
      ],
      "metadata": {
        "id": "5htaMuvkeIY2"
      }
    },
    {
      "cell_type": "code",
      "source": [
        "lista_dates = []\n",
        "lista_ndvi_boxplot = []\n",
        "\n",
        "for id in ids:\n",
        "    \n",
        "  # Imagen Landsat\n",
        "  img_id = id\n",
        "  img_ee = ee.Image(img_id).clip(roi)\n",
        "  img_toa = convert_RAW_to_TOA(img_ee)\n",
        "  img_date = img_ee.date().format('YYYY-MM-dd').getInfo()\n",
        "  lista_dates.append(img_date)\n",
        "\n",
        "  # Radiación Neta\n",
        "  R_n, img_sr_tasumi, img_productos, d2, doy = getRadiacionNeta(img_ee, roi, dem) # roi: Ferreñafe\n",
        "\n",
        "  # Imágenes\n",
        "  img_ndvi = img_productos.select('NDVI')\n",
        "\n",
        "  # Convertir ee.Image a numpy.array\n",
        "  img_ndvi_reproj = img_ndvi.reproject(crs='EPSG:32717', scale=30)\n",
        "  prueba = img_ndvi.sampleRectangle(region=predios_bound, defaultValue=0)\n",
        "  # prueba.get('B5').getInfo()#.get('NDVI')\n",
        "\n",
        "  array = np.array(prueba.get('B5').getInfo())\n",
        "  lista_prueba = array.flatten('C').tolist() # https://www.javatpoint.com/numpy-flatten\n",
        "  lista_ndvi_boxplot.append(lista_prueba)\n",
        "\n",
        "  print(f'Rn de imagen {img_date} procesada!')  "
      ],
      "metadata": {
        "colab": {
          "base_uri": "https://localhost:8080/"
        },
        "id": "_oKGUDhWAdUa",
        "outputId": "c1db84a5-056d-454f-b831-b595c3733b7f"
      },
      "execution_count": null,
      "outputs": [
        {
          "output_type": "stream",
          "name": "stdout",
          "text": [
            "Rn de imagen 2021-12-12 procesada!\n",
            "Rn de imagen 2022-01-13 procesada!\n",
            "Rn de imagen 2022-01-29 procesada!\n",
            "Rn de imagen 2022-03-10 procesada!\n",
            "Rn de imagen 2022-04-03 procesada!\n"
          ]
        }
      ]
    },
    {
      "cell_type": "code",
      "source": [
        "# Boxplot NDVI\n",
        "fig, axs = plt.subplots(nrows=1, ncols=2, figsize=(18, 6), sharey=True) # \n",
        "axs[0].boxplot(lista_ndvi_boxplot,\n",
        "            labels=lista_dates,\n",
        "            # showfliers=False\n",
        "            )\n",
        "axs[0].set_title('NDVI boxplot')\n",
        "axs[0].set_ylim(top=1)\n",
        "axs[0].axhline(0, color='k', ls='--', lw=1)\n",
        "\n",
        "axs[1].boxplot(lista_ndvi_boxplot,\n",
        "            labels=lista_dates,\n",
        "            showfliers=False,\n",
        "            )\n",
        "axs[1].set_title('NDVI boxplot')\n",
        "axs[1].set_ylim(top=1)\n",
        "axs[1].axhline(0, color='k', ls='--', lw=1)\n",
        "\n",
        "fig.subplots_adjust(wspace=0.05)#hspace=2)\n",
        "plt.show()"
      ],
      "metadata": {
        "colab": {
          "base_uri": "https://localhost:8080/",
          "height": 390
        },
        "id": "HFjXO4nGPDV8",
        "outputId": "c5d2a322-fbd6-4e62-b393-bb0e2153c8aa"
      },
      "execution_count": null,
      "outputs": [
        {
          "output_type": "display_data",
          "data": {
            "text/plain": [
              "<Figure size 1296x432 with 2 Axes>"
            ],
            "image/png": "[encoded data removed]"
          },
          "metadata": {
            "needs_background": "light"
          }
        }
      ]
    },
    {
      "cell_type": "markdown",
      "source": [
        "###### Próxima aplicación aquí..."
      ],
      "metadata": {
        "id": "Noh6hivDhUo-"
      }
    },
    {
      "cell_type": "code",
      "source": [
        ""
      ],
      "metadata": {
        "id": "OI_S40NOhVXW"
      },
      "execution_count": null,
      "outputs": []
    }
  ]
}