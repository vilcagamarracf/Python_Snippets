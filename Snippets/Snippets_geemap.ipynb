{
  "nbformat": 4,
  "nbformat_minor": 0,
  "metadata": {
    "colab": {
      "name": "Snippets_geemap.ipynb",
      "provenance": [],
      "collapsed_sections": [
        "rBxDTV80egtn",
        "nphZXBmHvQH8",
        "pUmZwaaRvrn9",
        "oxCSkb4Sj5kd"
      ],
      "authorship_tag": "ABX9TyPgai2lEJIP8eZxIk71aD0h",
      "include_colab_link": true
    },
    "kernelspec": {
      "name": "python3",
      "display_name": "Python 3"
    },
    "language_info": {
      "name": "python"
    },
    "widgets": {
      "application/vnd.jupyter.widget-state+json": {
        "a99a0523d5d74e79b3e6fb629a3b6ed0": {
          "model_module": "jupyter-leaflet",
          "model_name": "LeafletMapModel",
          "model_module_version": "^0.14.0",
          "state": {
            "_view_name": "LeafletMapView",
            "keyboard_pan_offset": 80,
            "right": 76354.88137105593,
            "tap": true,
            "_view_module": "jupyter-leaflet",
            "max_zoom": 18,
            "_model_module_version": "^0.14.0",
            "_view_count": null,
            "zoom_snap": 1,
            "min_zoom": 1,
            "bounce_at_zoom_limits": true,
            "keyboard": true,
            "north": -10.675753006867884,
            "scroll_wheel_zoom": true,
            "dragging": true,
            "_model_module": "jupyter-leaflet",
            "zoom_delta": 1,
            "close_popup_on_click": true,
            "fullscreen": false,
            "style": "IPY_MODEL_3722c55ac14f4d00bdda24f8acafa3a0",
            "layout": "IPY_MODEL_67c16eaab3174a48af605ffa28f81844",
            "bottom": 139491.22225952148,
            "inertia_max_speed": 1500,
            "top": 138891.22225952148,
            "box_zoom": true,
            "controls": [
              "IPY_MODEL_ab54e988b76e4a559f0f10b55d2227e7",
              "IPY_MODEL_7d786a9239e54aa391c4b348fc056117",
              "IPY_MODEL_2266d80d106645f8a677e0a96e8ecfcf",
              "IPY_MODEL_5326a02cebbd44198b02fd2caaeb3cb9",
              "IPY_MODEL_10324ba0849d46ba95a55e46f38796e6",
              "IPY_MODEL_15ccd876cd894bebaf06daafe5befd21",
              "IPY_MODEL_8abd1af6016848b98dcdd77a18b1afa7",
              "IPY_MODEL_bcbaf3fae8c4461e8b0db2e6e0f9ae05",
              "IPY_MODEL_f5175938e5d04c2a841ceb12a3449337"
            ],
            "default_style": "IPY_MODEL_3722c55ac14f4d00bdda24f8acafa3a0",
            "east": -75.14252741401621,
            "double_click_zoom": true,
            "interpolation": "bilinear",
            "layers": [
              "IPY_MODEL_12fdbca673e44753bb91d59ab742defd",
              "IPY_MODEL_8913cc61ef3a4f99ae08c6a90233754d"
            ],
            "dragging_style": "IPY_MODEL_ca8b0797b2bb44a3a0e7da6c8e5ce1ed",
            "_dom_classes": [],
            "zoom_animation_threshold": 4,
            "_model_name": "LeafletMapModel",
            "zoom_start": 12,
            "modisdate": "yesterday",
            "keyboard_zoom_offset": 1,
            "inertia_deceleration": 3000,
            "inertia": true,
            "crs": {
              "name": "EPSG3857",
              "custom": false
            },
            "center": [
              -11.08033645040362,
              -76.0983379608912
            ],
            "zoom": 10,
            "world_copy_jump": false,
            "_view_module_version": "^0.14.0",
            "window_url": "https://toc8otfi5ia-496ff2e9c6d22116-0-colab.googleusercontent.com/outputframe.html?vrz=colab-20210916-060114-RC00_397046188",
            "tap_tolerance": 15,
            "west": -77.0541485077662,
            "touch_zoom": true,
            "options": [
              "bounce_at_zoom_limits",
              "box_zoom",
              "center",
              "close_popup_on_click",
              "double_click_zoom",
              "dragging",
              "fullscreen",
              "inertia",
              "inertia_deceleration",
              "inertia_max_speed",
              "interpolation",
              "keyboard",
              "keyboard_pan_offset",
              "keyboard_zoom_offset",
              "max_zoom",
              "min_zoom",
              "scroll_wheel_zoom",
              "tap",
              "tap_tolerance",
              "touch_zoom",
              "world_copy_jump",
              "zoom",
              "zoom_animation_threshold",
              "zoom_delta",
              "zoom_snap",
              "zoom_start"
            ],
            "south": -11.484361187393578,
            "left": 74962.88137105593,
            "_dragging": false
          }
        },
        "36a269ec0f1049c1bfd3ffd5715712be": {
          "model_module": "jupyter-leaflet",
          "model_name": "LeafletMapStyleModel",
          "model_module_version": "^0.14.0",
          "state": {
            "_view_name": "StyleView",
            "_model_name": "LeafletMapStyleModel",
            "_view_module": "@jupyter-widgets/base",
            "_model_module_version": "^0.14.0",
            "_view_count": null,
            "cursor": "grab",
            "_view_module_version": "1.2.0",
            "_model_module": "jupyter-leaflet"
          }
        },
        "67c16eaab3174a48af605ffa28f81844": {
          "model_module": "@jupyter-widgets/base",
          "model_name": "LayoutModel",
          "model_module_version": "1.2.0",
          "state": {
            "_view_name": "LayoutView",
            "grid_template_rows": null,
            "right": null,
            "justify_content": null,
            "_view_module": "@jupyter-widgets/base",
            "overflow": null,
            "_model_module_version": "1.2.0",
            "_view_count": null,
            "flex_flow": null,
            "width": null,
            "min_width": null,
            "border": null,
            "align_items": null,
            "bottom": null,
            "_model_module": "@jupyter-widgets/base",
            "top": null,
            "grid_column": null,
            "overflow_y": null,
            "overflow_x": null,
            "grid_auto_flow": null,
            "grid_area": null,
            "grid_template_columns": null,
            "flex": null,
            "_model_name": "LayoutModel",
            "justify_items": null,
            "grid_row": null,
            "max_height": null,
            "align_content": null,
            "visibility": null,
            "align_self": null,
            "height": "600px",
            "min_height": null,
            "padding": null,
            "grid_auto_rows": null,
            "grid_gap": null,
            "max_width": null,
            "order": null,
            "_view_module_version": "1.2.0",
            "grid_template_areas": null,
            "object_position": null,
            "object_fit": null,
            "grid_auto_columns": null,
            "margin": null,
            "display": null,
            "left": null
          }
        },
        "ab54e988b76e4a559f0f10b55d2227e7": {
          "model_module": "jupyter-leaflet",
          "model_name": "LeafletWidgetControlModel",
          "model_module_version": "^0.14.0",
          "state": {
            "_view_name": "LeafletWidgetControlView",
            "widget": "IPY_MODEL_43c0cf22b7df42b1b91b5278e4017124",
            "_model_name": "LeafletWidgetControlModel",
            "_view_module": "jupyter-leaflet",
            "_model_module_version": "^0.14.0",
            "max_height": null,
            "_view_count": null,
            "min_height": null,
            "_view_module_version": "^0.14.0",
            "max_width": null,
            "transparent_bg": false,
            "min_width": null,
            "position": "topleft",
            "_model_module": "jupyter-leaflet",
            "options": [
              "position",
              "transparent_bg"
            ]
          }
        },
        "7d786a9239e54aa391c4b348fc056117": {
          "model_module": "jupyter-leaflet",
          "model_name": "LeafletZoomControlModel",
          "model_module_version": "^0.14.0",
          "state": {
            "_view_name": "LeafletZoomControlView",
            "zoom_in_title": "Zoom in",
            "_model_name": "LeafletZoomControlModel",
            "_view_module": "jupyter-leaflet",
            "_model_module_version": "^0.14.0",
            "_view_count": null,
            "_view_module_version": "^0.14.0",
            "zoom_out_title": "Zoom out",
            "position": "topleft",
            "zoom_in_text": "+",
            "_model_module": "jupyter-leaflet",
            "options": [
              "position",
              "zoom_in_text",
              "zoom_in_title",
              "zoom_out_text",
              "zoom_out_title"
            ],
            "zoom_out_text": "-"
          }
        },
        "2266d80d106645f8a677e0a96e8ecfcf": {
          "model_module": "jupyter-leaflet",
          "model_name": "LeafletLayersControlModel",
          "model_module_version": "^0.14.0",
          "state": {
            "_view_name": "LeafletLayersControlView",
            "_model_name": "LeafletLayersControlModel",
            "_view_module": "jupyter-leaflet",
            "_model_module_version": "^0.14.0",
            "_view_count": null,
            "_view_module_version": "^0.14.0",
            "position": "topright",
            "_model_module": "jupyter-leaflet",
            "options": [
              "position"
            ]
          }
        },
        "5326a02cebbd44198b02fd2caaeb3cb9": {
          "model_module": "jupyter-leaflet",
          "model_name": "LeafletScaleControlModel",
          "model_module_version": "^0.14.0",
          "state": {
            "_view_name": "LeafletScaleControlView",
            "_model_name": "LeafletScaleControlModel",
            "metric": true,
            "_view_module": "jupyter-leaflet",
            "_model_module_version": "^0.14.0",
            "max_width": 100,
            "_view_count": null,
            "_view_module_version": "^0.14.0",
            "update_when_idle": false,
            "position": "bottomleft",
            "imperial": true,
            "_model_module": "jupyter-leaflet",
            "options": [
              "imperial",
              "max_width",
              "metric",
              "position",
              "update_when_idle"
            ]
          }
        },
        "10324ba0849d46ba95a55e46f38796e6": {
          "model_module": "jupyter-leaflet",
          "model_name": "LeafletFullScreenControlModel",
          "model_module_version": "^0.14.0",
          "state": {
            "_view_name": "LeafletFullScreenControlView",
            "_model_name": "LeafletFullScreenControlModel",
            "_view_module": "jupyter-leaflet",
            "_model_module_version": "^0.14.0",
            "_view_count": null,
            "_view_module_version": "^0.14.0",
            "position": "topleft",
            "_model_module": "jupyter-leaflet",
            "options": [
              "position"
            ]
          }
        },
        "15ccd876cd894bebaf06daafe5befd21": {
          "model_module": "jupyter-leaflet",
          "model_name": "LeafletMeasureControlModel",
          "model_module_version": "^0.14.0",
          "state": {
            "_view_name": "LeafletMeasureControlView",
            "primary_area_unit": "acres",
            "capture_z_index": 10000,
            "secondary_area_unit": null,
            "primary_length_unit": "kilometers",
            "active_color": "orange",
            "_model_name": "LeafletMeasureControlModel",
            "popup_options": {
              "className": "leaflet-measure-resultpopup",
              "autoPanPadding": [
                10,
                10
              ]
            },
            "_view_module": "jupyter-leaflet",
            "_model_module_version": "^0.14.0",
            "_view_count": null,
            "_view_module_version": "^0.14.0",
            "secondary_length_unit": null,
            "completed_color": "#C8F2BE",
            "position": "bottomleft",
            "_model_module": "jupyter-leaflet",
            "options": [
              "active_color",
              "capture_z_index",
              "completed_color",
              "popup_options",
              "position",
              "primary_area_unit",
              "primary_length_unit",
              "secondary_area_unit",
              "secondary_length_unit"
            ],
            "_custom_units": {}
          }
        },
        "8abd1af6016848b98dcdd77a18b1afa7": {
          "model_module": "jupyter-leaflet",
          "model_name": "LeafletAttributionControlModel",
          "model_module_version": "^0.14.0",
          "state": {
            "_view_name": "LeafletAttributionControlView",
            "prefix": "ipyleaflet",
            "_model_name": "LeafletAttributionControlModel",
            "_view_module": "jupyter-leaflet",
            "_model_module_version": "^0.14.0",
            "_view_count": null,
            "_view_module_version": "^0.14.0",
            "position": "bottomright",
            "_model_module": "jupyter-leaflet",
            "options": [
              "position",
              "prefix"
            ]
          }
        },
        "bcbaf3fae8c4461e8b0db2e6e0f9ae05": {
          "model_module": "jupyter-leaflet",
          "model_name": "LeafletDrawControlModel",
          "model_module_version": "^0.14.0",
          "state": {
            "_view_name": "LeafletDrawControlView",
            "polygon": {
              "shapeOptions": {}
            },
            "circlemarker": {},
            "_model_name": "LeafletDrawControlModel",
            "edit": true,
            "data": [
              {
                "type": "Feature",
                "properties": {
                  "style": {
                    "stroke": true,
                    "color": "#3388ff",
                    "weight": 4,
                    "opacity": 0.5,
                    "fill": true,
                    "fillColor": null,
                    "fillOpacity": 0.2,
                    "clickable": true
                  }
                },
                "geometry": {
                  "type": "Polygon",
                  "coordinates": [
                    [
                      [
                        -76.334519,
                        -11.186794
                      ],
                      [
                        -76.334519,
                        -10.808333
                      ],
                      [
                        -75.935007,
                        -10.808333
                      ],
                      [
                        -75.935007,
                        -11.186794
                      ],
                      [
                        -76.334519,
                        -11.186794
                      ]
                    ]
                  ]
                }
              }
            ],
            "_view_module": "jupyter-leaflet",
            "_model_module_version": "^0.14.0",
            "remove": true,
            "_view_count": null,
            "_view_module_version": "^0.14.0",
            "polyline": {
              "shapeOptions": {}
            },
            "marker": {
              "shapeOptions": {
                "color": "#3388ff"
              }
            },
            "position": "topleft",
            "circle": {
              "shapeOptions": {
                "color": "#3388ff"
              }
            },
            "_model_module": "jupyter-leaflet",
            "options": [
              "position"
            ],
            "rectangle": {
              "shapeOptions": {
                "color": "#3388ff"
              }
            }
          }
        },
        "f5175938e5d04c2a841ceb12a3449337": {
          "model_module": "jupyter-leaflet",
          "model_name": "LeafletWidgetControlModel",
          "model_module_version": "^0.14.0",
          "state": {
            "_view_name": "LeafletWidgetControlView",
            "widget": "IPY_MODEL_6e8a22ba324e4f58ac13dd5f02df7314",
            "_model_name": "LeafletWidgetControlModel",
            "_view_module": "jupyter-leaflet",
            "_model_module_version": "^0.14.0",
            "max_height": null,
            "_view_count": null,
            "min_height": null,
            "_view_module_version": "^0.14.0",
            "max_width": null,
            "transparent_bg": false,
            "min_width": null,
            "position": "topright",
            "_model_module": "jupyter-leaflet",
            "options": [
              "position",
              "transparent_bg"
            ]
          }
        },
        "3722c55ac14f4d00bdda24f8acafa3a0": {
          "model_module": "jupyter-leaflet",
          "model_name": "LeafletMapStyleModel",
          "model_module_version": "^0.14.0",
          "state": {
            "_view_name": "StyleView",
            "_model_name": "LeafletMapStyleModel",
            "_view_module": "@jupyter-widgets/base",
            "_model_module_version": "^0.14.0",
            "_view_count": null,
            "cursor": "grab",
            "_view_module_version": "1.2.0",
            "_model_module": "jupyter-leaflet"
          }
        },
        "12fdbca673e44753bb91d59ab742defd": {
          "model_module": "jupyter-leaflet",
          "model_name": "LeafletTileLayerModel",
          "model_module_version": "^0.14.0",
          "state": {
            "_view_name": "LeafletTileLayerView",
            "_view_module": "jupyter-leaflet",
            "max_zoom": 18,
            "_model_module_version": "^0.14.0",
            "_view_count": null,
            "visible": true,
            "min_zoom": 0,
            "tms": false,
            "_model_module": "jupyter-leaflet",
            "loading": false,
            "bottom": true,
            "no_wrap": false,
            "tile_size": 256,
            "popup_min_width": 50,
            "opacity": 1,
            "popup": null,
            "attribution": "Google",
            "_model_name": "LeafletTileLayerModel",
            "max_native_zoom": 18,
            "base": true,
            "min_native_zoom": 0,
            "show_loading": false,
            "name": "Google Satellite",
            "url": "https://mt1.google.com/vt/lyrs=y&x={x}&y={y}&z={z}",
            "popup_max_height": null,
            "popup_max_width": 300,
            "detect_retina": false,
            "_view_module_version": "^0.14.0",
            "options": [
              "attribution",
              "detect_retina",
              "max_native_zoom",
              "max_zoom",
              "min_native_zoom",
              "min_zoom",
              "no_wrap",
              "tile_size",
              "tms"
            ]
          }
        },
        "ca8b0797b2bb44a3a0e7da6c8e5ce1ed": {
          "model_module": "jupyter-leaflet",
          "model_name": "LeafletMapStyleModel",
          "model_module_version": "^0.14.0",
          "state": {
            "_view_name": "StyleView",
            "_model_name": "LeafletMapStyleModel",
            "_view_module": "@jupyter-widgets/base",
            "_model_module_version": "^0.14.0",
            "_view_count": null,
            "cursor": "move",
            "_view_module_version": "1.2.0",
            "_model_module": "jupyter-leaflet"
          }
        },
        "43c0cf22b7df42b1b91b5278e4017124": {
          "model_module": "@jupyter-widgets/controls",
          "model_name": "HBoxModel",
          "model_module_version": "1.5.0",
          "state": {
            "_view_name": "HBoxView",
            "_dom_classes": [],
            "_model_name": "HBoxModel",
            "_view_module": "@jupyter-widgets/controls",
            "_model_module_version": "1.5.0",
            "_view_count": null,
            "_view_module_version": "1.5.0",
            "box_style": "",
            "layout": "IPY_MODEL_0e1034aed7d74ab4baeb030a2a37f45e",
            "_model_module": "@jupyter-widgets/controls",
            "children": [
              "IPY_MODEL_cdc84a3f5797407c9279c881a606bfab"
            ]
          }
        },
        "6e8a22ba324e4f58ac13dd5f02df7314": {
          "model_module": "@jupyter-widgets/controls",
          "model_name": "VBoxModel",
          "model_module_version": "1.5.0",
          "state": {
            "_view_name": "VBoxView",
            "_dom_classes": [],
            "_model_name": "VBoxModel",
            "_view_module": "@jupyter-widgets/controls",
            "_model_module_version": "1.5.0",
            "_view_count": null,
            "_view_module_version": "1.5.0",
            "box_style": "",
            "layout": "IPY_MODEL_c569e2cd6480488193211f64a4a88e0b",
            "_model_module": "@jupyter-widgets/controls",
            "children": [
              "IPY_MODEL_d4c458131edf47efa15e07ab8ef7d89b"
            ]
          }
        },
        "0e1034aed7d74ab4baeb030a2a37f45e": {
          "model_module": "@jupyter-widgets/base",
          "model_name": "LayoutModel",
          "model_module_version": "1.2.0",
          "state": {
            "_view_name": "LayoutView",
            "grid_template_rows": null,
            "right": null,
            "justify_content": null,
            "_view_module": "@jupyter-widgets/base",
            "overflow": null,
            "_model_module_version": "1.2.0",
            "_view_count": null,
            "flex_flow": null,
            "width": null,
            "min_width": null,
            "border": null,
            "align_items": null,
            "bottom": null,
            "_model_module": "@jupyter-widgets/base",
            "top": null,
            "grid_column": null,
            "overflow_y": null,
            "overflow_x": null,
            "grid_auto_flow": null,
            "grid_area": null,
            "grid_template_columns": null,
            "flex": null,
            "_model_name": "LayoutModel",
            "justify_items": null,
            "grid_row": null,
            "max_height": null,
            "align_content": null,
            "visibility": null,
            "align_self": null,
            "height": null,
            "min_height": null,
            "padding": null,
            "grid_auto_rows": null,
            "grid_gap": null,
            "max_width": null,
            "order": null,
            "_view_module_version": "1.2.0",
            "grid_template_areas": null,
            "object_position": null,
            "object_fit": null,
            "grid_auto_columns": null,
            "margin": null,
            "display": null,
            "left": null
          }
        },
        "cdc84a3f5797407c9279c881a606bfab": {
          "model_module": "@jupyter-widgets/controls",
          "model_name": "ToggleButtonModel",
          "model_module_version": "1.5.0",
          "state": {
            "_view_name": "ToggleButtonView",
            "style": "IPY_MODEL_9f8aaed16cb04222b7b15cf3ed090902",
            "_dom_classes": [],
            "description": "",
            "_model_name": "ToggleButtonModel",
            "button_style": "",
            "_view_module": "@jupyter-widgets/controls",
            "_model_module_version": "1.5.0",
            "tooltip": "Search location/data",
            "_view_count": null,
            "disabled": false,
            "_view_module_version": "1.5.0",
            "value": false,
            "description_tooltip": null,
            "_model_module": "@jupyter-widgets/controls",
            "layout": "IPY_MODEL_6fa550c0f09f4ddfbf6cd8e5a738bc49",
            "icon": "globe"
          }
        },
        "c569e2cd6480488193211f64a4a88e0b": {
          "model_module": "@jupyter-widgets/base",
          "model_name": "LayoutModel",
          "model_module_version": "1.2.0",
          "state": {
            "_view_name": "LayoutView",
            "grid_template_rows": null,
            "right": null,
            "justify_content": null,
            "_view_module": "@jupyter-widgets/base",
            "overflow": null,
            "_model_module_version": "1.2.0",
            "_view_count": null,
            "flex_flow": null,
            "width": null,
            "min_width": null,
            "border": null,
            "align_items": null,
            "bottom": null,
            "_model_module": "@jupyter-widgets/base",
            "top": null,
            "grid_column": null,
            "overflow_y": null,
            "overflow_x": null,
            "grid_auto_flow": null,
            "grid_area": null,
            "grid_template_columns": null,
            "flex": null,
            "_model_name": "LayoutModel",
            "justify_items": null,
            "grid_row": null,
            "max_height": null,
            "align_content": null,
            "visibility": null,
            "align_self": null,
            "height": null,
            "min_height": null,
            "padding": null,
            "grid_auto_rows": null,
            "grid_gap": null,
            "max_width": null,
            "order": null,
            "_view_module_version": "1.2.0",
            "grid_template_areas": null,
            "object_position": null,
            "object_fit": null,
            "grid_auto_columns": null,
            "margin": null,
            "display": null,
            "left": null
          }
        },
        "d4c458131edf47efa15e07ab8ef7d89b": {
          "model_module": "@jupyter-widgets/controls",
          "model_name": "ToggleButtonModel",
          "model_module_version": "1.5.0",
          "state": {
            "_view_name": "ToggleButtonView",
            "style": "IPY_MODEL_09879ab05a8444a3b28cc1461214c232",
            "_dom_classes": [],
            "description": "",
            "_model_name": "ToggleButtonModel",
            "button_style": "",
            "_view_module": "@jupyter-widgets/controls",
            "_model_module_version": "1.5.0",
            "tooltip": "Toolbar",
            "_view_count": null,
            "disabled": false,
            "_view_module_version": "1.5.0",
            "value": false,
            "description_tooltip": null,
            "_model_module": "@jupyter-widgets/controls",
            "layout": "IPY_MODEL_6a1a08fa9d8149a99b1946dab6272dbf",
            "icon": "wrench"
          }
        },
        "9f8aaed16cb04222b7b15cf3ed090902": {
          "model_module": "@jupyter-widgets/controls",
          "model_name": "DescriptionStyleModel",
          "model_module_version": "1.5.0",
          "state": {
            "_view_name": "StyleView",
            "_model_name": "DescriptionStyleModel",
            "description_width": "",
            "_view_module": "@jupyter-widgets/base",
            "_model_module_version": "1.5.0",
            "_view_count": null,
            "_view_module_version": "1.2.0",
            "_model_module": "@jupyter-widgets/controls"
          }
        },
        "6fa550c0f09f4ddfbf6cd8e5a738bc49": {
          "model_module": "@jupyter-widgets/base",
          "model_name": "LayoutModel",
          "model_module_version": "1.2.0",
          "state": {
            "_view_name": "LayoutView",
            "grid_template_rows": null,
            "right": null,
            "justify_content": null,
            "_view_module": "@jupyter-widgets/base",
            "overflow": null,
            "_model_module_version": "1.2.0",
            "_view_count": null,
            "flex_flow": null,
            "width": "28px",
            "min_width": null,
            "border": null,
            "align_items": null,
            "bottom": null,
            "_model_module": "@jupyter-widgets/base",
            "top": null,
            "grid_column": null,
            "overflow_y": null,
            "overflow_x": null,
            "grid_auto_flow": null,
            "grid_area": null,
            "grid_template_columns": null,
            "flex": null,
            "_model_name": "LayoutModel",
            "justify_items": null,
            "grid_row": null,
            "max_height": null,
            "align_content": null,
            "visibility": null,
            "align_self": null,
            "height": "28px",
            "min_height": null,
            "padding": "0px 0px 0px 4px",
            "grid_auto_rows": null,
            "grid_gap": null,
            "max_width": null,
            "order": null,
            "_view_module_version": "1.2.0",
            "grid_template_areas": null,
            "object_position": null,
            "object_fit": null,
            "grid_auto_columns": null,
            "margin": null,
            "display": null,
            "left": null
          }
        },
        "09879ab05a8444a3b28cc1461214c232": {
          "model_module": "@jupyter-widgets/controls",
          "model_name": "DescriptionStyleModel",
          "model_module_version": "1.5.0",
          "state": {
            "_view_name": "StyleView",
            "_model_name": "DescriptionStyleModel",
            "description_width": "",
            "_view_module": "@jupyter-widgets/base",
            "_model_module_version": "1.5.0",
            "_view_count": null,
            "_view_module_version": "1.2.0",
            "_model_module": "@jupyter-widgets/controls"
          }
        },
        "6a1a08fa9d8149a99b1946dab6272dbf": {
          "model_module": "@jupyter-widgets/base",
          "model_name": "LayoutModel",
          "model_module_version": "1.2.0",
          "state": {
            "_view_name": "LayoutView",
            "grid_template_rows": null,
            "right": null,
            "justify_content": null,
            "_view_module": "@jupyter-widgets/base",
            "overflow": null,
            "_model_module_version": "1.2.0",
            "_view_count": null,
            "flex_flow": null,
            "width": "28px",
            "min_width": null,
            "border": null,
            "align_items": null,
            "bottom": null,
            "_model_module": "@jupyter-widgets/base",
            "top": null,
            "grid_column": null,
            "overflow_y": null,
            "overflow_x": null,
            "grid_auto_flow": null,
            "grid_area": null,
            "grid_template_columns": null,
            "flex": null,
            "_model_name": "LayoutModel",
            "justify_items": null,
            "grid_row": null,
            "max_height": null,
            "align_content": null,
            "visibility": null,
            "align_self": null,
            "height": "28px",
            "min_height": null,
            "padding": "0px 0px 0px 4px",
            "grid_auto_rows": null,
            "grid_gap": null,
            "max_width": null,
            "order": null,
            "_view_module_version": "1.2.0",
            "grid_template_areas": null,
            "object_position": null,
            "object_fit": null,
            "grid_auto_columns": null,
            "margin": null,
            "display": null,
            "left": null
          }
        },
        "8913cc61ef3a4f99ae08c6a90233754d": {
          "model_module": "jupyter-leaflet",
          "model_name": "LeafletTileLayerModel",
          "model_module_version": "^0.14.0",
          "state": {
            "_view_name": "LeafletTileLayerView",
            "_view_module": "jupyter-leaflet",
            "max_zoom": 18,
            "_model_module_version": "^0.14.0",
            "_view_count": null,
            "visible": false,
            "min_zoom": 0,
            "tms": false,
            "_model_module": "jupyter-leaflet",
            "loading": false,
            "bottom": true,
            "no_wrap": false,
            "tile_size": 256,
            "popup_min_width": 50,
            "opacity": 0.5,
            "popup": null,
            "attribution": "Google Earth Engine",
            "_model_name": "LeafletTileLayerModel",
            "max_native_zoom": 18,
            "base": false,
            "min_native_zoom": 0,
            "show_loading": false,
            "name": "Drawn Features",
            "url": "https://earthengine.googleapis.com/v1alpha/projects/earthengine-legacy/maps/df39229d42a88ab7ca1ead44183dd1a2-fa5791f09cc003781cc4f6679e58ef50/tiles/{z}/{x}/{y}",
            "popup_max_height": null,
            "popup_max_width": 300,
            "detect_retina": false,
            "_view_module_version": "^0.14.0",
            "options": [
              "attribution",
              "detect_retina",
              "max_native_zoom",
              "max_zoom",
              "min_native_zoom",
              "min_zoom",
              "no_wrap",
              "tile_size",
              "tms"
            ]
          }
        },
        "8f4b29453e9c470f80d4c4d3c67c8219": {
          "model_module": "jupyter-leaflet",
          "model_name": "LeafletMapModel",
          "model_module_version": "^0.14.0",
          "state": {
            "_view_name": "LeafletMapView",
            "keyboard_pan_offset": 80,
            "right": 76434.44238314338,
            "tap": true,
            "_view_module": "jupyter-leaflet",
            "max_zoom": 18,
            "_model_module_version": "^0.14.0",
            "_view_count": null,
            "zoom_snap": 1,
            "min_zoom": 1,
            "bounce_at_zoom_limits": true,
            "keyboard": true,
            "north": -10.495463747615924,
            "scroll_wheel_zoom": true,
            "dragging": true,
            "_model_module": "jupyter-leaflet",
            "zoom_delta": 1,
            "close_popup_on_click": true,
            "fullscreen": false,
            "style": "IPY_MODEL_95d2b9bda7d74888b82a1c5b38de1139",
            "layout": "IPY_MODEL_4b97777aaecb426c94ac6e975cbd7f36",
            "bottom": 139357.66665649414,
            "inertia_max_speed": 1500,
            "top": 138757.66665649414,
            "box_zoom": true,
            "controls": [
              "IPY_MODEL_58279ff40c0e4b8580cbc3573c92639e",
              "IPY_MODEL_2ab7a7b5b56a46839be2983ae919c062",
              "IPY_MODEL_c8d88883b25242b0b4704e33c18b66e5",
              "IPY_MODEL_ca701131eb964dafa9a2e4dec1f0e64a",
              "IPY_MODEL_1868304a70cf4f04a2a26ec804515459",
              "IPY_MODEL_71cf71f5ba52467ea37ba05b49cdf454",
              "IPY_MODEL_af5be6dcc3f7444080c98361b5f8ba27",
              "IPY_MODEL_83948e6a47cc4d2b996bca0fed249e99",
              "IPY_MODEL_6d52bab463194c4dbe47c50c65337563"
            ],
            "default_style": "IPY_MODEL_95d2b9bda7d74888b82a1c5b38de1139",
            "east": -75.0332669909225,
            "double_click_zoom": true,
            "interpolation": "bilinear",
            "layers": [
              "IPY_MODEL_584d4eb520e74f4a85f34cd6dc3572e7",
              "IPY_MODEL_955fce168dab4f5b89b4b3e558b3128c"
            ],
            "dragging_style": "IPY_MODEL_85d556b8a9f34d3a989899620cdcc5ed",
            "_dom_classes": [],
            "zoom_animation_threshold": 4,
            "_model_name": "LeafletMapModel",
            "zoom_start": 12,
            "modisdate": "yesterday",
            "keyboard_zoom_offset": 1,
            "inertia_deceleration": 3000,
            "inertia": true,
            "crs": {
              "name": "EPSG3857",
              "custom": false
            },
            "center": [
              -10.900289677438078,
              -75.9890775377975
            ],
            "zoom": 10,
            "world_copy_jump": false,
            "_view_module_version": "^0.14.0",
            "window_url": "https://toc8otfi5ia-496ff2e9c6d22116-0-colab.googleusercontent.com/outputframe.html?vrz=colab-20210916-060114-RC00_397046188",
            "tap_tolerance": 15,
            "west": -76.9448880846725,
            "touch_zoom": true,
            "options": [
              "bounce_at_zoom_limits",
              "box_zoom",
              "center",
              "close_popup_on_click",
              "double_click_zoom",
              "dragging",
              "fullscreen",
              "inertia",
              "inertia_deceleration",
              "inertia_max_speed",
              "interpolation",
              "keyboard",
              "keyboard_pan_offset",
              "keyboard_zoom_offset",
              "max_zoom",
              "min_zoom",
              "scroll_wheel_zoom",
              "tap",
              "tap_tolerance",
              "touch_zoom",
              "world_copy_jump",
              "zoom",
              "zoom_animation_threshold",
              "zoom_delta",
              "zoom_snap",
              "zoom_start"
            ],
            "south": -11.30456553296614,
            "left": 75042.44238314338,
            "_dragging": false
          }
        },
        "23241412093641b0abfcbe156c4f71da": {
          "model_module": "jupyter-leaflet",
          "model_name": "LeafletMapStyleModel",
          "model_module_version": "^0.14.0",
          "state": {
            "_view_name": "StyleView",
            "_model_name": "LeafletMapStyleModel",
            "_view_module": "@jupyter-widgets/base",
            "_model_module_version": "^0.14.0",
            "_view_count": null,
            "cursor": "grab",
            "_view_module_version": "1.2.0",
            "_model_module": "jupyter-leaflet"
          }
        },
        "4b97777aaecb426c94ac6e975cbd7f36": {
          "model_module": "@jupyter-widgets/base",
          "model_name": "LayoutModel",
          "model_module_version": "1.2.0",
          "state": {
            "_view_name": "LayoutView",
            "grid_template_rows": null,
            "right": null,
            "justify_content": null,
            "_view_module": "@jupyter-widgets/base",
            "overflow": null,
            "_model_module_version": "1.2.0",
            "_view_count": null,
            "flex_flow": null,
            "width": null,
            "min_width": null,
            "border": null,
            "align_items": null,
            "bottom": null,
            "_model_module": "@jupyter-widgets/base",
            "top": null,
            "grid_column": null,
            "overflow_y": null,
            "overflow_x": null,
            "grid_auto_flow": null,
            "grid_area": null,
            "grid_template_columns": null,
            "flex": null,
            "_model_name": "LayoutModel",
            "justify_items": null,
            "grid_row": null,
            "max_height": null,
            "align_content": null,
            "visibility": null,
            "align_self": null,
            "height": "600px",
            "min_height": null,
            "padding": null,
            "grid_auto_rows": null,
            "grid_gap": null,
            "max_width": null,
            "order": null,
            "_view_module_version": "1.2.0",
            "grid_template_areas": null,
            "object_position": null,
            "object_fit": null,
            "grid_auto_columns": null,
            "margin": null,
            "display": null,
            "left": null
          }
        },
        "58279ff40c0e4b8580cbc3573c92639e": {
          "model_module": "jupyter-leaflet",
          "model_name": "LeafletWidgetControlModel",
          "model_module_version": "^0.14.0",
          "state": {
            "_view_name": "LeafletWidgetControlView",
            "widget": "IPY_MODEL_78107a5fc8684134a911dde8501be05b",
            "_model_name": "LeafletWidgetControlModel",
            "_view_module": "jupyter-leaflet",
            "_model_module_version": "^0.14.0",
            "max_height": null,
            "_view_count": null,
            "min_height": null,
            "_view_module_version": "^0.14.0",
            "max_width": null,
            "transparent_bg": false,
            "min_width": null,
            "position": "topleft",
            "_model_module": "jupyter-leaflet",
            "options": [
              "position",
              "transparent_bg"
            ]
          }
        },
        "2ab7a7b5b56a46839be2983ae919c062": {
          "model_module": "jupyter-leaflet",
          "model_name": "LeafletZoomControlModel",
          "model_module_version": "^0.14.0",
          "state": {
            "_view_name": "LeafletZoomControlView",
            "zoom_in_title": "Zoom in",
            "_model_name": "LeafletZoomControlModel",
            "_view_module": "jupyter-leaflet",
            "_model_module_version": "^0.14.0",
            "_view_count": null,
            "_view_module_version": "^0.14.0",
            "zoom_out_title": "Zoom out",
            "position": "topleft",
            "zoom_in_text": "+",
            "_model_module": "jupyter-leaflet",
            "options": [
              "position",
              "zoom_in_text",
              "zoom_in_title",
              "zoom_out_text",
              "zoom_out_title"
            ],
            "zoom_out_text": "-"
          }
        },
        "c8d88883b25242b0b4704e33c18b66e5": {
          "model_module": "jupyter-leaflet",
          "model_name": "LeafletLayersControlModel",
          "model_module_version": "^0.14.0",
          "state": {
            "_view_name": "LeafletLayersControlView",
            "_model_name": "LeafletLayersControlModel",
            "_view_module": "jupyter-leaflet",
            "_model_module_version": "^0.14.0",
            "_view_count": null,
            "_view_module_version": "^0.14.0",
            "position": "topright",
            "_model_module": "jupyter-leaflet",
            "options": [
              "position"
            ]
          }
        },
        "ca701131eb964dafa9a2e4dec1f0e64a": {
          "model_module": "jupyter-leaflet",
          "model_name": "LeafletScaleControlModel",
          "model_module_version": "^0.14.0",
          "state": {
            "_view_name": "LeafletScaleControlView",
            "_model_name": "LeafletScaleControlModel",
            "metric": true,
            "_view_module": "jupyter-leaflet",
            "_model_module_version": "^0.14.0",
            "max_width": 100,
            "_view_count": null,
            "_view_module_version": "^0.14.0",
            "update_when_idle": false,
            "position": "bottomleft",
            "imperial": true,
            "_model_module": "jupyter-leaflet",
            "options": [
              "imperial",
              "max_width",
              "metric",
              "position",
              "update_when_idle"
            ]
          }
        },
        "1868304a70cf4f04a2a26ec804515459": {
          "model_module": "jupyter-leaflet",
          "model_name": "LeafletFullScreenControlModel",
          "model_module_version": "^0.14.0",
          "state": {
            "_view_name": "LeafletFullScreenControlView",
            "_model_name": "LeafletFullScreenControlModel",
            "_view_module": "jupyter-leaflet",
            "_model_module_version": "^0.14.0",
            "_view_count": null,
            "_view_module_version": "^0.14.0",
            "position": "topleft",
            "_model_module": "jupyter-leaflet",
            "options": [
              "position"
            ]
          }
        },
        "71cf71f5ba52467ea37ba05b49cdf454": {
          "model_module": "jupyter-leaflet",
          "model_name": "LeafletMeasureControlModel",
          "model_module_version": "^0.14.0",
          "state": {
            "_view_name": "LeafletMeasureControlView",
            "primary_area_unit": "acres",
            "capture_z_index": 10000,
            "secondary_area_unit": null,
            "primary_length_unit": "kilometers",
            "active_color": "orange",
            "_model_name": "LeafletMeasureControlModel",
            "popup_options": {
              "className": "leaflet-measure-resultpopup",
              "autoPanPadding": [
                10,
                10
              ]
            },
            "_view_module": "jupyter-leaflet",
            "_model_module_version": "^0.14.0",
            "_view_count": null,
            "_view_module_version": "^0.14.0",
            "secondary_length_unit": null,
            "completed_color": "#C8F2BE",
            "position": "bottomleft",
            "_model_module": "jupyter-leaflet",
            "options": [
              "active_color",
              "capture_z_index",
              "completed_color",
              "popup_options",
              "position",
              "primary_area_unit",
              "primary_length_unit",
              "secondary_area_unit",
              "secondary_length_unit"
            ],
            "_custom_units": {}
          }
        },
        "af5be6dcc3f7444080c98361b5f8ba27": {
          "model_module": "jupyter-leaflet",
          "model_name": "LeafletAttributionControlModel",
          "model_module_version": "^0.14.0",
          "state": {
            "_view_name": "LeafletAttributionControlView",
            "prefix": "ipyleaflet",
            "_model_name": "LeafletAttributionControlModel",
            "_view_module": "jupyter-leaflet",
            "_model_module_version": "^0.14.0",
            "_view_count": null,
            "_view_module_version": "^0.14.0",
            "position": "bottomright",
            "_model_module": "jupyter-leaflet",
            "options": [
              "position",
              "prefix"
            ]
          }
        },
        "83948e6a47cc4d2b996bca0fed249e99": {
          "model_module": "jupyter-leaflet",
          "model_name": "LeafletDrawControlModel",
          "model_module_version": "^0.14.0",
          "state": {
            "_view_name": "LeafletDrawControlView",
            "polygon": {
              "shapeOptions": {}
            },
            "circlemarker": {},
            "_model_name": "LeafletDrawControlModel",
            "edit": true,
            "data": [],
            "_view_module": "jupyter-leaflet",
            "_model_module_version": "^0.14.0",
            "remove": true,
            "_view_count": null,
            "_view_module_version": "^0.14.0",
            "polyline": {
              "shapeOptions": {}
            },
            "marker": {
              "shapeOptions": {
                "color": "#3388ff"
              }
            },
            "position": "topleft",
            "circle": {
              "shapeOptions": {
                "color": "#3388ff"
              }
            },
            "_model_module": "jupyter-leaflet",
            "options": [
              "position"
            ],
            "rectangle": {
              "shapeOptions": {
                "color": "#3388ff"
              }
            }
          }
        },
        "6d52bab463194c4dbe47c50c65337563": {
          "model_module": "jupyter-leaflet",
          "model_name": "LeafletWidgetControlModel",
          "model_module_version": "^0.14.0",
          "state": {
            "_view_name": "LeafletWidgetControlView",
            "widget": "IPY_MODEL_aa0dfb1ce52649a0bf300db8486d5c99",
            "_model_name": "LeafletWidgetControlModel",
            "_view_module": "jupyter-leaflet",
            "_model_module_version": "^0.14.0",
            "max_height": null,
            "_view_count": null,
            "min_height": null,
            "_view_module_version": "^0.14.0",
            "max_width": null,
            "transparent_bg": false,
            "min_width": null,
            "position": "topright",
            "_model_module": "jupyter-leaflet",
            "options": [
              "position",
              "transparent_bg"
            ]
          }
        },
        "95d2b9bda7d74888b82a1c5b38de1139": {
          "model_module": "jupyter-leaflet",
          "model_name": "LeafletMapStyleModel",
          "model_module_version": "^0.14.0",
          "state": {
            "_view_name": "StyleView",
            "_model_name": "LeafletMapStyleModel",
            "_view_module": "@jupyter-widgets/base",
            "_model_module_version": "^0.14.0",
            "_view_count": null,
            "cursor": "grab",
            "_view_module_version": "1.2.0",
            "_model_module": "jupyter-leaflet"
          }
        },
        "584d4eb520e74f4a85f34cd6dc3572e7": {
          "model_module": "jupyter-leaflet",
          "model_name": "LeafletTileLayerModel",
          "model_module_version": "^0.14.0",
          "state": {
            "_view_name": "LeafletTileLayerView",
            "_view_module": "jupyter-leaflet",
            "max_zoom": 18,
            "_model_module_version": "^0.14.0",
            "_view_count": null,
            "visible": true,
            "min_zoom": 0,
            "tms": false,
            "_model_module": "jupyter-leaflet",
            "loading": false,
            "bottom": true,
            "no_wrap": false,
            "tile_size": 256,
            "popup_min_width": 50,
            "opacity": 1,
            "popup": null,
            "attribution": "Esri",
            "_model_name": "LeafletTileLayerModel",
            "max_native_zoom": 18,
            "base": true,
            "min_native_zoom": 0,
            "show_loading": false,
            "name": "Esri Satellite",
            "url": "https://server.arcgisonline.com/ArcGIS/rest/services/World_Imagery/MapServer/tile/{z}/{y}/{x}",
            "popup_max_height": null,
            "popup_max_width": 300,
            "detect_retina": false,
            "_view_module_version": "^0.14.0",
            "options": [
              "attribution",
              "detect_retina",
              "max_native_zoom",
              "max_zoom",
              "min_native_zoom",
              "min_zoom",
              "no_wrap",
              "tile_size",
              "tms"
            ]
          }
        },
        "955fce168dab4f5b89b4b3e558b3128c": {
          "model_module": "jupyter-leaflet",
          "model_name": "LeafletTileLayerModel",
          "model_module_version": "^0.14.0",
          "state": {
            "_view_name": "LeafletTileLayerView",
            "_view_module": "jupyter-leaflet",
            "max_zoom": 18,
            "_model_module_version": "^0.14.0",
            "_view_count": null,
            "visible": true,
            "min_zoom": 0,
            "tms": false,
            "_model_module": "jupyter-leaflet",
            "loading": false,
            "bottom": true,
            "no_wrap": false,
            "tile_size": 256,
            "popup_min_width": 50,
            "opacity": 1,
            "popup": null,
            "attribution": "Google Earth Engine",
            "_model_name": "LeafletTileLayerModel",
            "max_native_zoom": 18,
            "base": false,
            "min_native_zoom": 0,
            "show_loading": false,
            "name": "Imagen Landsat8",
            "url": "https://earthengine.googleapis.com/v1alpha/projects/earthengine-legacy/maps/9e370ae26cb379bbafb38f33d2b7f06d-58451c03f68904239d53585f98bad031/tiles/{z}/{x}/{y}",
            "popup_max_height": null,
            "popup_max_width": 300,
            "detect_retina": false,
            "_view_module_version": "^0.14.0",
            "options": [
              "attribution",
              "detect_retina",
              "max_native_zoom",
              "max_zoom",
              "min_native_zoom",
              "min_zoom",
              "no_wrap",
              "tile_size",
              "tms"
            ]
          }
        },
        "85d556b8a9f34d3a989899620cdcc5ed": {
          "model_module": "jupyter-leaflet",
          "model_name": "LeafletMapStyleModel",
          "model_module_version": "^0.14.0",
          "state": {
            "_view_name": "StyleView",
            "_model_name": "LeafletMapStyleModel",
            "_view_module": "@jupyter-widgets/base",
            "_model_module_version": "^0.14.0",
            "_view_count": null,
            "cursor": "move",
            "_view_module_version": "1.2.0",
            "_model_module": "jupyter-leaflet"
          }
        },
        "78107a5fc8684134a911dde8501be05b": {
          "model_module": "@jupyter-widgets/controls",
          "model_name": "HBoxModel",
          "model_module_version": "1.5.0",
          "state": {
            "_view_name": "HBoxView",
            "_dom_classes": [],
            "_model_name": "HBoxModel",
            "_view_module": "@jupyter-widgets/controls",
            "_model_module_version": "1.5.0",
            "_view_count": null,
            "_view_module_version": "1.5.0",
            "box_style": "",
            "layout": "IPY_MODEL_b79b8d2732d54a4da2dd15f2d7a2a945",
            "_model_module": "@jupyter-widgets/controls",
            "children": [
              "IPY_MODEL_4ca795fdcd0147bea740f7c598d19583"
            ]
          }
        },
        "aa0dfb1ce52649a0bf300db8486d5c99": {
          "model_module": "@jupyter-widgets/controls",
          "model_name": "VBoxModel",
          "model_module_version": "1.5.0",
          "state": {
            "_view_name": "VBoxView",
            "_dom_classes": [],
            "_model_name": "VBoxModel",
            "_view_module": "@jupyter-widgets/controls",
            "_model_module_version": "1.5.0",
            "_view_count": null,
            "_view_module_version": "1.5.0",
            "box_style": "",
            "layout": "IPY_MODEL_97a8cf59bc4246e09ba574ba566bc764",
            "_model_module": "@jupyter-widgets/controls",
            "children": [
              "IPY_MODEL_29ccd134e8174f7eb4c5031de1edee25"
            ]
          }
        },
        "b79b8d2732d54a4da2dd15f2d7a2a945": {
          "model_module": "@jupyter-widgets/base",
          "model_name": "LayoutModel",
          "model_module_version": "1.2.0",
          "state": {
            "_view_name": "LayoutView",
            "grid_template_rows": null,
            "right": null,
            "justify_content": null,
            "_view_module": "@jupyter-widgets/base",
            "overflow": null,
            "_model_module_version": "1.2.0",
            "_view_count": null,
            "flex_flow": null,
            "width": null,
            "min_width": null,
            "border": null,
            "align_items": null,
            "bottom": null,
            "_model_module": "@jupyter-widgets/base",
            "top": null,
            "grid_column": null,
            "overflow_y": null,
            "overflow_x": null,
            "grid_auto_flow": null,
            "grid_area": null,
            "grid_template_columns": null,
            "flex": null,
            "_model_name": "LayoutModel",
            "justify_items": null,
            "grid_row": null,
            "max_height": null,
            "align_content": null,
            "visibility": null,
            "align_self": null,
            "height": null,
            "min_height": null,
            "padding": null,
            "grid_auto_rows": null,
            "grid_gap": null,
            "max_width": null,
            "order": null,
            "_view_module_version": "1.2.0",
            "grid_template_areas": null,
            "object_position": null,
            "object_fit": null,
            "grid_auto_columns": null,
            "margin": null,
            "display": null,
            "left": null
          }
        },
        "4ca795fdcd0147bea740f7c598d19583": {
          "model_module": "@jupyter-widgets/controls",
          "model_name": "ToggleButtonModel",
          "model_module_version": "1.5.0",
          "state": {
            "_view_name": "ToggleButtonView",
            "style": "IPY_MODEL_59a661793c2649dfad0970d89d8bbb45",
            "_dom_classes": [],
            "description": "",
            "_model_name": "ToggleButtonModel",
            "button_style": "",
            "_view_module": "@jupyter-widgets/controls",
            "_model_module_version": "1.5.0",
            "tooltip": "Search location/data",
            "_view_count": null,
            "disabled": false,
            "_view_module_version": "1.5.0",
            "value": false,
            "description_tooltip": null,
            "_model_module": "@jupyter-widgets/controls",
            "layout": "IPY_MODEL_a84126868c1343eaa7e6b7752704c402",
            "icon": "globe"
          }
        },
        "97a8cf59bc4246e09ba574ba566bc764": {
          "model_module": "@jupyter-widgets/base",
          "model_name": "LayoutModel",
          "model_module_version": "1.2.0",
          "state": {
            "_view_name": "LayoutView",
            "grid_template_rows": null,
            "right": null,
            "justify_content": null,
            "_view_module": "@jupyter-widgets/base",
            "overflow": null,
            "_model_module_version": "1.2.0",
            "_view_count": null,
            "flex_flow": null,
            "width": null,
            "min_width": null,
            "border": null,
            "align_items": null,
            "bottom": null,
            "_model_module": "@jupyter-widgets/base",
            "top": null,
            "grid_column": null,
            "overflow_y": null,
            "overflow_x": null,
            "grid_auto_flow": null,
            "grid_area": null,
            "grid_template_columns": null,
            "flex": null,
            "_model_name": "LayoutModel",
            "justify_items": null,
            "grid_row": null,
            "max_height": null,
            "align_content": null,
            "visibility": null,
            "align_self": null,
            "height": null,
            "min_height": null,
            "padding": null,
            "grid_auto_rows": null,
            "grid_gap": null,
            "max_width": null,
            "order": null,
            "_view_module_version": "1.2.0",
            "grid_template_areas": null,
            "object_position": null,
            "object_fit": null,
            "grid_auto_columns": null,
            "margin": null,
            "display": null,
            "left": null
          }
        },
        "29ccd134e8174f7eb4c5031de1edee25": {
          "model_module": "@jupyter-widgets/controls",
          "model_name": "ToggleButtonModel",
          "model_module_version": "1.5.0",
          "state": {
            "_view_name": "ToggleButtonView",
            "style": "IPY_MODEL_7038af69e80f401e97e054c0930b28b3",
            "_dom_classes": [],
            "description": "",
            "_model_name": "ToggleButtonModel",
            "button_style": "",
            "_view_module": "@jupyter-widgets/controls",
            "_model_module_version": "1.5.0",
            "tooltip": "Toolbar",
            "_view_count": null,
            "disabled": false,
            "_view_module_version": "1.5.0",
            "value": false,
            "description_tooltip": null,
            "_model_module": "@jupyter-widgets/controls",
            "layout": "IPY_MODEL_de8d4d6ac0ce4d9d9b5e0d7dcb6e418b",
            "icon": "wrench"
          }
        },
        "59a661793c2649dfad0970d89d8bbb45": {
          "model_module": "@jupyter-widgets/controls",
          "model_name": "DescriptionStyleModel",
          "model_module_version": "1.5.0",
          "state": {
            "_view_name": "StyleView",
            "_model_name": "DescriptionStyleModel",
            "description_width": "",
            "_view_module": "@jupyter-widgets/base",
            "_model_module_version": "1.5.0",
            "_view_count": null,
            "_view_module_version": "1.2.0",
            "_model_module": "@jupyter-widgets/controls"
          }
        },
        "a84126868c1343eaa7e6b7752704c402": {
          "model_module": "@jupyter-widgets/base",
          "model_name": "LayoutModel",
          "model_module_version": "1.2.0",
          "state": {
            "_view_name": "LayoutView",
            "grid_template_rows": null,
            "right": null,
            "justify_content": null,
            "_view_module": "@jupyter-widgets/base",
            "overflow": null,
            "_model_module_version": "1.2.0",
            "_view_count": null,
            "flex_flow": null,
            "width": "28px",
            "min_width": null,
            "border": null,
            "align_items": null,
            "bottom": null,
            "_model_module": "@jupyter-widgets/base",
            "top": null,
            "grid_column": null,
            "overflow_y": null,
            "overflow_x": null,
            "grid_auto_flow": null,
            "grid_area": null,
            "grid_template_columns": null,
            "flex": null,
            "_model_name": "LayoutModel",
            "justify_items": null,
            "grid_row": null,
            "max_height": null,
            "align_content": null,
            "visibility": null,
            "align_self": null,
            "height": "28px",
            "min_height": null,
            "padding": "0px 0px 0px 4px",
            "grid_auto_rows": null,
            "grid_gap": null,
            "max_width": null,
            "order": null,
            "_view_module_version": "1.2.0",
            "grid_template_areas": null,
            "object_position": null,
            "object_fit": null,
            "grid_auto_columns": null,
            "margin": null,
            "display": null,
            "left": null
          }
        },
        "7038af69e80f401e97e054c0930b28b3": {
          "model_module": "@jupyter-widgets/controls",
          "model_name": "DescriptionStyleModel",
          "model_module_version": "1.5.0",
          "state": {
            "_view_name": "StyleView",
            "_model_name": "DescriptionStyleModel",
            "description_width": "",
            "_view_module": "@jupyter-widgets/base",
            "_model_module_version": "1.5.0",
            "_view_count": null,
            "_view_module_version": "1.2.0",
            "_model_module": "@jupyter-widgets/controls"
          }
        },
        "de8d4d6ac0ce4d9d9b5e0d7dcb6e418b": {
          "model_module": "@jupyter-widgets/base",
          "model_name": "LayoutModel",
          "model_module_version": "1.2.0",
          "state": {
            "_view_name": "LayoutView",
            "grid_template_rows": null,
            "right": null,
            "justify_content": null,
            "_view_module": "@jupyter-widgets/base",
            "overflow": null,
            "_model_module_version": "1.2.0",
            "_view_count": null,
            "flex_flow": null,
            "width": "28px",
            "min_width": null,
            "border": null,
            "align_items": null,
            "bottom": null,
            "_model_module": "@jupyter-widgets/base",
            "top": null,
            "grid_column": null,
            "overflow_y": null,
            "overflow_x": null,
            "grid_auto_flow": null,
            "grid_area": null,
            "grid_template_columns": null,
            "flex": null,
            "_model_name": "LayoutModel",
            "justify_items": null,
            "grid_row": null,
            "max_height": null,
            "align_content": null,
            "visibility": null,
            "align_self": null,
            "height": "28px",
            "min_height": null,
            "padding": "0px 0px 0px 4px",
            "grid_auto_rows": null,
            "grid_gap": null,
            "max_width": null,
            "order": null,
            "_view_module_version": "1.2.0",
            "grid_template_areas": null,
            "object_position": null,
            "object_fit": null,
            "grid_auto_columns": null,
            "margin": null,
            "display": null,
            "left": null
          }
        },
        "ff604ed3ea444db9b9cfb3bf3f113a06": {
          "model_module": "jupyter-leaflet",
          "model_name": "LeafletMapModel",
          "model_module_version": "^0.14.0",
          "state": {
            "_view_name": "LeafletMapView",
            "keyboard_pan_offset": 80,
            "right": 3099,
            "tap": true,
            "_view_module": "jupyter-leaflet",
            "max_zoom": 18,
            "_model_module_version": "^0.14.0",
            "_view_count": null,
            "zoom_snap": 1,
            "min_zoom": 1,
            "bounce_at_zoom_limits": true,
            "keyboard": true,
            "north": 3.995780512963038,
            "scroll_wheel_zoom": true,
            "dragging": true,
            "_model_module": "jupyter-leaflet",
            "zoom_delta": 1,
            "close_popup_on_click": true,
            "fullscreen": false,
            "style": "IPY_MODEL_3e82835556b94b1baf56075ba12f40ee",
            "layout": "IPY_MODEL_af421f3b0dee4a69b084ea5b86d1c36a",
            "bottom": 4605,
            "inertia_max_speed": 1500,
            "top": 4005,
            "box_zoom": true,
            "controls": [
              "IPY_MODEL_68051ddd678247f4a7e706775f07d887",
              "IPY_MODEL_16c8ac1d61414318887afbf0d01b80e2",
              "IPY_MODEL_aa84a6cf913b4e49a6a3600e3837165f",
              "IPY_MODEL_92313dcb0c8640329c2874e6ced2d502",
              "IPY_MODEL_c25c2aa755b942f5b7443a08f58ea467",
              "IPY_MODEL_4b949151696b4c69a9547434603f945b",
              "IPY_MODEL_b29b9c34fa5c45b9969e02c4f4b82d15",
              "IPY_MODEL_6a12fdb10ab84daeb9d7c3b515637b0f"
            ],
            "default_style": "IPY_MODEL_c27400a43db74372af748683d22640fa",
            "east": -43.8134765625,
            "double_click_zoom": true,
            "interpolation": "bilinear",
            "layers": [
              "IPY_MODEL_ea1b06452cab47d7816be9f069ebdfce",
              "IPY_MODEL_af9faf2f63a44210963df635872c5eb6"
            ],
            "dragging_style": "IPY_MODEL_4d6148530d3c4cd7aa5b6a545f61e843",
            "_dom_classes": [],
            "zoom_animation_threshold": 4,
            "_model_name": "LeafletMapModel",
            "zoom_start": 12,
            "modisdate": "yesterday",
            "keyboard_zoom_offset": 1,
            "inertia_deceleration": 3000,
            "inertia": true,
            "crs": {
              "name": "EPSG3857",
              "custom": false
            },
            "center": [
              -9.12511364697584,
              -74.39606230545007
            ],
            "zoom": 5,
            "world_copy_jump": false,
            "_view_module_version": "^0.14.0",
            "window_url": "https://bk2bfffqwcn-496ff2e9c6d22116-0-colab.googleusercontent.com/outputframe.html?vrz=colab-20210916-060114-RC00_397046188",
            "tap_tolerance": 15,
            "west": -104.98535156250001,
            "touch_zoom": true,
            "options": [
              "bounce_at_zoom_limits",
              "box_zoom",
              "center",
              "close_popup_on_click",
              "double_click_zoom",
              "dragging",
              "fullscreen",
              "inertia",
              "inertia_deceleration",
              "inertia_max_speed",
              "interpolation",
              "keyboard",
              "keyboard_pan_offset",
              "keyboard_zoom_offset",
              "max_zoom",
              "min_zoom",
              "scroll_wheel_zoom",
              "tap",
              "tap_tolerance",
              "touch_zoom",
              "world_copy_jump",
              "zoom",
              "zoom_animation_threshold",
              "zoom_delta",
              "zoom_snap",
              "zoom_start"
            ],
            "south": -21.820707853875017,
            "left": 1707
          }
        },
        "3e82835556b94b1baf56075ba12f40ee": {
          "model_module": "jupyter-leaflet",
          "model_name": "LeafletMapStyleModel",
          "model_module_version": "^0.14.0",
          "state": {
            "_view_name": "StyleView",
            "_model_name": "LeafletMapStyleModel",
            "_view_module": "@jupyter-widgets/base",
            "_model_module_version": "^0.14.0",
            "_view_count": null,
            "cursor": "grab",
            "_view_module_version": "1.2.0",
            "_model_module": "jupyter-leaflet"
          }
        },
        "af421f3b0dee4a69b084ea5b86d1c36a": {
          "model_module": "@jupyter-widgets/base",
          "model_name": "LayoutModel",
          "model_module_version": "1.2.0",
          "state": {
            "_view_name": "LayoutView",
            "grid_template_rows": null,
            "right": null,
            "justify_content": null,
            "_view_module": "@jupyter-widgets/base",
            "overflow": null,
            "_model_module_version": "1.2.0",
            "_view_count": null,
            "flex_flow": null,
            "width": null,
            "min_width": null,
            "border": null,
            "align_items": null,
            "bottom": null,
            "_model_module": "@jupyter-widgets/base",
            "top": null,
            "grid_column": null,
            "overflow_y": null,
            "overflow_x": null,
            "grid_auto_flow": null,
            "grid_area": null,
            "grid_template_columns": null,
            "flex": null,
            "_model_name": "LayoutModel",
            "justify_items": null,
            "grid_row": null,
            "max_height": null,
            "align_content": null,
            "visibility": null,
            "align_self": null,
            "height": "600px",
            "min_height": null,
            "padding": null,
            "grid_auto_rows": null,
            "grid_gap": null,
            "max_width": null,
            "order": null,
            "_view_module_version": "1.2.0",
            "grid_template_areas": null,
            "object_position": null,
            "object_fit": null,
            "grid_auto_columns": null,
            "margin": null,
            "display": null,
            "left": null
          }
        },
        "68051ddd678247f4a7e706775f07d887": {
          "model_module": "jupyter-leaflet",
          "model_name": "LeafletWidgetControlModel",
          "model_module_version": "^0.14.0",
          "state": {
            "_view_name": "LeafletWidgetControlView",
            "widget": "IPY_MODEL_a2d197430ec0465ea5d13e8986271ccd",
            "_model_name": "LeafletWidgetControlModel",
            "_view_module": "jupyter-leaflet",
            "_model_module_version": "^0.14.0",
            "max_height": null,
            "_view_count": null,
            "min_height": null,
            "_view_module_version": "^0.14.0",
            "max_width": null,
            "transparent_bg": false,
            "min_width": null,
            "position": "topleft",
            "_model_module": "jupyter-leaflet",
            "options": [
              "position",
              "transparent_bg"
            ]
          }
        },
        "16c8ac1d61414318887afbf0d01b80e2": {
          "model_module": "jupyter-leaflet",
          "model_name": "LeafletZoomControlModel",
          "model_module_version": "^0.14.0",
          "state": {
            "_view_name": "LeafletZoomControlView",
            "zoom_in_title": "Zoom in",
            "_model_name": "LeafletZoomControlModel",
            "_view_module": "jupyter-leaflet",
            "_model_module_version": "^0.14.0",
            "_view_count": null,
            "_view_module_version": "^0.14.0",
            "zoom_out_title": "Zoom out",
            "position": "topleft",
            "zoom_in_text": "+",
            "_model_module": "jupyter-leaflet",
            "options": [
              "position",
              "zoom_in_text",
              "zoom_in_title",
              "zoom_out_text",
              "zoom_out_title"
            ],
            "zoom_out_text": "-"
          }
        },
        "aa84a6cf913b4e49a6a3600e3837165f": {
          "model_module": "jupyter-leaflet",
          "model_name": "LeafletScaleControlModel",
          "model_module_version": "^0.14.0",
          "state": {
            "_view_name": "LeafletScaleControlView",
            "_model_name": "LeafletScaleControlModel",
            "metric": true,
            "_view_module": "jupyter-leaflet",
            "_model_module_version": "^0.14.0",
            "max_width": 100,
            "_view_count": null,
            "_view_module_version": "^0.14.0",
            "update_when_idle": false,
            "position": "bottomleft",
            "imperial": true,
            "_model_module": "jupyter-leaflet",
            "options": [
              "imperial",
              "max_width",
              "metric",
              "position",
              "update_when_idle"
            ]
          }
        },
        "92313dcb0c8640329c2874e6ced2d502": {
          "model_module": "jupyter-leaflet",
          "model_name": "LeafletFullScreenControlModel",
          "model_module_version": "^0.14.0",
          "state": {
            "_view_name": "LeafletFullScreenControlView",
            "_model_name": "LeafletFullScreenControlModel",
            "_view_module": "jupyter-leaflet",
            "_model_module_version": "^0.14.0",
            "_view_count": null,
            "_view_module_version": "^0.14.0",
            "position": "topleft",
            "_model_module": "jupyter-leaflet",
            "options": [
              "position"
            ]
          }
        },
        "c25c2aa755b942f5b7443a08f58ea467": {
          "model_module": "jupyter-leaflet",
          "model_name": "LeafletMeasureControlModel",
          "model_module_version": "^0.14.0",
          "state": {
            "_view_name": "LeafletMeasureControlView",
            "primary_area_unit": "acres",
            "capture_z_index": 10000,
            "secondary_area_unit": null,
            "primary_length_unit": "kilometers",
            "active_color": "orange",
            "_model_name": "LeafletMeasureControlModel",
            "popup_options": {
              "className": "leaflet-measure-resultpopup",
              "autoPanPadding": [
                10,
                10
              ]
            },
            "_view_module": "jupyter-leaflet",
            "_model_module_version": "^0.14.0",
            "_view_count": null,
            "_view_module_version": "^0.14.0",
            "secondary_length_unit": null,
            "completed_color": "#C8F2BE",
            "position": "bottomleft",
            "_model_module": "jupyter-leaflet",
            "options": [
              "active_color",
              "capture_z_index",
              "completed_color",
              "popup_options",
              "position",
              "primary_area_unit",
              "primary_length_unit",
              "secondary_area_unit",
              "secondary_length_unit"
            ],
            "_custom_units": {}
          }
        },
        "4b949151696b4c69a9547434603f945b": {
          "model_module": "jupyter-leaflet",
          "model_name": "LeafletAttributionControlModel",
          "model_module_version": "^0.14.0",
          "state": {
            "_view_name": "LeafletAttributionControlView",
            "prefix": "ipyleaflet",
            "_model_name": "LeafletAttributionControlModel",
            "_view_module": "jupyter-leaflet",
            "_model_module_version": "^0.14.0",
            "_view_count": null,
            "_view_module_version": "^0.14.0",
            "position": "bottomright",
            "_model_module": "jupyter-leaflet",
            "options": [
              "position",
              "prefix"
            ]
          }
        },
        "b29b9c34fa5c45b9969e02c4f4b82d15": {
          "model_module": "jupyter-leaflet",
          "model_name": "LeafletDrawControlModel",
          "model_module_version": "^0.14.0",
          "state": {
            "_view_name": "LeafletDrawControlView",
            "polygon": {
              "shapeOptions": {}
            },
            "circlemarker": {},
            "_model_name": "LeafletDrawControlModel",
            "edit": true,
            "data": [],
            "_view_module": "jupyter-leaflet",
            "_model_module_version": "^0.14.0",
            "remove": true,
            "_view_count": null,
            "_view_module_version": "^0.14.0",
            "polyline": {
              "shapeOptions": {}
            },
            "marker": {
              "shapeOptions": {
                "color": "#3388ff"
              }
            },
            "position": "topleft",
            "circle": {
              "shapeOptions": {
                "color": "#3388ff"
              }
            },
            "_model_module": "jupyter-leaflet",
            "options": [
              "position"
            ],
            "rectangle": {
              "shapeOptions": {
                "color": "#3388ff"
              }
            }
          }
        },
        "6a12fdb10ab84daeb9d7c3b515637b0f": {
          "model_module": "jupyter-leaflet",
          "model_name": "LeafletWidgetControlModel",
          "model_module_version": "^0.14.0",
          "state": {
            "_view_name": "LeafletWidgetControlView",
            "widget": "IPY_MODEL_257960f9484f4a8a94465148b2aab790",
            "_model_name": "LeafletWidgetControlModel",
            "_view_module": "jupyter-leaflet",
            "_model_module_version": "^0.14.0",
            "max_height": null,
            "_view_count": null,
            "min_height": null,
            "_view_module_version": "^0.14.0",
            "max_width": null,
            "transparent_bg": false,
            "min_width": null,
            "position": "topright",
            "_model_module": "jupyter-leaflet",
            "options": [
              "position",
              "transparent_bg"
            ]
          }
        },
        "c27400a43db74372af748683d22640fa": {
          "model_module": "jupyter-leaflet",
          "model_name": "LeafletMapStyleModel",
          "model_module_version": "^0.14.0",
          "state": {
            "_view_name": "StyleView",
            "_model_name": "LeafletMapStyleModel",
            "_view_module": "@jupyter-widgets/base",
            "_model_module_version": "^0.14.0",
            "_view_count": null,
            "cursor": "grab",
            "_view_module_version": "1.2.0",
            "_model_module": "jupyter-leaflet"
          }
        },
        "ea1b06452cab47d7816be9f069ebdfce": {
          "model_module": "jupyter-leaflet",
          "model_name": "LeafletTileLayerModel",
          "model_module_version": "^0.14.0",
          "state": {
            "_view_name": "LeafletTileLayerView",
            "_view_module": "jupyter-leaflet",
            "max_zoom": 18,
            "_model_module_version": "^0.14.0",
            "_view_count": null,
            "visible": true,
            "min_zoom": 0,
            "tms": false,
            "_model_module": "jupyter-leaflet",
            "loading": false,
            "bottom": true,
            "no_wrap": false,
            "tile_size": 256,
            "popup_min_width": 50,
            "opacity": 1,
            "popup": null,
            "attribution": "Google",
            "_model_name": "LeafletTileLayerModel",
            "max_native_zoom": 18,
            "base": true,
            "min_native_zoom": 0,
            "show_loading": false,
            "name": "Google Satellite",
            "url": "https://mt1.google.com/vt/lyrs=y&x={x}&y={y}&z={z}",
            "popup_max_height": null,
            "popup_max_width": 300,
            "detect_retina": false,
            "_view_module_version": "^0.14.0",
            "options": [
              "attribution",
              "detect_retina",
              "max_native_zoom",
              "max_zoom",
              "min_native_zoom",
              "min_zoom",
              "no_wrap",
              "tile_size",
              "tms"
            ]
          }
        },
        "af9faf2f63a44210963df635872c5eb6": {
          "model_module": "jupyter-leaflet",
          "model_name": "LeafletTileLayerModel",
          "model_module_version": "^0.14.0",
          "state": {
            "_view_name": "LeafletTileLayerView",
            "_view_module": "jupyter-leaflet",
            "max_zoom": 18,
            "_model_module_version": "^0.14.0",
            "_view_count": null,
            "visible": true,
            "min_zoom": 0,
            "tms": false,
            "_model_module": "jupyter-leaflet",
            "loading": false,
            "bottom": true,
            "no_wrap": false,
            "tile_size": 256,
            "popup_min_width": 50,
            "opacity": 1,
            "popup": null,
            "attribution": "Google Earth Engine",
            "_model_name": "LeafletTileLayerModel",
            "max_native_zoom": 18,
            "base": false,
            "min_native_zoom": 0,
            "show_loading": false,
            "name": "Perú",
            "url": "https://earthengine.googleapis.com/v1alpha/projects/earthengine-legacy/maps/5dbe56d89d37cc5049f5b203cd403e02-7cce3930acecfacbe2c27a2b1d9e57ff/tiles/{z}/{x}/{y}",
            "popup_max_height": null,
            "popup_max_width": 300,
            "detect_retina": false,
            "_view_module_version": "^0.14.0",
            "options": [
              "attribution",
              "detect_retina",
              "max_native_zoom",
              "max_zoom",
              "min_native_zoom",
              "min_zoom",
              "no_wrap",
              "tile_size",
              "tms"
            ]
          }
        },
        "4d6148530d3c4cd7aa5b6a545f61e843": {
          "model_module": "jupyter-leaflet",
          "model_name": "LeafletMapStyleModel",
          "model_module_version": "^0.14.0",
          "state": {
            "_view_name": "StyleView",
            "_model_name": "LeafletMapStyleModel",
            "_view_module": "@jupyter-widgets/base",
            "_model_module_version": "^0.14.0",
            "_view_count": null,
            "cursor": "move",
            "_view_module_version": "1.2.0",
            "_model_module": "jupyter-leaflet"
          }
        },
        "a2d197430ec0465ea5d13e8986271ccd": {
          "model_module": "@jupyter-widgets/controls",
          "model_name": "HBoxModel",
          "model_module_version": "1.5.0",
          "state": {
            "_view_name": "HBoxView",
            "_dom_classes": [],
            "_model_name": "HBoxModel",
            "_view_module": "@jupyter-widgets/controls",
            "_model_module_version": "1.5.0",
            "_view_count": null,
            "_view_module_version": "1.5.0",
            "box_style": "",
            "layout": "IPY_MODEL_9a66a56f5c7247429d7c70ba755db7ba",
            "_model_module": "@jupyter-widgets/controls",
            "children": [
              "IPY_MODEL_d7535ac2d41740e4918b0d3ec654e671"
            ]
          }
        },
        "257960f9484f4a8a94465148b2aab790": {
          "model_module": "@jupyter-widgets/controls",
          "model_name": "VBoxModel",
          "model_module_version": "1.5.0",
          "state": {
            "_view_name": "VBoxView",
            "_dom_classes": [],
            "_model_name": "VBoxModel",
            "_view_module": "@jupyter-widgets/controls",
            "_model_module_version": "1.5.0",
            "_view_count": null,
            "_view_module_version": "1.5.0",
            "box_style": "",
            "layout": "IPY_MODEL_35cc8b07d1ce47499b71a2a777863b11",
            "_model_module": "@jupyter-widgets/controls",
            "children": [
              "IPY_MODEL_19ae10deeae742bc84bde778e23f750d"
            ]
          }
        },
        "9a66a56f5c7247429d7c70ba755db7ba": {
          "model_module": "@jupyter-widgets/base",
          "model_name": "LayoutModel",
          "model_module_version": "1.2.0",
          "state": {
            "_view_name": "LayoutView",
            "grid_template_rows": null,
            "right": null,
            "justify_content": null,
            "_view_module": "@jupyter-widgets/base",
            "overflow": null,
            "_model_module_version": "1.2.0",
            "_view_count": null,
            "flex_flow": null,
            "width": null,
            "min_width": null,
            "border": null,
            "align_items": null,
            "bottom": null,
            "_model_module": "@jupyter-widgets/base",
            "top": null,
            "grid_column": null,
            "overflow_y": null,
            "overflow_x": null,
            "grid_auto_flow": null,
            "grid_area": null,
            "grid_template_columns": null,
            "flex": null,
            "_model_name": "LayoutModel",
            "justify_items": null,
            "grid_row": null,
            "max_height": null,
            "align_content": null,
            "visibility": null,
            "align_self": null,
            "height": null,
            "min_height": null,
            "padding": null,
            "grid_auto_rows": null,
            "grid_gap": null,
            "max_width": null,
            "order": null,
            "_view_module_version": "1.2.0",
            "grid_template_areas": null,
            "object_position": null,
            "object_fit": null,
            "grid_auto_columns": null,
            "margin": null,
            "display": null,
            "left": null
          }
        },
        "d7535ac2d41740e4918b0d3ec654e671": {
          "model_module": "@jupyter-widgets/controls",
          "model_name": "ToggleButtonModel",
          "model_module_version": "1.5.0",
          "state": {
            "_view_name": "ToggleButtonView",
            "style": "IPY_MODEL_af793c2fa1b840febec118e94cef2883",
            "_dom_classes": [],
            "description": "",
            "_model_name": "ToggleButtonModel",
            "button_style": "",
            "_view_module": "@jupyter-widgets/controls",
            "_model_module_version": "1.5.0",
            "tooltip": "Search location/data",
            "_view_count": null,
            "disabled": false,
            "_view_module_version": "1.5.0",
            "value": false,
            "description_tooltip": null,
            "_model_module": "@jupyter-widgets/controls",
            "layout": "IPY_MODEL_ec89b01fa5e04a20a5874a662c4f19ec",
            "icon": "globe"
          }
        },
        "35cc8b07d1ce47499b71a2a777863b11": {
          "model_module": "@jupyter-widgets/base",
          "model_name": "LayoutModel",
          "model_module_version": "1.2.0",
          "state": {
            "_view_name": "LayoutView",
            "grid_template_rows": null,
            "right": null,
            "justify_content": null,
            "_view_module": "@jupyter-widgets/base",
            "overflow": null,
            "_model_module_version": "1.2.0",
            "_view_count": null,
            "flex_flow": null,
            "width": null,
            "min_width": null,
            "border": null,
            "align_items": null,
            "bottom": null,
            "_model_module": "@jupyter-widgets/base",
            "top": null,
            "grid_column": null,
            "overflow_y": null,
            "overflow_x": null,
            "grid_auto_flow": null,
            "grid_area": null,
            "grid_template_columns": null,
            "flex": null,
            "_model_name": "LayoutModel",
            "justify_items": null,
            "grid_row": null,
            "max_height": null,
            "align_content": null,
            "visibility": null,
            "align_self": null,
            "height": null,
            "min_height": null,
            "padding": null,
            "grid_auto_rows": null,
            "grid_gap": null,
            "max_width": null,
            "order": null,
            "_view_module_version": "1.2.0",
            "grid_template_areas": null,
            "object_position": null,
            "object_fit": null,
            "grid_auto_columns": null,
            "margin": null,
            "display": null,
            "left": null
          }
        },
        "19ae10deeae742bc84bde778e23f750d": {
          "model_module": "@jupyter-widgets/controls",
          "model_name": "ToggleButtonModel",
          "model_module_version": "1.5.0",
          "state": {
            "_view_name": "ToggleButtonView",
            "style": "IPY_MODEL_ccc9cbdac88549518ed8f68619457cac",
            "_dom_classes": [],
            "description": "",
            "_model_name": "ToggleButtonModel",
            "button_style": "",
            "_view_module": "@jupyter-widgets/controls",
            "_model_module_version": "1.5.0",
            "tooltip": "Toolbar",
            "_view_count": null,
            "disabled": false,
            "_view_module_version": "1.5.0",
            "value": false,
            "description_tooltip": null,
            "_model_module": "@jupyter-widgets/controls",
            "layout": "IPY_MODEL_bb8fe99ea5e74e958a479aec56cda866",
            "icon": "wrench"
          }
        },
        "af793c2fa1b840febec118e94cef2883": {
          "model_module": "@jupyter-widgets/controls",
          "model_name": "DescriptionStyleModel",
          "model_module_version": "1.5.0",
          "state": {
            "_view_name": "StyleView",
            "_model_name": "DescriptionStyleModel",
            "description_width": "",
            "_view_module": "@jupyter-widgets/base",
            "_model_module_version": "1.5.0",
            "_view_count": null,
            "_view_module_version": "1.2.0",
            "_model_module": "@jupyter-widgets/controls"
          }
        },
        "ec89b01fa5e04a20a5874a662c4f19ec": {
          "model_module": "@jupyter-widgets/base",
          "model_name": "LayoutModel",
          "model_module_version": "1.2.0",
          "state": {
            "_view_name": "LayoutView",
            "grid_template_rows": null,
            "right": null,
            "justify_content": null,
            "_view_module": "@jupyter-widgets/base",
            "overflow": null,
            "_model_module_version": "1.2.0",
            "_view_count": null,
            "flex_flow": null,
            "width": "28px",
            "min_width": null,
            "border": null,
            "align_items": null,
            "bottom": null,
            "_model_module": "@jupyter-widgets/base",
            "top": null,
            "grid_column": null,
            "overflow_y": null,
            "overflow_x": null,
            "grid_auto_flow": null,
            "grid_area": null,
            "grid_template_columns": null,
            "flex": null,
            "_model_name": "LayoutModel",
            "justify_items": null,
            "grid_row": null,
            "max_height": null,
            "align_content": null,
            "visibility": null,
            "align_self": null,
            "height": "28px",
            "min_height": null,
            "padding": "0px 0px 0px 4px",
            "grid_auto_rows": null,
            "grid_gap": null,
            "max_width": null,
            "order": null,
            "_view_module_version": "1.2.0",
            "grid_template_areas": null,
            "object_position": null,
            "object_fit": null,
            "grid_auto_columns": null,
            "margin": null,
            "display": null,
            "left": null
          }
        },
        "ccc9cbdac88549518ed8f68619457cac": {
          "model_module": "@jupyter-widgets/controls",
          "model_name": "DescriptionStyleModel",
          "model_module_version": "1.5.0",
          "state": {
            "_view_name": "StyleView",
            "_model_name": "DescriptionStyleModel",
            "description_width": "",
            "_view_module": "@jupyter-widgets/base",
            "_model_module_version": "1.5.0",
            "_view_count": null,
            "_view_module_version": "1.2.0",
            "_model_module": "@jupyter-widgets/controls"
          }
        },
        "bb8fe99ea5e74e958a479aec56cda866": {
          "model_module": "@jupyter-widgets/base",
          "model_name": "LayoutModel",
          "model_module_version": "1.2.0",
          "state": {
            "_view_name": "LayoutView",
            "grid_template_rows": null,
            "right": null,
            "justify_content": null,
            "_view_module": "@jupyter-widgets/base",
            "overflow": null,
            "_model_module_version": "1.2.0",
            "_view_count": null,
            "flex_flow": null,
            "width": "28px",
            "min_width": null,
            "border": null,
            "align_items": null,
            "bottom": null,
            "_model_module": "@jupyter-widgets/base",
            "top": null,
            "grid_column": null,
            "overflow_y": null,
            "overflow_x": null,
            "grid_auto_flow": null,
            "grid_area": null,
            "grid_template_columns": null,
            "flex": null,
            "_model_name": "LayoutModel",
            "justify_items": null,
            "grid_row": null,
            "max_height": null,
            "align_content": null,
            "visibility": null,
            "align_self": null,
            "height": "28px",
            "min_height": null,
            "padding": "0px 0px 0px 4px",
            "grid_auto_rows": null,
            "grid_gap": null,
            "max_width": null,
            "order": null,
            "_view_module_version": "1.2.0",
            "grid_template_areas": null,
            "object_position": null,
            "object_fit": null,
            "grid_auto_columns": null,
            "margin": null,
            "display": null,
            "left": null
          }
        }
      }
    }
  },
  "cells": [
    {
      "cell_type": "markdown",
      "metadata": {
        "id": "view-in-github",
        "colab_type": "text"
      },
      "source": [
        "<a href=\"https://colab.research.google.com/github/vilcagamarracf/Python_Snippets/blob/main/Snippets/Snippets_geemap.ipynb\" target=\"_parent\"><img src=\"https://colab.research.google.com/assets/colab-badge.svg\" alt=\"Open In Colab\"/></a>"
      ]
    },
    {
      "cell_type": "markdown",
      "metadata": {
        "id": "jMF74wX0LiBj"
      },
      "source": [
        "<center>\n",
        "<h2> geemap Snippets - Colaboratory 👨‍🚀</h2>\n",
        "<p><br>\n",
        "<img src=\"https://www.gislounge.com/wp-content/uploads/2018/06/google-earth-engine.jpg\"height=\"200px\" hspace=\"10px\" vspace=\"0px\">\n",
        "<br>\n",
        "<i>geemap: A Python package for interactive mapping with Google Earth Engine, ipyleaflet, and ipywidgets. <a href='https://geemap.org/'>Source</a></i>\n",
        "</p>\n",
        "</center>"
      ]
    },
    {
      "cell_type": "markdown",
      "metadata": {
        "id": "iLxGhxPddF_v"
      },
      "source": [
        "Referencias:\n",
        "\n",
        "- `geemap` : [Cheat Sheet](https://geemap.org/cheatsheet/) "
      ]
    },
    {
      "cell_type": "markdown",
      "metadata": {
        "id": "x1F_nUEQwaWz"
      },
      "source": [
        "## Inicio rápido"
      ]
    },
    {
      "cell_type": "markdown",
      "metadata": {
        "id": "E6AgNkZPqt1l"
      },
      "source": [
        "1. Instalar geemap en Colab y reiniciar el kernel (sesión)"
      ]
    },
    {
      "cell_type": "code",
      "metadata": {
        "id": "i93qMhAUtt-R"
      },
      "source": [
        "%%capture\n",
        "!pip install -U geemap"
      ],
      "execution_count": null,
      "outputs": []
    },
    {
      "cell_type": "markdown",
      "metadata": {
        "id": "2EupSknOqvlM"
      },
      "source": [
        "2. Ingresar con las credenciales de Google Earth Engine"
      ]
    },
    {
      "cell_type": "code",
      "metadata": {
        "id": "XHbIqVJh08-z",
        "colab": {
          "base_uri": "https://localhost:8080/"
        },
        "outputId": "ee2075d7-6f1f-44c3-c744-4fcf04722e15"
      },
      "source": [
        "# Ingresa tus credenciales de Google Earth Engine para comenzar\n",
        "import ee\n",
        "ee.Authenticate()\n",
        "\n",
        "# Inicio\n",
        "ee.Initialize()\n",
        "\n",
        "# Mensaje de login\n",
        "print('\\nYa estás logeado.')\n",
        "print('GEE Version:', ee.__version__)"
      ],
      "execution_count": null,
      "outputs": [
        {
          "output_type": "stream",
          "name": "stdout",
          "text": [
            "To authorize access needed by Earth Engine, open the following URL in a web browser and follow the instructions. If the web browser does not start automatically, please manually browse the URL below.\n",
            "\n",
            "    https://accounts.google.com/o/oauth2/auth?client_id=517222506229-vsmmajv00ul0bs7p89v5m89qs8eb9359.apps.googleusercontent.com&scope=https%3A%2F%2Fwww.googleapis.com%2Fauth%2Fearthengine+https%3A%2F%2Fwww.googleapis.com%2Fauth%2Fdevstorage.full_control&redirect_uri=urn%3Aietf%3Awg%3Aoauth%3A2.0%3Aoob&response_type=code&code_challenge=G1dv1MrUnjNt4Ipe4r4WPDdr_JQbvt1JiwZvJmUhZeM&code_challenge_method=S256\n",
            "\n",
            "The authorization workflow will generate a code, which you should paste in the box below. \n",
            "Enter verification code: 4/1AX4XfWjVpYn3ytnbHo_HReQDQhzM4xkYbnQBIplg_75AUr7c1AzNEVbnjQo\n",
            "\n",
            "Successfully saved authorization token.\n",
            "\n",
            "Ya estás logeado.\n",
            "GEE Version: 0.1.283\n"
          ]
        }
      ]
    },
    {
      "cell_type": "code",
      "metadata": {
        "id": "zIE1dyay5gBK"
      },
      "source": [
        "# Visualización de geemap\n",
        "import geemap\n",
        "Map = geemap.Map(basemap='ESRI', center=(-9.125, -74.396), zoom=5) # OpenStreetMap.Mapnik\n",
        "# Map"
      ],
      "execution_count": null,
      "outputs": []
    },
    {
      "cell_type": "markdown",
      "metadata": {
        "id": "YocRWlh9qPGl"
      },
      "source": [
        "## Explorando geemap"
      ]
    },
    {
      "cell_type": "markdown",
      "metadata": {
        "id": "LP-XodQFuArd"
      },
      "source": [
        "### Filtrado rápido"
      ]
    },
    {
      "cell_type": "markdown",
      "metadata": {
        "id": "fxEp29OnuCbr"
      },
      "source": [
        "1. Dibujamos una geometría con la interfaz de geemap"
      ]
    },
    {
      "cell_type": "code",
      "metadata": {
        "id": "GEoUcgYyuoXd",
        "colab": {
          "base_uri": "https://localhost:8080/",
          "height": 621,
          "referenced_widgets": [
            "a99a0523d5d74e79b3e6fb629a3b6ed0",
            "36a269ec0f1049c1bfd3ffd5715712be",
            "67c16eaab3174a48af605ffa28f81844",
            "ab54e988b76e4a559f0f10b55d2227e7",
            "7d786a9239e54aa391c4b348fc056117",
            "2266d80d106645f8a677e0a96e8ecfcf",
            "5326a02cebbd44198b02fd2caaeb3cb9",
            "10324ba0849d46ba95a55e46f38796e6",
            "15ccd876cd894bebaf06daafe5befd21",
            "8abd1af6016848b98dcdd77a18b1afa7",
            "bcbaf3fae8c4461e8b0db2e6e0f9ae05",
            "f5175938e5d04c2a841ceb12a3449337",
            "3722c55ac14f4d00bdda24f8acafa3a0",
            "12fdbca673e44753bb91d59ab742defd",
            "ca8b0797b2bb44a3a0e7da6c8e5ce1ed",
            "43c0cf22b7df42b1b91b5278e4017124",
            "6e8a22ba324e4f58ac13dd5f02df7314",
            "0e1034aed7d74ab4baeb030a2a37f45e",
            "cdc84a3f5797407c9279c881a606bfab",
            "c569e2cd6480488193211f64a4a88e0b",
            "d4c458131edf47efa15e07ab8ef7d89b",
            "9f8aaed16cb04222b7b15cf3ed090902",
            "6fa550c0f09f4ddfbf6cd8e5a738bc49",
            "09879ab05a8444a3b28cc1461214c232",
            "6a1a08fa9d8149a99b1946dab6272dbf",
            "8913cc61ef3a4f99ae08c6a90233754d"
          ]
        },
        "outputId": "9792785a-e075-48bf-87ae-4e4a00bf4147"
      },
      "source": [
        "Map = geemap.Map(basemap='HYBRID', layer_ctrl=True) # OpenStreetMap.Mapnik\n",
        "Map"
      ],
      "execution_count": null,
      "outputs": [
        {
          "output_type": "display_data",
          "data": {
            "application/vnd.jupyter.widget-view+json": {
              "model_id": "a99a0523d5d74e79b3e6fb629a3b6ed0",
              "version_minor": 0,
              "version_major": 2
            },
            "text/plain": [
              "Map(center=[40, -100], controls=(WidgetControl(options=['position', 'transparent_bg'], widget=HBox(children=(T…"
            ]
          },
          "metadata": {
            "application/vnd.jupyter.widget-view+json": {
              "colab": {
                "custom_widget_manager": {
                  "url": "https://ssl.gstatic.com/colaboratory-static/widgets/colab-cdn-widget-manager/bf763107cca07459/manager.min.js"
                }
              }
            }
          }
        }
      ]
    },
    {
      "cell_type": "markdown",
      "metadata": {
        "id": "IByTx9Uru8kF"
      },
      "source": [
        "2. Convertimos la geometría dibujada en un `ee.geometry`. Para ello, solicitaremos la información de la geometría dibujada mediante `Map.user_rois` .\n",
        "\n",
        "Nota:\n",
        "- `Map.user_roi` guarda el último polígono dibujado mientras que \n",
        "- `Map.user_rois` guarda todos los polígonos dibujado "
      ]
    },
    {
      "cell_type": "code",
      "metadata": {
        "colab": {
          "base_uri": "https://localhost:8080/"
        },
        "id": "NJl6lWw5nwzN",
        "outputId": "a7e4957d-2b43-478a-ab1f-14c5cb236a6b"
      },
      "source": [
        "roi = Map.user_rois.geometry()\n",
        "roi.getInfo()"
      ],
      "execution_count": null,
      "outputs": [
        {
          "output_type": "execute_result",
          "data": {
            "text/plain": [
              "{'coordinates': [[[-76.334519, -11.186794],\n",
              "   [-76.334519, -10.808333],\n",
              "   [-75.935007, -10.808333],\n",
              "   [-75.935007, -11.186794],\n",
              "   [-76.334519, -11.186794]]],\n",
              " 'geodesic': False,\n",
              " 'type': 'Polygon'}"
            ]
          },
          "metadata": {},
          "execution_count": 12
        }
      ]
    },
    {
      "cell_type": "markdown",
      "metadata": {
        "id": "39wYcXVJvDo7"
      },
      "source": [
        "3. Procedemos a filtrar un `ee.ImageCollection`"
      ]
    },
    {
      "cell_type": "code",
      "metadata": {
        "id": "E4kXkCdWotBN",
        "colab": {
          "base_uri": "https://localhost:8080/"
        },
        "cellView": "form",
        "outputId": "4b44b5b0-3416-4010-8236-9734e4c3b457"
      },
      "source": [
        "#@markdown 1. Selección del producto:\n",
        "Product_name = 'COPERNICUS/S2_SR'  #@param [\"LANDSAT/LC08/C01/T1_SR\", \"COPERNICUS/S2_SR\"]\n",
        "\n",
        "#@markdown 2. Seleccionamos las fechas de interés:\n",
        "Start_date = '2020-01-01'  #@param {type: \"date\"}\n",
        "End_date   = '2020-12-31'  #@param {type: \"date\"}\n",
        "\n",
        "#@markdown 3. Porcentaje de Nubosidad:\n",
        "Cloud_Pixel_Percentage =     10#@param {type:\"number\"}\n",
        "\n",
        "#  Parametros globales\n",
        "range_date = [Start_date, End_date]\n",
        "\n",
        "if Product_name == 'COPERNICUS/S2_SR':\n",
        "  img_col = ee.ImageCollection(Product_name)\\\n",
        "              .filterDate(range_date[0], range_date[1])\\\n",
        "              .filterBounds(roi)\\\n",
        "              .filterMetadata('CLOUDY_PIXEL_PERCENTAGE', 'less_than', Cloud_Pixel_Percentage)\n",
        "else:\n",
        "  img_col = ee.ImageCollection(Product_name)\\\n",
        "              .filterDate(range_date[0], range_date[1])\\\n",
        "              .filterBounds(roi)\\\n",
        "              .filterMetadata('CLOUD_COVER', 'less_than', Cloud_Pixel_Percentage)\n",
        "\n",
        "print(f'# Imágenes del producto {Product_name}: {img_col.size().getInfo()}')"
      ],
      "execution_count": null,
      "outputs": [
        {
          "output_type": "stream",
          "name": "stdout",
          "text": [
            "# Imágenes del producto COPERNICUS/S2_SR: 20\n"
          ]
        }
      ]
    },
    {
      "cell_type": "markdown",
      "metadata": {
        "id": "oDxAXtVMjlnm"
      },
      "source": [
        "4. Visualizamos las imágenes (o imagen)"
      ]
    },
    {
      "cell_type": "code",
      "metadata": {
        "colab": {
          "base_uri": "https://localhost:8080/",
          "height": 621,
          "referenced_widgets": [
            "8f4b29453e9c470f80d4c4d3c67c8219",
            "23241412093641b0abfcbe156c4f71da",
            "4b97777aaecb426c94ac6e975cbd7f36",
            "58279ff40c0e4b8580cbc3573c92639e",
            "2ab7a7b5b56a46839be2983ae919c062",
            "c8d88883b25242b0b4704e33c18b66e5",
            "ca701131eb964dafa9a2e4dec1f0e64a",
            "1868304a70cf4f04a2a26ec804515459",
            "71cf71f5ba52467ea37ba05b49cdf454",
            "af5be6dcc3f7444080c98361b5f8ba27",
            "83948e6a47cc4d2b996bca0fed249e99",
            "6d52bab463194c4dbe47c50c65337563",
            "95d2b9bda7d74888b82a1c5b38de1139",
            "584d4eb520e74f4a85f34cd6dc3572e7",
            "955fce168dab4f5b89b4b3e558b3128c",
            "85d556b8a9f34d3a989899620cdcc5ed",
            "78107a5fc8684134a911dde8501be05b",
            "aa0dfb1ce52649a0bf300db8486d5c99",
            "b79b8d2732d54a4da2dd15f2d7a2a945",
            "4ca795fdcd0147bea740f7c598d19583",
            "97a8cf59bc4246e09ba574ba566bc764",
            "29ccd134e8174f7eb4c5031de1edee25",
            "59a661793c2649dfad0970d89d8bbb45",
            "a84126868c1343eaa7e6b7752704c402",
            "7038af69e80f401e97e054c0930b28b3",
            "de8d4d6ac0ce4d9d9b5e0d7dcb6e418b"
          ]
        },
        "id": "MZ5wRuQO5bQR",
        "outputId": "dbb46763-be66-477b-bb18-296613de346d"
      },
      "source": [
        "# img_col.sort('CLOUDY_PIXEL_PERCENTAGE') # En caso de ordenar por porcentaje de nubosidad\n",
        "\n",
        "# Definir simbologia RGB\n",
        "ver_imagen = img_col.first().multiply(0.0001)\n",
        "vis_params = {\n",
        "    'bands': ['B4', 'B3', 'B2'],\n",
        "    'min': 0.0,\n",
        "    'max': 0.3,\n",
        "    # 'gamma': 0.90\n",
        "}\n",
        "\n",
        "# Visualizar en el mapa\n",
        "Map = geemap.Map(basemap='ESRI', layer_ctrl=True)\n",
        "Map.centerObject(roi, 11) # Map.setCenter(lon, lat, zoom)\n",
        "Map.addLayer(ver_imagen, vis_params, name = 'Imagen Landsat8') # Map.addLayer(image, vis_params, 'SRTM DEM', True, 0.5)\n",
        "Map"
      ],
      "execution_count": null,
      "outputs": [
        {
          "output_type": "display_data",
          "data": {
            "application/vnd.jupyter.widget-view+json": {
              "model_id": "8f4b29453e9c470f80d4c4d3c67c8219",
              "version_minor": 0,
              "version_major": 2
            },
            "text/plain": [
              "Map(center=[-10.997547468014753, -76.134763], controls=(WidgetControl(options=['position', 'transparent_bg'], …"
            ]
          },
          "metadata": {
            "application/vnd.jupyter.widget-view+json": {
              "colab": {
                "custom_widget_manager": {
                  "url": "https://ssl.gstatic.com/colaboratory-static/widgets/colab-cdn-widget-manager/bf763107cca07459/manager.min.js"
                }
              }
            }
          }
        }
      ]
    },
    {
      "cell_type": "markdown",
      "metadata": {
        "id": "ZTj2QuDTjppG"
      },
      "source": [
        "En caso de no haberse conseguido la imagen esperada, es posible modificar el área de estudio dibujada."
      ]
    },
    {
      "cell_type": "markdown",
      "metadata": {
        "id": "kt4knjInXJXv"
      },
      "source": [
        "5. Exportar imagen\n",
        "\n",
        "`geemap` solo permite descargas pequeñas (Total request size (3332596224 bytes) must be less than or equal to 33554432 bytes).\n",
        "\n",
        "- https://geemap.org/notebooks/11_export_image/"
      ]
    },
    {
      "cell_type": "code",
      "metadata": {
        "id": "0Y2fLcP8XLfu"
      },
      "source": [
        "geemap.ee_export_image(image, filename='image.tif', region=roi, scale=30, file_per_band=False)"
      ],
      "execution_count": null,
      "outputs": []
    },
    {
      "cell_type": "markdown",
      "metadata": {
        "id": "rBxDTV80egtn"
      },
      "source": [
        "### Límites de Países a nivel mundial en Earth Engine"
      ]
    },
    {
      "cell_type": "markdown",
      "metadata": {
        "id": "nphZXBmHvQH8"
      },
      "source": [
        "#### Filtrado\n",
        "- https://developers.google.com/earth-engine/apidocs/ee-imagecollection-filtermetadata\n",
        "- https://developers.google.com/earth-engine/apidocs/ee-featurecollection-filtermetadata\n",
        "\n",
        "`FeatureCollection.filterMetadata(name, operator, value)`"
      ]
    },
    {
      "cell_type": "code",
      "metadata": {
        "id": "u7xNvEcTb-Rl"
      },
      "source": [
        "# Perú como FeatureCollection\n",
        "countries = ee.FeatureCollection(\"USDOS/LSIB_SIMPLE/2017\")\n",
        "peru = countries.filterMetadata('country_na', 'equals', 'Peru')"
      ],
      "execution_count": null,
      "outputs": []
    },
    {
      "cell_type": "code",
      "metadata": {
        "colab": {
          "base_uri": "https://localhost:8080/",
          "height": 621,
          "referenced_widgets": [
            "ff604ed3ea444db9b9cfb3bf3f113a06",
            "3e82835556b94b1baf56075ba12f40ee",
            "af421f3b0dee4a69b084ea5b86d1c36a",
            "68051ddd678247f4a7e706775f07d887",
            "16c8ac1d61414318887afbf0d01b80e2",
            "aa84a6cf913b4e49a6a3600e3837165f",
            "92313dcb0c8640329c2874e6ced2d502",
            "c25c2aa755b942f5b7443a08f58ea467",
            "4b949151696b4c69a9547434603f945b",
            "b29b9c34fa5c45b9969e02c4f4b82d15",
            "6a12fdb10ab84daeb9d7c3b515637b0f",
            "c27400a43db74372af748683d22640fa",
            "ea1b06452cab47d7816be9f069ebdfce",
            "af9faf2f63a44210963df635872c5eb6",
            "4d6148530d3c4cd7aa5b6a545f61e843",
            "a2d197430ec0465ea5d13e8986271ccd",
            "257960f9484f4a8a94465148b2aab790",
            "9a66a56f5c7247429d7c70ba755db7ba",
            "d7535ac2d41740e4918b0d3ec654e671",
            "35cc8b07d1ce47499b71a2a777863b11",
            "19ae10deeae742bc84bde778e23f750d",
            "af793c2fa1b840febec118e94cef2883",
            "ec89b01fa5e04a20a5874a662c4f19ec",
            "ccc9cbdac88549518ed8f68619457cac",
            "bb8fe99ea5e74e958a479aec56cda866"
          ]
        },
        "id": "Jwgj5lkecAiI",
        "outputId": "4e75c804-1a80-4bb0-dee6-e2ba9c1062b5"
      },
      "source": [
        "# Visualizar\n",
        "Map = geemap.Map(basemap='HYBRID')\n",
        "Map.centerObject(peru, 5) # Map.setCenter(lon, lat, zoom)\n",
        "Map.addLayer(peru, {\"color\" : \"00FF11\"}, name = 'Perú')\n",
        "Map"
      ],
      "execution_count": null,
      "outputs": [
        {
          "output_type": "display_data",
          "data": {
            "application/vnd.jupyter.widget-view+json": {
              "model_id": "ff604ed3ea444db9b9cfb3bf3f113a06",
              "version_minor": 0,
              "version_major": 2
            },
            "text/plain": [
              "Map(center=[-9.12511364697584, -74.39606230545007], controls=(WidgetControl(options=['position', 'transparent_…"
            ]
          },
          "metadata": {
            "application/vnd.jupyter.widget-view+json": {
              "colab": {
                "custom_widget_manager": {
                  "url": "https://ssl.gstatic.com/colaboratory-static/widgets/colab-cdn-widget-manager/bf763107cca07459/manager.min.js"
                }
              }
            }
          }
        }
      ]
    },
    {
      "cell_type": "code",
      "metadata": {
        "colab": {
          "base_uri": "https://localhost:8080/"
        },
        "id": "njhTr4DJXhMO",
        "outputId": "ec7cc5b5-a0ed-4e42-8dbe-e220e754be9e"
      },
      "source": [
        "peru.getInfo()['properties']"
      ],
      "execution_count": null,
      "outputs": [
        {
          "output_type": "execute_result",
          "data": {
            "text/plain": [
              "{'date_range': [1490832000000, 1490832000000],\n",
              " 'description': '<p>The United States Office of the Geographer provides\\nthe Large Scale International Boundary (LSIB) dataset. The detailed\\nversion (2013) is derived from two other datasets: a LSIB line\\nvector file and the World Vector Shorelines (WVS) from the National\\nGeospatial-Intelligence Agency (NGA). The interior boundaries\\nreflect U.S. government policies on boundaries, boundary disputes,\\nand sovereignty. The exterior boundaries are derived from the\\nWVS; however, the WVS coastline data is outdated and generally\\nshifted from between several hundred meters to over a kilometer.\\nEach feature is the polygonal area enclosed by interior boundaries\\nand exterior coastlines where applicable, and many countries\\nconsist of multiple features, one per disjoint region.</p><p>Compared with the detailed LSIB, in this simplified dataset some disjointed\\nregions of each country have been reduced to a single feature.\\nFurthermore, it excludes medium and smaller islands. The resulting\\nsimplified boundary lines are rarely shifted by more than 100\\nmeters from the detailed LSIB lines. Each of the 312 features\\nis a part of the geometry of one of the 284 countries described\\nin this dataset.</p><p><b>Table Schema</b><table class=\"eecat\"><tr><th scope=\"col\">Name</th><th scope=\"col\">Type</th><th scope=\"col\">Description</th></tr><tr><td>abbreviati</td><td>STRING</td><td><p>Country abbreviation</p></td></tr><tr><td>country_co</td><td>STRING</td><td><p><a href=\"https://en.wikipedia.org/wiki/List_of_FIPS_country_codes\">Two-letter FIPS country code</a></p></td></tr><tr><td>country_na</td><td>STRING</td><td><p>US-recognized country name</p></td></tr><tr><td>wld_rgn</td><td>STRING</td><td><p>Continental region, e.g. South America</p></td></tr></table><p><b>Terms of Use</b><br><p>There are no restrictions on use of this US public domain data.</p><style>\\n  table.eecat {\\n  border: 1px solid black;\\n  border-collapse: collapse;\\n  font-size: 13px;\\n  }\\n  table.eecat td, tr, th {\\n  text-align: left; vertical-align: top;\\n  border: 1px solid gray; padding: 3px;\\n  }\\n  td.nobreak { white-space: nowrap; }\\n</style>',\n",
              " 'period': 0,\n",
              " 'product_tags': ['boundaries', 'borders', 'countries', 'political'],\n",
              " 'provider': 'United States Department of State, Office of the Geographer',\n",
              " 'provider_url': 'http://geonode.state.gov/',\n",
              " 'sample': 'https://mw1.google.com/ges/dd/images/LSIB_sample.png',\n",
              " 'source_tags': ['dos', 'usdos'],\n",
              " 'system:asset_size': 34698386,\n",
              " 'tags': ['dos', 'usdos', 'boundaries', 'borders', 'countries', 'political'],\n",
              " 'thumb': 'https://mw1.google.com/ges/dd/images/LSIB_thumb.png',\n",
              " 'title': 'LSIB: Large Scale International Boundary Polygons, Simplified'}"
            ]
          },
          "metadata": {},
          "execution_count": 12
        }
      ]
    },
    {
      "cell_type": "code",
      "metadata": {
        "colab": {
          "base_uri": "https://localhost:8080/"
        },
        "id": "OyjyfMu5YoRz",
        "outputId": "ac8c26c3-2ce6-46cd-9393-d0dbe7132852"
      },
      "source": [
        "from pprint import pprint\n",
        "pprint(peru.getInfo()['properties'])"
      ],
      "execution_count": null,
      "outputs": [
        {
          "output_type": "stream",
          "name": "stdout",
          "text": [
            "{'date_range': [1490832000000, 1490832000000],\n",
            " 'description': '<p>The United States Office of the Geographer provides\\n'\n",
            "                'the Large Scale International Boundary (LSIB) dataset. The '\n",
            "                'detailed\\n'\n",
            "                'version (2013) is derived from two other datasets: a LSIB '\n",
            "                'line\\n'\n",
            "                'vector file and the World Vector Shorelines (WVS) from the '\n",
            "                'National\\n'\n",
            "                'Geospatial-Intelligence Agency (NGA). The interior '\n",
            "                'boundaries\\n'\n",
            "                'reflect U.S. government policies on boundaries, boundary '\n",
            "                'disputes,\\n'\n",
            "                'and sovereignty. The exterior boundaries are derived from '\n",
            "                'the\\n'\n",
            "                'WVS; however, the WVS coastline data is outdated and '\n",
            "                'generally\\n'\n",
            "                'shifted from between several hundred meters to over a '\n",
            "                'kilometer.\\n'\n",
            "                'Each feature is the polygonal area enclosed by interior '\n",
            "                'boundaries\\n'\n",
            "                'and exterior coastlines where applicable, and many countries\\n'\n",
            "                'consist of multiple features, one per disjoint '\n",
            "                'region.</p><p>Compared with the detailed LSIB, in this '\n",
            "                'simplified dataset some disjointed\\n'\n",
            "                'regions of each country have been reduced to a single '\n",
            "                'feature.\\n'\n",
            "                'Furthermore, it excludes medium and smaller islands. The '\n",
            "                'resulting\\n'\n",
            "                'simplified boundary lines are rarely shifted by more than '\n",
            "                '100\\n'\n",
            "                'meters from the detailed LSIB lines. Each of the 312 '\n",
            "                'features\\n'\n",
            "                'is a part of the geometry of one of the 284 countries '\n",
            "                'described\\n'\n",
            "                'in this dataset.</p><p><b>Table Schema</b><table '\n",
            "                'class=\"eecat\"><tr><th scope=\"col\">Name</th><th '\n",
            "                'scope=\"col\">Type</th><th '\n",
            "                'scope=\"col\">Description</th></tr><tr><td>abbreviati</td><td>STRING</td><td><p>Country '\n",
            "                'abbreviation</p></td></tr><tr><td>country_co</td><td>STRING</td><td><p><a '\n",
            "                'href=\"https://en.wikipedia.org/wiki/List_of_FIPS_country_codes\">Two-letter '\n",
            "                'FIPS country '\n",
            "                'code</a></p></td></tr><tr><td>country_na</td><td>STRING</td><td><p>US-recognized '\n",
            "                'country '\n",
            "                'name</p></td></tr><tr><td>wld_rgn</td><td>STRING</td><td><p>Continental '\n",
            "                'region, e.g. South America</p></td></tr></table><p><b>Terms '\n",
            "                'of Use</b><br><p>There are no restrictions on use of this US '\n",
            "                'public domain data.</p><style>\\n'\n",
            "                '  table.eecat {\\n'\n",
            "                '  border: 1px solid black;\\n'\n",
            "                '  border-collapse: collapse;\\n'\n",
            "                '  font-size: 13px;\\n'\n",
            "                '  }\\n'\n",
            "                '  table.eecat td, tr, th {\\n'\n",
            "                '  text-align: left; vertical-align: top;\\n'\n",
            "                '  border: 1px solid gray; padding: 3px;\\n'\n",
            "                '  }\\n'\n",
            "                '  td.nobreak { white-space: nowrap; }\\n'\n",
            "                '</style>',\n",
            " 'period': 0,\n",
            " 'product_tags': ['boundaries', 'borders', 'countries', 'political'],\n",
            " 'provider': 'United States Department of State, Office of the Geographer',\n",
            " 'provider_url': 'http://geonode.state.gov/',\n",
            " 'sample': 'https://mw1.google.com/ges/dd/images/LSIB_sample.png',\n",
            " 'source_tags': ['dos', 'usdos'],\n",
            " 'system:asset_size': 34698386,\n",
            " 'tags': ['dos', 'usdos', 'boundaries', 'borders', 'countries', 'political'],\n",
            " 'thumb': 'https://mw1.google.com/ges/dd/images/LSIB_thumb.png',\n",
            " 'title': 'LSIB: Large Scale International Boundary Polygons, Simplified'}\n"
          ]
        }
      ]
    },
    {
      "cell_type": "markdown",
      "metadata": {
        "id": "pUmZwaaRvrn9"
      },
      "source": [
        "#### Exportar FeatureCollection: `geemap.ee_to_shp(PERU, filename= 'PERU.shp')`"
      ]
    },
    {
      "cell_type": "code",
      "metadata": {
        "id": "d8sdbFWJv6W-"
      },
      "source": [
        "# Pasos para crear una carpeta\n",
        "import os\n",
        "# os.chdir('/content/')\n",
        "# os.getcwd()\n",
        "out_dir = os.getcwd() + '/shp_export'\n",
        "\n",
        "# Crear la carpeta en el directorio\n",
        "os.makedirs(out_dir)"
      ],
      "execution_count": null,
      "outputs": []
    },
    {
      "cell_type": "code",
      "metadata": {
        "colab": {
          "base_uri": "https://localhost:8080/"
        },
        "id": "aOheKUBCvuTG",
        "outputId": "6c7bbd63-8c7c-4924-deef-c7854dc592ff"
      },
      "source": [
        "# Exportar shp Peru\n",
        "geemap.ee_to_shp(peru, filename= out_dir+'/PERU.shp')"
      ],
      "execution_count": null,
      "outputs": [
        {
          "output_type": "stream",
          "name": "stdout",
          "text": [
            "Generating URL ...\n",
            "Downloading data from https://earthengine.googleapis.com/v1alpha/projects/earthengine-legacy/tables/14c01b9ceb46fe0999b6b0c3c33cd79b-5d62eb49e679f7808736dc9b35b37d64:getFeatures\n",
            "Please wait ...\n",
            "Data downloaded to /content/shp_export/PERU.shp\n"
          ]
        }
      ]
    },
    {
      "cell_type": "code",
      "metadata": {
        "colab": {
          "base_uri": "https://localhost:8080/"
        },
        "id": "L6DIWNLmzOBQ",
        "outputId": "d2f666cb-e2cc-4b6a-9e33-7e5482049c8d"
      },
      "source": [
        "lista_archivos = os.listdir(out_dir)"
      ],
      "execution_count": null,
      "outputs": [
        {
          "output_type": "execute_result",
          "data": {
            "text/plain": [
              "['.ipynb_checkpoints',\n",
              " 'PERU.shx',\n",
              " 'PERU.fix',\n",
              " 'PERU.cpg',\n",
              " 'PERU.dbf',\n",
              " 'PERU.prj',\n",
              " 'PERU.shp']"
            ]
          },
          "metadata": {},
          "execution_count": 80
        }
      ]
    },
    {
      "cell_type": "code",
      "metadata": {
        "id": "WWIbMcRuzBtU"
      },
      "source": [
        "os.chdir(out_dir)\n",
        "\n",
        "# Comprimir en un archivo zip y descargar\n",
        "import zipfile\n",
        "\n",
        "my_zip = zipfile.ZipFile('shp_export.zip', mode= 'w')\n",
        "\n",
        "for i in lista_archivos:\n",
        "  my_zip.write(i)\n",
        "\n",
        "my_zip.close()\n",
        "\n",
        "os.chdir('/content/')"
      ],
      "execution_count": null,
      "outputs": []
    },
    {
      "cell_type": "markdown",
      "metadata": {
        "id": "oxCSkb4Sj5kd"
      },
      "source": [
        "### Conversión de código JavaScript a Python\n"
      ]
    },
    {
      "cell_type": "markdown",
      "metadata": {
        "id": "TJ1zr24ZwhUq"
      },
      "source": [
        "```\n",
        "# El código en javascript se escribe como string de la siguiente manera:\n",
        "js_snippet = \"\"\"\n",
        "// Load an image.\n",
        "var image = ee.Image('LANDSAT/LC08/C01/T1_TOA/LC08_044034_20140318');\n",
        "\n",
        "// Define the visualization parameters.\n",
        "var vizParams = {\n",
        "  bands: ['B5', 'B4', 'B3'],\n",
        "  min: 0,\n",
        "  max: 0.5,\n",
        "  gamma: [0.95, 1.1, 1]\n",
        "};\n",
        "\n",
        "// Center the map and display the image.\n",
        "Map.setCenter(-122.1899, 37.5010, 10); // San Francisco Bay\n",
        "Map.addLayer(image, vizParams, 'false color composite');\n",
        "\"\"\"\n",
        "\n",
        "# Convertir de JavaScript a Python\n",
        "geemap.js_snippet_to_py(js_snippet, add_new_cell=True, import_ee=True, import_geemap=True, show_map=True)\n",
        "\n",
        "```\n",
        "**Nota**: Solo funciona en local (jupyter notebooks o jupyterlab)\n",
        "\n"
      ]
    },
    {
      "cell_type": "markdown",
      "metadata": {
        "id": "i4mitLAlztZo"
      },
      "source": [
        "También es posible descargar el código de aplicaciones de GEE y guardarlos en archivos `.js` "
      ]
    },
    {
      "cell_type": "code",
      "metadata": {
        "colab": {
          "base_uri": "https://localhost:8080/"
        },
        "id": "XPK2o0FRzjrx",
        "outputId": "a7ec47ad-ede1-44e9-8029-cf37da721304"
      },
      "source": [
        "geemap.download_gee_app('https://google.earthengine.app/view/linked-maps', out_file=None)"
      ],
      "execution_count": null,
      "outputs": [
        {
          "output_type": "stream",
          "name": "stdout",
          "text": [
            "The json url: https://google.earthengine.app/javascript/linked-maps-modules.json\n",
            "The JavaScript is saved at: /content/linked-maps.js\n"
          ]
        }
      ]
    },
    {
      "cell_type": "code",
      "metadata": {
        "colab": {
          "base_uri": "https://localhost:8080/"
        },
        "id": "DqKEkSPTz4jT",
        "outputId": "f8e5efca-048f-4721-e978-c9b349a3088c"
      },
      "source": [
        "geemap.download_gee_app('https://minagri-geoespacial.users.earthengine.app/view/dinamicaagricolav3',\n",
        "                       out_file=None)"
      ],
      "execution_count": null,
      "outputs": [
        {
          "output_type": "stream",
          "name": "stdout",
          "text": [
            "The json url: https://minagri-geoespacial.users.earthengine.app/javascript/dinamicaagricolav3-modules.json\n",
            "The JavaScript is saved at: /content/dinamicaagricolav3.js\n"
          ]
        }
      ]
    },
    {
      "cell_type": "code",
      "metadata": {
        "colab": {
          "base_uri": "https://localhost:8080/"
        },
        "id": "exGJMaEt0yvK",
        "outputId": "2bebee56-ef5f-4770-c7ad-c232970d1b80"
      },
      "source": [
        "a = 5.123456789\n",
        "print(round(a,4))"
      ],
      "execution_count": null,
      "outputs": [
        {
          "output_type": "stream",
          "name": "stdout",
          "text": [
            "5.1235\n"
          ]
        }
      ]
    },
    {
      "cell_type": "markdown",
      "metadata": {
        "id": "rr6a1I8a4K8v"
      },
      "source": [
        "### Conversión de `.shp` a datos `ee.`"
      ]
    },
    {
      "cell_type": "markdown",
      "metadata": {
        "id": "046jApeNb6K8"
      },
      "source": [
        "**Forma 1: Con geopandas**"
      ]
    },
    {
      "cell_type": "markdown",
      "metadata": {
        "id": "1RpgArXfaZXG"
      },
      "source": [
        "En la clase, el ingeniero Nino trabaja con QGIS para dibujar una zona de estudio, obtenerlo como archivo `.shp` y luego importarlo con python para poder trabajarlo como dato `ee`. (Curso: Teledetección Google Earth Engine con Python Video 6.6 Conversión de SHP a GEE)"
      ]
    },
    {
      "cell_type": "markdown",
      "metadata": {
        "id": "Y5-1xVoEbPzt"
      },
      "source": [
        "Con geopandas se importará el archivo en formato `.shp` y se convertirá a formato geojson, para luego ser aceptado dentro de un `ee.FeatureCollection`."
      ]
    },
    {
      "cell_type": "code",
      "metadata": {
        "id": "KhuSHNhOZs70"
      },
      "source": [
        "%%capture\n",
        "!pip install geopandas"
      ],
      "execution_count": null,
      "outputs": []
    },
    {
      "cell_type": "code",
      "metadata": {
        "id": "jxkhKQsqZQuu"
      },
      "source": [
        "import geopandas as gpd"
      ],
      "execution_count": null,
      "outputs": []
    },
    {
      "cell_type": "code",
      "metadata": {
        "id": "hmi6heMycCLM"
      },
      "source": [
        "# leer archivo con geopandas.read_file()\n",
        "zona_gpd = gpd.read_file('Archivo_shapefile.shp')\n",
        "zona_gpd"
      ],
      "execution_count": null,
      "outputs": []
    },
    {
      "cell_type": "code",
      "metadata": {
        "id": "YFxs42BDcJtM"
      },
      "source": [
        "# Crear un featureCollection mediante GeoJSON: geopandas.read_file().__geo_interface__\n",
        "ee_zona_gpd = ee.FeatureCollection(zona_gpd.__geo_interface__)\n",
        "type(ee_zona_gpd) # ee.featurecollection.FeatureCollection"
      ],
      "execution_count": null,
      "outputs": []
    },
    {
      "cell_type": "markdown",
      "metadata": {
        "id": "3o-hsVA5b961"
      },
      "source": [
        "**Forma 2: Con geemap**"
      ]
    },
    {
      "cell_type": "markdown",
      "metadata": {
        "id": "OJ4VgwFgbgLt"
      },
      "source": [
        "También es posible realizarlo rápidamente con `geemap`."
      ]
    },
    {
      "cell_type": "code",
      "metadata": {
        "id": "W_85tfK-4Qd7"
      },
      "source": [
        "path = r'asdfasd' # ruta del shapefile\n",
        "\n",
        "ee_shp = geemap.shp_to_ee(path) # Lo convertirá en un ee.FeatureCollection\n",
        "type(ee_shp) # ee.featurecollection.FeatureCollection"
      ],
      "execution_count": null,
      "outputs": []
    },
    {
      "cell_type": "markdown",
      "metadata": {
        "id": "vPM0slSriAF_"
      },
      "source": [
        "### Trabajar IDs de imágenes de USGS"
      ]
    },
    {
      "cell_type": "code",
      "metadata": {
        "id": "9m-kTxR3n59T",
        "colab": {
          "base_uri": "https://localhost:8080/"
        },
        "outputId": "b04cba8a-7e0d-4f03-baa5-2d2ca90a39ab"
      },
      "source": [
        "2**16"
      ],
      "execution_count": null,
      "outputs": [
        {
          "output_type": "execute_result",
          "data": {
            "text/plain": [
              "65536"
            ]
          },
          "metadata": {},
          "execution_count": 25
        }
      ]
    }
  ]
}